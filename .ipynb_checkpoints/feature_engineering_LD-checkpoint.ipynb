{
 "cells": [
  {
   "cell_type": "code",
   "execution_count": 13,
   "metadata": {},
   "outputs": [],
   "source": [
    "import pandas as pd"
   ]
  },
  {
   "cell_type": "code",
   "execution_count": 7,
   "metadata": {},
   "outputs": [],
   "source": [
    "data_raw = pd.read_csv('PROJECT/COVID-19 Philippines.csv')\n",
    "data_clean = data_raw.iloc[:,0:25]\n",
    "data_clean = data_clean.dropna(how='all')"
   ]
  },
  {
   "cell_type": "code",
   "execution_count": 17,
   "metadata": {},
   "outputs": [
    {
     "data": {
      "text/plain": [
       "With Exposure to known COVID-19 case                                                                                                                                                                                                               8\n",
       "With exposure to known COVID-19 case                                                                                                                                                                                                               4\n",
       "Related to a known COVID-19 case                                                                                                                                                                                                                   3\n",
       "Traveled from Manila                                                                                                                                                                                                                               2\n",
       "Contact of PH43                                                                                                                                                                                                                                    2\n",
       "For validation as to which PH Case# exposed                                                                                                                                                                                                        2\n",
       "With exposure history to a known COVID-19 case                                                                                                                                                                                                     2\n",
       "With exposure to PH21                                                                                                                                                                                                                              2\n",
       "Sister of PH44 and PH87; realtive of PH112                                                                                                                                                                                                         1\n",
       "Sister of PH41 and PH44; realtive of PH112                                                                                                                                                                                                         1\n",
       "Sister of PH41 and PH44                                                                                                                                                                                                                            1\n",
       "Son of PH169 and PH176                                                                                                                                                                                                                             1\n",
       "In same household with PH27-30; contact of PH31                                                                                                                                                                                                    1\n",
       "Contact of PH157                                                                                                                                                                                                                                   1\n",
       "With exposure to PH21 and PH67                                                                                                                                                                                                                     1\n",
       "Household of PH9: Wife of PH28                                                                                                                                                                                                                     1\n",
       "Son of PH134; brother of PH135                                                                                                                                                                                                                     1\n",
       "Relative of PH41, PH44, and PH87                                                                                                                                                                                                                   1\n",
       "Traveled to Cebu and Bohol. Was already in China when laboratory confirmed she is COVID positive                                                                                                                                                   1\n",
       "Sister of PH49                                                                                                                                                                                                                                     1\n",
       "Husband of PH17                                                                                                                                                                                                                                    1\n",
       "Household member of PH9: Niece of PH9                                                                                                                                                                                                              1\n",
       "Contact of PH170 and PH176                                                                                                                                                                                                                         1\n",
       "Contact of FN2                                                                                                                                                                                                                                     1\n",
       "Daughter of PH134, sister of PH51                                                                                                                                                                                                                  1\n",
       "Husband of PH1                                                                                                                                                                                                                                     1\n",
       "Wife of PH165                                                                                                                                                                                                                                      1\n",
       "Husband of PH6                                                                                                                                                                                                                                     1\n",
       "Wife of PH18                                                                                                                                                                                                                                       1\n",
       "Contact of PH164                                                                                                                                                                                                                                   1\n",
       "Household of PH9: Wife of PH9                                                                                                                                                                                                                      1\n",
       "Contact of PH158                                                                                                                                                                                                                                   1\n",
       "Husband of PH166                                                                                                                                                                                                                                   1\n",
       "Stayed in a Dormitory in Manila                                                                                                                                                                                                                    1\n",
       "Wife of PH16                                                                                                                                                                                                                                       1\n",
       "Contact of PH35                                                                                                                                                                                                                                    1\n",
       "Traveled from Manila, Palawan, Cebu                                                                                                                                                                                                                1\n",
       "Contact of PH173                                                                                                                                                                                                                                   1\n",
       "Wife of PH262, Both traveled from Manila                                                                                                                                                                                                           1\n",
       "Husband of PH263, Both traveled from Manila                                                                                                                                                                                                        1\n",
       "Case reported that a relative from China (with layover in HK and Taiwan) stayed in his residence for 1 week on January 26. During his hospital stay in SLMC-QC, relatives from China, US, and Davao visited him (At SLMC-QC March 1 to present)    1\n",
       "Wife of PH34                                                                                                                                                                                                                                       1\n",
       "Husband of PH35                                                                                                                                                                                                                                    1\n",
       "Contact of PH42, PH43                                                                                                                                                                                                                              1\n",
       "Wife of PH5                                                                                                                                                                                                                                        1\n",
       "Mother of PH135 and PH51                                                                                                                                                                                                                           1\n",
       "Stayed in a Dormitory in Manila (unknown if same dorm of PH064)                                                                                                                                                                                    1\n",
       "Contact of PH143                                                                                                                                                                                                                                   1\n",
       "Healthcare worker exposed to COVID case (PH Case # for validation)                                                                                                                                                                                 1\n",
       "Contact of PH169 and PH170                                                                                                                                                                                                                         1\n",
       "Attending MD of PH9                                                                                                                                                                                                                                1\n",
       "Contact of PH141                                                                                                                                                                                                                                   1\n",
       "Husband of PH19                                                                                                                                                                                                                                    1\n",
       "Brother of PH52                                                                                                                                                                                                                                    1\n",
       "Household member of PH9: Husband of PH30                                                                                                                                                                                                           1\n",
       "Wife is Sister of PH12; close contact of PH35                                                                                                                                                                                                      1\n",
       "Wife of PH2                                                                                                                                                                                                                                        1\n",
       "Exposed to COVID patient PH037                                                                                                                                                                                                                     1\n",
       "Name: Epi_Link, dtype: int64"
      ]
     },
     "execution_count": 17,
     "metadata": {},
     "output_type": "execute_result"
    }
   ],
   "source": [
    "##### EPI LINK ########\n",
    "data_clean['Epi_Link'].value_counts()"
   ]
  },
  {
   "cell_type": "code",
   "execution_count": null,
   "metadata": {},
   "outputs": [],
   "source": [
    "#approach: \n",
    "\n"
   ]
  },
  {
   "cell_type": "markdown",
   "metadata": {},
   "source": [
    "Domain information to help us make feature engineering decisions: \n",
    "\n",
    "- Most estimates of the incubation period for COVID-19 range from 1-14 days https://www.who.int/news-room/q-a-detail/q-a-coronaviruses#:~:text=The%20%E2%80%9Cincubation%20period%E2%80%9D,more%20data%20become%20available."
   ]
  },
  {
   "cell_type": "markdown",
   "metadata": {},
   "source": [
    "test test "
   ]
  },
  {
   "cell_type": "code",
   "execution_count": null,
   "metadata": {},
   "outputs": [],
   "source": []
  }
 ],
 "metadata": {
  "kernelspec": {
   "display_name": "Python 3",
   "language": "python",
   "name": "python3"
  },
  "language_info": {
   "codemirror_mode": {
    "name": "ipython",
    "version": 3
   },
   "file_extension": ".py",
   "mimetype": "text/x-python",
   "name": "python",
   "nbconvert_exporter": "python",
   "pygments_lexer": "ipython3",
   "version": "3.7.4"
  }
 },
 "nbformat": 4,
 "nbformat_minor": 2
}
