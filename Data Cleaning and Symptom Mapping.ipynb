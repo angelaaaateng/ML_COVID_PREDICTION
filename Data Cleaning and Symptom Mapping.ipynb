{
 "cells": [
  {
   "cell_type": "code",
   "execution_count": 1,
   "metadata": {},
   "outputs": [],
   "source": [
    "import pandas as pd\n",
    "import seaborn as sns\n",
    "import numpy as np\n",
    "from sklearn.model_selection import train_test_split"
   ]
  },
  {
   "cell_type": "code",
   "execution_count": 2,
   "metadata": {},
   "outputs": [],
   "source": [
    "data = pd.read_csv('openrefine_PHCASES_COVID_04162020_PHnum.csv')"
   ]
  },
  {
   "cell_type": "code",
   "execution_count": 3,
   "metadata": {},
   "outputs": [
    {
     "data": {
      "text/plain": [
       "array([nan, 'acute kidney injury, hypertension, diabetes', 'diabetes',\n",
       "       'hypertension, coronary artery disease, acute kidney injury, chronic kidney disease, diabetes',\n",
       "       'asthma, diabetes', 'with comorbid (not specified)', 'asthma',\n",
       "       'hypertension', 'asymptomatic',\n",
       "       'hypertension, diabetes, valvular heart disease, endocrine condition',\n",
       "       'hypertension, diabetes', 'status post renal transplant',\n",
       "       'acute kidney injury', 'community-acquired pneumonia',\n",
       "       'hypertensive', 'hypertensive cardiovascular disease',\n",
       "       'diabetes, hypertensive cardiovascular disease, chronic kidney disease, diabetic nephropathy',\n",
       "       'bronchial asthma',\n",
       "       'chronic kidney disease, hypertensive nephrosclerosis, ischemic heart disease, peripheral arterial occlusive disease',\n",
       "       'diabetes, coronary artery disease',\n",
       "       'acute kidney injury secondary to pre-renal azotemia, cardiomyopathy, ischemic heart disease, diabetes mellitus',\n",
       "       'hypertension, diabetes, asthma', 'hypertension, colon cancer',\n",
       "       'hypertension, diabetis mellitus, ischemic heart disease',\n",
       "       'acute kidney injury, benign prostatic hyperplasia',\n",
       "       'hypertensive cardiovascular disease, acute kidney injury, bronchial asthma, impaired fasting glucose',\n",
       "       'hypertension, diabetes, dyslipidemia',\n",
       "       'hypertension, renal disease', 'hypertension, kidney disease',\n",
       "       'bronchial asthma, hypertension, atherosclerosis, coronary artery disease',\n",
       "       'chronic obstructive pulmonary disease',\n",
       "       'hypertension, diabetes, chronic kidney disease',\n",
       "       'permanent atrial fibrillation, hypertension, atherosclerotic cardiovascular disease, cerebrovascular disease infarction',\n",
       "       'hypertension, cardiac disease', 'acute renal failure',\n",
       "       'hypertensive cardiovascular disease, coronary heart disease, diabetes',\n",
       "       'hypertension, hypothyroidism', 'chronic kidney disease',\n",
       "       'remnal disease',\n",
       "       'hypertension, cardiovascular disease, diabetes, acute kidney injury',\n",
       "       'prostatic cancer, chronic obstructive pulmonary disease',\n",
       "       'hypertension, hyperthyroidism, renal disease',\n",
       "       'hypertension, diabetes, tongue cancer, cardiovascular disease, benign prostatic hypertrophy',\n",
       "       'diabetes, cardiac dysrhythmia',\n",
       "       'hypertension, diabetes, renal disease',\n",
       "       'hypertension, chronic kidney disease',\n",
       "       'hypertension, diabetes, cardiac disease',\n",
       "       'hypertension,  diabetes,  renal disease',\n",
       "       'hypertension, diabetes, bronchial asthma',\n",
       "       'hypertension, cardiac disease, dengue',\n",
       "       'chronic kidney disease, hypertension, diabetes',\n",
       "       'diabetes, cardiac disease', 'hyperthyroidism',\n",
       "       'myocarditis, diabetic ketoacidosis, acute kidney injury, hypertension',\n",
       "       'breast cancer,  diabetes',\n",
       "       'chronic obstructive pulmonary disease, diabetes, dyslipidemia',\n",
       "       'chronic kidney disease secondary to hypertension nephrosclerosis',\n",
       "       'hypertension, cerebrovascular accident infarc', 'cardiac disease',\n",
       "       'systemic lupus erythematosus',\n",
       "       'chronic obstructive pulmonary disease, coronary artery disease',\n",
       "       'none'], dtype=object)"
      ]
     },
     "execution_count": 3,
     "metadata": {},
     "output_type": "execute_result"
    }
   ],
   "source": [
    "data['Other disease'].unique()"
   ]
  },
  {
   "cell_type": "code",
   "execution_count": 4,
   "metadata": {},
   "outputs": [],
   "source": [
    "data['Other disease']=data['Other disease'].str.lower()\n",
    "data['Symptoms']=data['Symptoms'].str.lower()"
   ]
  },
  {
   "cell_type": "code",
   "execution_count": 5,
   "metadata": {},
   "outputs": [
    {
     "data": {
      "text/plain": [
       "array([nan, 'acute kidney injury, hypertension, diabetes', 'diabetes',\n",
       "       'hypertension, coronary artery disease, acute kidney injury, chronic kidney disease, diabetes',\n",
       "       'asthma, diabetes', 'with comorbid (not specified)', 'asthma',\n",
       "       'hypertension', 'asymptomatic',\n",
       "       'hypertension, diabetes, valvular heart disease, endocrine condition',\n",
       "       'hypertension, diabetes', 'status post renal transplant',\n",
       "       'acute kidney injury', 'community-acquired pneumonia',\n",
       "       'hypertensive', 'hypertensive cardiovascular disease',\n",
       "       'diabetes, hypertensive cardiovascular disease, chronic kidney disease, diabetic nephropathy',\n",
       "       'bronchial asthma',\n",
       "       'chronic kidney disease, hypertensive nephrosclerosis, ischemic heart disease, peripheral arterial occlusive disease',\n",
       "       'diabetes, coronary artery disease',\n",
       "       'acute kidney injury secondary to pre-renal azotemia, cardiomyopathy, ischemic heart disease, diabetes mellitus',\n",
       "       'hypertension, diabetes, asthma', 'hypertension, colon cancer',\n",
       "       'hypertension, diabetis mellitus, ischemic heart disease',\n",
       "       'acute kidney injury, benign prostatic hyperplasia',\n",
       "       'hypertensive cardiovascular disease, acute kidney injury, bronchial asthma, impaired fasting glucose',\n",
       "       'hypertension, diabetes, dyslipidemia',\n",
       "       'hypertension, renal disease', 'hypertension, kidney disease',\n",
       "       'bronchial asthma, hypertension, atherosclerosis, coronary artery disease',\n",
       "       'chronic obstructive pulmonary disease',\n",
       "       'hypertension, diabetes, chronic kidney disease',\n",
       "       'permanent atrial fibrillation, hypertension, atherosclerotic cardiovascular disease, cerebrovascular disease infarction',\n",
       "       'hypertension, cardiac disease', 'acute renal failure',\n",
       "       'hypertensive cardiovascular disease, coronary heart disease, diabetes',\n",
       "       'hypertension, hypothyroidism', 'chronic kidney disease',\n",
       "       'remnal disease',\n",
       "       'hypertension, cardiovascular disease, diabetes, acute kidney injury',\n",
       "       'prostatic cancer, chronic obstructive pulmonary disease',\n",
       "       'hypertension, hyperthyroidism, renal disease',\n",
       "       'hypertension, diabetes, tongue cancer, cardiovascular disease, benign prostatic hypertrophy',\n",
       "       'diabetes, cardiac dysrhythmia',\n",
       "       'hypertension, diabetes, renal disease',\n",
       "       'hypertension, chronic kidney disease',\n",
       "       'hypertension, diabetes, cardiac disease',\n",
       "       'hypertension,  diabetes,  renal disease',\n",
       "       'hypertension, diabetes, bronchial asthma',\n",
       "       'hypertension, cardiac disease, dengue',\n",
       "       'chronic kidney disease, hypertension, diabetes',\n",
       "       'diabetes, cardiac disease', 'hyperthyroidism',\n",
       "       'myocarditis, diabetic ketoacidosis, acute kidney injury, hypertension',\n",
       "       'breast cancer,  diabetes',\n",
       "       'chronic obstructive pulmonary disease, diabetes, dyslipidemia',\n",
       "       'chronic kidney disease secondary to hypertension nephrosclerosis',\n",
       "       'hypertension, cerebrovascular accident infarc', 'cardiac disease',\n",
       "       'systemic lupus erythematosus',\n",
       "       'chronic obstructive pulmonary disease, coronary artery disease',\n",
       "       'none'], dtype=object)"
      ]
     },
     "execution_count": 5,
     "metadata": {},
     "output_type": "execute_result"
    }
   ],
   "source": [
    "data['Other disease'].unique()"
   ]
  },
  {
   "cell_type": "code",
   "execution_count": 33,
   "metadata": {},
   "outputs": [],
   "source": [
    "data['Other disease']=data['Other disease'].str.replace(' asthma','asthma')\n",
    "data['Other disease']=data['Other disease'].str.replace(' bronchial asthma','asthma')\n",
    "data['Other disease']=data['Other disease'].str.replace('asthma','asthma')\n",
    "data['Other disease']=data['Other disease'].str.replace('bronchial asthma','asthma')\n",
    "data['Other disease']=data['Other disease'].str.replace('bronchialasthma','asthma')\n",
    "data['Other disease']=data['Other disease'].str.replace(' atherosclerosis','atherosclerosis')\n",
    "data['Other disease']=data['Other disease'].str.replace(' atherosclerotic cardiovascular disease','atherosclerosis')\n",
    "data['Other disease']=data['Other disease'].str.replace(' benign prostatic hyperplasia','benign prostatic hyperplasia')\n",
    "data['Other disease']=data['Other disease'].str.replace(' benign prostatic hypertrophy','benign prostatic hyperplasia')\n",
    "data['Other disease']=data['Other disease'].str.replace(' cardiac disease','cardiovascular disease')\n",
    "data['Other disease']=data['Other disease'].str.replace(' cardiovascular disease','cardiovascular disease')\n",
    "data['Other disease']=data['Other disease'].str.replace(' hypertensive cardiovascular disease','cardiovascular disease')\n",
    "data['Other disease']=data['Other disease'].str.replace(' coronary artery disease','cardiovascular disease')\n",
    "data['Other disease']=data['Other disease'].str.replace(' coronary heart disease','cardiovascular disease')\n",
    "data['Other disease']=data['Other disease'].str.replace(' cardiac dysrhythmia','cardiovascular disease')\n",
    "data['Other disease']=data['Other disease'].str.replace(' cardiomyopathy','cardiovascular disease')\n",
    "data['Other disease']=data['Other disease'].str.replace(' ischemic heart disease','cardiovascular disease')\n",
    "data['Other disease']=data['Other disease'].str.replace('hypertensioncardiovascular disease','cardiovascular disease')\n",
    "data['Other disease']=data['Other disease'].str.replace(' valvular heart disease','cardiovascular disease')\n",
    "data['Other disease']=data['Other disease'].str.replace('cardiac disease','cardiovascular disease')\n",
    "data['Other disease']=data['Other disease'].str.replace('hypertensive cardiovascular disease','cardiovascular disease')\n",
    "data['Other disease']=data['Other disease'].str.replace(' cerebrovascular accident infarc','cerebrovascular disease infarction')\n",
    "data['Other disease']=data['Other disease'].str.replace(' cerebrovascular disease infarction','cerebrovascular disease infarction')\n",
    "data['Other disease']=data['Other disease'].str.replace(' chronic obstructive pulmonary disease','chronic obstructive pulmonary disease')\n",
    "data['Other disease']=data['Other disease'].str.replace('chronic obstructive pulmonary disease','chronic obstructive pulmonary disease')\n",
    "data['Other disease']=data['Other disease'].str.replace(' colon cancer','colon cancer')\n",
    "data['Other disease']=data['Other disease'].str.replace(' dengue','dengue')\n",
    "data['Other disease']=data['Other disease'].str.replace('  diabetes','diabetes')\n",
    "data['Other disease']=data['Other disease'].str.replace(' diabetes','diabetes')\n",
    "data['Other disease']=data['Other disease'].str.replace(' diabetes mellitus','diabetes')\n",
    "data['Other disease']=data['Other disease'].str.replace(' diabetis mellitus','diabetes')\n",
    "data['Other disease']=data['Other disease'].str.replace('diabetes','diabetes')\n",
    "data['Other disease']=data['Other disease'].str.replace(' diabetic ketoacidosis','diabetes')\n",
    "data['Other disease']=data['Other disease'].str.replace(' diabetic nephropathy','diabetes')\n",
    "data['Other disease']=data['Other disease'].str.replace(' dyslipidemia','dyslipidemia')\n",
    "data['Other disease']=data['Other disease'].str.replace(' endocrine condition','endocrine condition')\n",
    "data['Other disease']=data['Other disease'].str.replace(' hyperthyroidism','hyperthyroidism')\n",
    "data['Other disease']=data['Other disease'].str.replace('hyperthyroidism','hyperthyroidism')\n",
    "data['Other disease']=data['Other disease'].str.replace(' hypothyroidism','hypothyroidism')\n",
    "data['Other disease']=data['Other disease'].str.replace(' impaired fasting glucose','impaired fasting glucose')\n",
    "data['Other disease']=data['Other disease'].str.replace(' chronic kidney disease','kidney disease')\n",
    "data['Other disease']=data['Other disease'].str.replace('chronic kidney disease','kidney disease')\n",
    "data['Other disease']=data['Other disease'].str.replace('renal disease','kidney disease')\n",
    "data['Other disease']=data['Other disease'].str.replace('chronic kidney disease secondary to hypertension nephrosclerosis','kidney disease')\n",
    "data['Other disease']=data['Other disease'].str.replace(' kidney disease','kidney disease')\n",
    "data['Other disease']=data['Other disease'].str.replace('kidney disease secondary tohypertension nephrosclerosis','kidney disease')\n",
    "data['Other disease']=data['Other disease'].str.replace(' hypertensive nephrosclerosis','kidney disease')\n",
    "data['Other disease']=data['Other disease'].str.replace(' peripheral arterial occlusive disease','peripheral arterial occlusive disease')\n",
    "data['Other disease']=data['Other disease'].str.replace('  renal disease','renal disease')\n",
    "data['Other disease']=data['Other disease'].str.replace(' renal disease','renal disease')\n",
    "data['Other disease']=data['Other disease'].str.replace('remnal disease','renal disease')\n",
    "data['Other disease']=data['Other disease'].str.replace(' tongue cancer','tongue cancer')\n",
    "data['Other disease']=data['Other disease'].str.replace(' acute kidney injury','acute kidney injury')\n",
    "data['Other disease']=data['Other disease'].str.replace('acute kidney injury','acute kidney injury')\n",
    "data['Other disease']=data['Other disease'].str.replace('acute kidney injury secondary to pre-renal azotemia','acute renal failure')\n",
    "data['Other disease']=data['Other disease'].str.replace('acute renal failure','acute renal failure')\n",
    "data['Other disease']=data['Other disease'].str.replace('asymptomatic','asymptomatic')\n",
    "data['Other disease']=data['Other disease'].str.replace('breast cancer','breast cancer')\n",
    "data['Other disease']=data['Other disease'].str.replace('community-acquired pneumonia','community-acquired pneumonia')\n",
    "data['Other disease']=data['Other disease'].str.replace('with comorbid (not specified)','comorbid_unknown')\n",
    "data['Other disease']=data['Other disease'].str.replace(' hypertension','hypertension')\n",
    "data['Other disease']=data['Other disease'].str.replace('hypertension','hypertension')\n",
    "data['Other disease']=data['Other disease'].str.replace('hypertensive','hypertension')\n",
    "data['Other disease']=data['Other disease'].str.replace('myocarditis','myocarditis')\n",
    "data['Other disease']=data['Other disease'].str.replace('none','none')\n",
    "data['Other disease']=data['Other disease'].str.replace('permanent atrial fibrillation','permanent atrial fibrillation')\n",
    "data['Other disease']=data['Other disease'].str.replace('prostatic cancer','prostatic cancer')\n",
    "data['Other disease']=data['Other disease'].str.replace('status post renal transplant','status post renal transplant')\n",
    "data['Other disease']=data['Other disease'].str.replace('systemic lupus erythematosus','systemic lupus erythematosus')\n",
    "data['Other disease']=data['Other disease'].str.replace('none','asymptomatic')\n",
    "data['Symptoms']=data['Symptoms'].str.replace(' body malaise','body malaise')\n",
    "data['Symptoms']=data['Symptoms'].str.replace(' colds','colds')\n",
    "data['Symptoms']=data['Symptoms'].str.replace(' comorbidity','comorbidity')\n",
    "data['Symptoms']=data['Symptoms'].str.replace(' cough','cough')\n",
    "data['Symptoms']=data['Symptoms'].str.replace(' difficulty in breathing','dyspnea')\n",
    "data['Symptoms']=data['Symptoms'].str.replace(' dizziness','dizziness')\n",
    "data['Symptoms']=data['Symptoms'].str.replace(' dysphagia','dysphagia')\n",
    "data['Symptoms']=data['Symptoms'].str.replace(' headache','headache')\n",
    "data['Symptoms']=data['Symptoms'].str.replace(' shortness of breath','dyspnea')\n",
    "data['Symptoms']=data['Symptoms'].str.replace(' sore throat','sore throat')\n",
    "data['Symptoms']=data['Symptoms'].str.replace('asymptomatic','asymptomatic')\n",
    "data['Symptoms']=data['Symptoms'].str.replace('cough','cough')\n",
    "data['Symptoms']=data['Symptoms'].str.replace(' cough','cough')\n",
    "data['Symptoms']=data['Symptoms'].str.replace('difficulty of breathing','dyspnea')\n",
    "data['Symptoms']=data['Symptoms'].str.replace('difficulty of breathing','dyspnea')\n",
    "data['Symptoms']=data['Symptoms'].str.replace('dyspnea','dyspnea')\n",
    "data['Symptoms']=data['Symptoms'].str.replace('fever','fever')\n",
    "data['Symptoms']=data['Symptoms'].str.replace('sore throat','sore throat')\n",
    "data['Other disease']=data['Other disease'].str.replace(' ,',',')\n",
    "data['Other disease']=data['Other disease'].str.replace(', ',',')\n",
    "data['Symptoms']=data['Symptoms'].str.replace(' ,',',')\n",
    "data['Symptoms']=data['Symptoms'].str.replace(', ',',')\n"
   ]
  },
  {
   "cell_type": "code",
   "execution_count": 34,
   "metadata": {},
   "outputs": [
    {
     "data": {
      "text/plain": [
       "array([nan, 'acute kidney injury,hypertension,diabetes', 'diabetes',\n",
       "       'hypertension,cardiovascular disease,acute kidney injury,kidney disease,diabetes',\n",
       "       'asthma,diabetes', 'with comorbid (not specified)', 'asthma',\n",
       "       'hypertension', 'asymptomatic',\n",
       "       'hypertension,diabetes,cardiovascular disease,endocrine condition',\n",
       "       'hypertension,diabetes', 'status post renal transplant',\n",
       "       'acute kidney injury', 'community-acquired pneumonia',\n",
       "       'cardiovascular disease',\n",
       "       'diabetes,cardiovascular disease,kidney disease,diabetes',\n",
       "       'kidney disease,kidney disease,cardiovascular disease,peripheral arterial occlusive disease',\n",
       "       'diabetes,cardiovascular disease',\n",
       "       'acute renal failure,cardiovascular disease,cardiovascular disease,diabetes mellitus',\n",
       "       'hypertension,diabetes,asthma', 'hypertension,colon cancer',\n",
       "       'hypertension,diabetes,cardiovascular disease',\n",
       "       'acute kidney injury,benign prostatic hyperplasia',\n",
       "       'cardiovascular disease,acute kidney injury,asthma,impaired fasting glucose',\n",
       "       'hypertension,diabetes,dyslipidemia',\n",
       "       'hypertension,kidney disease',\n",
       "       'asthma,hypertension,atherosclerosis,cardiovascular disease',\n",
       "       'chronic obstructive pulmonary disease',\n",
       "       'hypertension,diabetes,kidney disease',\n",
       "       'permanent atrial fibrillation,hypertension,atherosclerosis,cerebrovascular disease infarction',\n",
       "       'hypertension,cardiovascular disease', 'acute renal failure',\n",
       "       'cardiovascular disease,cardiovascular disease,diabetes',\n",
       "       'hypertension,hypothyroidism', 'kidney disease',\n",
       "       'hypertension,cardiovascular disease,diabetes,acute kidney injury',\n",
       "       'prostatic cancer,chronic obstructive pulmonary disease',\n",
       "       'hypertension,hyperthyroidism,kidney disease',\n",
       "       'hypertension,diabetes,tongue cancer,cardiovascular disease,benign prostatic hyperplasia',\n",
       "       'hypertension,cardiovascular disease,dengue',\n",
       "       'kidney disease,hypertension,diabetes', 'hyperthyroidism',\n",
       "       'myocarditis,diabetes,acute kidney injury,hypertension',\n",
       "       'breast cancer,diabetes',\n",
       "       'chronic obstructive pulmonary disease,diabetes,dyslipidemia',\n",
       "       'hypertension,cerebrovascular disease infarction',\n",
       "       'systemic lupus erythematosus',\n",
       "       'chronic obstructive pulmonary disease,cardiovascular disease'],\n",
       "      dtype=object)"
      ]
     },
     "execution_count": 34,
     "metadata": {},
     "output_type": "execute_result"
    }
   ],
   "source": [
    "data['Other disease'].unique()\n"
   ]
  },
  {
   "cell_type": "code",
   "execution_count": 8,
   "metadata": {},
   "outputs": [
    {
     "data": {
      "text/plain": [
       "array([nan, 'fever,cough,sore throat', 'fever', 'cough', 'cough,dyspnea',\n",
       "       'fever,sore throat', 'fever,cough', 'cough,comorbidity',\n",
       "       'cough,sore throat,colds', 'cough,colds',\n",
       "       'fever,headache,body malaise', 'asymptomatic',\n",
       "       'cough,body malaise', 'cough,colds,dysphagia',\n",
       "       'cough,sore throat,headache', 'dyspnea', 'sore throat',\n",
       "       'fever,cough,dizziness', 'fever,cough,dyspnea'], dtype=object)"
      ]
     },
     "execution_count": 8,
     "metadata": {},
     "output_type": "execute_result"
    }
   ],
   "source": [
    "data['Symptoms'].unique()"
   ]
  },
  {
   "cell_type": "code",
   "execution_count": null,
   "metadata": {},
   "outputs": [],
   "source": []
  },
  {
   "cell_type": "code",
   "execution_count": null,
   "metadata": {},
   "outputs": [],
   "source": []
  },
  {
   "cell_type": "code",
   "execution_count": null,
   "metadata": {},
   "outputs": [],
   "source": []
  },
  {
   "cell_type": "code",
   "execution_count": null,
   "metadata": {},
   "outputs": [],
   "source": []
  },
  {
   "cell_type": "code",
   "execution_count": null,
   "metadata": {},
   "outputs": [],
   "source": []
  },
  {
   "cell_type": "code",
   "execution_count": null,
   "metadata": {},
   "outputs": [],
   "source": []
  },
  {
   "cell_type": "code",
   "execution_count": null,
   "metadata": {},
   "outputs": [],
   "source": []
  },
  {
   "cell_type": "code",
   "execution_count": null,
   "metadata": {},
   "outputs": [],
   "source": []
  },
  {
   "cell_type": "code",
   "execution_count": null,
   "metadata": {},
   "outputs": [],
   "source": []
  },
  {
   "cell_type": "code",
   "execution_count": null,
   "metadata": {},
   "outputs": [],
   "source": []
  },
  {
   "cell_type": "code",
   "execution_count": null,
   "metadata": {},
   "outputs": [],
   "source": []
  },
  {
   "cell_type": "code",
   "execution_count": null,
   "metadata": {},
   "outputs": [],
   "source": []
  }
 ],
 "metadata": {
  "kernelspec": {
   "display_name": "Python 3",
   "language": "python",
   "name": "python3"
  },
  "language_info": {
   "codemirror_mode": {
    "name": "ipython",
    "version": 3
   },
   "file_extension": ".py",
   "mimetype": "text/x-python",
   "name": "python",
   "nbconvert_exporter": "python",
   "pygments_lexer": "ipython3",
   "version": "3.7.4"
  }
 },
 "nbformat": 4,
 "nbformat_minor": 2
}
