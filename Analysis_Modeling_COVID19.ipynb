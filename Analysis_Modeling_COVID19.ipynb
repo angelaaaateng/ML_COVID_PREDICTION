{
 "cells": [
  {
   "cell_type": "markdown",
   "metadata": {
    "colab_type": "text",
    "id": "hcscV-8sMP7g"
   },
   "source": [
    "Libraries:"
   ]
  },
  {
   "cell_type": "code",
   "execution_count": 3,
   "metadata": {
    "colab": {
     "base_uri": "https://localhost:8080/",
     "height": 72
    },
    "colab_type": "code",
    "executionInfo": {
     "elapsed": 985,
     "status": "ok",
     "timestamp": 1586118999351,
     "user": {
      "displayName": "Elizabeth Anne Combs",
      "photoUrl": "",
      "userId": "09373896408908020212"
     },
     "user_tz": 240
    },
    "id": "vP_c5Y6LKm2G",
    "outputId": "a1c6509e-375d-4430-802c-b925d3a6757f"
   },
   "outputs": [],
   "source": [
    "import pandas as pd\n",
    "import seaborn as sns\n",
    "from sklearn.model_selection import train_test_split\n",
    "import warnings\n",
    "\n",
    "warnings.filterwarnings('ignore')"
   ]
  },
  {
   "cell_type": "markdown",
   "metadata": {
    "colab_type": "text",
    "id": "6C1GmBULMS6Q"
   },
   "source": [
    "Data Cleaning & Feature Engineering:"
   ]
  },
  {
   "cell_type": "code",
   "execution_count": 4,
   "metadata": {
    "colab": {
     "base_uri": "https://localhost:8080/",
     "height": 176
    },
    "colab_type": "code",
    "executionInfo": {
     "elapsed": 501,
     "status": "ok",
     "timestamp": 1586118999802,
     "user": {
      "displayName": "Elizabeth Anne Combs",
      "photoUrl": "",
      "userId": "09373896408908020212"
     },
     "user_tz": 240
    },
    "id": "sKugu7PTN3p3",
    "outputId": "464ece86-ec72-4d1a-bd3c-f051c68503bf"
   },
   "outputs": [
    {
     "data": {
      "text/plain": [
       "Index(['phcaseno', 'Sex', 'Age', 'Nationality', 'Residence in the Philippines',\n",
       "       'History of Travel / Exposure', 'Epi_Link', 'Date of Onset of Symptoms',\n",
       "       'Date of Admission', 'Date of Lab Confirmation',\n",
       "       ...\n",
       "       'dis_myocarditis', 'dis_none', 'dis_permanent atrial fibrillation',\n",
       "       'dis_prostatic cancer', 'dis_remnal disease',\n",
       "       'dis_status post renal transplant', 'dis_systemic lupus erythematosus',\n",
       "       'dis_with comorbid (not specified)', 'geo_address', 'disease_len_days'],\n",
       "      dtype='object', length=109)"
      ]
     },
     "execution_count": 4,
     "metadata": {},
     "output_type": "execute_result"
    }
   ],
   "source": [
    "# Note: upload this file at run-time\n",
    "\n",
    "data_raw = pd.read_csv('data_clean.csv')\n",
    "#data_raw.columns\n",
    "\n",
    "# remove for validation\n",
    "data_clean = data_raw[data_raw['Health Status'] != \"for validation\"]\n",
    "data_clean=data_clean.reset_index(drop=True)\n",
    "data_clean.columns"
   ]
  },
  {
   "cell_type": "code",
   "execution_count": 5,
   "metadata": {
    "colab": {
     "base_uri": "https://localhost:8080/",
     "height": 287
    },
    "colab_type": "code",
    "executionInfo": {
     "elapsed": 569,
     "status": "ok",
     "timestamp": 1586119002096,
     "user": {
      "displayName": "Elizabeth Anne Combs",
      "photoUrl": "",
      "userId": "09373896408908020212"
     },
     "user_tz": 240
    },
    "id": "vBWOrzZxN94Y",
    "outputId": "7405dacc-1138-4d7a-99bf-749d8d6e6a79"
   },
   "outputs": [
    {
     "data": {
      "text/html": [
       "<div>\n",
       "<style scoped>\n",
       "    .dataframe tbody tr th:only-of-type {\n",
       "        vertical-align: middle;\n",
       "    }\n",
       "\n",
       "    .dataframe tbody tr th {\n",
       "        vertical-align: top;\n",
       "    }\n",
       "\n",
       "    .dataframe thead th {\n",
       "        text-align: right;\n",
       "    }\n",
       "</style>\n",
       "<table border=\"1\" class=\"dataframe\">\n",
       "  <thead>\n",
       "    <tr style=\"text-align: right;\">\n",
       "      <th></th>\n",
       "      <th>phcaseno</th>\n",
       "      <th>Sex</th>\n",
       "      <th>Age</th>\n",
       "      <th>Nationality</th>\n",
       "      <th>Residence in the Philippines</th>\n",
       "      <th>History of Travel / Exposure</th>\n",
       "      <th>Epi_Link</th>\n",
       "      <th>Date of Onset of Symptoms</th>\n",
       "      <th>Date of Admission</th>\n",
       "      <th>Date of Lab Confirmation</th>\n",
       "      <th>...</th>\n",
       "      <th>dis_myocarditis</th>\n",
       "      <th>dis_none</th>\n",
       "      <th>dis_permanent atrial fibrillation</th>\n",
       "      <th>dis_prostatic cancer</th>\n",
       "      <th>dis_remnal disease</th>\n",
       "      <th>dis_status post renal transplant</th>\n",
       "      <th>dis_systemic lupus erythematosus</th>\n",
       "      <th>dis_with comorbid (not specified)</th>\n",
       "      <th>geo_address</th>\n",
       "      <th>disease_len_days</th>\n",
       "    </tr>\n",
       "  </thead>\n",
       "  <tbody>\n",
       "    <tr>\n",
       "      <th>0</th>\n",
       "      <td>PH00001</td>\n",
       "      <td>F</td>\n",
       "      <td>38</td>\n",
       "      <td>chinese</td>\n",
       "      <td>None</td>\n",
       "      <td>Yes (China); Wife of PH02</td>\n",
       "      <td>Wife of PH2</td>\n",
       "      <td>2020-01-21 00:00:00-05:00</td>\n",
       "      <td>Sat Jan 25 00:00:00 EST 2020</td>\n",
       "      <td>Thu Jan 30 00:00:00 EST 2020</td>\n",
       "      <td>...</td>\n",
       "      <td>0.0</td>\n",
       "      <td>0.0</td>\n",
       "      <td>0.0</td>\n",
       "      <td>0.0</td>\n",
       "      <td>0.0</td>\n",
       "      <td>0.0</td>\n",
       "      <td>0.0</td>\n",
       "      <td>0.0</td>\n",
       "      <td>{'hospital': 'San Lazaro Hospital', 'road': 'Q...</td>\n",
       "      <td>53 days 23:00:00.000000000</td>\n",
       "    </tr>\n",
       "    <tr>\n",
       "      <th>1</th>\n",
       "      <td>PH00002</td>\n",
       "      <td>M</td>\n",
       "      <td>44</td>\n",
       "      <td>chinese</td>\n",
       "      <td>None</td>\n",
       "      <td>Yes (China); Husband of PH1</td>\n",
       "      <td>Husband of PH1</td>\n",
       "      <td>2020-01-18 00:00:00-05:00</td>\n",
       "      <td>Sat Jan 25 00:00:00 EST 2020</td>\n",
       "      <td>Thu Jan 30 00:00:00 EST 2020</td>\n",
       "      <td>...</td>\n",
       "      <td>0.0</td>\n",
       "      <td>0.0</td>\n",
       "      <td>0.0</td>\n",
       "      <td>0.0</td>\n",
       "      <td>0.0</td>\n",
       "      <td>0.0</td>\n",
       "      <td>0.0</td>\n",
       "      <td>0.0</td>\n",
       "      <td>{'hospital': 'San Lazaro Hospital', 'road': 'Q...</td>\n",
       "      <td>14 days 00:00:00.000000000</td>\n",
       "    </tr>\n",
       "    <tr>\n",
       "      <th>2</th>\n",
       "      <td>PH00003</td>\n",
       "      <td>F</td>\n",
       "      <td>60</td>\n",
       "      <td>chinese</td>\n",
       "      <td>None</td>\n",
       "      <td>Yes (China)</td>\n",
       "      <td>Traveled to Cebu and Bohol. Was already in Chi...</td>\n",
       "      <td>2020-01-21 00:00:00-05:00</td>\n",
       "      <td>Wed Jan 22 00:00:00 EST 2020</td>\n",
       "      <td>Thu Jan 30 00:00:00 EST 2020</td>\n",
       "      <td>...</td>\n",
       "      <td>0.0</td>\n",
       "      <td>0.0</td>\n",
       "      <td>0.0</td>\n",
       "      <td>0.0</td>\n",
       "      <td>0.0</td>\n",
       "      <td>0.0</td>\n",
       "      <td>0.0</td>\n",
       "      <td>0.0</td>\n",
       "      <td>{'public_building': 'Francisco Duque Hall', 'r...</td>\n",
       "      <td>53 days 23:00:00.000000000</td>\n",
       "    </tr>\n",
       "    <tr>\n",
       "      <th>3</th>\n",
       "      <td>PH00004</td>\n",
       "      <td>M</td>\n",
       "      <td>48</td>\n",
       "      <td>filipino</td>\n",
       "      <td>Taguig City</td>\n",
       "      <td>Yes (Japan)</td>\n",
       "      <td>NaN</td>\n",
       "      <td>2020-03-03 00:00:00-05:00</td>\n",
       "      <td>Fri Mar 06 00:00:00 EST 2020</td>\n",
       "      <td>Thu Mar 05 00:00:00 EST 2020</td>\n",
       "      <td>...</td>\n",
       "      <td>0.0</td>\n",
       "      <td>0.0</td>\n",
       "      <td>0.0</td>\n",
       "      <td>0.0</td>\n",
       "      <td>0.0</td>\n",
       "      <td>0.0</td>\n",
       "      <td>0.0</td>\n",
       "      <td>0.0</td>\n",
       "      <td>{'hospital': 'University of the East - Ramon M...</td>\n",
       "      <td>15 days 23:00:00.000000000</td>\n",
       "    </tr>\n",
       "    <tr>\n",
       "      <th>4</th>\n",
       "      <td>PH00005</td>\n",
       "      <td>M</td>\n",
       "      <td>62</td>\n",
       "      <td>filipino</td>\n",
       "      <td>Cainta, Rizal</td>\n",
       "      <td>Husband of PH06</td>\n",
       "      <td>Husband of PH6</td>\n",
       "      <td>2020-02-25 00:00:00-05:00</td>\n",
       "      <td>Thu Mar 05 00:00:00 EST 2020</td>\n",
       "      <td>Thu Mar 05 00:00:00 EST 2020</td>\n",
       "      <td>...</td>\n",
       "      <td>0.0</td>\n",
       "      <td>0.0</td>\n",
       "      <td>0.0</td>\n",
       "      <td>0.0</td>\n",
       "      <td>0.0</td>\n",
       "      <td>0.0</td>\n",
       "      <td>0.0</td>\n",
       "      <td>0.0</td>\n",
       "      <td>{'hospital': 'Research Institute for Tropical ...</td>\n",
       "      <td>15 days 23:00:00.000000000</td>\n",
       "    </tr>\n",
       "  </tbody>\n",
       "</table>\n",
       "<p>5 rows × 109 columns</p>\n",
       "</div>"
      ],
      "text/plain": [
       "  phcaseno Sex  Age Nationality Residence in the Philippines  \\\n",
       "0  PH00001   F   38     chinese                         None   \n",
       "1  PH00002   M   44     chinese                         None   \n",
       "2  PH00003   F   60     chinese                         None   \n",
       "3  PH00004   M   48    filipino                  Taguig City   \n",
       "4  PH00005   M   62    filipino                Cainta, Rizal   \n",
       "\n",
       "  History of Travel / Exposure  \\\n",
       "0    Yes (China); Wife of PH02   \n",
       "1  Yes (China); Husband of PH1   \n",
       "2                  Yes (China)   \n",
       "3                  Yes (Japan)   \n",
       "4              Husband of PH06   \n",
       "\n",
       "                                            Epi_Link  \\\n",
       "0                                        Wife of PH2   \n",
       "1                                     Husband of PH1   \n",
       "2  Traveled to Cebu and Bohol. Was already in Chi...   \n",
       "3                                                NaN   \n",
       "4                                     Husband of PH6   \n",
       "\n",
       "   Date of Onset of Symptoms             Date of Admission  \\\n",
       "0  2020-01-21 00:00:00-05:00  Sat Jan 25 00:00:00 EST 2020   \n",
       "1  2020-01-18 00:00:00-05:00  Sat Jan 25 00:00:00 EST 2020   \n",
       "2  2020-01-21 00:00:00-05:00  Wed Jan 22 00:00:00 EST 2020   \n",
       "3  2020-03-03 00:00:00-05:00  Fri Mar 06 00:00:00 EST 2020   \n",
       "4  2020-02-25 00:00:00-05:00  Thu Mar 05 00:00:00 EST 2020   \n",
       "\n",
       "       Date of Lab Confirmation  ... dis_myocarditis dis_none  \\\n",
       "0  Thu Jan 30 00:00:00 EST 2020  ...             0.0      0.0   \n",
       "1  Thu Jan 30 00:00:00 EST 2020  ...             0.0      0.0   \n",
       "2  Thu Jan 30 00:00:00 EST 2020  ...             0.0      0.0   \n",
       "3  Thu Mar 05 00:00:00 EST 2020  ...             0.0      0.0   \n",
       "4  Thu Mar 05 00:00:00 EST 2020  ...             0.0      0.0   \n",
       "\n",
       "  dis_permanent atrial fibrillation dis_prostatic cancer dis_remnal disease  \\\n",
       "0                               0.0                  0.0                0.0   \n",
       "1                               0.0                  0.0                0.0   \n",
       "2                               0.0                  0.0                0.0   \n",
       "3                               0.0                  0.0                0.0   \n",
       "4                               0.0                  0.0                0.0   \n",
       "\n",
       "  dis_status post renal transplant dis_systemic lupus erythematosus  \\\n",
       "0                              0.0                              0.0   \n",
       "1                              0.0                              0.0   \n",
       "2                              0.0                              0.0   \n",
       "3                              0.0                              0.0   \n",
       "4                              0.0                              0.0   \n",
       "\n",
       "  dis_with comorbid (not specified)  \\\n",
       "0                               0.0   \n",
       "1                               0.0   \n",
       "2                               0.0   \n",
       "3                               0.0   \n",
       "4                               0.0   \n",
       "\n",
       "                                         geo_address  \\\n",
       "0  {'hospital': 'San Lazaro Hospital', 'road': 'Q...   \n",
       "1  {'hospital': 'San Lazaro Hospital', 'road': 'Q...   \n",
       "2  {'public_building': 'Francisco Duque Hall', 'r...   \n",
       "3  {'hospital': 'University of the East - Ramon M...   \n",
       "4  {'hospital': 'Research Institute for Tropical ...   \n",
       "\n",
       "             disease_len_days  \n",
       "0  53 days 23:00:00.000000000  \n",
       "1  14 days 00:00:00.000000000  \n",
       "2  53 days 23:00:00.000000000  \n",
       "3  15 days 23:00:00.000000000  \n",
       "4  15 days 23:00:00.000000000  \n",
       "\n",
       "[5 rows x 109 columns]"
      ]
     },
     "execution_count": 5,
     "metadata": {},
     "output_type": "execute_result"
    }
   ],
   "source": [
    "data_clean.head()"
   ]
  },
  {
   "cell_type": "code",
   "execution_count": 6,
   "metadata": {
    "colab": {
     "base_uri": "https://localhost:8080/",
     "height": 944
    },
    "colab_type": "code",
    "executionInfo": {
     "elapsed": 11374,
     "status": "ok",
     "timestamp": 1586119014589,
     "user": {
      "displayName": "Elizabeth Anne Combs",
      "photoUrl": "",
      "userId": "09373896408908020212"
     },
     "user_tz": 240
    },
    "id": "O2cwyc_INR4N",
    "outputId": "ecd20b3b-5c73-4ae1-bd08-26027aaf65a8"
   },
   "outputs": [],
   "source": [
    "# explore data\n",
    "#sns.pairplot(data_clean, hue=\"Health Status\")"
   ]
  },
  {
   "cell_type": "code",
   "execution_count": 7,
   "metadata": {
    "colab": {
     "base_uri": "https://localhost:8080/",
     "height": 478
    },
    "colab_type": "code",
    "executionInfo": {
     "elapsed": 9870,
     "status": "ok",
     "timestamp": 1586119014592,
     "user": {
      "displayName": "Elizabeth Anne Combs",
      "photoUrl": "",
      "userId": "09373896408908020212"
     },
     "user_tz": 240
    },
    "id": "Nm7_eBr4T-5f",
    "outputId": "b931079c-8465-4074-a53d-6aebe5a5215b"
   },
   "outputs": [
    {
     "data": {
      "text/plain": [
       "array([dtype('O'), dtype('int64'), dtype('float64')], dtype=object)"
      ]
     },
     "execution_count": 7,
     "metadata": {},
     "output_type": "execute_result"
    }
   ],
   "source": [
    "data_clean.dtypes.unique()"
   ]
  },
  {
   "cell_type": "code",
   "execution_count": 8,
   "metadata": {
    "colab": {
     "base_uri": "https://localhost:8080/",
     "height": 282
    },
    "colab_type": "code",
    "executionInfo": {
     "elapsed": 7721,
     "status": "ok",
     "timestamp": 1586119014593,
     "user": {
      "displayName": "Elizabeth Anne Combs",
      "photoUrl": "",
      "userId": "09373896408908020212"
     },
     "user_tz": 240
    },
    "id": "YRzGOmoGXjPk",
    "outputId": "536f47ae-6a94-4a8f-9689-731181b66221"
   },
   "outputs": [
    {
     "data": {
      "image/png": "[encoded data removed]",
      "text/plain": [
       "<Figure size 432x288 with 1 Axes>"
      ]
     },
     "metadata": {
      "needs_background": "light"
     },
     "output_type": "display_data"
    }
   ],
   "source": [
    "data_clean['Health Status'].hist()\n",
    "data_numeric = data_clean.select_dtypes(include=['float', 'int64'])"
   ]
  },
  {
   "cell_type": "code",
   "execution_count": 9,
   "metadata": {},
   "outputs": [
    {
     "data": {
      "text/plain": [
       "Index(['Age', 'Latitude', 'Longitude', 'Residence Lat', 'symp_ body malaise',\n",
       "       'symp_ colds', 'symp_ comorbidity', 'symp_ cough',\n",
       "       'symp_ difficulty in breathing', 'symp_ dizziness'],\n",
       "      dtype='object')"
      ]
     },
     "execution_count": 9,
     "metadata": {},
     "output_type": "execute_result"
    }
   ],
   "source": [
    "data_numeric.columns[0:10]"
   ]
  },
  {
   "cell_type": "markdown",
   "metadata": {},
   "source": [
    "Clustering to define the target variable:"
   ]
  },
  {
   "cell_type": "code",
   "execution_count": 10,
   "metadata": {},
   "outputs": [],
   "source": [
    "from sklearn.cluster import KMeans\n",
    "\n",
    "wcss = []\n",
    "for i in range(1,11):\n",
    "    kmeans = KMeans(n_clusters=i, init='k-means++', max_iter=10, n_init=2)\n",
    "    kmeans.fit(data_numeric)\n",
    "    wcss.append(kmeans.inertia_)"
   ]
  },
  {
   "cell_type": "code",
   "execution_count": 11,
   "metadata": {},
   "outputs": [
    {
     "data": {
      "text/plain": [
       "Text(0.5, 1.0, 'Elbow Method')"
      ]
     },
     "execution_count": 11,
     "metadata": {},
     "output_type": "execute_result"
    },
    {
     "data": {
      "image/png": "[encoded data removed]",
      "text/plain": [
       "<Figure size 432x288 with 1 Axes>"
      ]
     },
     "metadata": {
      "needs_background": "light"
     },
     "output_type": "display_data"
    }
   ],
   "source": [
    "#Plot the elbow method to see if we found the optimal number of clusters\n",
    "import matplotlib.pyplot as plt \n",
    "\n",
    "#fig, (ax1, ax2) = plt.subplots(nrows=2, sharex=True, figsize=(15,8))\n",
    "plt.plot(range(1,11), wcss)\n",
    "plt.xlabel('Number of Clusters')\n",
    "plt.ylabel('WCSS')\n",
    "plt.title('Elbow Method')"
   ]
  },
  {
   "cell_type": "code",
   "execution_count": 12,
   "metadata": {},
   "outputs": [],
   "source": [
    "# Going to try with 6 clusters to start\n",
    "schools_kmeans = KMeans(n_clusters=2, init='k-means++', max_iter=300, n_init=6)\n",
    "schools_cluster = schools_kmeans.fit_predict(data_numeric)"
   ]
  },
  {
   "cell_type": "code",
   "execution_count": 13,
   "metadata": {},
   "outputs": [],
   "source": [
    "# see how this maps with HS\n",
    "#schools_cluster "
   ]
  },
  {
   "cell_type": "code",
   "execution_count": 14,
   "metadata": {},
   "outputs": [],
   "source": [
    "import numpy as np\n",
    "#np.array(data_clean['Health Status'])\n",
    "\n",
    "def status_to_numeric(x):\n",
    "    if x=='died':\n",
    "        return 5\n",
    "    if x=='critical':\n",
    "        return 4\n",
    "    if x=='severe':\n",
    "        return 3\n",
    "    if x=='mild':\n",
    "        return 2\n",
    "    if x=='asymptomatic':\n",
    "        return 1\n",
    "    if x=='recovered':\n",
    "        return 0"
   ]
  },
  {
   "cell_type": "code",
   "execution_count": 15,
   "metadata": {},
   "outputs": [],
   "source": [
    "data_clean['HealthStatusNUM'] = data_clean['Health Status'].apply(status_to_numeric)"
   ]
  },
  {
   "cell_type": "code",
   "execution_count": 16,
   "metadata": {},
   "outputs": [],
   "source": [
    "data_clean['Cluster'] = pd.DataFrame(schools_cluster)"
   ]
  },
  {
   "cell_type": "code",
   "execution_count": 17,
   "metadata": {},
   "outputs": [
    {
     "data": {
      "text/plain": [
       "<matplotlib.axes._subplots.AxesSubplot at 0x1a19da8ba8>"
      ]
     },
     "execution_count": 17,
     "metadata": {},
     "output_type": "execute_result"
    },
    {
     "data": {
      "image/png": "[encoded data removed]",
      "text/plain": [
       "<Figure size 432x288 with 1 Axes>"
      ]
     },
     "metadata": {
      "needs_background": "light"
     },
     "output_type": "display_data"
    }
   ],
   "source": [
    "data_clean.pivot(columns='Cluster').HealthStatusNUM.plot(kind = 'hist', stacked=True)"
   ]
  },
  {
   "cell_type": "code",
   "execution_count": 18,
   "metadata": {
    "colab": {
     "base_uri": "https://localhost:8080/",
     "height": 282
    },
    "colab_type": "code",
    "executionInfo": {
     "elapsed": 7146,
     "status": "ok",
     "timestamp": 1586119014593,
     "user": {
      "displayName": "Elizabeth Anne Combs",
      "photoUrl": "",
      "userId": "09373896408908020212"
     },
     "user_tz": 240
    },
    "id": "BoPoKAmUYx3F",
    "outputId": "b7794e9f-877e-4d6c-e427-34c2c6c61582"
   },
   "outputs": [
    {
     "data": {
      "text/plain": [
       "<matplotlib.axes._subplots.AxesSubplot at 0x1a19de5f60>"
      ]
     },
     "execution_count": 18,
     "metadata": {},
     "output_type": "execute_result"
    },
    {
     "data": {
      "image/png": "[encoded data removed]",
      "text/plain": [
       "<Figure size 432x288 with 1 Axes>"
      ]
     },
     "metadata": {
      "needs_background": "light"
     },
     "output_type": "display_data"
    }
   ],
   "source": [
    "# recode to 2 categories\n",
    "\n",
    "def health_status_binary(series):\n",
    "    if series > 2:\n",
    "        return 1\n",
    "    else:\n",
    "        return 0\n",
    "    \n",
    "data_clean['Health Status Binary'] = data_clean['HealthStatusNUM'].apply(health_status_binary)\n",
    "\n",
    "data_clean['Health Status Binary'].hist()"
   ]
  },
  {
   "cell_type": "markdown",
   "metadata": {},
   "source": [
    "feature transformations"
   ]
  },
  {
   "cell_type": "code",
   "execution_count": 19,
   "metadata": {
    "colab": {},
    "colab_type": "code",
    "id": "sB7qMVsGUUFR"
   },
   "outputs": [
    {
     "data": {
      "text/plain": [
       "0    180\n",
       "1     83\n",
       "Name: Sex, dtype: int64"
      ]
     },
     "execution_count": 19,
     "metadata": {},
     "output_type": "execute_result"
    }
   ],
   "source": [
    "# Sex -  M/F:\n",
    "data_clean['Sex'] = pd.get_dummies(data_clean['Sex'])\n",
    "data_clean['Sex'].value_counts() "
   ]
  },
  {
   "cell_type": "code",
   "execution_count": 20,
   "metadata": {
    "colab": {
     "base_uri": "https://localhost:8080/",
     "height": 70
    },
    "colab_type": "code",
    "executionInfo": {
     "elapsed": 4918,
     "status": "ok",
     "timestamp": 1586119014594,
     "user": {
      "displayName": "Elizabeth Anne Combs",
      "photoUrl": "",
      "userId": "09373896408908020212"
     },
     "user_tz": 240
    },
    "id": "fQZIKpRtXdFJ",
    "outputId": "81d28026-179a-4b1c-b886-2134b17003ca"
   },
   "outputs": [
    {
     "name": "stdout",
     "output_type": "stream",
     "text": [
      "filipino              242\n",
      "for validation         10\n",
      "american                3\n",
      "chinese                 3\n",
      "british, uk             2\n",
      "thai                    2\n",
      "chinese, taiwanese      1\n",
      "Name: Nationality, dtype: int64\n"
     ]
    },
    {
     "data": {
      "text/plain": [
       "1    242\n",
       "0     21\n",
       "Name: Nationality, dtype: int64"
      ]
     },
     "execution_count": 20,
     "metadata": {},
     "output_type": "execute_result"
    }
   ],
   "source": [
    "print(data_clean['Nationality'].value_counts() )\n",
    "\n",
    "def nationality_recode(series):\n",
    "    if series != 'filipino':\n",
    "        return 'other'\n",
    "    else: \n",
    "        return 'filipino'\n",
    "\n",
    "data_clean['Nationality'] = data_clean['Nationality'].apply(nationality_recode)\n",
    "data_clean['Nationality'] = pd.get_dummies(data_clean['Nationality'])\n",
    "data_clean['Nationality'].value_counts() "
   ]
  },
  {
   "cell_type": "code",
   "execution_count": 21,
   "metadata": {
    "colab": {
     "base_uri": "https://localhost:8080/",
     "height": 70
    },
    "colab_type": "code",
    "executionInfo": {
     "elapsed": 2208,
     "status": "ok",
     "timestamp": 1586119014595,
     "user": {
      "displayName": "Elizabeth Anne Combs",
      "photoUrl": "",
      "userId": "09373896408908020212"
     },
     "user_tz": 240
    },
    "id": "7aOWtEsfcV_A",
    "outputId": "8f3ac7e2-9708-4140-abcb-7b2c1e7a6fbf"
   },
   "outputs": [
    {
     "data": {
      "text/plain": [
       "1    257\n",
       "0      6\n",
       "Name: History of Travel / Exposure, dtype: int64"
      ]
     },
     "execution_count": 21,
     "metadata": {},
     "output_type": "execute_result"
    }
   ],
   "source": [
    "data_clean['History of Travel / Exposure'] = data_clean['History of Travel / Exposure'].isna()\n",
    "data_clean['History of Travel / Exposure'] = pd.get_dummies(data_clean['History of Travel / Exposure'])\n",
    "data_clean['History of Travel / Exposure'].value_counts() "
   ]
  },
  {
   "cell_type": "code",
   "execution_count": 22,
   "metadata": {},
   "outputs": [
    {
     "data": {
      "text/plain": [
       "0    198\n",
       "1     65\n",
       "Name: Epi_Link, dtype: int64"
      ]
     },
     "execution_count": 22,
     "metadata": {},
     "output_type": "execute_result"
    }
   ],
   "source": [
    "# epi link cleaning\n",
    "data_clean['Epi_Link'] = data_clean['Epi_Link'].isna()\n",
    "data_clean['Epi_Link'] = pd.get_dummies(data_clean['Epi_Link'])\n",
    "data_clean['Epi_Link'].value_counts() \n",
    "\n",
    "# better cleaning \n"
   ]
  },
  {
   "cell_type": "code",
   "execution_count": 23,
   "metadata": {},
   "outputs": [],
   "source": [
    "# disease_len_days cleaning - extract # days\n",
    "\n",
    "data_clean['disease_len_days'] = data_clean[\"disease_len_days\"].str.split(\" \", 1, expand=True)[0]"
   ]
  },
  {
   "cell_type": "code",
   "execution_count": 24,
   "metadata": {},
   "outputs": [],
   "source": [
    "data = data_clean.drop(['Health Status', 'HealthStatusNUM', 'phcaseno','Residence in the Philippines', 'Date of Onset of Symptoms', 'Date of Admission', 'Date of Lab Confirmation', 'Date of Announcement to the Public', 'Admission / Consultation', 'Symptoms', 'other_disease', 'Status', 'Date of Final Status (recovered/expired)', 'Final Diagnosis', 'Age Group', 'Location', 'Location 1', 'Location 2', 'Residence Lat', 'Residence Long', 'geo_address'], axis=1)\n",
    "\n",
    "# how to recode NaN\n",
    "data = data.fillna(data.mean())"
   ]
  },
  {
   "cell_type": "code",
   "execution_count": 25,
   "metadata": {
    "colab": {},
    "colab_type": "code",
    "id": "8OjklseALetr"
   },
   "outputs": [],
   "source": [
    "X_train, X_test, y_train, y_test = train_test_split(data.drop('Health Status Binary', axis=1), data['Health Status Binary'], test_size=0.20, random_state=0)"
   ]
  },
  {
   "cell_type": "code",
   "execution_count": 26,
   "metadata": {},
   "outputs": [
    {
     "data": {
      "text/html": [
       "<div>\n",
       "<style scoped>\n",
       "    .dataframe tbody tr th:only-of-type {\n",
       "        vertical-align: middle;\n",
       "    }\n",
       "\n",
       "    .dataframe tbody tr th {\n",
       "        vertical-align: top;\n",
       "    }\n",
       "\n",
       "    .dataframe thead th {\n",
       "        text-align: right;\n",
       "    }\n",
       "</style>\n",
       "<table border=\"1\" class=\"dataframe\">\n",
       "  <thead>\n",
       "    <tr style=\"text-align: right;\">\n",
       "      <th></th>\n",
       "      <th>Sex</th>\n",
       "      <th>Age</th>\n",
       "      <th>Nationality</th>\n",
       "      <th>History of Travel / Exposure</th>\n",
       "      <th>Epi_Link</th>\n",
       "      <th>Latitude</th>\n",
       "      <th>Longitude</th>\n",
       "      <th>symp_ body malaise</th>\n",
       "      <th>symp_ colds</th>\n",
       "      <th>symp_ comorbidity</th>\n",
       "      <th>...</th>\n",
       "      <th>dis_myocarditis</th>\n",
       "      <th>dis_none</th>\n",
       "      <th>dis_permanent atrial fibrillation</th>\n",
       "      <th>dis_prostatic cancer</th>\n",
       "      <th>dis_remnal disease</th>\n",
       "      <th>dis_status post renal transplant</th>\n",
       "      <th>dis_systemic lupus erythematosus</th>\n",
       "      <th>dis_with comorbid (not specified)</th>\n",
       "      <th>disease_len_days</th>\n",
       "      <th>Cluster</th>\n",
       "    </tr>\n",
       "  </thead>\n",
       "  <tbody>\n",
       "    <tr>\n",
       "      <th>191</th>\n",
       "      <td>0</td>\n",
       "      <td>46</td>\n",
       "      <td>1</td>\n",
       "      <td>1</td>\n",
       "      <td>0</td>\n",
       "      <td>14.622320</td>\n",
       "      <td>121.023899</td>\n",
       "      <td>0.0</td>\n",
       "      <td>0.0</td>\n",
       "      <td>0.0</td>\n",
       "      <td>...</td>\n",
       "      <td>0.0</td>\n",
       "      <td>0.0</td>\n",
       "      <td>0.0</td>\n",
       "      <td>0.0</td>\n",
       "      <td>0.0</td>\n",
       "      <td>0.0</td>\n",
       "      <td>0.0</td>\n",
       "      <td>0.0</td>\n",
       "      <td>0</td>\n",
       "      <td>1</td>\n",
       "    </tr>\n",
       "    <tr>\n",
       "      <th>44</th>\n",
       "      <td>0</td>\n",
       "      <td>27</td>\n",
       "      <td>1</td>\n",
       "      <td>1</td>\n",
       "      <td>1</td>\n",
       "      <td>14.559380</td>\n",
       "      <td>121.014535</td>\n",
       "      <td>0.0</td>\n",
       "      <td>0.0</td>\n",
       "      <td>0.0</td>\n",
       "      <td>...</td>\n",
       "      <td>0.0</td>\n",
       "      <td>0.0</td>\n",
       "      <td>0.0</td>\n",
       "      <td>0.0</td>\n",
       "      <td>0.0</td>\n",
       "      <td>0.0</td>\n",
       "      <td>0.0</td>\n",
       "      <td>0.0</td>\n",
       "      <td>NaN</td>\n",
       "      <td>1</td>\n",
       "    </tr>\n",
       "    <tr>\n",
       "      <th>64</th>\n",
       "      <td>0</td>\n",
       "      <td>70</td>\n",
       "      <td>1</td>\n",
       "      <td>1</td>\n",
       "      <td>1</td>\n",
       "      <td>14.656208</td>\n",
       "      <td>121.040087</td>\n",
       "      <td>0.0</td>\n",
       "      <td>0.0</td>\n",
       "      <td>0.0</td>\n",
       "      <td>...</td>\n",
       "      <td>0.0</td>\n",
       "      <td>0.0</td>\n",
       "      <td>0.0</td>\n",
       "      <td>0.0</td>\n",
       "      <td>0.0</td>\n",
       "      <td>0.0</td>\n",
       "      <td>0.0</td>\n",
       "      <td>0.0</td>\n",
       "      <td>NaN</td>\n",
       "      <td>0</td>\n",
       "    </tr>\n",
       "    <tr>\n",
       "      <th>71</th>\n",
       "      <td>0</td>\n",
       "      <td>41</td>\n",
       "      <td>1</td>\n",
       "      <td>1</td>\n",
       "      <td>0</td>\n",
       "      <td>14.248590</td>\n",
       "      <td>121.067280</td>\n",
       "      <td>0.0</td>\n",
       "      <td>0.0</td>\n",
       "      <td>0.0</td>\n",
       "      <td>...</td>\n",
       "      <td>0.0</td>\n",
       "      <td>0.0</td>\n",
       "      <td>0.0</td>\n",
       "      <td>0.0</td>\n",
       "      <td>0.0</td>\n",
       "      <td>0.0</td>\n",
       "      <td>0.0</td>\n",
       "      <td>0.0</td>\n",
       "      <td>NaN</td>\n",
       "      <td>1</td>\n",
       "    </tr>\n",
       "    <tr>\n",
       "      <th>188</th>\n",
       "      <td>1</td>\n",
       "      <td>67</td>\n",
       "      <td>1</td>\n",
       "      <td>1</td>\n",
       "      <td>0</td>\n",
       "      <td>14.615867</td>\n",
       "      <td>120.980991</td>\n",
       "      <td>0.0</td>\n",
       "      <td>0.0</td>\n",
       "      <td>0.0</td>\n",
       "      <td>...</td>\n",
       "      <td>0.0</td>\n",
       "      <td>0.0</td>\n",
       "      <td>0.0</td>\n",
       "      <td>0.0</td>\n",
       "      <td>0.0</td>\n",
       "      <td>0.0</td>\n",
       "      <td>0.0</td>\n",
       "      <td>0.0</td>\n",
       "      <td>0</td>\n",
       "      <td>0</td>\n",
       "    </tr>\n",
       "    <tr>\n",
       "      <th>...</th>\n",
       "      <td>...</td>\n",
       "      <td>...</td>\n",
       "      <td>...</td>\n",
       "      <td>...</td>\n",
       "      <td>...</td>\n",
       "      <td>...</td>\n",
       "      <td>...</td>\n",
       "      <td>...</td>\n",
       "      <td>...</td>\n",
       "      <td>...</td>\n",
       "      <td>...</td>\n",
       "      <td>...</td>\n",
       "      <td>...</td>\n",
       "      <td>...</td>\n",
       "      <td>...</td>\n",
       "      <td>...</td>\n",
       "      <td>...</td>\n",
       "      <td>...</td>\n",
       "      <td>...</td>\n",
       "      <td>...</td>\n",
       "      <td>...</td>\n",
       "    </tr>\n",
       "    <tr>\n",
       "      <th>251</th>\n",
       "      <td>0</td>\n",
       "      <td>60</td>\n",
       "      <td>0</td>\n",
       "      <td>1</td>\n",
       "      <td>0</td>\n",
       "      <td>14.413478</td>\n",
       "      <td>121.043612</td>\n",
       "      <td>0.0</td>\n",
       "      <td>0.0</td>\n",
       "      <td>0.0</td>\n",
       "      <td>...</td>\n",
       "      <td>0.0</td>\n",
       "      <td>0.0</td>\n",
       "      <td>0.0</td>\n",
       "      <td>0.0</td>\n",
       "      <td>0.0</td>\n",
       "      <td>0.0</td>\n",
       "      <td>0.0</td>\n",
       "      <td>0.0</td>\n",
       "      <td>0</td>\n",
       "      <td>0</td>\n",
       "    </tr>\n",
       "    <tr>\n",
       "      <th>192</th>\n",
       "      <td>0</td>\n",
       "      <td>57</td>\n",
       "      <td>1</td>\n",
       "      <td>1</td>\n",
       "      <td>0</td>\n",
       "      <td>14.622320</td>\n",
       "      <td>121.023899</td>\n",
       "      <td>0.0</td>\n",
       "      <td>0.0</td>\n",
       "      <td>0.0</td>\n",
       "      <td>...</td>\n",
       "      <td>0.0</td>\n",
       "      <td>0.0</td>\n",
       "      <td>0.0</td>\n",
       "      <td>0.0</td>\n",
       "      <td>0.0</td>\n",
       "      <td>0.0</td>\n",
       "      <td>0.0</td>\n",
       "      <td>0.0</td>\n",
       "      <td>0</td>\n",
       "      <td>0</td>\n",
       "    </tr>\n",
       "    <tr>\n",
       "      <th>117</th>\n",
       "      <td>0</td>\n",
       "      <td>60</td>\n",
       "      <td>1</td>\n",
       "      <td>1</td>\n",
       "      <td>0</td>\n",
       "      <td>14.615867</td>\n",
       "      <td>120.980991</td>\n",
       "      <td>0.0</td>\n",
       "      <td>0.0</td>\n",
       "      <td>0.0</td>\n",
       "      <td>...</td>\n",
       "      <td>0.0</td>\n",
       "      <td>0.0</td>\n",
       "      <td>0.0</td>\n",
       "      <td>0.0</td>\n",
       "      <td>0.0</td>\n",
       "      <td>0.0</td>\n",
       "      <td>0.0</td>\n",
       "      <td>0.0</td>\n",
       "      <td>NaN</td>\n",
       "      <td>0</td>\n",
       "    </tr>\n",
       "    <tr>\n",
       "      <th>47</th>\n",
       "      <td>0</td>\n",
       "      <td>57</td>\n",
       "      <td>1</td>\n",
       "      <td>1</td>\n",
       "      <td>1</td>\n",
       "      <td>14.647837</td>\n",
       "      <td>121.045611</td>\n",
       "      <td>0.0</td>\n",
       "      <td>0.0</td>\n",
       "      <td>0.0</td>\n",
       "      <td>...</td>\n",
       "      <td>0.0</td>\n",
       "      <td>0.0</td>\n",
       "      <td>0.0</td>\n",
       "      <td>0.0</td>\n",
       "      <td>0.0</td>\n",
       "      <td>0.0</td>\n",
       "      <td>0.0</td>\n",
       "      <td>0.0</td>\n",
       "      <td>NaN</td>\n",
       "      <td>0</td>\n",
       "    </tr>\n",
       "    <tr>\n",
       "      <th>172</th>\n",
       "      <td>0</td>\n",
       "      <td>69</td>\n",
       "      <td>1</td>\n",
       "      <td>1</td>\n",
       "      <td>0</td>\n",
       "      <td>14.615867</td>\n",
       "      <td>120.980991</td>\n",
       "      <td>0.0</td>\n",
       "      <td>0.0</td>\n",
       "      <td>0.0</td>\n",
       "      <td>...</td>\n",
       "      <td>0.0</td>\n",
       "      <td>0.0</td>\n",
       "      <td>0.0</td>\n",
       "      <td>0.0</td>\n",
       "      <td>0.0</td>\n",
       "      <td>0.0</td>\n",
       "      <td>0.0</td>\n",
       "      <td>0.0</td>\n",
       "      <td>NaN</td>\n",
       "      <td>0</td>\n",
       "    </tr>\n",
       "  </tbody>\n",
       "</table>\n",
       "<p>210 rows × 90 columns</p>\n",
       "</div>"
      ],
      "text/plain": [
       "     Sex  Age  Nationality  History of Travel / Exposure  Epi_Link   Latitude  \\\n",
       "191    0   46            1                             1         0  14.622320   \n",
       "44     0   27            1                             1         1  14.559380   \n",
       "64     0   70            1                             1         1  14.656208   \n",
       "71     0   41            1                             1         0  14.248590   \n",
       "188    1   67            1                             1         0  14.615867   \n",
       "..   ...  ...          ...                           ...       ...        ...   \n",
       "251    0   60            0                             1         0  14.413478   \n",
       "192    0   57            1                             1         0  14.622320   \n",
       "117    0   60            1                             1         0  14.615867   \n",
       "47     0   57            1                             1         1  14.647837   \n",
       "172    0   69            1                             1         0  14.615867   \n",
       "\n",
       "      Longitude  symp_ body malaise  symp_ colds  symp_ comorbidity  ...  \\\n",
       "191  121.023899                 0.0          0.0                0.0  ...   \n",
       "44   121.014535                 0.0          0.0                0.0  ...   \n",
       "64   121.040087                 0.0          0.0                0.0  ...   \n",
       "71   121.067280                 0.0          0.0                0.0  ...   \n",
       "188  120.980991                 0.0          0.0                0.0  ...   \n",
       "..          ...                 ...          ...                ...  ...   \n",
       "251  121.043612                 0.0          0.0                0.0  ...   \n",
       "192  121.023899                 0.0          0.0                0.0  ...   \n",
       "117  120.980991                 0.0          0.0                0.0  ...   \n",
       "47   121.045611                 0.0          0.0                0.0  ...   \n",
       "172  120.980991                 0.0          0.0                0.0  ...   \n",
       "\n",
       "     dis_myocarditis  dis_none  dis_permanent atrial fibrillation  \\\n",
       "191              0.0       0.0                                0.0   \n",
       "44               0.0       0.0                                0.0   \n",
       "64               0.0       0.0                                0.0   \n",
       "71               0.0       0.0                                0.0   \n",
       "188              0.0       0.0                                0.0   \n",
       "..               ...       ...                                ...   \n",
       "251              0.0       0.0                                0.0   \n",
       "192              0.0       0.0                                0.0   \n",
       "117              0.0       0.0                                0.0   \n",
       "47               0.0       0.0                                0.0   \n",
       "172              0.0       0.0                                0.0   \n",
       "\n",
       "     dis_prostatic cancer  dis_remnal disease  \\\n",
       "191                   0.0                 0.0   \n",
       "44                    0.0                 0.0   \n",
       "64                    0.0                 0.0   \n",
       "71                    0.0                 0.0   \n",
       "188                   0.0                 0.0   \n",
       "..                    ...                 ...   \n",
       "251                   0.0                 0.0   \n",
       "192                   0.0                 0.0   \n",
       "117                   0.0                 0.0   \n",
       "47                    0.0                 0.0   \n",
       "172                   0.0                 0.0   \n",
       "\n",
       "     dis_status post renal transplant  dis_systemic lupus erythematosus  \\\n",
       "191                               0.0                               0.0   \n",
       "44                                0.0                               0.0   \n",
       "64                                0.0                               0.0   \n",
       "71                                0.0                               0.0   \n",
       "188                               0.0                               0.0   \n",
       "..                                ...                               ...   \n",
       "251                               0.0                               0.0   \n",
       "192                               0.0                               0.0   \n",
       "117                               0.0                               0.0   \n",
       "47                                0.0                               0.0   \n",
       "172                               0.0                               0.0   \n",
       "\n",
       "     dis_with comorbid (not specified)  disease_len_days  Cluster  \n",
       "191                                0.0                 0        1  \n",
       "44                                 0.0               NaN        1  \n",
       "64                                 0.0               NaN        0  \n",
       "71                                 0.0               NaN        1  \n",
       "188                                0.0                 0        0  \n",
       "..                                 ...               ...      ...  \n",
       "251                                0.0                 0        0  \n",
       "192                                0.0                 0        0  \n",
       "117                                0.0               NaN        0  \n",
       "47                                 0.0               NaN        0  \n",
       "172                                0.0               NaN        0  \n",
       "\n",
       "[210 rows x 90 columns]"
      ]
     },
     "execution_count": 26,
     "metadata": {},
     "output_type": "execute_result"
    }
   ],
   "source": [
    "X_train"
   ]
  },
  {
   "cell_type": "code",
   "execution_count": 27,
   "metadata": {
    "colab": {},
    "colab_type": "code",
    "id": "D0lfcXplRNF9"
   },
   "outputs": [],
   "source": [
    "# standardize the data\n",
    "from sklearn import preprocessing \n",
    "from sklearn.impute import SimpleImputer\n",
    "\n",
    "imp = SimpleImputer(strategy=\"mean\")\n",
    "\n",
    "standardize = preprocessing.StandardScaler()\n",
    "X_train = standardize.fit_transform(imp.fit_transform(X_train))\n",
    "X_test = standardize.fit_transform(imp.fit_transform(X_test))"
   ]
  },
  {
   "cell_type": "markdown",
   "metadata": {
    "colab_type": "text",
    "id": "tmVjUUyTMgOD"
   },
   "source": [
    "Modeling:"
   ]
  },
  {
   "cell_type": "code",
   "execution_count": 28,
   "metadata": {
    "colab": {},
    "colab_type": "code",
    "id": "VvBbBl1mMO8g"
   },
   "outputs": [],
   "source": [
    "# NAIVE BAYES:\n",
    "from sklearn.naive_bayes import GaussianNB\n",
    "\n",
    "gnb = GaussianNB()\n",
    "gnb.fit(X_train, y_train)\n",
    "y_pred = gnb.predict(X_test)"
   ]
  },
  {
   "cell_type": "code",
   "execution_count": 34,
   "metadata": {
    "colab": {
     "base_uri": "https://localhost:8080/",
     "height": 34
    },
    "colab_type": "code",
    "executionInfo": {
     "elapsed": 410,
     "status": "ok",
     "timestamp": 1586119032688,
     "user": {
      "displayName": "Elizabeth Anne Combs",
      "photoUrl": "",
      "userId": "09373896408908020212"
     },
     "user_tz": 240
    },
    "id": "B8FPoGK-Sz0h",
    "outputId": "5abf498d-8fa6-48e9-8601-25964a680421"
   },
   "outputs": [
    {
     "name": "stdout",
     "output_type": "stream",
     "text": [
      "Accuracy: 0.5094339622641509\n"
     ]
    },
    {
     "data": {
      "text/plain": [
       "array([[ 3, 26],\n",
       "       [ 0, 24]])"
      ]
     },
     "execution_count": 34,
     "metadata": {},
     "output_type": "execute_result"
    }
   ],
   "source": [
    "#Import scikit-learn metrics module for accuracy calculation\n",
    "from sklearn import metrics\n",
    "\n",
    "# Model Accuracy, how often is the classifier correct?\n",
    "print(\"Accuracy:\", metrics.accuracy_score(y_test, y_pred))\n",
    "\n",
    "cm = confusion_matrix(y_test, y_pred)\n",
    "cm # overpredicts 1 class"
   ]
  },
  {
   "cell_type": "code",
   "execution_count": 30,
   "metadata": {
    "colab": {},
    "colab_type": "code",
    "id": "owU1mGe28HCx"
   },
   "outputs": [],
   "source": [
    "# DECISION TREE:\n",
    "\n",
    "from sklearn.tree import DecisionTreeClassifier \n",
    "from sklearn.metrics import confusion_matrix \n",
    "dtree_model = DecisionTreeClassifier(max_depth = 2).fit(X_train, y_train) \n",
    "dtree_predictions = dtree_model.predict(X_test) \n",
    "  \n",
    "# creating a confusion matrix \n",
    "cm = confusion_matrix(y_test, dtree_predictions)"
   ]
  },
  {
   "cell_type": "code",
   "execution_count": 31,
   "metadata": {
    "colab": {
     "base_uri": "https://localhost:8080/",
     "height": 70
    },
    "colab_type": "code",
    "executionInfo": {
     "elapsed": 368,
     "status": "ok",
     "timestamp": 1586119039449,
     "user": {
      "displayName": "Elizabeth Anne Combs",
      "photoUrl": "",
      "userId": "09373896408908020212"
     },
     "user_tz": 240
    },
    "id": "uZOqJiVd9_FF",
    "outputId": "cd6f8fb8-36fa-4131-bd59-3175fb65a42f"
   },
   "outputs": [
    {
     "data": {
      "text/plain": [
       "array([[29,  0],\n",
       "       [ 6, 18]])"
      ]
     },
     "execution_count": 31,
     "metadata": {},
     "output_type": "execute_result"
    }
   ],
   "source": [
    "cm"
   ]
  },
  {
   "cell_type": "code",
   "execution_count": 32,
   "metadata": {
    "colab": {
     "base_uri": "https://localhost:8080/",
     "height": 52
    },
    "colab_type": "code",
    "executionInfo": {
     "elapsed": 664,
     "status": "ok",
     "timestamp": 1586119041097,
     "user": {
      "displayName": "Elizabeth Anne Combs",
      "photoUrl": "",
      "userId": "09373896408908020212"
     },
     "user_tz": 240
    },
    "id": "y80loJQO-EIY",
    "outputId": "1f148d81-8397-41ef-8a88-3d2082a18d04"
   },
   "outputs": [
    {
     "name": "stdout",
     "output_type": "stream",
     "text": [
      "Accuracy: 0.8867924528301887\n"
     ]
    },
    {
     "data": {
      "text/plain": [
       "0.8867924528301887"
      ]
     },
     "execution_count": 32,
     "metadata": {},
     "output_type": "execute_result"
    }
   ],
   "source": [
    "print(\"Accuracy:\", metrics.accuracy_score(y_test, dtree_predictions))\n",
    "dtree_model.score(X_test,  y_test)"
   ]
  },
  {
   "cell_type": "code",
   "execution_count": 372,
   "metadata": {
    "colab": {
     "base_uri": "https://localhost:8080/",
     "height": 158
    },
    "colab_type": "code",
    "executionInfo": {
     "elapsed": 497,
     "status": "ok",
     "timestamp": 1586119044038,
     "user": {
      "displayName": "Elizabeth Anne Combs",
      "photoUrl": "",
      "userId": "09373896408908020212"
     },
     "user_tz": 240
    },
    "id": "PEChU89W-XTO",
    "outputId": "162f2498-23e7-4636-b039-a50dd01644cf"
   },
   "outputs": [
    {
     "data": {
      "text/plain": [
       "array([0, 1, 1, 1, 0, 0, 0, 1, 0, 0, 1, 0, 1, 0, 1, 0, 0, 0, 0, 0, 1, 0,\n",
       "       1, 0, 1, 1, 0, 0, 0, 0, 1, 0, 1, 0, 0, 1, 1, 1, 0, 1, 0, 0, 0, 0,\n",
       "       1, 0, 0, 0, 0, 0, 0, 0, 0])"
      ]
     },
     "execution_count": 372,
     "metadata": {},
     "output_type": "execute_result"
    }
   ],
   "source": [
    "dtree_predictions"
   ]
  },
  {
   "cell_type": "code",
   "execution_count": 371,
   "metadata": {
    "colab": {
     "base_uri": "https://localhost:8080/",
     "height": 158
    },
    "colab_type": "code",
    "executionInfo": {
     "elapsed": 1591,
     "status": "ok",
     "timestamp": 1586119047278,
     "user": {
      "displayName": "Elizabeth Anne Combs",
      "photoUrl": "",
      "userId": "09373896408908020212"
     },
     "user_tz": 240
    },
    "id": "YHTSfKdy-gc2",
    "outputId": "5d97c028-cdf4-4b49-b088-95e2b665cd05"
   },
   "outputs": [
    {
     "data": {
      "text/plain": [
       "array([0, 1, 1, 1, 0, 0, 0, 1, 0, 0, 1, 0, 1, 0, 1, 0, 0, 0, 0, 0, 1, 0,\n",
       "       1, 0, 1, 1, 0, 0, 1, 1, 1, 0, 1, 0, 0, 1, 1, 1, 1, 1, 0, 0, 1, 0,\n",
       "       1, 0, 0, 0, 0, 1, 0, 1, 0])"
      ]
     },
     "execution_count": 371,
     "metadata": {},
     "output_type": "execute_result"
    }
   ],
   "source": [
    "np.array(y_test)"
   ]
  },
  {
   "cell_type": "code",
   "execution_count": 373,
   "metadata": {
    "colab": {
     "base_uri": "https://localhost:8080/",
     "height": 70
    },
    "colab_type": "code",
    "executionInfo": {
     "elapsed": 391,
     "status": "ok",
     "timestamp": 1586119049900,
     "user": {
      "displayName": "Elizabeth Anne Combs",
      "photoUrl": "",
      "userId": "09373896408908020212"
     },
     "user_tz": 240
    },
    "id": "1aaR_Rpd-mWf",
    "outputId": "a3546817-5745-499c-c21c-b8524005e012"
   },
   "outputs": [
    {
     "data": {
      "text/plain": [
       "array([[28,  1],\n",
       "       [ 7, 17]])"
      ]
     },
     "execution_count": 373,
     "metadata": {},
     "output_type": "execute_result"
    }
   ],
   "source": [
    "# SVM: \n",
    "\n",
    "# training a linear SVM classifier \n",
    "from sklearn.svm import SVC \n",
    "svm_model_linear = SVC(kernel = 'linear', C = 1).fit(X_train, y_train) \n",
    "svm_predictions = svm_model_linear.predict(X_test) \n",
    "  \n",
    "# model accuracy for X_test   \n",
    "accuracy = svm_model_linear.score(X_test, y_test) \n",
    "  \n",
    "# creating a confusion matrix \n",
    "cm = confusion_matrix(y_test, svm_predictions) \n",
    "cm"
   ]
  },
  {
   "cell_type": "code",
   "execution_count": 374,
   "metadata": {
    "colab": {
     "base_uri": "https://localhost:8080/",
     "height": 34
    },
    "colab_type": "code",
    "executionInfo": {
     "elapsed": 368,
     "status": "ok",
     "timestamp": 1586119051773,
     "user": {
      "displayName": "Elizabeth Anne Combs",
      "photoUrl": "",
      "userId": "09373896408908020212"
     },
     "user_tz": 240
    },
    "id": "OnU-3kyy--eC",
    "outputId": "e77f5c69-e63e-44ae-9608-14cd23342411"
   },
   "outputs": [
    {
     "name": "stdout",
     "output_type": "stream",
     "text": [
      "0.8490566037735849\n"
     ]
    }
   ],
   "source": [
    "print(accuracy)"
   ]
  },
  {
   "cell_type": "code",
   "execution_count": 35,
   "metadata": {},
   "outputs": [
    {
     "name": "stdout",
     "output_type": "stream",
     "text": [
      "Accuracy of logistic regression classifier on test set: 0.85\n"
     ]
    }
   ],
   "source": [
    "# Logistic Regression\n",
    "# https://towardsdatascience.com/building-a-logistic-regression-in-python-step-by-step-becd4d56c9c8\n",
    "\n",
    "from sklearn.linear_model import LogisticRegression\n",
    "from sklearn import metrics\n",
    "\n",
    "#X_train, X_test, y_train, y_test = train_test_split(X, y, test_size=0.3, random_state=0)\n",
    "logreg = LogisticRegression()\n",
    "logreg.fit(X_train, y_train)\n",
    "\n",
    "y_pred = logreg.predict(X_test)\n",
    "print('Accuracy of logistic regression classifier on test set: {:.2f}'.format(logreg.score(X_test, y_test)))"
   ]
  },
  {
   "cell_type": "code",
   "execution_count": 36,
   "metadata": {},
   "outputs": [
    {
     "data": {
      "text/plain": [
       "<matplotlib.legend.Legend at 0x1a179010b8>"
      ]
     },
     "execution_count": 36,
     "metadata": {},
     "output_type": "execute_result"
    },
    {
     "data": {
      "image/png": "[encoded data removed]",
      "text/plain": [
       "<Figure size 432x288 with 1 Axes>"
      ]
     },
     "metadata": {
      "needs_background": "light"
     },
     "output_type": "display_data"
    }
   ],
   "source": [
    "from sklearn.metrics import roc_auc_score\n",
    "from sklearn.metrics import roc_curve\n",
    "\n",
    "logit_roc_auc = roc_auc_score(y_test, logreg.predict(X_test))\n",
    "fpr, tpr, thresholds = roc_curve(y_test, logreg.predict_proba(X_test)[:,1])\n",
    "\n",
    "plt.figure()\n",
    "plt.plot(fpr, tpr, label='Logistic Regression (area = %0.2f)' % logit_roc_auc)\n",
    "plt.plot([0, 1], [0, 1],'r--')\n",
    "plt.xlim([0.0, 1.0])\n",
    "plt.ylim([0.0, 1.05])\n",
    "plt.xlabel('False Positive Rate')\n",
    "plt.ylabel('True Positive Rate')\n",
    "plt.title('Receiver operating characteristic')\n",
    "plt.legend(loc=\"lower right\")"
   ]
  },
  {
   "cell_type": "code",
   "execution_count": 375,
   "metadata": {
    "colab": {
     "base_uri": "https://localhost:8080/",
     "height": 34
    },
    "colab_type": "code",
    "executionInfo": {
     "elapsed": 368,
     "status": "ok",
     "timestamp": 1586119053724,
     "user": {
      "displayName": "Elizabeth Anne Combs",
      "photoUrl": "",
      "userId": "09373896408908020212"
     },
     "user_tz": 240
    },
    "id": "A4FgRl7Q_DUl",
    "outputId": "6efb398a-3f57-4fcc-bde3-1aca007c0b9d"
   },
   "outputs": [
    {
     "name": "stdout",
     "output_type": "stream",
     "text": [
      "0.8113207547169812\n"
     ]
    }
   ],
   "source": [
    "# KNN\n",
    "\n",
    "from sklearn.neighbors import KNeighborsClassifier \n",
    "knn = KNeighborsClassifier(n_neighbors = 10).fit(X_train, y_train) # optimize k\n",
    "  \n",
    "# accuracy on X_test \n",
    "accuracy = knn.score(X_test, y_test) \n",
    "print(accuracy)\n",
    "  \n",
    "# creating a confusion matrix \n",
    "knn_predictions = knn.predict(X_test)  \n",
    "cm = confusion_matrix(y_test, knn_predictions)"
   ]
  },
  {
   "cell_type": "code",
   "execution_count": 45,
   "metadata": {
    "colab": {
     "base_uri": "https://localhost:8080/",
     "height": 392
    },
    "colab_type": "code",
    "executionInfo": {
     "elapsed": 3203,
     "status": "ok",
     "timestamp": 1586119060937,
     "user": {
      "displayName": "Elizabeth Anne Combs",
      "photoUrl": "",
      "userId": "09373896408908020212"
     },
     "user_tz": 240
    },
    "id": "0r72nDUZ_wMV",
    "outputId": "5fb043d2-b643-42dd-bfc4-4c200bbc9858"
   },
   "outputs": [],
   "source": [
    "# https://stackabuse.com/creating-a-neural-network-from-scratch-in-python-multi-class-classification/\n",
    "# https://shrikar.com/deep-learning-with-keras-and-python-for-multiclass-classification/\n",
    "# https://machinelearningmastery.com/tutorial-first-neural-network-python-keras/\n",
    "# https://towardsdatascience.com/building-our-first-neural-network-in-keras-bdc8abbc17f5\n",
    "\n",
    "# new binary: https://machinelearningmastery.com/binary-classification-tutorial-with-the-keras-deep-learning-library/\n",
    "\n",
    "# downgrade TensorFlow 1.14\n",
    "#!pip install tensorflow==1.14"
   ]
  },
  {
   "cell_type": "code",
   "execution_count": 408,
   "metadata": {},
   "outputs": [
    {
     "data": {
      "text/plain": [
       "(210, 90)"
      ]
     },
     "execution_count": 408,
     "metadata": {},
     "output_type": "execute_result"
    }
   ],
   "source": [
    "X_train.shape"
   ]
  },
  {
   "cell_type": "code",
   "execution_count": 49,
   "metadata": {},
   "outputs": [
    {
     "name": "stdout",
     "output_type": "stream",
     "text": [
      "Epoch 1/150\n",
      "210/210 [==============================] - 0s 1ms/step - loss: 0.6894 - accuracy: 0.5143\n",
      "Epoch 2/150\n",
      "210/210 [==============================] - 0s 327us/step - loss: 0.6266 - accuracy: 0.6714\n",
      "Epoch 3/150\n",
      "210/210 [==============================] - 0s 262us/step - loss: 0.5865 - accuracy: 0.7429\n",
      "Epoch 4/150\n",
      "210/210 [==============================] - 0s 251us/step - loss: 0.5529 - accuracy: 0.8143\n",
      "Epoch 5/150\n",
      "210/210 [==============================] - 0s 234us/step - loss: 0.5206 - accuracy: 0.8286\n",
      "Epoch 6/150\n",
      "210/210 [==============================] - 0s 220us/step - loss: 0.4883 - accuracy: 0.8286\n",
      "Epoch 7/150\n",
      "210/210 [==============================] - 0s 228us/step - loss: 0.4560 - accuracy: 0.8333\n",
      "Epoch 8/150\n",
      "210/210 [==============================] - 0s 224us/step - loss: 0.4228 - accuracy: 0.8571\n",
      "Epoch 9/150\n",
      "210/210 [==============================] - 0s 235us/step - loss: 0.3898 - accuracy: 0.8762\n",
      "Epoch 10/150\n",
      "210/210 [==============================] - 0s 249us/step - loss: 0.3567 - accuracy: 0.8905\n",
      "Epoch 11/150\n",
      "210/210 [==============================] - 0s 204us/step - loss: 0.3269 - accuracy: 0.9000\n",
      "Epoch 12/150\n",
      "210/210 [==============================] - 0s 326us/step - loss: 0.3011 - accuracy: 0.9095\n",
      "Epoch 13/150\n",
      "210/210 [==============================] - 0s 288us/step - loss: 0.2783 - accuracy: 0.9143\n",
      "Epoch 14/150\n",
      "210/210 [==============================] - 0s 250us/step - loss: 0.2589 - accuracy: 0.9286\n",
      "Epoch 15/150\n",
      "210/210 [==============================] - 0s 241us/step - loss: 0.2433 - accuracy: 0.9286\n",
      "Epoch 16/150\n",
      "210/210 [==============================] - 0s 302us/step - loss: 0.2295 - accuracy: 0.9333\n",
      "Epoch 17/150\n",
      "210/210 [==============================] - 0s 251us/step - loss: 0.2190 - accuracy: 0.9333\n",
      "Epoch 18/150\n",
      "210/210 [==============================] - 0s 323us/step - loss: 0.2098 - accuracy: 0.9333\n",
      "Epoch 19/150\n",
      "210/210 [==============================] - 0s 358us/step - loss: 0.2009 - accuracy: 0.9286\n",
      "Epoch 20/150\n",
      "210/210 [==============================] - 0s 210us/step - loss: 0.1924 - accuracy: 0.9381\n",
      "Epoch 21/150\n",
      "210/210 [==============================] - 0s 306us/step - loss: 0.1864 - accuracy: 0.9381\n",
      "Epoch 22/150\n",
      "210/210 [==============================] - 0s 347us/step - loss: 0.1794 - accuracy: 0.9381\n",
      "Epoch 23/150\n",
      "210/210 [==============================] - 0s 223us/step - loss: 0.1741 - accuracy: 0.9333\n",
      "Epoch 24/150\n",
      "210/210 [==============================] - 0s 218us/step - loss: 0.1683 - accuracy: 0.9429\n",
      "Epoch 25/150\n",
      "210/210 [==============================] - 0s 238us/step - loss: 0.1641 - accuracy: 0.9476\n",
      "Epoch 26/150\n",
      "210/210 [==============================] - 0s 282us/step - loss: 0.1602 - accuracy: 0.9476\n",
      "Epoch 27/150\n",
      "210/210 [==============================] - 0s 305us/step - loss: 0.1551 - accuracy: 0.9476\n",
      "Epoch 28/150\n",
      "210/210 [==============================] - 0s 266us/step - loss: 0.1513 - accuracy: 0.9476\n",
      "Epoch 29/150\n",
      "210/210 [==============================] - 0s 300us/step - loss: 0.1473 - accuracy: 0.9476\n",
      "Epoch 30/150\n",
      "210/210 [==============================] - 0s 248us/step - loss: 0.1446 - accuracy: 0.9476\n",
      "Epoch 31/150\n",
      "210/210 [==============================] - 0s 236us/step - loss: 0.1411 - accuracy: 0.9476\n",
      "Epoch 32/150\n",
      "210/210 [==============================] - 0s 290us/step - loss: 0.1381 - accuracy: 0.9476\n",
      "Epoch 33/150\n",
      "210/210 [==============================] - 0s 393us/step - loss: 0.1353 - accuracy: 0.9524\n",
      "Epoch 34/150\n",
      "210/210 [==============================] - 0s 315us/step - loss: 0.1331 - accuracy: 0.9524\n",
      "Epoch 35/150\n",
      "210/210 [==============================] - 0s 237us/step - loss: 0.1306 - accuracy: 0.9571\n",
      "Epoch 36/150\n",
      "210/210 [==============================] - 0s 293us/step - loss: 0.1278 - accuracy: 0.9571\n",
      "Epoch 37/150\n",
      "210/210 [==============================] - 0s 236us/step - loss: 0.1257 - accuracy: 0.9571\n",
      "Epoch 38/150\n",
      "210/210 [==============================] - 0s 284us/step - loss: 0.1238 - accuracy: 0.9571\n",
      "Epoch 39/150\n",
      "210/210 [==============================] - 0s 324us/step - loss: 0.1215 - accuracy: 0.9571\n",
      "Epoch 40/150\n",
      "210/210 [==============================] - 0s 313us/step - loss: 0.1211 - accuracy: 0.9571\n",
      "Epoch 41/150\n",
      "210/210 [==============================] - 0s 257us/step - loss: 0.1190 - accuracy: 0.9571\n",
      "Epoch 42/150\n",
      "210/210 [==============================] - 0s 248us/step - loss: 0.1165 - accuracy: 0.9524\n",
      "Epoch 43/150\n",
      "210/210 [==============================] - 0s 239us/step - loss: 0.1148 - accuracy: 0.9524\n",
      "Epoch 44/150\n",
      "210/210 [==============================] - 0s 238us/step - loss: 0.1126 - accuracy: 0.9571\n",
      "Epoch 45/150\n",
      "210/210 [==============================] - 0s 293us/step - loss: 0.1108 - accuracy: 0.9524\n",
      "Epoch 46/150\n",
      "210/210 [==============================] - 0s 206us/step - loss: 0.1090 - accuracy: 0.9571\n",
      "Epoch 47/150\n",
      "210/210 [==============================] - 0s 336us/step - loss: 0.1113 - accuracy: 0.9571\n",
      "Epoch 48/150\n",
      "210/210 [==============================] - 0s 276us/step - loss: 0.1067 - accuracy: 0.9619\n",
      "Epoch 49/150\n",
      "210/210 [==============================] - 0s 304us/step - loss: 0.1055 - accuracy: 0.9571\n",
      "Epoch 50/150\n",
      "210/210 [==============================] - 0s 240us/step - loss: 0.1042 - accuracy: 0.9571\n",
      "Epoch 51/150\n",
      "210/210 [==============================] - 0s 227us/step - loss: 0.1030 - accuracy: 0.9619\n",
      "Epoch 52/150\n",
      "210/210 [==============================] - 0s 286us/step - loss: 0.1013 - accuracy: 0.9619\n",
      "Epoch 53/150\n",
      "210/210 [==============================] - 0s 244us/step - loss: 0.1007 - accuracy: 0.9667\n",
      "Epoch 54/150\n",
      "210/210 [==============================] - 0s 293us/step - loss: 0.1006 - accuracy: 0.9571\n",
      "Epoch 55/150\n",
      "210/210 [==============================] - 0s 388us/step - loss: 0.1011 - accuracy: 0.9619\n",
      "Epoch 56/150\n",
      "210/210 [==============================] - 0s 286us/step - loss: 0.0985 - accuracy: 0.9667\n",
      "Epoch 57/150\n",
      "210/210 [==============================] - 0s 410us/step - loss: 0.0981 - accuracy: 0.9619\n",
      "Epoch 58/150\n",
      "210/210 [==============================] - 0s 382us/step - loss: 0.0964 - accuracy: 0.9667\n",
      "Epoch 59/150\n",
      "210/210 [==============================] - 0s 203us/step - loss: 0.0964 - accuracy: 0.9714\n",
      "Epoch 60/150\n",
      "210/210 [==============================] - 0s 202us/step - loss: 0.0960 - accuracy: 0.9714\n",
      "Epoch 61/150\n",
      "210/210 [==============================] - 0s 235us/step - loss: 0.0973 - accuracy: 0.9667\n",
      "Epoch 62/150\n",
      "210/210 [==============================] - 0s 197us/step - loss: 0.0947 - accuracy: 0.9619\n",
      "Epoch 63/150\n",
      "210/210 [==============================] - 0s 235us/step - loss: 0.0935 - accuracy: 0.9714\n",
      "Epoch 64/150\n",
      "210/210 [==============================] - 0s 174us/step - loss: 0.0933 - accuracy: 0.9714\n",
      "Epoch 65/150\n",
      "210/210 [==============================] - 0s 192us/step - loss: 0.0933 - accuracy: 0.9667\n",
      "Epoch 66/150\n",
      "210/210 [==============================] - 0s 174us/step - loss: 0.0929 - accuracy: 0.9714\n",
      "Epoch 67/150\n",
      "210/210 [==============================] - 0s 189us/step - loss: 0.0920 - accuracy: 0.9714\n",
      "Epoch 68/150\n",
      "210/210 [==============================] - 0s 190us/step - loss: 0.0941 - accuracy: 0.9667\n",
      "Epoch 69/150\n",
      "210/210 [==============================] - 0s 244us/step - loss: 0.0933 - accuracy: 0.9714\n",
      "Epoch 70/150\n",
      "210/210 [==============================] - 0s 243us/step - loss: 0.0901 - accuracy: 0.9714\n",
      "Epoch 71/150\n",
      "210/210 [==============================] - 0s 173us/step - loss: 0.0906 - accuracy: 0.9714\n",
      "Epoch 72/150\n",
      "210/210 [==============================] - 0s 269us/step - loss: 0.0896 - accuracy: 0.9714\n",
      "Epoch 73/150\n",
      "210/210 [==============================] - 0s 376us/step - loss: 0.0893 - accuracy: 0.9714\n",
      "Epoch 74/150\n",
      "210/210 [==============================] - 0s 300us/step - loss: 0.0885 - accuracy: 0.9714\n",
      "Epoch 75/150\n",
      "210/210 [==============================] - 0s 279us/step - loss: 0.0892 - accuracy: 0.9714\n",
      "Epoch 76/150\n",
      "210/210 [==============================] - 0s 220us/step - loss: 0.0883 - accuracy: 0.9714\n",
      "Epoch 77/150\n",
      "210/210 [==============================] - 0s 294us/step - loss: 0.0895 - accuracy: 0.9714\n",
      "Epoch 78/150\n",
      "210/210 [==============================] - 0s 334us/step - loss: 0.0869 - accuracy: 0.9714\n",
      "Epoch 79/150\n",
      "210/210 [==============================] - 0s 254us/step - loss: 0.0885 - accuracy: 0.9667\n",
      "Epoch 80/150\n",
      "210/210 [==============================] - 0s 240us/step - loss: 0.0877 - accuracy: 0.9714\n",
      "Epoch 81/150\n",
      "210/210 [==============================] - 0s 229us/step - loss: 0.0876 - accuracy: 0.9714\n",
      "Epoch 82/150\n",
      "210/210 [==============================] - 0s 217us/step - loss: 0.0873 - accuracy: 0.9714\n",
      "Epoch 83/150\n",
      "210/210 [==============================] - 0s 251us/step - loss: 0.0864 - accuracy: 0.9714\n",
      "Epoch 84/150\n",
      "210/210 [==============================] - 0s 269us/step - loss: 0.0863 - accuracy: 0.9714\n",
      "Epoch 85/150\n",
      "210/210 [==============================] - 0s 239us/step - loss: 0.0857 - accuracy: 0.9762\n",
      "Epoch 86/150\n",
      "210/210 [==============================] - 0s 216us/step - loss: 0.0871 - accuracy: 0.9714\n",
      "Epoch 87/150\n",
      "210/210 [==============================] - 0s 229us/step - loss: 0.0862 - accuracy: 0.9714\n",
      "Epoch 88/150\n",
      "210/210 [==============================] - 0s 242us/step - loss: 0.0886 - accuracy: 0.9714\n",
      "Epoch 89/150\n",
      "210/210 [==============================] - 0s 209us/step - loss: 0.0849 - accuracy: 0.9762\n",
      "Epoch 90/150\n",
      "210/210 [==============================] - 0s 247us/step - loss: 0.0888 - accuracy: 0.9714\n",
      "Epoch 91/150\n",
      "210/210 [==============================] - 0s 254us/step - loss: 0.0837 - accuracy: 0.9762\n",
      "Epoch 92/150\n",
      "210/210 [==============================] - 0s 193us/step - loss: 0.0844 - accuracy: 0.9714\n",
      "Epoch 93/150\n",
      "210/210 [==============================] - 0s 312us/step - loss: 0.0850 - accuracy: 0.9762\n",
      "Epoch 94/150\n",
      "210/210 [==============================] - 0s 447us/step - loss: 0.0847 - accuracy: 0.9714\n",
      "Epoch 95/150\n",
      "210/210 [==============================] - 0s 217us/step - loss: 0.0825 - accuracy: 0.9762\n",
      "Epoch 96/150\n",
      "210/210 [==============================] - 0s 241us/step - loss: 0.0837 - accuracy: 0.9714\n",
      "Epoch 97/150\n",
      "210/210 [==============================] - 0s 237us/step - loss: 0.0829 - accuracy: 0.9714\n",
      "Epoch 98/150\n",
      "210/210 [==============================] - 0s 237us/step - loss: 0.0819 - accuracy: 0.9762\n",
      "Epoch 99/150\n",
      "210/210 [==============================] - 0s 204us/step - loss: 0.0833 - accuracy: 0.9762\n",
      "Epoch 100/150\n",
      "210/210 [==============================] - 0s 216us/step - loss: 0.0831 - accuracy: 0.9762\n",
      "Epoch 101/150\n",
      "210/210 [==============================] - 0s 210us/step - loss: 0.0828 - accuracy: 0.9714\n",
      "Epoch 102/150\n",
      "210/210 [==============================] - ETA: 0s - loss: 0.0769 - accuracy: 0.97 - 0s 281us/step - loss: 0.0811 - accuracy: 0.9762\n",
      "Epoch 103/150\n",
      "210/210 [==============================] - 0s 319us/step - loss: 0.0805 - accuracy: 0.9762\n",
      "Epoch 104/150\n",
      "210/210 [==============================] - 0s 204us/step - loss: 0.0814 - accuracy: 0.9762\n",
      "Epoch 105/150\n",
      "210/210 [==============================] - 0s 293us/step - loss: 0.0820 - accuracy: 0.9762\n",
      "Epoch 106/150\n",
      "210/210 [==============================] - 0s 275us/step - loss: 0.0828 - accuracy: 0.9714\n",
      "Epoch 107/150\n",
      "210/210 [==============================] - 0s 276us/step - loss: 0.0816 - accuracy: 0.9762\n",
      "Epoch 108/150\n",
      "210/210 [==============================] - 0s 250us/step - loss: 0.0810 - accuracy: 0.9762\n",
      "Epoch 109/150\n",
      "210/210 [==============================] - 0s 222us/step - loss: 0.0815 - accuracy: 0.9714\n",
      "Epoch 110/150\n",
      "210/210 [==============================] - 0s 221us/step - loss: 0.0803 - accuracy: 0.9714\n",
      "Epoch 111/150\n",
      "210/210 [==============================] - 0s 233us/step - loss: 0.0795 - accuracy: 0.9762\n",
      "Epoch 112/150\n",
      "210/210 [==============================] - 0s 257us/step - loss: 0.0792 - accuracy: 0.9762\n",
      "Epoch 113/150\n",
      "210/210 [==============================] - 0s 215us/step - loss: 0.0797 - accuracy: 0.9762\n",
      "Epoch 114/150\n",
      "210/210 [==============================] - 0s 355us/step - loss: 0.0795 - accuracy: 0.9762\n",
      "Epoch 115/150\n",
      "210/210 [==============================] - 0s 264us/step - loss: 0.0805 - accuracy: 0.9762\n",
      "Epoch 116/150\n",
      "210/210 [==============================] - 0s 242us/step - loss: 0.0790 - accuracy: 0.9762\n",
      "Epoch 117/150\n",
      "210/210 [==============================] - 0s 208us/step - loss: 0.0779 - accuracy: 0.9762\n",
      "Epoch 118/150\n",
      "210/210 [==============================] - 0s 218us/step - loss: 0.0808 - accuracy: 0.9762\n",
      "Epoch 119/150\n",
      "210/210 [==============================] - 0s 206us/step - loss: 0.0787 - accuracy: 0.9762\n",
      "Epoch 120/150\n",
      "210/210 [==============================] - 0s 328us/step - loss: 0.0787 - accuracy: 0.9762\n",
      "Epoch 121/150\n",
      "210/210 [==============================] - 0s 291us/step - loss: 0.0774 - accuracy: 0.9762\n",
      "Epoch 122/150\n",
      "210/210 [==============================] - 0s 241us/step - loss: 0.0783 - accuracy: 0.9762\n",
      "Epoch 123/150\n",
      "210/210 [==============================] - 0s 232us/step - loss: 0.0782 - accuracy: 0.9762\n",
      "Epoch 124/150\n",
      "210/210 [==============================] - 0s 186us/step - loss: 0.0771 - accuracy: 0.9762\n",
      "Epoch 125/150\n",
      "210/210 [==============================] - 0s 238us/step - loss: 0.0785 - accuracy: 0.9762\n",
      "Epoch 126/150\n",
      "210/210 [==============================] - 0s 232us/step - loss: 0.0787 - accuracy: 0.9762\n",
      "Epoch 127/150\n",
      "210/210 [==============================] - 0s 194us/step - loss: 0.0776 - accuracy: 0.9762\n",
      "Epoch 128/150\n",
      "210/210 [==============================] - 0s 222us/step - loss: 0.0785 - accuracy: 0.9762\n",
      "Epoch 129/150\n",
      "210/210 [==============================] - 0s 232us/step - loss: 0.0773 - accuracy: 0.9762\n",
      "Epoch 130/150\n",
      "210/210 [==============================] - 0s 222us/step - loss: 0.0763 - accuracy: 0.9762\n",
      "Epoch 131/150\n",
      "210/210 [==============================] - 0s 319us/step - loss: 0.0781 - accuracy: 0.9762\n",
      "Epoch 132/150\n",
      "210/210 [==============================] - 0s 242us/step - loss: 0.0765 - accuracy: 0.9762\n",
      "Epoch 133/150\n",
      "210/210 [==============================] - 0s 254us/step - loss: 0.0780 - accuracy: 0.9762\n",
      "Epoch 134/150\n",
      "210/210 [==============================] - 0s 239us/step - loss: 0.0772 - accuracy: 0.9762\n",
      "Epoch 135/150\n",
      "210/210 [==============================] - 0s 207us/step - loss: 0.0769 - accuracy: 0.9762\n",
      "Epoch 136/150\n",
      "210/210 [==============================] - 0s 245us/step - loss: 0.0762 - accuracy: 0.9762\n",
      "Epoch 137/150\n",
      "210/210 [==============================] - 0s 218us/step - loss: 0.0764 - accuracy: 0.9762\n",
      "Epoch 138/150\n",
      "210/210 [==============================] - 0s 213us/step - loss: 0.0788 - accuracy: 0.9762\n",
      "Epoch 139/150\n",
      "210/210 [==============================] - 0s 396us/step - loss: 0.0760 - accuracy: 0.9762\n",
      "Epoch 140/150\n",
      "210/210 [==============================] - 0s 329us/step - loss: 0.0751 - accuracy: 0.9762\n",
      "Epoch 141/150\n",
      "210/210 [==============================] - 0s 236us/step - loss: 0.0758 - accuracy: 0.9762\n",
      "Epoch 142/150\n",
      "210/210 [==============================] - 0s 231us/step - loss: 0.0758 - accuracy: 0.9762\n",
      "Epoch 143/150\n",
      "210/210 [==============================] - 0s 297us/step - loss: 0.0748 - accuracy: 0.9762\n",
      "Epoch 144/150\n",
      "210/210 [==============================] - 0s 225us/step - loss: 0.0755 - accuracy: 0.9762\n",
      "Epoch 145/150\n",
      "210/210 [==============================] - 0s 247us/step - loss: 0.0767 - accuracy: 0.9762\n",
      "Epoch 146/150\n",
      "210/210 [==============================] - 0s 259us/step - loss: 0.0742 - accuracy: 0.9762\n",
      "Epoch 147/150\n",
      "210/210 [==============================] - 0s 246us/step - loss: 0.0764 - accuracy: 0.9762\n",
      "Epoch 148/150\n",
      "210/210 [==============================] - 0s 253us/step - loss: 0.0748 - accuracy: 0.9762\n",
      "Epoch 149/150\n",
      "210/210 [==============================] - 0s 226us/step - loss: 0.0735 - accuracy: 0.9762\n",
      "Epoch 150/150\n",
      "210/210 [==============================] - 0s 234us/step - loss: 0.0744 - accuracy: 0.9762\n",
      "53/53 [==============================] - 0s 2ms/step\n",
      "Accuracy: 86.79\n"
     ]
    }
   ],
   "source": [
    "from keras.models import Sequential\n",
    "from keras.layers import Dense\n",
    "from keras.wrappers.scikit_learn import KerasClassifier\n",
    "from sklearn.model_selection import cross_val_score\n",
    "from sklearn.preprocessing import LabelEncoder\n",
    "from sklearn.model_selection import StratifiedKFold\n",
    "\n",
    "model = Sequential()\n",
    "model.add(Dense(12, input_dim=X_train.shape[1], activation='relu'))\n",
    "model.add(Dense(8, activation='relu'))\n",
    "model.add(Dense(1, activation='sigmoid'))\n",
    "\n",
    "# compile the keras model\n",
    "model.compile(loss='binary_crossentropy', optimizer='adam', metrics=['accuracy'])\n",
    "# fit the keras model on the dataset\n",
    "model.fit(X_train, y_train, epochs=150, batch_size=10)\n",
    "# evaluate the keras model\n",
    "_, accuracy = model.evaluate(X_test, y_test)\n",
    "print('Accuracy: %.2f' % (accuracy*100))"
   ]
  },
  {
   "cell_type": "code",
   "execution_count": null,
   "metadata": {},
   "outputs": [],
   "source": []
  }
 ],
 "metadata": {
  "colab": {
   "authorship_tag": "ABX9TyObWjEgP1xC6II2wrK48j9t",
   "collapsed_sections": [],
   "name": "Exploration_COVID19.ipynb",
   "provenance": []
  },
  "kernelspec": {
   "display_name": "Python 3",
   "language": "python",
   "name": "python3"
  },
  "language_info": {
   "codemirror_mode": {
    "name": "ipython",
    "version": 3
   },
   "file_extension": ".py",
   "mimetype": "text/x-python",
   "name": "python",
   "nbconvert_exporter": "python",
   "pygments_lexer": "ipython3",
   "version": "3.7.4"
  }
 },
 "nbformat": 4,
 "nbformat_minor": 1
}
