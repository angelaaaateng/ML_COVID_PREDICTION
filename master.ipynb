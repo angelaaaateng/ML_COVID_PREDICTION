{
 "cells": [
  {
   "cell_type": "markdown",
   "metadata": {
    "colab_type": "text",
    "id": "view-in-github"
   },
   "source": [
    "<a href=\"https://colab.research.google.com/github/angelaaaateng/ML_COVID_PREDICTION/blob/master/Exploration_COVID19.ipynb\" target=\"_parent\"><img src=\"https://colab.research.google.com/assets/colab-badge.svg\" alt=\"Open In Colab\"/></a>"
   ]
  },
  {
   "cell_type": "markdown",
   "metadata": {},
   "source": [
    "# Machine Learning Final Project: COVID Prediction in the Philippines \n",
    "\n",
    "\n",
    "#### Team members: \n",
    "\n",
    "#### Overview: \n",
    "\n",
    "##### [Preprocessing](#preprocessing_cell): \n",
    "- [openrefine clustering/data cleaning] (done outside this notebook, see scripts) \n",
    "- [Symptoms + Other Diseases Feature Engineering](#preprocessing_symp_cell)\n",
    "- [Symptops + Other Diseases one hot encoding](#preprocessing_sympoh_cell)\n",
    "- [Epi_Link Feature engineering](#preprocessing_epilink_cell)\n",
    "- [Dates feature engineering](#preprocessing_dates_cell)\n",
    "- [Geo-location feature engineering (absolute location)](#preprocessing_geo_cell)  \n",
    "- [Location feature engineering (zip)](#preprocessing_zip_cell) \n",
    "- [Location feature engineering (city)](#preprocessing_city_cell)\n",
    "- [Population Featue engineering](#preprocessing_pop_cell)\n",
    "- [Final data cleaning (numeric encoding, etc)](#preprocessing_final_cell)\n",
    "\n",
    "Naming Convention: \n",
    "- Amber: data = main dataframe"
   ]
  },
  {
   "cell_type": "markdown",
   "metadata": {},
   "source": [
    "##### [Analysis & Modeling](#analysis&modeling_cell)\n",
    "- [Clustering](#clustering_cell)\n",
    "- [Modeling](#modeling_cell)"
   ]
  },
  {
   "cell_type": "markdown",
   "metadata": {
    "colab_type": "text",
    "id": "hcscV-8sMP7g"
   },
   "source": [
    "## Import Libraries + Load Data"
   ]
  },
  {
   "cell_type": "code",
   "execution_count": 1,
   "metadata": {
    "colab": {
     "base_uri": "https://localhost:8080/",
     "height": 72
    },
    "colab_type": "code",
    "id": "vP_c5Y6LKm2G",
    "outputId": "a1c6509e-375d-4430-802c-b925d3a6757f"
   },
   "outputs": [],
   "source": [
    "import pandas as pd\n",
    "import seaborn as sns\n",
    "import numpy as np\n",
    "from sklearn.model_selection import train_test_split\n",
    "import re\n",
    "import warnings\n",
    "warnings.filterwarnings(\"ignore\")\n",
    "import matplotlib.pyplot as plt"
   ]
  },
  {
   "cell_type": "code",
   "execution_count": 2,
   "metadata": {},
   "outputs": [
    {
     "name": "stdout",
     "output_type": "stream",
     "text": [
      "/Users/laurendarinzo/Desktop/ML_COVID_PREDICTION\r\n"
     ]
    }
   ],
   "source": [
    "# amber additions\n",
    "!pwd"
   ]
  },
  {
   "cell_type": "markdown",
   "metadata": {},
   "source": [
    "<a id='preprocessing_cell'></a>\n",
    "# Data Preprocessing"
   ]
  },
  {
   "cell_type": "markdown",
   "metadata": {
    "colab_type": "text",
    "id": "6C1GmBULMS6Q"
   },
   "source": [
    "**DSP Data (Key = PHCaseNo)**"
   ]
  },
  {
   "cell_type": "code",
   "execution_count": 471,
   "metadata": {},
   "outputs": [
    {
     "data": {
      "text/html": [
       "<div>\n",
       "<style scoped>\n",
       "    .dataframe tbody tr th:only-of-type {\n",
       "        vertical-align: middle;\n",
       "    }\n",
       "\n",
       "    .dataframe tbody tr th {\n",
       "        vertical-align: top;\n",
       "    }\n",
       "\n",
       "    .dataframe thead th {\n",
       "        text-align: right;\n",
       "    }\n",
       "</style>\n",
       "<table border=\"1\" class=\"dataframe\">\n",
       "  <thead>\n",
       "    <tr style=\"text-align: right;\">\n",
       "      <th></th>\n",
       "      <th>Case No.</th>\n",
       "      <th>Sex</th>\n",
       "      <th>Age</th>\n",
       "      <th>Nationality</th>\n",
       "      <th>Residence in the Philippines</th>\n",
       "      <th>History of Travel / Exposure</th>\n",
       "      <th>Travel History 1</th>\n",
       "      <th>Travel History 2</th>\n",
       "      <th>Travel History 3</th>\n",
       "      <th>Travel History 4</th>\n",
       "      <th>...</th>\n",
       "      <th>Date of Final Status (recovered/expired)</th>\n",
       "      <th>Final Diagnosis</th>\n",
       "      <th>Age Group</th>\n",
       "      <th>Location</th>\n",
       "      <th>Location 1</th>\n",
       "      <th>Location 2</th>\n",
       "      <th>Latitude</th>\n",
       "      <th>Longitude</th>\n",
       "      <th>Residence Lat</th>\n",
       "      <th>Residence Long</th>\n",
       "    </tr>\n",
       "  </thead>\n",
       "  <tbody>\n",
       "    <tr>\n",
       "      <td>0</td>\n",
       "      <td>PH00001</td>\n",
       "      <td>F</td>\n",
       "      <td>38</td>\n",
       "      <td>chinese</td>\n",
       "      <td>None</td>\n",
       "      <td>Yes (China); Wife of PH02</td>\n",
       "      <td>china</td>\n",
       "      <td>NaN</td>\n",
       "      <td>NaN</td>\n",
       "      <td>NaN</td>\n",
       "      <td>...</td>\n",
       "      <td>Sun Mar 15 00:00:00 EDT 2020</td>\n",
       "      <td>NaN</td>\n",
       "      <td>31 - 40</td>\n",
       "      <td>Manila City</td>\n",
       "      <td>Manila City</td>\n",
       "      <td>NaN</td>\n",
       "      <td>14.613480</td>\n",
       "      <td>120.980950</td>\n",
       "      <td>14.598727</td>\n",
       "      <td>120.9819909</td>\n",
       "    </tr>\n",
       "    <tr>\n",
       "      <td>1</td>\n",
       "      <td>PH00002</td>\n",
       "      <td>M</td>\n",
       "      <td>44</td>\n",
       "      <td>chinese</td>\n",
       "      <td>None</td>\n",
       "      <td>Yes (China); Husband of PH1</td>\n",
       "      <td>china</td>\n",
       "      <td>NaN</td>\n",
       "      <td>NaN</td>\n",
       "      <td>NaN</td>\n",
       "      <td>...</td>\n",
       "      <td>Sat Feb 01 00:00:00 EST 2020</td>\n",
       "      <td>severe pneumonia</td>\n",
       "      <td>41 - 50</td>\n",
       "      <td>Manila City</td>\n",
       "      <td>Manila City</td>\n",
       "      <td>NaN</td>\n",
       "      <td>14.613480</td>\n",
       "      <td>120.980950</td>\n",
       "      <td>14.598727</td>\n",
       "      <td>120.9819909</td>\n",
       "    </tr>\n",
       "    <tr>\n",
       "      <td>2</td>\n",
       "      <td>PH00003</td>\n",
       "      <td>F</td>\n",
       "      <td>60</td>\n",
       "      <td>chinese</td>\n",
       "      <td>None</td>\n",
       "      <td>Yes (China)</td>\n",
       "      <td>china</td>\n",
       "      <td>NaN</td>\n",
       "      <td>NaN</td>\n",
       "      <td>NaN</td>\n",
       "      <td>...</td>\n",
       "      <td>Sun Mar 15 00:00:00 EDT 2020</td>\n",
       "      <td>NaN</td>\n",
       "      <td>51 - 60</td>\n",
       "      <td>Manila City</td>\n",
       "      <td>Manila City</td>\n",
       "      <td>NaN</td>\n",
       "      <td>14.615867</td>\n",
       "      <td>120.980991</td>\n",
       "      <td>14.598727</td>\n",
       "      <td>120.9819909</td>\n",
       "    </tr>\n",
       "    <tr>\n",
       "      <td>3</td>\n",
       "      <td>PH00004</td>\n",
       "      <td>M</td>\n",
       "      <td>48</td>\n",
       "      <td>filipino</td>\n",
       "      <td>Taguig City</td>\n",
       "      <td>Yes (Japan)</td>\n",
       "      <td>japan</td>\n",
       "      <td>NaN</td>\n",
       "      <td>NaN</td>\n",
       "      <td>NaN</td>\n",
       "      <td>...</td>\n",
       "      <td>Thu Mar 19 00:00:00 EDT 2020</td>\n",
       "      <td>asymptomatic, negative test result</td>\n",
       "      <td>41 - 50</td>\n",
       "      <td>Taguig City</td>\n",
       "      <td>Taguig City</td>\n",
       "      <td>NaN</td>\n",
       "      <td>14.606904</td>\n",
       "      <td>121.020392</td>\n",
       "      <td>14.517274</td>\n",
       "      <td>121.0496133</td>\n",
       "    </tr>\n",
       "    <tr>\n",
       "      <td>4</td>\n",
       "      <td>PH00005</td>\n",
       "      <td>M</td>\n",
       "      <td>62</td>\n",
       "      <td>filipino</td>\n",
       "      <td>Cainta, Rizal</td>\n",
       "      <td>Husband of PH06</td>\n",
       "      <td>none</td>\n",
       "      <td>NaN</td>\n",
       "      <td>NaN</td>\n",
       "      <td>NaN</td>\n",
       "      <td>...</td>\n",
       "      <td>Thu Mar 12 00:00:00 EDT 2020</td>\n",
       "      <td>acute respiratory distress syndrome, severe pn...</td>\n",
       "      <td>61 - 70</td>\n",
       "      <td>Cainta, Rizal</td>\n",
       "      <td>Cainta</td>\n",
       "      <td>Rizal</td>\n",
       "      <td>14.409635</td>\n",
       "      <td>121.037425</td>\n",
       "      <td>14.586506</td>\n",
       "      <td>121.1138255</td>\n",
       "    </tr>\n",
       "  </tbody>\n",
       "</table>\n",
       "<p>5 rows × 30 columns</p>\n",
       "</div>"
      ],
      "text/plain": [
       "  Case No. Sex  Age Nationality Residence in the Philippines  \\\n",
       "0  PH00001   F   38     chinese                         None   \n",
       "1  PH00002   M   44     chinese                         None   \n",
       "2  PH00003   F   60     chinese                         None   \n",
       "3  PH00004   M   48    filipino                  Taguig City   \n",
       "4  PH00005   M   62    filipino                Cainta, Rizal   \n",
       "\n",
       "  History of Travel / Exposure Travel History 1 Travel History 2  \\\n",
       "0    Yes (China); Wife of PH02            china              NaN   \n",
       "1  Yes (China); Husband of PH1            china              NaN   \n",
       "2                  Yes (China)            china              NaN   \n",
       "3                  Yes (Japan)            japan              NaN   \n",
       "4              Husband of PH06             none              NaN   \n",
       "\n",
       "  Travel History 3 Travel History 4  ...  \\\n",
       "0              NaN              NaN  ...   \n",
       "1              NaN              NaN  ...   \n",
       "2              NaN              NaN  ...   \n",
       "3              NaN              NaN  ...   \n",
       "4              NaN              NaN  ...   \n",
       "\n",
       "  Date of Final Status (recovered/expired)  \\\n",
       "0             Sun Mar 15 00:00:00 EDT 2020   \n",
       "1             Sat Feb 01 00:00:00 EST 2020   \n",
       "2             Sun Mar 15 00:00:00 EDT 2020   \n",
       "3             Thu Mar 19 00:00:00 EDT 2020   \n",
       "4             Thu Mar 12 00:00:00 EDT 2020   \n",
       "\n",
       "                                     Final Diagnosis Age Group       Location  \\\n",
       "0                                                NaN   31 - 40    Manila City   \n",
       "1                                   severe pneumonia   41 - 50    Manila City   \n",
       "2                                                NaN   51 - 60    Manila City   \n",
       "3                 asymptomatic, negative test result   41 - 50    Taguig City   \n",
       "4  acute respiratory distress syndrome, severe pn...   61 - 70  Cainta, Rizal   \n",
       "\n",
       "    Location 1 Location 2   Latitude   Longitude Residence Lat Residence Long  \n",
       "0  Manila City        NaN  14.613480  120.980950     14.598727    120.9819909  \n",
       "1  Manila City        NaN  14.613480  120.980950     14.598727    120.9819909  \n",
       "2  Manila City        NaN  14.615867  120.980991     14.598727    120.9819909  \n",
       "3  Taguig City        NaN  14.606904  121.020392     14.517274    121.0496133  \n",
       "4       Cainta      Rizal  14.409635  121.037425     14.586506    121.1138255  \n",
       "\n",
       "[5 rows x 30 columns]"
      ]
     },
     "execution_count": 471,
     "metadata": {},
     "output_type": "execute_result"
    }
   ],
   "source": [
    "data = pd.read_csv('openrefine_PHCASES_COVID_04162020_PHnum.csv')\n",
    "data.head()"
   ]
  },
  {
   "cell_type": "code",
   "execution_count": 472,
   "metadata": {},
   "outputs": [
    {
     "data": {
      "text/plain": [
       "Index(['Case No.', 'Sex', 'Age', 'Nationality', 'Residence in the Philippines',\n",
       "       'History of Travel / Exposure', 'Travel History 1', 'Travel History 2',\n",
       "       'Travel History 3', 'Travel History 4', 'Epi_Link',\n",
       "       'Date of Onset of Symptoms', 'Date of Admission',\n",
       "       'Date of Lab Confirmation', 'Date of Announcement to the Public',\n",
       "       'Admission / Consultation', 'Symptoms', 'Other disease', 'Status',\n",
       "       'Health Status', 'Date of Final Status (recovered/expired)',\n",
       "       'Final Diagnosis', 'Age Group', 'Location', 'Location 1', 'Location 2',\n",
       "       'Latitude', 'Longitude', 'Residence Lat', 'Residence Long'],\n",
       "      dtype='object')"
      ]
     },
     "execution_count": 472,
     "metadata": {},
     "output_type": "execute_result"
    }
   ],
   "source": [
    "data.columns"
   ]
  },
  {
   "cell_type": "code",
   "execution_count": 473,
   "metadata": {},
   "outputs": [],
   "source": [
    "data = data.rename(columns={'Case No.': 'phcaseno', 'Travel History 1': 'Travel History'})"
   ]
  },
  {
   "cell_type": "code",
   "execution_count": 474,
   "metadata": {},
   "outputs": [],
   "source": [
    "# data.dtypes"
   ]
  },
  {
   "cell_type": "code",
   "execution_count": 475,
   "metadata": {},
   "outputs": [
    {
     "data": {
      "text/plain": [
       "(3246, 30)"
      ]
     },
     "execution_count": 475,
     "metadata": {},
     "output_type": "execute_result"
    }
   ],
   "source": [
    "data.shape"
   ]
  },
  {
   "cell_type": "code",
   "execution_count": 476,
   "metadata": {},
   "outputs": [
    {
     "data": {
      "text/plain": [
       "Health Status\n",
       "asymptomatic        38\n",
       "critical             3\n",
       "died               108\n",
       "for validation    2983\n",
       "mild                57\n",
       "recovered           51\n",
       "severe               6\n",
       "dtype: int64"
      ]
     },
     "execution_count": 476,
     "metadata": {},
     "output_type": "execute_result"
    }
   ],
   "source": [
    "# target variable information (before clustering)\n",
    "data.groupby('Health Status').size()"
   ]
  },
  {
   "cell_type": "code",
   "execution_count": 477,
   "metadata": {},
   "outputs": [],
   "source": [
    "data['Other disease']=data['Other disease'].str.replace('  ',' ')\n",
    "data['Other disease']=data['Other disease'].str.replace(', ',',')\n",
    "data['Other disease']=data['Other disease'].str.replace(' ,',',')\n",
    "data['Other disease']=data['Other disease'].str.replace('diabetes','diabetes')\n",
    "data['Other disease']=data['Other disease'].str.replace('renal disease','renal disease')\n",
    "data['Other disease']=data['Other disease'].str.replace('acute kidney injury','acute kidney injury')\n",
    "data['Other disease']=data['Other disease'].str.replace('asthma','asthma')\n",
    "data['Other disease']=data['Other disease'].str.replace('atherosclerosis','atherosclerosis')\n",
    "data['Other disease']=data['Other disease'].str.replace('atherosclerotic cardiovascular disease','atherosclerosis')\n",
    "data['Other disease']=data['Other disease'].str.replace('benign prostatic hyperplasia','benign prostatic hyperplasia')\n",
    "data['Other disease']=data['Other disease'].str.replace('benign prostatic hypertrophy','benign prostatic hyperplasia')\n",
    "data['Other disease']=data['Other disease'].str.replace('bronchial asthma','asthma')\n",
    "data['Other disease']=data['Other disease'].str.replace('cardiac disease','cardiovascular disease')\n",
    "data['Other disease']=data['Other disease'].str.replace('cardiac dysrhythmia','cardiovascular disease')\n",
    "data['Other disease']=data['Other disease'].str.replace('cardiomyopathy','cardiovascular disease')\n",
    "data['Other disease']=data['Other disease'].str.replace('cardiovascular disease','cardiovascular disease')\n",
    "data['Other disease']=data['Other disease'].str.replace('cerebrovascular accident infarc','cerebrovascular disease infarction')\n",
    "data['Other disease']=data['Other disease'].str.replace('cerebrovascular disease infarction','cerebrovascular disease infarction')\n",
    "data['Other disease']=data['Other disease'].str.replace('chronic kidney disease','renal disease')\n",
    "data['Other disease']=data['Other disease'].str.replace('chronic obstructive pulmonary disease','chronic obstructive pulmonary disease')\n",
    "data['Other disease']=data['Other disease'].str.replace('colon cancer','colon cancer')\n",
    "data['Other disease']=data['Other disease'].str.replace('coronary artery disease','cardiovascular disease')\n",
    "data['Other disease']=data['Other disease'].str.replace('coronary heart disease','cardiovascular disease')\n",
    "data['Other disease']=data['Other disease'].str.replace('dengue','dengue')\n",
    "data['Other disease']=data['Other disease'].str.replace('diabetes mellitus','diabetes')\n",
    "data['Other disease']=data['Other disease'].str.replace('diabetes','diabetes')\n",
    "data['Other disease']=data['Other disease'].str.replace('diabetic ketoacidosis','diabetes')\n",
    "data['Other disease']=data['Other disease'].str.replace('diabetic nephropathy','diabetes')\n",
    "data['Other disease']=data['Other disease'].str.replace('diabetis mellitus','diabetes')\n",
    "data['Other disease']=data['Other disease'].str.replace('dyslipidemia','dyslipidemia')\n",
    "data['Other disease']=data['Other disease'].str.replace('endocrine condition','endocrine condition')\n",
    "data['Other disease']=data['Other disease'].str.replace('hypertension','hypertension')\n",
    "data['Other disease']=data['Other disease'].str.replace('hypertensioncardiovascular disease','hypertension,cardiovascular disease')\n",
    "data['Other disease']=data['Other disease'].str.replace('hypertensive cardiovascular disease','cardiovascular disease')\n",
    "data['Other disease']=data['Other disease'].str.replace('hypertensive nephrosclerosis','renal disease')\n",
    "data['Other disease']=data['Other disease'].str.replace('hyperthyroidism','hyperthyroidism')\n",
    "data['Other disease']=data['Other disease'].str.replace('hypothyroidism','hypothyroidism')\n",
    "data['Other disease']=data['Other disease'].str.replace('impaired fasting glucose','impaired fasting glucose')\n",
    "data['Other disease']=data['Other disease'].str.replace('ischemic heart disease','cardiovascular disease')\n",
    "data['Other disease']=data['Other disease'].str.replace('kidney disease secondary tohypertension nephrosclerosis','renal disease')\n",
    "data['Other disease']=data['Other disease'].str.replace('kidney disease','renal disease')\n",
    "data['Other disease']=data['Other disease'].str.replace('peripheral arterial occlusive disease','peripheral arterial occlusive disease')\n",
    "data['Other disease']=data['Other disease'].str.replace('renal disease','renal disease')\n",
    "data['Other disease']=data['Other disease'].str.replace('tongue cancer','tongue cancer')\n",
    "data['Other disease']=data['Other disease'].str.replace('valvular heart disease','cardiovascular disease')\n",
    "data['Other disease']=data['Other disease'].str.replace('acute kidney injury secondary to pre-renal azotemia','acute renal failure')\n",
    "data['Other disease']=data['Other disease'].str.replace('acute kidney injury','acute kidney injury')\n",
    "data['Other disease']=data['Other disease'].str.replace('acute renal failure','acute renal failure')\n",
    "data['Other disease']=data['Other disease'].str.replace('acute renal failure,cardiovascular disease,cardiovascular disease,diabetes mellitus','acute renal failure,cardiovascular disease,cardiovascular disease,diabetes')\n",
    "data['Other disease']=data['Other disease'].str.replace('asthma','asthma')\n",
    "data['Other disease']=data['Other disease'].str.replace('asymptomatic','asymptomatic')\n",
    "data['Other disease']=data['Other disease'].str.replace('breast cancer','breast cancer')\n",
    "data['Other disease']=data['Other disease'].str.replace('bronchial asthma','asthma')\n",
    "data['Other disease']=data['Other disease'].str.replace('bronchialasthma','asthma')\n",
    "data['Other disease']=data['Other disease'].str.replace('cardiac disease','cardiovascular disease')\n",
    "data['Other disease']=data['Other disease'].str.replace('chronic kidney disease secondary to hypertension nephrosclerosis','renal disease')\n",
    "data['Other disease']=data['Other disease'].str.replace('chronic kidney disease','renal disease')\n",
    "data['Other disease']=data['Other disease'].str.replace('chronic obstructive pulmonary disease','chronic obstructive pulmonary disease')\n",
    "data['Other disease']=data['Other disease'].str.replace('community-acquired pneumonia','community-acquired pneumonia')\n",
    "data['Other disease']=data['Other disease'].str.replace('diabetes','diabetes')\n",
    "data['Other disease']=data['Other disease'].str.replace('diabetes,hypertensioncardiovascular disease,renal disease,diabetes','diabetes,hypertension,cardiovascular disease,renal disease,diabetes')\n",
    "data['Other disease']=data['Other disease'].str.replace('diabetis mellitus','diabetes')\n",
    "data['Other disease']=data['Other disease'].str.replace('dis_renal disease secondary tohypertension nephrosclerosis','renal disease')\n",
    "data['Other disease']=data['Other disease'].str.replace('hypertension','hypertension')\n",
    "data['Other disease']=data['Other disease'].str.replace('hypertensive cardiovascular disease','cardiovascular disease')\n",
    "data['Other disease']=data['Other disease'].str.replace('hypertensive','hypertension')\n",
    "data['Other disease']=data['Other disease'].str.replace('hyperthyroidism','hyperthyroidism')\n",
    "data['Other disease']=data['Other disease'].str.replace('kidney disease secondary tohypertension nephrosclerosis','renal disease')\n",
    "data['Other disease']=data['Other disease'].str.replace('myocarditis,diabetes,acute kidney injury,hypertension','cardiovascular disease,diabetes,acute kidney injury,hypertension')\n",
    "data['Other disease']=data['Other disease'].str.replace('none','asymptomatic')\n",
    "data['Other disease']=data['Other disease'].str.replace('none','none')\n",
    "data['Other disease']=data['Other disease'].str.replace('permanent atrial fibrillation','permanent atrial fibrillation')\n",
    "data['Other disease']=data['Other disease'].str.replace('prostatic cancer','prostatic cancer')\n",
    "data['Other disease']=data['Other disease'].str.replace('remnal disease','renal disease')\n",
    "data['Other disease']=data['Other disease'].str.replace('renal disease secondary tohypertension nephrosclerosis','renal disease')\n",
    "data['Other disease']=data['Other disease'].str.replace('renal disease','renal disease')\n",
    "data['Other disease']=data['Other disease'].str.replace('status post renal transplant','status post renal transplant')\n",
    "data['Other disease']=data['Other disease'].str.replace('systemic lupus erythematosus','systemic lupus erythematosus')\n",
    "data['Other disease']=data['Other disease'].str.replace('renal disease secondary to hypertension nephrosclerosis','renal disease,hypertension')\n",
    "data['Other disease']=data['Other disease'].str.replace('with comorbid (not specified)','comorbid_unknown',regex=False)\n",
    "data['Other disease']=data['Other disease'].str.replace('hypertensioncardiovascular disease','cardiovascular disease',regex=False)\n",
    "data['Other disease']=data['Other disease'].str.replace('chronicrenal disease','renal disease',regex=False)\n",
    "data['Symptoms']=data['Symptoms'].str.replace(' ,',',')\n",
    "data['Symptoms']=data['Symptoms'].str.replace(', ',',')\n",
    "data['Symptoms']=data['Symptoms'].str.replace('  ',' ')\n",
    "data['Symptoms']=data['Symptoms'].str.replace('body malaise','body malaise')\n",
    "data['Symptoms']=data['Symptoms'].str.replace('colds','colds')\n",
    "data['Symptoms']=data['Symptoms'].str.replace('comorbidity','comorbidity')\n",
    "data['Symptoms']=data['Symptoms'].str.replace('cough','cough')\n",
    "data['Symptoms']=data['Symptoms'].str.replace('difficulty in breathing','dyspnea')\n",
    "data['Symptoms']=data['Symptoms'].str.replace('dizziness','dizziness')\n",
    "data['Symptoms']=data['Symptoms'].str.replace('dysphagia','dysphagia')\n",
    "data['Symptoms']=data['Symptoms'].str.replace('headache','headache')\n",
    "data['Symptoms']=data['Symptoms'].str.replace('shortness of breath','dyspnea')\n",
    "data['Symptoms']=data['Symptoms'].str.replace('sore throat','sore throat')\n",
    "data['Symptoms']=data['Symptoms'].str.replace('difficulty of breathing','dyspnea')\n"
   ]
  },
  {
   "cell_type": "code",
   "execution_count": 478,
   "metadata": {},
   "outputs": [
    {
     "data": {
      "text/plain": [
       "phcaseno                                     object\n",
       "Sex                                          object\n",
       "Age                                           int64\n",
       "Nationality                                  object\n",
       "Residence in the Philippines                 object\n",
       "History of Travel / Exposure                 object\n",
       "Travel History                               object\n",
       "Travel History 2                             object\n",
       "Travel History 3                             object\n",
       "Travel History 4                             object\n",
       "Epi_Link                                     object\n",
       "Date of Onset of Symptoms                    object\n",
       "Date of Admission                            object\n",
       "Date of Lab Confirmation                     object\n",
       "Date of Announcement to the Public           object\n",
       "Admission / Consultation                     object\n",
       "Symptoms                                     object\n",
       "Other disease                                object\n",
       "Status                                       object\n",
       "Health Status                                object\n",
       "Date of Final Status (recovered/expired)     object\n",
       "Final Diagnosis                              object\n",
       "Age Group                                    object\n",
       "Location                                     object\n",
       "Location 1                                   object\n",
       "Location 2                                   object\n",
       "Latitude                                    float64\n",
       "Longitude                                   float64\n",
       "Residence Lat                               float64\n",
       "Residence Long                               object\n",
       "dtype: object"
      ]
     },
     "execution_count": 478,
     "metadata": {},
     "output_type": "execute_result"
    }
   ],
   "source": [
    "data.dtypes"
   ]
  },
  {
   "cell_type": "code",
   "execution_count": 479,
   "metadata": {},
   "outputs": [
    {
     "data": {
      "text/plain": [
       "Other disease\n",
       "acute kidney injury                                                                               2\n",
       "acute kidney injury,benign prostatic hyperplasia                                                  1\n",
       "acute kidney injury,hypertension,diabetes                                                         1\n",
       "acute renal failure                                                                               1\n",
       "acute renal failure,cardiovascular disease,cardiovascular disease,diabetes                        1\n",
       "asthma                                                                                            3\n",
       "asthma,diabetes                                                                                   1\n",
       "asthma,hypertension,atherosclerosis,cardiovascular disease                                        1\n",
       "asymptomatic                                                                                      8\n",
       "breast cancer,diabetes                                                                            1\n",
       "cardiovascular disease                                                                            3\n",
       "cardiovascular disease,acute kidney injury,asthma,impaired fasting glucose                        1\n",
       "cardiovascular disease,cardiovascular disease,diabetes                                            1\n",
       "cardiovascular disease,diabetes,acute kidney injury,hypertension                                  1\n",
       "chronic obstructive pulmonary disease                                                             2\n",
       "chronic obstructive pulmonary disease,cardiovascular disease                                      1\n",
       "chronic obstructive pulmonary disease,diabetes,dyslipidemia                                       1\n",
       "community-acquired pneumonia                                                                      1\n",
       "comorbid_unknown                                                                                  1\n",
       "diabetes                                                                                          6\n",
       "diabetes,cardiovascular disease                                                                   3\n",
       "diabetes,cardiovascular disease,renal disease,diabetes                                            1\n",
       "hypertension                                                                                     22\n",
       "hypertension,cardiovascular disease                                                               1\n",
       "hypertension,cardiovascular disease,acute kidney injury,renal disease,diabetes                    1\n",
       "hypertension,cardiovascular disease,dengue                                                        1\n",
       "hypertension,cardiovascular disease,diabetes,acute kidney injury                                  1\n",
       "hypertension,cerebrovascular disease infarction                                                   1\n",
       "hypertension,colon cancer                                                                         1\n",
       "hypertension,diabetes                                                                            16\n",
       "hypertension,diabetes,asthma                                                                      2\n",
       "hypertension,diabetes,cardiovascular disease                                                      2\n",
       "hypertension,diabetes,cardiovascular disease,endocrine condition                                  1\n",
       "hypertension,diabetes,dyslipidemia                                                                2\n",
       "hypertension,diabetes,renal disease                                                               4\n",
       "hypertension,diabetes,tongue cancer,cardiovascular disease,benign prostatic hyperplasia           1\n",
       "hypertension,hyperthyroidism,renal disease                                                        1\n",
       "hypertension,hypothyroidism                                                                       1\n",
       "hypertension,renal disease                                                                        4\n",
       "hyperthyroidism                                                                                   1\n",
       "permanent atrial fibrillation,hypertension,atherosclerosis,cerebrovascular disease infarction     1\n",
       "prostatic cancer,chronic obstructive pulmonary disease                                            1\n",
       "renal disease                                                                                     2\n",
       "renal disease,hypertension                                                                        1\n",
       "renal disease,hypertension,diabetes                                                               1\n",
       "renal disease,renal disease,cardiovascular disease,peripheral arterial occlusive disease          1\n",
       "status post renal transplant                                                                      1\n",
       "systemic lupus erythematosus                                                                      1\n",
       "dtype: int64"
      ]
     },
     "execution_count": 479,
     "metadata": {},
     "output_type": "execute_result"
    }
   ],
   "source": [
    "data.groupby('Other disease').size()"
   ]
  },
  {
   "cell_type": "markdown",
   "metadata": {},
   "source": [
    "<a id='preprocessing_symp_cell'></a>\n",
    "## Feature Engineering: Symptoms + Other Diseases"
   ]
  },
  {
   "cell_type": "code",
   "execution_count": null,
   "metadata": {},
   "outputs": [],
   "source": []
  },
  {
   "cell_type": "markdown",
   "metadata": {},
   "source": [
    "<a id='preprocessing_sympoh_cell'></a>\n",
    "## One Hot Encoding: Symptoms + Other Diseases "
   ]
  },
  {
   "cell_type": "code",
   "execution_count": 480,
   "metadata": {},
   "outputs": [
    {
     "data": {
      "text/html": [
       "<div>\n",
       "<style scoped>\n",
       "    .dataframe tbody tr th:only-of-type {\n",
       "        vertical-align: middle;\n",
       "    }\n",
       "\n",
       "    .dataframe tbody tr th {\n",
       "        vertical-align: top;\n",
       "    }\n",
       "\n",
       "    .dataframe thead th {\n",
       "        text-align: right;\n",
       "    }\n",
       "</style>\n",
       "<table border=\"1\" class=\"dataframe\">\n",
       "  <thead>\n",
       "    <tr style=\"text-align: right;\">\n",
       "      <th></th>\n",
       "      <th>phcaseno</th>\n",
       "      <th>Sex</th>\n",
       "      <th>Age</th>\n",
       "      <th>Nationality</th>\n",
       "      <th>Residence in the Philippines</th>\n",
       "      <th>History of Travel / Exposure</th>\n",
       "      <th>Travel History</th>\n",
       "      <th>Travel History 2</th>\n",
       "      <th>Travel History 3</th>\n",
       "      <th>Travel History 4</th>\n",
       "      <th>...</th>\n",
       "      <th>Date of Final Status (recovered/expired)</th>\n",
       "      <th>Final Diagnosis</th>\n",
       "      <th>Age Group</th>\n",
       "      <th>Location</th>\n",
       "      <th>Location 1</th>\n",
       "      <th>Location 2</th>\n",
       "      <th>Latitude</th>\n",
       "      <th>Longitude</th>\n",
       "      <th>Residence Lat</th>\n",
       "      <th>Residence Long</th>\n",
       "    </tr>\n",
       "  </thead>\n",
       "  <tbody>\n",
       "    <tr>\n",
       "      <td>0</td>\n",
       "      <td>PH00001</td>\n",
       "      <td>F</td>\n",
       "      <td>38</td>\n",
       "      <td>chinese</td>\n",
       "      <td>None</td>\n",
       "      <td>Yes (China); Wife of PH02</td>\n",
       "      <td>china</td>\n",
       "      <td>NaN</td>\n",
       "      <td>NaN</td>\n",
       "      <td>NaN</td>\n",
       "      <td>...</td>\n",
       "      <td>Sun Mar 15 00:00:00 EDT 2020</td>\n",
       "      <td>NaN</td>\n",
       "      <td>31 - 40</td>\n",
       "      <td>Manila City</td>\n",
       "      <td>Manila City</td>\n",
       "      <td>NaN</td>\n",
       "      <td>14.613480</td>\n",
       "      <td>120.980950</td>\n",
       "      <td>14.598727</td>\n",
       "      <td>120.9819909</td>\n",
       "    </tr>\n",
       "    <tr>\n",
       "      <td>1</td>\n",
       "      <td>PH00002</td>\n",
       "      <td>M</td>\n",
       "      <td>44</td>\n",
       "      <td>chinese</td>\n",
       "      <td>None</td>\n",
       "      <td>Yes (China); Husband of PH1</td>\n",
       "      <td>china</td>\n",
       "      <td>NaN</td>\n",
       "      <td>NaN</td>\n",
       "      <td>NaN</td>\n",
       "      <td>...</td>\n",
       "      <td>Sat Feb 01 00:00:00 EST 2020</td>\n",
       "      <td>severe pneumonia</td>\n",
       "      <td>41 - 50</td>\n",
       "      <td>Manila City</td>\n",
       "      <td>Manila City</td>\n",
       "      <td>NaN</td>\n",
       "      <td>14.613480</td>\n",
       "      <td>120.980950</td>\n",
       "      <td>14.598727</td>\n",
       "      <td>120.9819909</td>\n",
       "    </tr>\n",
       "    <tr>\n",
       "      <td>2</td>\n",
       "      <td>PH00003</td>\n",
       "      <td>F</td>\n",
       "      <td>60</td>\n",
       "      <td>chinese</td>\n",
       "      <td>None</td>\n",
       "      <td>Yes (China)</td>\n",
       "      <td>china</td>\n",
       "      <td>NaN</td>\n",
       "      <td>NaN</td>\n",
       "      <td>NaN</td>\n",
       "      <td>...</td>\n",
       "      <td>Sun Mar 15 00:00:00 EDT 2020</td>\n",
       "      <td>NaN</td>\n",
       "      <td>51 - 60</td>\n",
       "      <td>Manila City</td>\n",
       "      <td>Manila City</td>\n",
       "      <td>NaN</td>\n",
       "      <td>14.615867</td>\n",
       "      <td>120.980991</td>\n",
       "      <td>14.598727</td>\n",
       "      <td>120.9819909</td>\n",
       "    </tr>\n",
       "    <tr>\n",
       "      <td>3</td>\n",
       "      <td>PH00004</td>\n",
       "      <td>M</td>\n",
       "      <td>48</td>\n",
       "      <td>filipino</td>\n",
       "      <td>Taguig City</td>\n",
       "      <td>Yes (Japan)</td>\n",
       "      <td>japan</td>\n",
       "      <td>NaN</td>\n",
       "      <td>NaN</td>\n",
       "      <td>NaN</td>\n",
       "      <td>...</td>\n",
       "      <td>Thu Mar 19 00:00:00 EDT 2020</td>\n",
       "      <td>asymptomatic, negative test result</td>\n",
       "      <td>41 - 50</td>\n",
       "      <td>Taguig City</td>\n",
       "      <td>Taguig City</td>\n",
       "      <td>NaN</td>\n",
       "      <td>14.606904</td>\n",
       "      <td>121.020392</td>\n",
       "      <td>14.517274</td>\n",
       "      <td>121.0496133</td>\n",
       "    </tr>\n",
       "    <tr>\n",
       "      <td>4</td>\n",
       "      <td>PH00005</td>\n",
       "      <td>M</td>\n",
       "      <td>62</td>\n",
       "      <td>filipino</td>\n",
       "      <td>Cainta, Rizal</td>\n",
       "      <td>Husband of PH06</td>\n",
       "      <td>none</td>\n",
       "      <td>NaN</td>\n",
       "      <td>NaN</td>\n",
       "      <td>NaN</td>\n",
       "      <td>...</td>\n",
       "      <td>Thu Mar 12 00:00:00 EDT 2020</td>\n",
       "      <td>acute respiratory distress syndrome, severe pn...</td>\n",
       "      <td>61 - 70</td>\n",
       "      <td>Cainta, Rizal</td>\n",
       "      <td>Cainta</td>\n",
       "      <td>Rizal</td>\n",
       "      <td>14.409635</td>\n",
       "      <td>121.037425</td>\n",
       "      <td>14.586506</td>\n",
       "      <td>121.1138255</td>\n",
       "    </tr>\n",
       "  </tbody>\n",
       "</table>\n",
       "<p>5 rows × 30 columns</p>\n",
       "</div>"
      ],
      "text/plain": [
       "  phcaseno Sex  Age Nationality Residence in the Philippines  \\\n",
       "0  PH00001   F   38     chinese                         None   \n",
       "1  PH00002   M   44     chinese                         None   \n",
       "2  PH00003   F   60     chinese                         None   \n",
       "3  PH00004   M   48    filipino                  Taguig City   \n",
       "4  PH00005   M   62    filipino                Cainta, Rizal   \n",
       "\n",
       "  History of Travel / Exposure Travel History Travel History 2  \\\n",
       "0    Yes (China); Wife of PH02          china              NaN   \n",
       "1  Yes (China); Husband of PH1          china              NaN   \n",
       "2                  Yes (China)          china              NaN   \n",
       "3                  Yes (Japan)          japan              NaN   \n",
       "4              Husband of PH06           none              NaN   \n",
       "\n",
       "  Travel History 3 Travel History 4  ...  \\\n",
       "0              NaN              NaN  ...   \n",
       "1              NaN              NaN  ...   \n",
       "2              NaN              NaN  ...   \n",
       "3              NaN              NaN  ...   \n",
       "4              NaN              NaN  ...   \n",
       "\n",
       "  Date of Final Status (recovered/expired)  \\\n",
       "0             Sun Mar 15 00:00:00 EDT 2020   \n",
       "1             Sat Feb 01 00:00:00 EST 2020   \n",
       "2             Sun Mar 15 00:00:00 EDT 2020   \n",
       "3             Thu Mar 19 00:00:00 EDT 2020   \n",
       "4             Thu Mar 12 00:00:00 EDT 2020   \n",
       "\n",
       "                                     Final Diagnosis Age Group       Location  \\\n",
       "0                                                NaN   31 - 40    Manila City   \n",
       "1                                   severe pneumonia   41 - 50    Manila City   \n",
       "2                                                NaN   51 - 60    Manila City   \n",
       "3                 asymptomatic, negative test result   41 - 50    Taguig City   \n",
       "4  acute respiratory distress syndrome, severe pn...   61 - 70  Cainta, Rizal   \n",
       "\n",
       "    Location 1 Location 2   Latitude   Longitude Residence Lat Residence Long  \n",
       "0  Manila City        NaN  14.613480  120.980950     14.598727    120.9819909  \n",
       "1  Manila City        NaN  14.613480  120.980950     14.598727    120.9819909  \n",
       "2  Manila City        NaN  14.615867  120.980991     14.598727    120.9819909  \n",
       "3  Taguig City        NaN  14.606904  121.020392     14.517274    121.0496133  \n",
       "4       Cainta      Rizal  14.409635  121.037425     14.586506    121.1138255  \n",
       "\n",
       "[5 rows x 30 columns]"
      ]
     },
     "execution_count": 480,
     "metadata": {},
     "output_type": "execute_result"
    }
   ],
   "source": [
    "data.head()"
   ]
  },
  {
   "cell_type": "code",
   "execution_count": 481,
   "metadata": {},
   "outputs": [],
   "source": [
    "# drop empty columns\n",
    "data = data.drop([    \n",
    " 'Travel History 2',\n",
    " 'Travel History 3',\n",
    " 'Travel History 4'], axis = 1)"
   ]
  },
  {
   "cell_type": "code",
   "execution_count": 482,
   "metadata": {},
   "outputs": [],
   "source": [
    "symptoms = data.set_index('phcaseno').Symptoms.str.split(',', expand=True).stack()"
   ]
  },
  {
   "cell_type": "code",
   "execution_count": 483,
   "metadata": {},
   "outputs": [],
   "source": [
    "# symptoms "
   ]
  },
  {
   "cell_type": "code",
   "execution_count": 484,
   "metadata": {},
   "outputs": [],
   "source": [
    "symptoms= pd.get_dummies(symptoms, prefix='symp').groupby(level=0).sum()\n",
    "# symptoms"
   ]
  },
  {
   "cell_type": "code",
   "execution_count": 485,
   "metadata": {},
   "outputs": [],
   "source": [
    "# join it back to the original \n",
    "data = data.merge(symptoms, on=['phcaseno'], how='left', indicator=True)"
   ]
  },
  {
   "cell_type": "code",
   "execution_count": 486,
   "metadata": {},
   "outputs": [
    {
     "data": {
      "text/html": [
       "<div>\n",
       "<style scoped>\n",
       "    .dataframe tbody tr th:only-of-type {\n",
       "        vertical-align: middle;\n",
       "    }\n",
       "\n",
       "    .dataframe tbody tr th {\n",
       "        vertical-align: top;\n",
       "    }\n",
       "\n",
       "    .dataframe thead th {\n",
       "        text-align: right;\n",
       "    }\n",
       "</style>\n",
       "<table border=\"1\" class=\"dataframe\">\n",
       "  <thead>\n",
       "    <tr style=\"text-align: right;\">\n",
       "      <th></th>\n",
       "      <th>phcaseno</th>\n",
       "      <th>Sex</th>\n",
       "      <th>Age</th>\n",
       "      <th>Nationality</th>\n",
       "      <th>Residence in the Philippines</th>\n",
       "      <th>History of Travel / Exposure</th>\n",
       "      <th>Travel History</th>\n",
       "      <th>Epi_Link</th>\n",
       "      <th>Date of Onset of Symptoms</th>\n",
       "      <th>Date of Admission</th>\n",
       "      <th>...</th>\n",
       "      <th>symp_colds</th>\n",
       "      <th>symp_comorbidity</th>\n",
       "      <th>symp_cough</th>\n",
       "      <th>symp_dizziness</th>\n",
       "      <th>symp_dysphagia</th>\n",
       "      <th>symp_dyspnea</th>\n",
       "      <th>symp_fever</th>\n",
       "      <th>symp_headache</th>\n",
       "      <th>symp_sore throat</th>\n",
       "      <th>_merge</th>\n",
       "    </tr>\n",
       "  </thead>\n",
       "  <tbody>\n",
       "    <tr>\n",
       "      <td>0</td>\n",
       "      <td>PH00001</td>\n",
       "      <td>F</td>\n",
       "      <td>38</td>\n",
       "      <td>chinese</td>\n",
       "      <td>None</td>\n",
       "      <td>Yes (China); Wife of PH02</td>\n",
       "      <td>china</td>\n",
       "      <td>Wife of PH2</td>\n",
       "      <td>Tue Jan 21 00:00:00 EST 2020</td>\n",
       "      <td>Sat Jan 25 00:00:00 EST 2020</td>\n",
       "      <td>...</td>\n",
       "      <td>NaN</td>\n",
       "      <td>NaN</td>\n",
       "      <td>NaN</td>\n",
       "      <td>NaN</td>\n",
       "      <td>NaN</td>\n",
       "      <td>NaN</td>\n",
       "      <td>NaN</td>\n",
       "      <td>NaN</td>\n",
       "      <td>NaN</td>\n",
       "      <td>left_only</td>\n",
       "    </tr>\n",
       "    <tr>\n",
       "      <td>1</td>\n",
       "      <td>PH00002</td>\n",
       "      <td>M</td>\n",
       "      <td>44</td>\n",
       "      <td>chinese</td>\n",
       "      <td>None</td>\n",
       "      <td>Yes (China); Husband of PH1</td>\n",
       "      <td>china</td>\n",
       "      <td>Husband of PH1</td>\n",
       "      <td>Sat Jan 18 00:00:00 EST 2020</td>\n",
       "      <td>Sat Jan 25 00:00:00 EST 2020</td>\n",
       "      <td>...</td>\n",
       "      <td>0.0</td>\n",
       "      <td>0.0</td>\n",
       "      <td>1.0</td>\n",
       "      <td>0.0</td>\n",
       "      <td>0.0</td>\n",
       "      <td>0.0</td>\n",
       "      <td>1.0</td>\n",
       "      <td>0.0</td>\n",
       "      <td>1.0</td>\n",
       "      <td>both</td>\n",
       "    </tr>\n",
       "    <tr>\n",
       "      <td>2</td>\n",
       "      <td>PH00003</td>\n",
       "      <td>F</td>\n",
       "      <td>60</td>\n",
       "      <td>chinese</td>\n",
       "      <td>None</td>\n",
       "      <td>Yes (China)</td>\n",
       "      <td>china</td>\n",
       "      <td>Traveled to Cebu and Bohol. Was already in Chi...</td>\n",
       "      <td>Tue Jan 21 00:00:00 EST 2020</td>\n",
       "      <td>Wed Jan 22 00:00:00 EST 2020</td>\n",
       "      <td>...</td>\n",
       "      <td>NaN</td>\n",
       "      <td>NaN</td>\n",
       "      <td>NaN</td>\n",
       "      <td>NaN</td>\n",
       "      <td>NaN</td>\n",
       "      <td>NaN</td>\n",
       "      <td>NaN</td>\n",
       "      <td>NaN</td>\n",
       "      <td>NaN</td>\n",
       "      <td>left_only</td>\n",
       "    </tr>\n",
       "    <tr>\n",
       "      <td>3</td>\n",
       "      <td>PH00004</td>\n",
       "      <td>M</td>\n",
       "      <td>48</td>\n",
       "      <td>filipino</td>\n",
       "      <td>Taguig City</td>\n",
       "      <td>Yes (Japan)</td>\n",
       "      <td>japan</td>\n",
       "      <td>NaN</td>\n",
       "      <td>Tue Mar 03 00:00:00 EST 2020</td>\n",
       "      <td>Fri Mar 06 00:00:00 EST 2020</td>\n",
       "      <td>...</td>\n",
       "      <td>0.0</td>\n",
       "      <td>0.0</td>\n",
       "      <td>0.0</td>\n",
       "      <td>0.0</td>\n",
       "      <td>0.0</td>\n",
       "      <td>0.0</td>\n",
       "      <td>1.0</td>\n",
       "      <td>0.0</td>\n",
       "      <td>0.0</td>\n",
       "      <td>both</td>\n",
       "    </tr>\n",
       "    <tr>\n",
       "      <td>4</td>\n",
       "      <td>PH00005</td>\n",
       "      <td>M</td>\n",
       "      <td>62</td>\n",
       "      <td>filipino</td>\n",
       "      <td>Cainta, Rizal</td>\n",
       "      <td>Husband of PH06</td>\n",
       "      <td>none</td>\n",
       "      <td>Husband of PH6</td>\n",
       "      <td>Tue Feb 25 00:00:00 EST 2020</td>\n",
       "      <td>Thu Mar 05 00:00:00 EST 2020</td>\n",
       "      <td>...</td>\n",
       "      <td>0.0</td>\n",
       "      <td>0.0</td>\n",
       "      <td>1.0</td>\n",
       "      <td>0.0</td>\n",
       "      <td>0.0</td>\n",
       "      <td>0.0</td>\n",
       "      <td>0.0</td>\n",
       "      <td>0.0</td>\n",
       "      <td>0.0</td>\n",
       "      <td>both</td>\n",
       "    </tr>\n",
       "  </tbody>\n",
       "</table>\n",
       "<p>5 rows × 39 columns</p>\n",
       "</div>"
      ],
      "text/plain": [
       "  phcaseno Sex  Age Nationality Residence in the Philippines  \\\n",
       "0  PH00001   F   38     chinese                         None   \n",
       "1  PH00002   M   44     chinese                         None   \n",
       "2  PH00003   F   60     chinese                         None   \n",
       "3  PH00004   M   48    filipino                  Taguig City   \n",
       "4  PH00005   M   62    filipino                Cainta, Rizal   \n",
       "\n",
       "  History of Travel / Exposure Travel History  \\\n",
       "0    Yes (China); Wife of PH02          china   \n",
       "1  Yes (China); Husband of PH1          china   \n",
       "2                  Yes (China)          china   \n",
       "3                  Yes (Japan)          japan   \n",
       "4              Husband of PH06           none   \n",
       "\n",
       "                                            Epi_Link  \\\n",
       "0                                        Wife of PH2   \n",
       "1                                     Husband of PH1   \n",
       "2  Traveled to Cebu and Bohol. Was already in Chi...   \n",
       "3                                                NaN   \n",
       "4                                     Husband of PH6   \n",
       "\n",
       "      Date of Onset of Symptoms             Date of Admission  ... symp_colds  \\\n",
       "0  Tue Jan 21 00:00:00 EST 2020  Sat Jan 25 00:00:00 EST 2020  ...        NaN   \n",
       "1  Sat Jan 18 00:00:00 EST 2020  Sat Jan 25 00:00:00 EST 2020  ...        0.0   \n",
       "2  Tue Jan 21 00:00:00 EST 2020  Wed Jan 22 00:00:00 EST 2020  ...        NaN   \n",
       "3  Tue Mar 03 00:00:00 EST 2020  Fri Mar 06 00:00:00 EST 2020  ...        0.0   \n",
       "4  Tue Feb 25 00:00:00 EST 2020  Thu Mar 05 00:00:00 EST 2020  ...        0.0   \n",
       "\n",
       "  symp_comorbidity symp_cough symp_dizziness symp_dysphagia symp_dyspnea  \\\n",
       "0              NaN        NaN            NaN            NaN          NaN   \n",
       "1              0.0        1.0            0.0            0.0          0.0   \n",
       "2              NaN        NaN            NaN            NaN          NaN   \n",
       "3              0.0        0.0            0.0            0.0          0.0   \n",
       "4              0.0        1.0            0.0            0.0          0.0   \n",
       "\n",
       "  symp_fever symp_headache symp_sore throat     _merge  \n",
       "0        NaN           NaN              NaN  left_only  \n",
       "1        1.0           0.0              1.0       both  \n",
       "2        NaN           NaN              NaN  left_only  \n",
       "3        1.0           0.0              0.0       both  \n",
       "4        0.0           0.0              0.0       both  \n",
       "\n",
       "[5 rows x 39 columns]"
      ]
     },
     "execution_count": 486,
     "metadata": {},
     "output_type": "execute_result"
    }
   ],
   "source": [
    "data.head()"
   ]
  },
  {
   "cell_type": "code",
   "execution_count": 487,
   "metadata": {},
   "outputs": [],
   "source": [
    "#symptoms\n",
    "#symptoms.to_csv(r'C:\\Users\\User\\Downloads\\df_symptoms.csv')"
   ]
  },
  {
   "cell_type": "code",
   "execution_count": 488,
   "metadata": {},
   "outputs": [],
   "source": [
    "cols = ['symp_asymptomatic',\n",
    "'symp_body malaise',\n",
    "'symp_colds',\n",
    "'symp_comorbidity',\n",
    "'symp_cough',\n",
    "'symp_dizziness',\n",
    "'symp_dysphagia',\n",
    "'symp_dyspnea',\n",
    "'symp_fever',\n",
    "'symp_headache',\n",
    "'symp_sore throat'\n",
    "]"
   ]
  },
  {
   "cell_type": "code",
   "execution_count": 489,
   "metadata": {},
   "outputs": [],
   "source": [
    "data[cols] = data[cols].replace({np.nan:0.0})\n",
    "data[cols] = data[cols].replace({2:1})"
   ]
  },
  {
   "cell_type": "markdown",
   "metadata": {},
   "source": [
    "**Table with One Hot Encoded Symptoms** "
   ]
  },
  {
   "cell_type": "code",
   "execution_count": 490,
   "metadata": {},
   "outputs": [],
   "source": [
    "data = data.drop(['_merge'], axis =1)"
   ]
  },
  {
   "cell_type": "code",
   "execution_count": 491,
   "metadata": {},
   "outputs": [],
   "source": [
    "data['Other disease'].values.tolist()\n",
    "data = data.rename(columns={'Other disease':'other_disease'}, errors=\"raise\")"
   ]
  },
  {
   "cell_type": "code",
   "execution_count": 492,
   "metadata": {},
   "outputs": [],
   "source": [
    "disease = data.set_index('phcaseno').other_disease.str.split(',', expand=True).stack()\n",
    "# disease"
   ]
  },
  {
   "cell_type": "code",
   "execution_count": 493,
   "metadata": {},
   "outputs": [],
   "source": [
    "disease_all= pd.get_dummies(disease, prefix='dis').groupby(level=0).sum()\n",
    "# disease_all"
   ]
  },
  {
   "cell_type": "code",
   "execution_count": 494,
   "metadata": {},
   "outputs": [],
   "source": [
    "data = data.merge(disease_all, on=['phcaseno'], how='left', indicator=True)"
   ]
  },
  {
   "cell_type": "code",
   "execution_count": 495,
   "metadata": {},
   "outputs": [],
   "source": [
    "#disease_all.to_csv(r'C:\\Users\\User\\Downloads\\df_disease.csv')"
   ]
  },
  {
   "cell_type": "code",
   "execution_count": 496,
   "metadata": {},
   "outputs": [],
   "source": [
    "cols = ['dis_acute kidney injury',\n",
    "'dis_acute renal failure',\n",
    "'dis_asthma',\n",
    "'dis_asymptomatic',\n",
    "'dis_atherosclerosis',\n",
    "'dis_benign prostatic hyperplasia',\n",
    "'dis_breast cancer',\n",
    "'dis_cardiovascular disease',\n",
    "'dis_cerebrovascular disease infarction',\n",
    "'dis_chronic obstructive pulmonary disease',\n",
    "'dis_colon cancer',\n",
    "'dis_community-acquired pneumonia',\n",
    "'dis_dengue',\n",
    "'dis_diabetes',\n",
    "'dis_dyslipidemia',\n",
    "'dis_endocrine condition',\n",
    "'dis_hypertension',\n",
    "'dis_hyperthyroidism',\n",
    "'dis_hypothyroidism',\n",
    "'dis_impaired fasting glucose',\n",
    "'dis_peripheral arterial occlusive disease',\n",
    "'dis_permanent atrial fibrillation',\n",
    "'dis_prostatic cancer',\n",
    "'dis_renal disease',\n",
    "'dis_status post renal transplant',\n",
    "'dis_systemic lupus erythematosus',\n",
    "'dis_tongue cancer',\n",
    "'dis_comorbid_unknown'\n",
    "]"
   ]
  },
  {
   "cell_type": "code",
   "execution_count": 497,
   "metadata": {},
   "outputs": [],
   "source": [
    "data[cols] = data[cols].replace({np.nan:0.0})\n",
    "data[cols] = data[cols].replace({2:1})"
   ]
  },
  {
   "cell_type": "code",
   "execution_count": 498,
   "metadata": {},
   "outputs": [
    {
     "data": {
      "text/html": [
       "<div>\n",
       "<style scoped>\n",
       "    .dataframe tbody tr th:only-of-type {\n",
       "        vertical-align: middle;\n",
       "    }\n",
       "\n",
       "    .dataframe tbody tr th {\n",
       "        vertical-align: top;\n",
       "    }\n",
       "\n",
       "    .dataframe thead th {\n",
       "        text-align: right;\n",
       "    }\n",
       "</style>\n",
       "<table border=\"1\" class=\"dataframe\">\n",
       "  <thead>\n",
       "    <tr style=\"text-align: right;\">\n",
       "      <th></th>\n",
       "      <th>phcaseno</th>\n",
       "      <th>Sex</th>\n",
       "      <th>Age</th>\n",
       "      <th>Nationality</th>\n",
       "      <th>Residence in the Philippines</th>\n",
       "      <th>History of Travel / Exposure</th>\n",
       "      <th>Travel History</th>\n",
       "      <th>Epi_Link</th>\n",
       "      <th>Date of Onset of Symptoms</th>\n",
       "      <th>Date of Admission</th>\n",
       "      <th>...</th>\n",
       "      <th>dis_hypothyroidism</th>\n",
       "      <th>dis_impaired fasting glucose</th>\n",
       "      <th>dis_peripheral arterial occlusive disease</th>\n",
       "      <th>dis_permanent atrial fibrillation</th>\n",
       "      <th>dis_prostatic cancer</th>\n",
       "      <th>dis_renal disease</th>\n",
       "      <th>dis_status post renal transplant</th>\n",
       "      <th>dis_systemic lupus erythematosus</th>\n",
       "      <th>dis_tongue cancer</th>\n",
       "      <th>_merge</th>\n",
       "    </tr>\n",
       "  </thead>\n",
       "  <tbody>\n",
       "    <tr>\n",
       "      <td>0</td>\n",
       "      <td>PH00001</td>\n",
       "      <td>F</td>\n",
       "      <td>38</td>\n",
       "      <td>chinese</td>\n",
       "      <td>None</td>\n",
       "      <td>Yes (China); Wife of PH02</td>\n",
       "      <td>china</td>\n",
       "      <td>Wife of PH2</td>\n",
       "      <td>Tue Jan 21 00:00:00 EST 2020</td>\n",
       "      <td>Sat Jan 25 00:00:00 EST 2020</td>\n",
       "      <td>...</td>\n",
       "      <td>0.0</td>\n",
       "      <td>0.0</td>\n",
       "      <td>0.0</td>\n",
       "      <td>0.0</td>\n",
       "      <td>0.0</td>\n",
       "      <td>0.0</td>\n",
       "      <td>0.0</td>\n",
       "      <td>0.0</td>\n",
       "      <td>0.0</td>\n",
       "      <td>left_only</td>\n",
       "    </tr>\n",
       "    <tr>\n",
       "      <td>1</td>\n",
       "      <td>PH00002</td>\n",
       "      <td>M</td>\n",
       "      <td>44</td>\n",
       "      <td>chinese</td>\n",
       "      <td>None</td>\n",
       "      <td>Yes (China); Husband of PH1</td>\n",
       "      <td>china</td>\n",
       "      <td>Husband of PH1</td>\n",
       "      <td>Sat Jan 18 00:00:00 EST 2020</td>\n",
       "      <td>Sat Jan 25 00:00:00 EST 2020</td>\n",
       "      <td>...</td>\n",
       "      <td>0.0</td>\n",
       "      <td>0.0</td>\n",
       "      <td>0.0</td>\n",
       "      <td>0.0</td>\n",
       "      <td>0.0</td>\n",
       "      <td>0.0</td>\n",
       "      <td>0.0</td>\n",
       "      <td>0.0</td>\n",
       "      <td>0.0</td>\n",
       "      <td>left_only</td>\n",
       "    </tr>\n",
       "    <tr>\n",
       "      <td>2</td>\n",
       "      <td>PH00003</td>\n",
       "      <td>F</td>\n",
       "      <td>60</td>\n",
       "      <td>chinese</td>\n",
       "      <td>None</td>\n",
       "      <td>Yes (China)</td>\n",
       "      <td>china</td>\n",
       "      <td>Traveled to Cebu and Bohol. Was already in Chi...</td>\n",
       "      <td>Tue Jan 21 00:00:00 EST 2020</td>\n",
       "      <td>Wed Jan 22 00:00:00 EST 2020</td>\n",
       "      <td>...</td>\n",
       "      <td>0.0</td>\n",
       "      <td>0.0</td>\n",
       "      <td>0.0</td>\n",
       "      <td>0.0</td>\n",
       "      <td>0.0</td>\n",
       "      <td>0.0</td>\n",
       "      <td>0.0</td>\n",
       "      <td>0.0</td>\n",
       "      <td>0.0</td>\n",
       "      <td>left_only</td>\n",
       "    </tr>\n",
       "    <tr>\n",
       "      <td>3</td>\n",
       "      <td>PH00004</td>\n",
       "      <td>M</td>\n",
       "      <td>48</td>\n",
       "      <td>filipino</td>\n",
       "      <td>Taguig City</td>\n",
       "      <td>Yes (Japan)</td>\n",
       "      <td>japan</td>\n",
       "      <td>NaN</td>\n",
       "      <td>Tue Mar 03 00:00:00 EST 2020</td>\n",
       "      <td>Fri Mar 06 00:00:00 EST 2020</td>\n",
       "      <td>...</td>\n",
       "      <td>0.0</td>\n",
       "      <td>0.0</td>\n",
       "      <td>0.0</td>\n",
       "      <td>0.0</td>\n",
       "      <td>0.0</td>\n",
       "      <td>0.0</td>\n",
       "      <td>0.0</td>\n",
       "      <td>0.0</td>\n",
       "      <td>0.0</td>\n",
       "      <td>left_only</td>\n",
       "    </tr>\n",
       "    <tr>\n",
       "      <td>4</td>\n",
       "      <td>PH00005</td>\n",
       "      <td>M</td>\n",
       "      <td>62</td>\n",
       "      <td>filipino</td>\n",
       "      <td>Cainta, Rizal</td>\n",
       "      <td>Husband of PH06</td>\n",
       "      <td>none</td>\n",
       "      <td>Husband of PH6</td>\n",
       "      <td>Tue Feb 25 00:00:00 EST 2020</td>\n",
       "      <td>Thu Mar 05 00:00:00 EST 2020</td>\n",
       "      <td>...</td>\n",
       "      <td>0.0</td>\n",
       "      <td>0.0</td>\n",
       "      <td>0.0</td>\n",
       "      <td>0.0</td>\n",
       "      <td>0.0</td>\n",
       "      <td>0.0</td>\n",
       "      <td>0.0</td>\n",
       "      <td>0.0</td>\n",
       "      <td>0.0</td>\n",
       "      <td>both</td>\n",
       "    </tr>\n",
       "    <tr>\n",
       "      <td>...</td>\n",
       "      <td>...</td>\n",
       "      <td>...</td>\n",
       "      <td>...</td>\n",
       "      <td>...</td>\n",
       "      <td>...</td>\n",
       "      <td>...</td>\n",
       "      <td>...</td>\n",
       "      <td>...</td>\n",
       "      <td>...</td>\n",
       "      <td>...</td>\n",
       "      <td>...</td>\n",
       "      <td>...</td>\n",
       "      <td>...</td>\n",
       "      <td>...</td>\n",
       "      <td>...</td>\n",
       "      <td>...</td>\n",
       "      <td>...</td>\n",
       "      <td>...</td>\n",
       "      <td>...</td>\n",
       "      <td>...</td>\n",
       "      <td>...</td>\n",
       "    </tr>\n",
       "    <tr>\n",
       "      <td>3241</td>\n",
       "      <td>PH03242</td>\n",
       "      <td>F</td>\n",
       "      <td>65</td>\n",
       "      <td>filipino</td>\n",
       "      <td>For validation</td>\n",
       "      <td>0</td>\n",
       "      <td>for validation</td>\n",
       "      <td>NaN</td>\n",
       "      <td>NaN</td>\n",
       "      <td>NaN</td>\n",
       "      <td>...</td>\n",
       "      <td>0.0</td>\n",
       "      <td>0.0</td>\n",
       "      <td>0.0</td>\n",
       "      <td>0.0</td>\n",
       "      <td>0.0</td>\n",
       "      <td>0.0</td>\n",
       "      <td>0.0</td>\n",
       "      <td>0.0</td>\n",
       "      <td>0.0</td>\n",
       "      <td>left_only</td>\n",
       "    </tr>\n",
       "    <tr>\n",
       "      <td>3242</td>\n",
       "      <td>PH03243</td>\n",
       "      <td>F</td>\n",
       "      <td>24</td>\n",
       "      <td>filipino</td>\n",
       "      <td>For validation</td>\n",
       "      <td>0</td>\n",
       "      <td>for validation</td>\n",
       "      <td>NaN</td>\n",
       "      <td>NaN</td>\n",
       "      <td>NaN</td>\n",
       "      <td>...</td>\n",
       "      <td>0.0</td>\n",
       "      <td>0.0</td>\n",
       "      <td>0.0</td>\n",
       "      <td>0.0</td>\n",
       "      <td>0.0</td>\n",
       "      <td>0.0</td>\n",
       "      <td>0.0</td>\n",
       "      <td>0.0</td>\n",
       "      <td>0.0</td>\n",
       "      <td>left_only</td>\n",
       "    </tr>\n",
       "    <tr>\n",
       "      <td>3243</td>\n",
       "      <td>PH03244</td>\n",
       "      <td>M</td>\n",
       "      <td>48</td>\n",
       "      <td>filipino</td>\n",
       "      <td>For validation</td>\n",
       "      <td>0</td>\n",
       "      <td>for validation</td>\n",
       "      <td>NaN</td>\n",
       "      <td>NaN</td>\n",
       "      <td>NaN</td>\n",
       "      <td>...</td>\n",
       "      <td>0.0</td>\n",
       "      <td>0.0</td>\n",
       "      <td>0.0</td>\n",
       "      <td>0.0</td>\n",
       "      <td>0.0</td>\n",
       "      <td>0.0</td>\n",
       "      <td>0.0</td>\n",
       "      <td>0.0</td>\n",
       "      <td>0.0</td>\n",
       "      <td>left_only</td>\n",
       "    </tr>\n",
       "    <tr>\n",
       "      <td>3244</td>\n",
       "      <td>PH03245</td>\n",
       "      <td>M</td>\n",
       "      <td>67</td>\n",
       "      <td>filipino</td>\n",
       "      <td>For validation</td>\n",
       "      <td>0</td>\n",
       "      <td>for validation</td>\n",
       "      <td>NaN</td>\n",
       "      <td>NaN</td>\n",
       "      <td>NaN</td>\n",
       "      <td>...</td>\n",
       "      <td>0.0</td>\n",
       "      <td>0.0</td>\n",
       "      <td>0.0</td>\n",
       "      <td>0.0</td>\n",
       "      <td>0.0</td>\n",
       "      <td>0.0</td>\n",
       "      <td>0.0</td>\n",
       "      <td>0.0</td>\n",
       "      <td>0.0</td>\n",
       "      <td>left_only</td>\n",
       "    </tr>\n",
       "    <tr>\n",
       "      <td>3245</td>\n",
       "      <td>PH03246</td>\n",
       "      <td>F</td>\n",
       "      <td>15</td>\n",
       "      <td>filipino</td>\n",
       "      <td>For validation</td>\n",
       "      <td>0</td>\n",
       "      <td>for validation</td>\n",
       "      <td>NaN</td>\n",
       "      <td>NaN</td>\n",
       "      <td>NaN</td>\n",
       "      <td>...</td>\n",
       "      <td>0.0</td>\n",
       "      <td>0.0</td>\n",
       "      <td>0.0</td>\n",
       "      <td>0.0</td>\n",
       "      <td>0.0</td>\n",
       "      <td>0.0</td>\n",
       "      <td>0.0</td>\n",
       "      <td>0.0</td>\n",
       "      <td>0.0</td>\n",
       "      <td>left_only</td>\n",
       "    </tr>\n",
       "  </tbody>\n",
       "</table>\n",
       "<p>3246 rows × 67 columns</p>\n",
       "</div>"
      ],
      "text/plain": [
       "     phcaseno Sex  Age Nationality Residence in the Philippines  \\\n",
       "0     PH00001   F   38     chinese                         None   \n",
       "1     PH00002   M   44     chinese                         None   \n",
       "2     PH00003   F   60     chinese                         None   \n",
       "3     PH00004   M   48    filipino                  Taguig City   \n",
       "4     PH00005   M   62    filipino                Cainta, Rizal   \n",
       "...       ...  ..  ...         ...                          ...   \n",
       "3241  PH03242   F   65    filipino               For validation   \n",
       "3242  PH03243   F   24    filipino               For validation   \n",
       "3243  PH03244   M   48    filipino               For validation   \n",
       "3244  PH03245   M   67    filipino               For validation   \n",
       "3245  PH03246   F   15    filipino               For validation   \n",
       "\n",
       "     History of Travel / Exposure  Travel History  \\\n",
       "0       Yes (China); Wife of PH02           china   \n",
       "1     Yes (China); Husband of PH1           china   \n",
       "2                     Yes (China)           china   \n",
       "3                     Yes (Japan)           japan   \n",
       "4                 Husband of PH06            none   \n",
       "...                           ...             ...   \n",
       "3241                            0  for validation   \n",
       "3242                            0  for validation   \n",
       "3243                            0  for validation   \n",
       "3244                            0  for validation   \n",
       "3245                            0  for validation   \n",
       "\n",
       "                                               Epi_Link  \\\n",
       "0                                           Wife of PH2   \n",
       "1                                        Husband of PH1   \n",
       "2     Traveled to Cebu and Bohol. Was already in Chi...   \n",
       "3                                                   NaN   \n",
       "4                                        Husband of PH6   \n",
       "...                                                 ...   \n",
       "3241                                                NaN   \n",
       "3242                                                NaN   \n",
       "3243                                                NaN   \n",
       "3244                                                NaN   \n",
       "3245                                                NaN   \n",
       "\n",
       "         Date of Onset of Symptoms             Date of Admission  ...  \\\n",
       "0     Tue Jan 21 00:00:00 EST 2020  Sat Jan 25 00:00:00 EST 2020  ...   \n",
       "1     Sat Jan 18 00:00:00 EST 2020  Sat Jan 25 00:00:00 EST 2020  ...   \n",
       "2     Tue Jan 21 00:00:00 EST 2020  Wed Jan 22 00:00:00 EST 2020  ...   \n",
       "3     Tue Mar 03 00:00:00 EST 2020  Fri Mar 06 00:00:00 EST 2020  ...   \n",
       "4     Tue Feb 25 00:00:00 EST 2020  Thu Mar 05 00:00:00 EST 2020  ...   \n",
       "...                            ...                           ...  ...   \n",
       "3241                           NaN                           NaN  ...   \n",
       "3242                           NaN                           NaN  ...   \n",
       "3243                           NaN                           NaN  ...   \n",
       "3244                           NaN                           NaN  ...   \n",
       "3245                           NaN                           NaN  ...   \n",
       "\n",
       "     dis_hypothyroidism dis_impaired fasting glucose  \\\n",
       "0                   0.0                          0.0   \n",
       "1                   0.0                          0.0   \n",
       "2                   0.0                          0.0   \n",
       "3                   0.0                          0.0   \n",
       "4                   0.0                          0.0   \n",
       "...                 ...                          ...   \n",
       "3241                0.0                          0.0   \n",
       "3242                0.0                          0.0   \n",
       "3243                0.0                          0.0   \n",
       "3244                0.0                          0.0   \n",
       "3245                0.0                          0.0   \n",
       "\n",
       "     dis_peripheral arterial occlusive disease  \\\n",
       "0                                          0.0   \n",
       "1                                          0.0   \n",
       "2                                          0.0   \n",
       "3                                          0.0   \n",
       "4                                          0.0   \n",
       "...                                        ...   \n",
       "3241                                       0.0   \n",
       "3242                                       0.0   \n",
       "3243                                       0.0   \n",
       "3244                                       0.0   \n",
       "3245                                       0.0   \n",
       "\n",
       "     dis_permanent atrial fibrillation dis_prostatic cancer dis_renal disease  \\\n",
       "0                                  0.0                  0.0               0.0   \n",
       "1                                  0.0                  0.0               0.0   \n",
       "2                                  0.0                  0.0               0.0   \n",
       "3                                  0.0                  0.0               0.0   \n",
       "4                                  0.0                  0.0               0.0   \n",
       "...                                ...                  ...               ...   \n",
       "3241                               0.0                  0.0               0.0   \n",
       "3242                               0.0                  0.0               0.0   \n",
       "3243                               0.0                  0.0               0.0   \n",
       "3244                               0.0                  0.0               0.0   \n",
       "3245                               0.0                  0.0               0.0   \n",
       "\n",
       "     dis_status post renal transplant dis_systemic lupus erythematosus  \\\n",
       "0                                 0.0                              0.0   \n",
       "1                                 0.0                              0.0   \n",
       "2                                 0.0                              0.0   \n",
       "3                                 0.0                              0.0   \n",
       "4                                 0.0                              0.0   \n",
       "...                               ...                              ...   \n",
       "3241                              0.0                              0.0   \n",
       "3242                              0.0                              0.0   \n",
       "3243                              0.0                              0.0   \n",
       "3244                              0.0                              0.0   \n",
       "3245                              0.0                              0.0   \n",
       "\n",
       "     dis_tongue cancer     _merge  \n",
       "0                  0.0  left_only  \n",
       "1                  0.0  left_only  \n",
       "2                  0.0  left_only  \n",
       "3                  0.0  left_only  \n",
       "4                  0.0       both  \n",
       "...                ...        ...  \n",
       "3241               0.0  left_only  \n",
       "3242               0.0  left_only  \n",
       "3243               0.0  left_only  \n",
       "3244               0.0  left_only  \n",
       "3245               0.0  left_only  \n",
       "\n",
       "[3246 rows x 67 columns]"
      ]
     },
     "execution_count": 498,
     "metadata": {},
     "output_type": "execute_result"
    }
   ],
   "source": [
    "data"
   ]
  },
  {
   "cell_type": "markdown",
   "metadata": {},
   "source": [
    "**The `symptoms` and `other_disease` columns have no been feature engineered.**"
   ]
  },
  {
   "cell_type": "code",
   "execution_count": 499,
   "metadata": {},
   "outputs": [
    {
     "data": {
      "text/html": [
       "<div>\n",
       "<style scoped>\n",
       "    .dataframe tbody tr th:only-of-type {\n",
       "        vertical-align: middle;\n",
       "    }\n",
       "\n",
       "    .dataframe tbody tr th {\n",
       "        vertical-align: top;\n",
       "    }\n",
       "\n",
       "    .dataframe thead th {\n",
       "        text-align: right;\n",
       "    }\n",
       "</style>\n",
       "<table border=\"1\" class=\"dataframe\">\n",
       "  <thead>\n",
       "    <tr style=\"text-align: right;\">\n",
       "      <th></th>\n",
       "      <th>phcaseno</th>\n",
       "      <th>Sex</th>\n",
       "      <th>Age</th>\n",
       "      <th>Nationality</th>\n",
       "      <th>Residence in the Philippines</th>\n",
       "      <th>History of Travel / Exposure</th>\n",
       "      <th>Travel History</th>\n",
       "      <th>Epi_Link</th>\n",
       "      <th>Date of Onset of Symptoms</th>\n",
       "      <th>Date of Admission</th>\n",
       "      <th>...</th>\n",
       "      <th>dis_hyperthyroidism</th>\n",
       "      <th>dis_hypothyroidism</th>\n",
       "      <th>dis_impaired fasting glucose</th>\n",
       "      <th>dis_peripheral arterial occlusive disease</th>\n",
       "      <th>dis_permanent atrial fibrillation</th>\n",
       "      <th>dis_prostatic cancer</th>\n",
       "      <th>dis_renal disease</th>\n",
       "      <th>dis_status post renal transplant</th>\n",
       "      <th>dis_systemic lupus erythematosus</th>\n",
       "      <th>dis_tongue cancer</th>\n",
       "    </tr>\n",
       "  </thead>\n",
       "  <tbody>\n",
       "    <tr>\n",
       "      <td>0</td>\n",
       "      <td>PH00001</td>\n",
       "      <td>F</td>\n",
       "      <td>38</td>\n",
       "      <td>chinese</td>\n",
       "      <td>None</td>\n",
       "      <td>Yes (China); Wife of PH02</td>\n",
       "      <td>china</td>\n",
       "      <td>Wife of PH2</td>\n",
       "      <td>Tue Jan 21 00:00:00 EST 2020</td>\n",
       "      <td>Sat Jan 25 00:00:00 EST 2020</td>\n",
       "      <td>...</td>\n",
       "      <td>0.0</td>\n",
       "      <td>0.0</td>\n",
       "      <td>0.0</td>\n",
       "      <td>0.0</td>\n",
       "      <td>0.0</td>\n",
       "      <td>0.0</td>\n",
       "      <td>0.0</td>\n",
       "      <td>0.0</td>\n",
       "      <td>0.0</td>\n",
       "      <td>0.0</td>\n",
       "    </tr>\n",
       "    <tr>\n",
       "      <td>1</td>\n",
       "      <td>PH00002</td>\n",
       "      <td>M</td>\n",
       "      <td>44</td>\n",
       "      <td>chinese</td>\n",
       "      <td>None</td>\n",
       "      <td>Yes (China); Husband of PH1</td>\n",
       "      <td>china</td>\n",
       "      <td>Husband of PH1</td>\n",
       "      <td>Sat Jan 18 00:00:00 EST 2020</td>\n",
       "      <td>Sat Jan 25 00:00:00 EST 2020</td>\n",
       "      <td>...</td>\n",
       "      <td>0.0</td>\n",
       "      <td>0.0</td>\n",
       "      <td>0.0</td>\n",
       "      <td>0.0</td>\n",
       "      <td>0.0</td>\n",
       "      <td>0.0</td>\n",
       "      <td>0.0</td>\n",
       "      <td>0.0</td>\n",
       "      <td>0.0</td>\n",
       "      <td>0.0</td>\n",
       "    </tr>\n",
       "    <tr>\n",
       "      <td>2</td>\n",
       "      <td>PH00003</td>\n",
       "      <td>F</td>\n",
       "      <td>60</td>\n",
       "      <td>chinese</td>\n",
       "      <td>None</td>\n",
       "      <td>Yes (China)</td>\n",
       "      <td>china</td>\n",
       "      <td>Traveled to Cebu and Bohol. Was already in Chi...</td>\n",
       "      <td>Tue Jan 21 00:00:00 EST 2020</td>\n",
       "      <td>Wed Jan 22 00:00:00 EST 2020</td>\n",
       "      <td>...</td>\n",
       "      <td>0.0</td>\n",
       "      <td>0.0</td>\n",
       "      <td>0.0</td>\n",
       "      <td>0.0</td>\n",
       "      <td>0.0</td>\n",
       "      <td>0.0</td>\n",
       "      <td>0.0</td>\n",
       "      <td>0.0</td>\n",
       "      <td>0.0</td>\n",
       "      <td>0.0</td>\n",
       "    </tr>\n",
       "    <tr>\n",
       "      <td>3</td>\n",
       "      <td>PH00004</td>\n",
       "      <td>M</td>\n",
       "      <td>48</td>\n",
       "      <td>filipino</td>\n",
       "      <td>Taguig City</td>\n",
       "      <td>Yes (Japan)</td>\n",
       "      <td>japan</td>\n",
       "      <td>NaN</td>\n",
       "      <td>Tue Mar 03 00:00:00 EST 2020</td>\n",
       "      <td>Fri Mar 06 00:00:00 EST 2020</td>\n",
       "      <td>...</td>\n",
       "      <td>0.0</td>\n",
       "      <td>0.0</td>\n",
       "      <td>0.0</td>\n",
       "      <td>0.0</td>\n",
       "      <td>0.0</td>\n",
       "      <td>0.0</td>\n",
       "      <td>0.0</td>\n",
       "      <td>0.0</td>\n",
       "      <td>0.0</td>\n",
       "      <td>0.0</td>\n",
       "    </tr>\n",
       "    <tr>\n",
       "      <td>4</td>\n",
       "      <td>PH00005</td>\n",
       "      <td>M</td>\n",
       "      <td>62</td>\n",
       "      <td>filipino</td>\n",
       "      <td>Cainta, Rizal</td>\n",
       "      <td>Husband of PH06</td>\n",
       "      <td>none</td>\n",
       "      <td>Husband of PH6</td>\n",
       "      <td>Tue Feb 25 00:00:00 EST 2020</td>\n",
       "      <td>Thu Mar 05 00:00:00 EST 2020</td>\n",
       "      <td>...</td>\n",
       "      <td>0.0</td>\n",
       "      <td>0.0</td>\n",
       "      <td>0.0</td>\n",
       "      <td>0.0</td>\n",
       "      <td>0.0</td>\n",
       "      <td>0.0</td>\n",
       "      <td>0.0</td>\n",
       "      <td>0.0</td>\n",
       "      <td>0.0</td>\n",
       "      <td>0.0</td>\n",
       "    </tr>\n",
       "  </tbody>\n",
       "</table>\n",
       "<p>5 rows × 66 columns</p>\n",
       "</div>"
      ],
      "text/plain": [
       "  phcaseno Sex  Age Nationality Residence in the Philippines  \\\n",
       "0  PH00001   F   38     chinese                         None   \n",
       "1  PH00002   M   44     chinese                         None   \n",
       "2  PH00003   F   60     chinese                         None   \n",
       "3  PH00004   M   48    filipino                  Taguig City   \n",
       "4  PH00005   M   62    filipino                Cainta, Rizal   \n",
       "\n",
       "  History of Travel / Exposure Travel History  \\\n",
       "0    Yes (China); Wife of PH02          china   \n",
       "1  Yes (China); Husband of PH1          china   \n",
       "2                  Yes (China)          china   \n",
       "3                  Yes (Japan)          japan   \n",
       "4              Husband of PH06           none   \n",
       "\n",
       "                                            Epi_Link  \\\n",
       "0                                        Wife of PH2   \n",
       "1                                     Husband of PH1   \n",
       "2  Traveled to Cebu and Bohol. Was already in Chi...   \n",
       "3                                                NaN   \n",
       "4                                     Husband of PH6   \n",
       "\n",
       "      Date of Onset of Symptoms             Date of Admission  ...  \\\n",
       "0  Tue Jan 21 00:00:00 EST 2020  Sat Jan 25 00:00:00 EST 2020  ...   \n",
       "1  Sat Jan 18 00:00:00 EST 2020  Sat Jan 25 00:00:00 EST 2020  ...   \n",
       "2  Tue Jan 21 00:00:00 EST 2020  Wed Jan 22 00:00:00 EST 2020  ...   \n",
       "3  Tue Mar 03 00:00:00 EST 2020  Fri Mar 06 00:00:00 EST 2020  ...   \n",
       "4  Tue Feb 25 00:00:00 EST 2020  Thu Mar 05 00:00:00 EST 2020  ...   \n",
       "\n",
       "  dis_hyperthyroidism dis_hypothyroidism dis_impaired fasting glucose  \\\n",
       "0                 0.0                0.0                          0.0   \n",
       "1                 0.0                0.0                          0.0   \n",
       "2                 0.0                0.0                          0.0   \n",
       "3                 0.0                0.0                          0.0   \n",
       "4                 0.0                0.0                          0.0   \n",
       "\n",
       "  dis_peripheral arterial occlusive disease dis_permanent atrial fibrillation  \\\n",
       "0                                       0.0                               0.0   \n",
       "1                                       0.0                               0.0   \n",
       "2                                       0.0                               0.0   \n",
       "3                                       0.0                               0.0   \n",
       "4                                       0.0                               0.0   \n",
       "\n",
       "  dis_prostatic cancer dis_renal disease dis_status post renal transplant  \\\n",
       "0                  0.0               0.0                              0.0   \n",
       "1                  0.0               0.0                              0.0   \n",
       "2                  0.0               0.0                              0.0   \n",
       "3                  0.0               0.0                              0.0   \n",
       "4                  0.0               0.0                              0.0   \n",
       "\n",
       "  dis_systemic lupus erythematosus dis_tongue cancer  \n",
       "0                              0.0               0.0  \n",
       "1                              0.0               0.0  \n",
       "2                              0.0               0.0  \n",
       "3                              0.0               0.0  \n",
       "4                              0.0               0.0  \n",
       "\n",
       "[5 rows x 66 columns]"
      ]
     },
     "execution_count": 499,
     "metadata": {},
     "output_type": "execute_result"
    }
   ],
   "source": [
    "data = data.drop(['_merge'], axis = 1) \n",
    "data.head()"
   ]
  },
  {
   "cell_type": "code",
   "execution_count": 501,
   "metadata": {},
   "outputs": [
    {
     "data": {
      "text/plain": [
       "(3246, 66)"
      ]
     },
     "execution_count": 501,
     "metadata": {},
     "output_type": "execute_result"
    }
   ],
   "source": [
    "data.shape"
   ]
  },
  {
   "cell_type": "code",
   "execution_count": 502,
   "metadata": {},
   "outputs": [],
   "source": [
    "#data.to_csv(r'C:\\Users\\User\\Downloads\\data.csv')"
   ]
  },
  {
   "cell_type": "markdown",
   "metadata": {},
   "source": [
    "<a id='preprocessing_epilink_cell'></a>\n",
    "## Feature Engineering: EpiLink"
   ]
  },
  {
   "cell_type": "code",
   "execution_count": 40,
   "metadata": {},
   "outputs": [],
   "source": [
    "#PREP\n",
    "#make everything lowercase so words like Travel and travel are equivalent\n",
    "data['Epi_Link']=data['Epi_Link'].str.lower()\n",
    "\n",
    "#make NaNs strings since we are using boolean string comparison and I was getting weird errors\n",
    "data['Epi_Link']=data['Epi_Link'].fillna(\"NaN\") "
   ]
  },
  {
   "cell_type": "markdown",
   "metadata": {},
   "source": [
    "Exposure count\n",
    "- Approach: For instances that aren't about travel or aren't really long (less than 50 characters), split on the comma, colon, or and and count"
   ]
  },
  {
   "cell_type": "code",
   "execution_count": 41,
   "metadata": {},
   "outputs": [],
   "source": [
    "#epi link exposure\n",
    "data['Epi_Link_Exposure']=0\n",
    "for i in range(len(data)):\n",
    "    if len(data['Epi_Link'][i]) < 50:\n",
    "        data['Epi_Link'][i]=re.split('; |, | and', data['Epi_Link'][i])                                    \n",
    "        data['Epi_Link_Exposure'][i] = len(data['Epi_Link'][i])\n",
    "                                           \n",
    "    #for now ignore instances that are about travel\n",
    "    if'travel' in data['Epi_Link'][i]:\n",
    "        data['Epi_Link_Exposure'][i] = 0 "
   ]
  },
  {
   "cell_type": "markdown",
   "metadata": {},
   "source": [
    "<a id='preprocessing_dates_cell'></a>\n",
    "## Feature Engineering: Dates"
   ]
  },
  {
   "cell_type": "code",
   "execution_count": 42,
   "metadata": {},
   "outputs": [],
   "source": [
    "# data.columns.tolist()"
   ]
  },
  {
   "cell_type": "code",
   "execution_count": 43,
   "metadata": {},
   "outputs": [],
   "source": [
    "data['Date of Onset of Symptoms'] = pd.to_datetime(data['Date of Onset of Symptoms'])\n",
    "data['Date of Announcement to the Public'] = pd.to_datetime(data['Date of Announcement to the Public'])\n",
    "data['Date of Final Status (recovered/expired)'] = pd.to_datetime(data['Date of Final Status (recovered/expired)'])"
   ]
  },
  {
   "cell_type": "code",
   "execution_count": 44,
   "metadata": {},
   "outputs": [],
   "source": [
    "# add new column\n",
    "data['disease_len_days'] = data['Date of Final Status (recovered/expired)'] - data['Date of Onset of Symptoms']"
   ]
  },
  {
   "cell_type": "markdown",
   "metadata": {},
   "source": [
    "<a id='preprocessing_geo_cell'></a>\n",
    "## Feature Engineering: Geo-location (absolute location)"
   ]
  },
  {
   "cell_type": "code",
   "execution_count": null,
   "metadata": {},
   "outputs": [],
   "source": []
  },
  {
   "cell_type": "code",
   "execution_count": 45,
   "metadata": {},
   "outputs": [],
   "source": [
    "# note: RUN THIS LAST, it takes forever to run"
   ]
  },
  {
   "cell_type": "code",
   "execution_count": 50,
   "metadata": {},
   "outputs": [],
   "source": [
    "# %load_ext au totime\n",
    "import pandas as pd\n",
    "\n",
    "import geopandas as gpd\n",
    "import geopy\n",
    "from geopy.geocoders import Nominatim\n",
    "from geopy.extra.rate_limiter import RateLimiter\n",
    "\n",
    "import matplotlib.pyplot as plt\n",
    "import plotly_express as px\n",
    "import tqdm\n",
    "from tqdm import tqdm\n",
    "from tqdm._tqdm_notebook import tqdm_notebook\n",
    "import time\n",
    "\n",
    "import plotly_express as px"
   ]
  },
  {
   "cell_type": "code",
   "execution_count": 51,
   "metadata": {},
   "outputs": [],
   "source": [
    "geolocator = Nominatim()\n",
    "# geolocator = Nominatim(domain='localhost:8888/nominatim', scheme='http')\n",
    "# geolocator=Nominatim(domain='localhost:8080', scheme='http')"
   ]
  },
  {
   "cell_type": "code",
   "execution_count": 52,
   "metadata": {},
   "outputs": [],
   "source": [
    "def get_zipcode(df, geolocator, lat_field, lon_field):\n",
    "    location = geolocator.reverse((df[lat_field], df[lon_field]), timeout = 100)\n",
    "    time.sleep(1.5)\n",
    "    print(\"Currently at index\", df['phcaseno'], \"/\", len(df))\n",
    "    return location.raw['address']"
   ]
  },
  {
   "cell_type": "code",
   "execution_count": 53,
   "metadata": {},
   "outputs": [],
   "source": [
    "geolocator = geopy.Nominatim(user_agent='my-application')"
   ]
  },
  {
   "cell_type": "code",
   "execution_count": 1,
   "metadata": {
    "scrolled": false
   },
   "outputs": [],
   "source": [
    "# geo_address = data.apply(get_zipcode, axis=1, geolocator=geolocator, lat_field='Latitude', lon_field='Longitude')"
   ]
  },
  {
   "cell_type": "code",
   "execution_count": 55,
   "metadata": {},
   "outputs": [
    {
     "data": {
      "text/plain": [
       "0       {'hospital': 'San Lazaro Hospital', 'road': 'Q...\n",
       "1       {'hospital': 'San Lazaro Hospital', 'road': 'Q...\n",
       "2       {'public_building': 'Francisco Duque Hall', 'r...\n",
       "3       {'hospital': 'University of the East - Ramon M...\n",
       "4       {'hospital': 'Research Institute for Tropical ...\n",
       "                              ...                        \n",
       "3241    {'public_building': 'Francisco Duque Hall', 'r...\n",
       "3242    {'public_building': 'Francisco Duque Hall', 'r...\n",
       "3243    {'public_building': 'Francisco Duque Hall', 'r...\n",
       "3244    {'public_building': 'Francisco Duque Hall', 'r...\n",
       "3245    {'public_building': 'Francisco Duque Hall', 'r...\n",
       "Length: 3246, dtype: object"
      ]
     },
     "execution_count": 55,
     "metadata": {},
     "output_type": "execute_result"
    }
   ],
   "source": [
    "geo_address"
   ]
  },
  {
   "cell_type": "code",
   "execution_count": 56,
   "metadata": {},
   "outputs": [
    {
     "data": {
      "text/plain": [
       "3246"
      ]
     },
     "execution_count": 56,
     "metadata": {},
     "output_type": "execute_result"
    }
   ],
   "source": [
    "len(data)"
   ]
  },
  {
   "cell_type": "code",
   "execution_count": 58,
   "metadata": {},
   "outputs": [],
   "source": [
    "data['geo_address'] = geo_address"
   ]
  },
  {
   "cell_type": "markdown",
   "metadata": {},
   "source": []
  },
  {
   "cell_type": "code",
   "execution_count": 88,
   "metadata": {},
   "outputs": [],
   "source": [
    "temp_data = pd.read_csv('data_clean_w_addresses.csv')"
   ]
  },
  {
   "cell_type": "code",
   "execution_count": 90,
   "metadata": {},
   "outputs": [],
   "source": [
    "# pulling address string from temp_data dataframe\n",
    "\n",
    "data['address'] = temp_data['address']"
   ]
  },
  {
   "cell_type": "code",
   "execution_count": 91,
   "metadata": {},
   "outputs": [
    {
     "data": {
      "text/html": [
       "<div>\n",
       "<style scoped>\n",
       "    .dataframe tbody tr th:only-of-type {\n",
       "        vertical-align: middle;\n",
       "    }\n",
       "\n",
       "    .dataframe tbody tr th {\n",
       "        vertical-align: top;\n",
       "    }\n",
       "\n",
       "    .dataframe thead th {\n",
       "        text-align: right;\n",
       "    }\n",
       "</style>\n",
       "<table border=\"1\" class=\"dataframe\">\n",
       "  <thead>\n",
       "    <tr style=\"text-align: right;\">\n",
       "      <th></th>\n",
       "      <th>phcaseno</th>\n",
       "      <th>Sex</th>\n",
       "      <th>Age</th>\n",
       "      <th>Nationality</th>\n",
       "      <th>Residence in the Philippines</th>\n",
       "      <th>History of Travel / Exposure</th>\n",
       "      <th>Travel History</th>\n",
       "      <th>Epi_Link</th>\n",
       "      <th>Date of Onset of Symptoms</th>\n",
       "      <th>Date of Admission</th>\n",
       "      <th>...</th>\n",
       "      <th>dis_prostatic cancer</th>\n",
       "      <th>dis_remnal disease</th>\n",
       "      <th>dis_status post renal transplant</th>\n",
       "      <th>dis_systemic lupus erythematosus</th>\n",
       "      <th>dis_with comorbid (not specified)</th>\n",
       "      <th>Epi_Link_Exposure</th>\n",
       "      <th>disease_len_days</th>\n",
       "      <th>geo_address</th>\n",
       "      <th>Travel History Binary</th>\n",
       "      <th>address</th>\n",
       "    </tr>\n",
       "  </thead>\n",
       "  <tbody>\n",
       "    <tr>\n",
       "      <th>0</th>\n",
       "      <td>PH00001</td>\n",
       "      <td>F</td>\n",
       "      <td>38</td>\n",
       "      <td>chinese</td>\n",
       "      <td>None</td>\n",
       "      <td>Yes (China); Wife of PH02</td>\n",
       "      <td>china</td>\n",
       "      <td>[wife of ph2]</td>\n",
       "      <td>2020-01-21 00:00:00-05:00</td>\n",
       "      <td>Sat Jan 25 00:00:00 EST 2020</td>\n",
       "      <td>...</td>\n",
       "      <td>0.0</td>\n",
       "      <td>0.0</td>\n",
       "      <td>0.0</td>\n",
       "      <td>0.0</td>\n",
       "      <td>0.0</td>\n",
       "      <td>1</td>\n",
       "      <td>53 days 23:00:00</td>\n",
       "      <td>{'hospital': 'San Lazaro Hospital', 'road': 'Q...</td>\n",
       "      <td>1</td>\n",
       "      <td>San Lazaro Hospital, Quiricada Street, Baranga...</td>\n",
       "    </tr>\n",
       "    <tr>\n",
       "      <th>1</th>\n",
       "      <td>PH00002</td>\n",
       "      <td>M</td>\n",
       "      <td>44</td>\n",
       "      <td>chinese</td>\n",
       "      <td>None</td>\n",
       "      <td>Yes (China); Husband of PH1</td>\n",
       "      <td>china</td>\n",
       "      <td>[husband of ph1]</td>\n",
       "      <td>2020-01-18 00:00:00-05:00</td>\n",
       "      <td>Sat Jan 25 00:00:00 EST 2020</td>\n",
       "      <td>...</td>\n",
       "      <td>0.0</td>\n",
       "      <td>0.0</td>\n",
       "      <td>0.0</td>\n",
       "      <td>0.0</td>\n",
       "      <td>0.0</td>\n",
       "      <td>1</td>\n",
       "      <td>14 days 00:00:00</td>\n",
       "      <td>{'hospital': 'San Lazaro Hospital', 'road': 'Q...</td>\n",
       "      <td>1</td>\n",
       "      <td>San Lazaro Hospital, Quiricada Street, Baranga...</td>\n",
       "    </tr>\n",
       "    <tr>\n",
       "      <th>2</th>\n",
       "      <td>PH00003</td>\n",
       "      <td>F</td>\n",
       "      <td>60</td>\n",
       "      <td>chinese</td>\n",
       "      <td>None</td>\n",
       "      <td>Yes (China)</td>\n",
       "      <td>china</td>\n",
       "      <td>traveled to cebu and bohol. was already in chi...</td>\n",
       "      <td>2020-01-21 00:00:00-05:00</td>\n",
       "      <td>Wed Jan 22 00:00:00 EST 2020</td>\n",
       "      <td>...</td>\n",
       "      <td>0.0</td>\n",
       "      <td>0.0</td>\n",
       "      <td>0.0</td>\n",
       "      <td>0.0</td>\n",
       "      <td>0.0</td>\n",
       "      <td>0</td>\n",
       "      <td>53 days 23:00:00</td>\n",
       "      <td>{'public_building': 'Francisco Duque Hall', 'r...</td>\n",
       "      <td>1</td>\n",
       "      <td>Francisco Duque Hall, Tayuman Street, Santa Cr...</td>\n",
       "    </tr>\n",
       "    <tr>\n",
       "      <th>3</th>\n",
       "      <td>PH00004</td>\n",
       "      <td>M</td>\n",
       "      <td>48</td>\n",
       "      <td>filipino</td>\n",
       "      <td>Taguig City</td>\n",
       "      <td>Yes (Japan)</td>\n",
       "      <td>japan</td>\n",
       "      <td>[NaN]</td>\n",
       "      <td>2020-03-03 00:00:00-05:00</td>\n",
       "      <td>Fri Mar 06 00:00:00 EST 2020</td>\n",
       "      <td>...</td>\n",
       "      <td>0.0</td>\n",
       "      <td>0.0</td>\n",
       "      <td>0.0</td>\n",
       "      <td>0.0</td>\n",
       "      <td>0.0</td>\n",
       "      <td>1</td>\n",
       "      <td>15 days 23:00:00</td>\n",
       "      <td>{'hospital': 'University of the East - Ramon M...</td>\n",
       "      <td>1</td>\n",
       "      <td>University of the East - Ramon Magsaysay Memor...</td>\n",
       "    </tr>\n",
       "    <tr>\n",
       "      <th>4</th>\n",
       "      <td>PH00005</td>\n",
       "      <td>M</td>\n",
       "      <td>62</td>\n",
       "      <td>filipino</td>\n",
       "      <td>Cainta, Rizal</td>\n",
       "      <td>Husband of PH06</td>\n",
       "      <td>none</td>\n",
       "      <td>[husband of ph6]</td>\n",
       "      <td>2020-02-25 00:00:00-05:00</td>\n",
       "      <td>Thu Mar 05 00:00:00 EST 2020</td>\n",
       "      <td>...</td>\n",
       "      <td>0.0</td>\n",
       "      <td>0.0</td>\n",
       "      <td>0.0</td>\n",
       "      <td>0.0</td>\n",
       "      <td>0.0</td>\n",
       "      <td>1</td>\n",
       "      <td>15 days 23:00:00</td>\n",
       "      <td>{'hospital': 'Research Institute for Tropical ...</td>\n",
       "      <td>0</td>\n",
       "      <td>Research Institute for Tropical Medicine, Corp...</td>\n",
       "    </tr>\n",
       "  </tbody>\n",
       "</table>\n",
       "<p>5 rows × 113 columns</p>\n",
       "</div>"
      ],
      "text/plain": [
       "  phcaseno Sex  Age Nationality Residence in the Philippines  \\\n",
       "0  PH00001   F   38     chinese                         None   \n",
       "1  PH00002   M   44     chinese                         None   \n",
       "2  PH00003   F   60     chinese                         None   \n",
       "3  PH00004   M   48    filipino                  Taguig City   \n",
       "4  PH00005   M   62    filipino                Cainta, Rizal   \n",
       "\n",
       "  History of Travel / Exposure Travel History  \\\n",
       "0    Yes (China); Wife of PH02          china   \n",
       "1  Yes (China); Husband of PH1          china   \n",
       "2                  Yes (China)          china   \n",
       "3                  Yes (Japan)          japan   \n",
       "4              Husband of PH06           none   \n",
       "\n",
       "                                            Epi_Link  \\\n",
       "0                                      [wife of ph2]   \n",
       "1                                   [husband of ph1]   \n",
       "2  traveled to cebu and bohol. was already in chi...   \n",
       "3                                              [NaN]   \n",
       "4                                   [husband of ph6]   \n",
       "\n",
       "  Date of Onset of Symptoms             Date of Admission  ...  \\\n",
       "0 2020-01-21 00:00:00-05:00  Sat Jan 25 00:00:00 EST 2020  ...   \n",
       "1 2020-01-18 00:00:00-05:00  Sat Jan 25 00:00:00 EST 2020  ...   \n",
       "2 2020-01-21 00:00:00-05:00  Wed Jan 22 00:00:00 EST 2020  ...   \n",
       "3 2020-03-03 00:00:00-05:00  Fri Mar 06 00:00:00 EST 2020  ...   \n",
       "4 2020-02-25 00:00:00-05:00  Thu Mar 05 00:00:00 EST 2020  ...   \n",
       "\n",
       "  dis_prostatic cancer dis_remnal disease dis_status post renal transplant  \\\n",
       "0                  0.0                0.0                              0.0   \n",
       "1                  0.0                0.0                              0.0   \n",
       "2                  0.0                0.0                              0.0   \n",
       "3                  0.0                0.0                              0.0   \n",
       "4                  0.0                0.0                              0.0   \n",
       "\n",
       "  dis_systemic lupus erythematosus dis_with comorbid (not specified)  \\\n",
       "0                              0.0                               0.0   \n",
       "1                              0.0                               0.0   \n",
       "2                              0.0                               0.0   \n",
       "3                              0.0                               0.0   \n",
       "4                              0.0                               0.0   \n",
       "\n",
       "  Epi_Link_Exposure disease_len_days  \\\n",
       "0                 1 53 days 23:00:00   \n",
       "1                 1 14 days 00:00:00   \n",
       "2                 0 53 days 23:00:00   \n",
       "3                 1 15 days 23:00:00   \n",
       "4                 1 15 days 23:00:00   \n",
       "\n",
       "                                         geo_address Travel History Binary  \\\n",
       "0  {'hospital': 'San Lazaro Hospital', 'road': 'Q...                     1   \n",
       "1  {'hospital': 'San Lazaro Hospital', 'road': 'Q...                     1   \n",
       "2  {'public_building': 'Francisco Duque Hall', 'r...                     1   \n",
       "3  {'hospital': 'University of the East - Ramon M...                     1   \n",
       "4  {'hospital': 'Research Institute for Tropical ...                     0   \n",
       "\n",
       "                                             address  \n",
       "0  San Lazaro Hospital, Quiricada Street, Baranga...  \n",
       "1  San Lazaro Hospital, Quiricada Street, Baranga...  \n",
       "2  Francisco Duque Hall, Tayuman Street, Santa Cr...  \n",
       "3  University of the East - Ramon Magsaysay Memor...  \n",
       "4  Research Institute for Tropical Medicine, Corp...  \n",
       "\n",
       "[5 rows x 113 columns]"
      ]
     },
     "execution_count": 91,
     "metadata": {},
     "output_type": "execute_result"
    }
   ],
   "source": [
    "data.head()"
   ]
  },
  {
   "cell_type": "markdown",
   "metadata": {},
   "source": [
    "## Feature Engineering: Travel History"
   ]
  },
  {
   "cell_type": "code",
   "execution_count": 94,
   "metadata": {},
   "outputs": [],
   "source": [
    "# function to convert Travel History to 3 classes\n",
    "# -1 : No data for Travel History\n",
    "# 0 : Did not travel outside of the Philippines\n",
    "# 1 : Traveled abroad\n",
    "\n",
    "def convert_travel_hist(series):\n",
    "    if series.lower() == 'for validation':\n",
    "        return -1\n",
    "    elif series.lower() == 'none'or series.lower() == 'went to Greenhills':\n",
    "        return 0\n",
    "    else:\n",
    "        return 1"
   ]
  },
  {
   "cell_type": "code",
   "execution_count": 95,
   "metadata": {},
   "outputs": [],
   "source": [
    "data['Travel History Binary'] = data['Travel History'].apply(convert_travel_hist)"
   ]
  },
  {
   "cell_type": "code",
   "execution_count": 96,
   "metadata": {
    "scrolled": true
   },
   "outputs": [
    {
     "data": {
      "text/html": [
       "<div>\n",
       "<style scoped>\n",
       "    .dataframe tbody tr th:only-of-type {\n",
       "        vertical-align: middle;\n",
       "    }\n",
       "\n",
       "    .dataframe tbody tr th {\n",
       "        vertical-align: top;\n",
       "    }\n",
       "\n",
       "    .dataframe thead th {\n",
       "        text-align: right;\n",
       "    }\n",
       "</style>\n",
       "<table border=\"1\" class=\"dataframe\">\n",
       "  <thead>\n",
       "    <tr style=\"text-align: right;\">\n",
       "      <th></th>\n",
       "      <th>phcaseno</th>\n",
       "      <th>Sex</th>\n",
       "      <th>Age</th>\n",
       "      <th>Nationality</th>\n",
       "      <th>Residence in the Philippines</th>\n",
       "      <th>History of Travel / Exposure</th>\n",
       "      <th>Travel History</th>\n",
       "      <th>Epi_Link</th>\n",
       "      <th>Date of Onset of Symptoms</th>\n",
       "      <th>Date of Admission</th>\n",
       "      <th>...</th>\n",
       "      <th>dis_prostatic cancer</th>\n",
       "      <th>dis_remnal disease</th>\n",
       "      <th>dis_status post renal transplant</th>\n",
       "      <th>dis_systemic lupus erythematosus</th>\n",
       "      <th>dis_with comorbid (not specified)</th>\n",
       "      <th>Epi_Link_Exposure</th>\n",
       "      <th>disease_len_days</th>\n",
       "      <th>geo_address</th>\n",
       "      <th>address</th>\n",
       "      <th>Travel History Binary</th>\n",
       "    </tr>\n",
       "  </thead>\n",
       "  <tbody>\n",
       "    <tr>\n",
       "      <th>0</th>\n",
       "      <td>PH00001</td>\n",
       "      <td>F</td>\n",
       "      <td>38</td>\n",
       "      <td>chinese</td>\n",
       "      <td>None</td>\n",
       "      <td>Yes (China); Wife of PH02</td>\n",
       "      <td>china</td>\n",
       "      <td>[wife of ph2]</td>\n",
       "      <td>2020-01-21 00:00:00-05:00</td>\n",
       "      <td>Sat Jan 25 00:00:00 EST 2020</td>\n",
       "      <td>...</td>\n",
       "      <td>0.0</td>\n",
       "      <td>0.0</td>\n",
       "      <td>0.0</td>\n",
       "      <td>0.0</td>\n",
       "      <td>0.0</td>\n",
       "      <td>1</td>\n",
       "      <td>53 days 23:00:00</td>\n",
       "      <td>{'hospital': 'San Lazaro Hospital', 'road': 'Q...</td>\n",
       "      <td>San Lazaro Hospital, Quiricada Street, Baranga...</td>\n",
       "      <td>1</td>\n",
       "    </tr>\n",
       "    <tr>\n",
       "      <th>1</th>\n",
       "      <td>PH00002</td>\n",
       "      <td>M</td>\n",
       "      <td>44</td>\n",
       "      <td>chinese</td>\n",
       "      <td>None</td>\n",
       "      <td>Yes (China); Husband of PH1</td>\n",
       "      <td>china</td>\n",
       "      <td>[husband of ph1]</td>\n",
       "      <td>2020-01-18 00:00:00-05:00</td>\n",
       "      <td>Sat Jan 25 00:00:00 EST 2020</td>\n",
       "      <td>...</td>\n",
       "      <td>0.0</td>\n",
       "      <td>0.0</td>\n",
       "      <td>0.0</td>\n",
       "      <td>0.0</td>\n",
       "      <td>0.0</td>\n",
       "      <td>1</td>\n",
       "      <td>14 days 00:00:00</td>\n",
       "      <td>{'hospital': 'San Lazaro Hospital', 'road': 'Q...</td>\n",
       "      <td>San Lazaro Hospital, Quiricada Street, Baranga...</td>\n",
       "      <td>1</td>\n",
       "    </tr>\n",
       "    <tr>\n",
       "      <th>2</th>\n",
       "      <td>PH00003</td>\n",
       "      <td>F</td>\n",
       "      <td>60</td>\n",
       "      <td>chinese</td>\n",
       "      <td>None</td>\n",
       "      <td>Yes (China)</td>\n",
       "      <td>china</td>\n",
       "      <td>traveled to cebu and bohol. was already in chi...</td>\n",
       "      <td>2020-01-21 00:00:00-05:00</td>\n",
       "      <td>Wed Jan 22 00:00:00 EST 2020</td>\n",
       "      <td>...</td>\n",
       "      <td>0.0</td>\n",
       "      <td>0.0</td>\n",
       "      <td>0.0</td>\n",
       "      <td>0.0</td>\n",
       "      <td>0.0</td>\n",
       "      <td>0</td>\n",
       "      <td>53 days 23:00:00</td>\n",
       "      <td>{'public_building': 'Francisco Duque Hall', 'r...</td>\n",
       "      <td>Francisco Duque Hall, Tayuman Street, Santa Cr...</td>\n",
       "      <td>1</td>\n",
       "    </tr>\n",
       "    <tr>\n",
       "      <th>3</th>\n",
       "      <td>PH00004</td>\n",
       "      <td>M</td>\n",
       "      <td>48</td>\n",
       "      <td>filipino</td>\n",
       "      <td>Taguig City</td>\n",
       "      <td>Yes (Japan)</td>\n",
       "      <td>japan</td>\n",
       "      <td>[NaN]</td>\n",
       "      <td>2020-03-03 00:00:00-05:00</td>\n",
       "      <td>Fri Mar 06 00:00:00 EST 2020</td>\n",
       "      <td>...</td>\n",
       "      <td>0.0</td>\n",
       "      <td>0.0</td>\n",
       "      <td>0.0</td>\n",
       "      <td>0.0</td>\n",
       "      <td>0.0</td>\n",
       "      <td>1</td>\n",
       "      <td>15 days 23:00:00</td>\n",
       "      <td>{'hospital': 'University of the East - Ramon M...</td>\n",
       "      <td>University of the East - Ramon Magsaysay Memor...</td>\n",
       "      <td>1</td>\n",
       "    </tr>\n",
       "    <tr>\n",
       "      <th>4</th>\n",
       "      <td>PH00005</td>\n",
       "      <td>M</td>\n",
       "      <td>62</td>\n",
       "      <td>filipino</td>\n",
       "      <td>Cainta, Rizal</td>\n",
       "      <td>Husband of PH06</td>\n",
       "      <td>none</td>\n",
       "      <td>[husband of ph6]</td>\n",
       "      <td>2020-02-25 00:00:00-05:00</td>\n",
       "      <td>Thu Mar 05 00:00:00 EST 2020</td>\n",
       "      <td>...</td>\n",
       "      <td>0.0</td>\n",
       "      <td>0.0</td>\n",
       "      <td>0.0</td>\n",
       "      <td>0.0</td>\n",
       "      <td>0.0</td>\n",
       "      <td>1</td>\n",
       "      <td>15 days 23:00:00</td>\n",
       "      <td>{'hospital': 'Research Institute for Tropical ...</td>\n",
       "      <td>Research Institute for Tropical Medicine, Corp...</td>\n",
       "      <td>0</td>\n",
       "    </tr>\n",
       "  </tbody>\n",
       "</table>\n",
       "<p>5 rows × 113 columns</p>\n",
       "</div>"
      ],
      "text/plain": [
       "  phcaseno Sex  Age Nationality Residence in the Philippines  \\\n",
       "0  PH00001   F   38     chinese                         None   \n",
       "1  PH00002   M   44     chinese                         None   \n",
       "2  PH00003   F   60     chinese                         None   \n",
       "3  PH00004   M   48    filipino                  Taguig City   \n",
       "4  PH00005   M   62    filipino                Cainta, Rizal   \n",
       "\n",
       "  History of Travel / Exposure Travel History  \\\n",
       "0    Yes (China); Wife of PH02          china   \n",
       "1  Yes (China); Husband of PH1          china   \n",
       "2                  Yes (China)          china   \n",
       "3                  Yes (Japan)          japan   \n",
       "4              Husband of PH06           none   \n",
       "\n",
       "                                            Epi_Link  \\\n",
       "0                                      [wife of ph2]   \n",
       "1                                   [husband of ph1]   \n",
       "2  traveled to cebu and bohol. was already in chi...   \n",
       "3                                              [NaN]   \n",
       "4                                   [husband of ph6]   \n",
       "\n",
       "  Date of Onset of Symptoms             Date of Admission  ...  \\\n",
       "0 2020-01-21 00:00:00-05:00  Sat Jan 25 00:00:00 EST 2020  ...   \n",
       "1 2020-01-18 00:00:00-05:00  Sat Jan 25 00:00:00 EST 2020  ...   \n",
       "2 2020-01-21 00:00:00-05:00  Wed Jan 22 00:00:00 EST 2020  ...   \n",
       "3 2020-03-03 00:00:00-05:00  Fri Mar 06 00:00:00 EST 2020  ...   \n",
       "4 2020-02-25 00:00:00-05:00  Thu Mar 05 00:00:00 EST 2020  ...   \n",
       "\n",
       "  dis_prostatic cancer dis_remnal disease dis_status post renal transplant  \\\n",
       "0                  0.0                0.0                              0.0   \n",
       "1                  0.0                0.0                              0.0   \n",
       "2                  0.0                0.0                              0.0   \n",
       "3                  0.0                0.0                              0.0   \n",
       "4                  0.0                0.0                              0.0   \n",
       "\n",
       "  dis_systemic lupus erythematosus dis_with comorbid (not specified)  \\\n",
       "0                              0.0                               0.0   \n",
       "1                              0.0                               0.0   \n",
       "2                              0.0                               0.0   \n",
       "3                              0.0                               0.0   \n",
       "4                              0.0                               0.0   \n",
       "\n",
       "  Epi_Link_Exposure disease_len_days  \\\n",
       "0                 1 53 days 23:00:00   \n",
       "1                 1 14 days 00:00:00   \n",
       "2                 0 53 days 23:00:00   \n",
       "3                 1 15 days 23:00:00   \n",
       "4                 1 15 days 23:00:00   \n",
       "\n",
       "                                         geo_address  \\\n",
       "0  {'hospital': 'San Lazaro Hospital', 'road': 'Q...   \n",
       "1  {'hospital': 'San Lazaro Hospital', 'road': 'Q...   \n",
       "2  {'public_building': 'Francisco Duque Hall', 'r...   \n",
       "3  {'hospital': 'University of the East - Ramon M...   \n",
       "4  {'hospital': 'Research Institute for Tropical ...   \n",
       "\n",
       "                                             address Travel History Binary  \n",
       "0  San Lazaro Hospital, Quiricada Street, Baranga...                     1  \n",
       "1  San Lazaro Hospital, Quiricada Street, Baranga...                     1  \n",
       "2  Francisco Duque Hall, Tayuman Street, Santa Cr...                     1  \n",
       "3  University of the East - Ramon Magsaysay Memor...                     1  \n",
       "4  Research Institute for Tropical Medicine, Corp...                     0  \n",
       "\n",
       "[5 rows x 113 columns]"
      ]
     },
     "execution_count": 96,
     "metadata": {},
     "output_type": "execute_result"
    }
   ],
   "source": [
    "data.head()"
   ]
  },
  {
   "cell_type": "markdown",
   "metadata": {},
   "source": [
    "## Feature Engineering: Population Income\n",
    "Note: Average Income based on the region each patient lives in"
   ]
  },
  {
   "cell_type": "code",
   "execution_count": 122,
   "metadata": {},
   "outputs": [],
   "source": [
    "def extract_region(series):\n",
    "    if type(series) != str:\n",
    "        return \n",
    "        \n",
    "    if 'NCR' in series:\n",
    "        return 'NCR'\n",
    "    elif 'Cordillera Administrative Region' in series:\n",
    "        return 'CAR'\n",
    "    elif 'Ilocos' in series:\n",
    "        return 'Ilocos'\n",
    "    elif 'Cagayan Valley' in series:\n",
    "        return 'Cagayan Valley'\n",
    "    elif 'Central Luzon' in series:\n",
    "        return 'Central Luzon'\n",
    "    elif 'Calabarzon' in series:\n",
    "        return 'Calabarzon'\n",
    "    elif 'Bicol' in series:\n",
    "        return 'Bicol'\n",
    "    elif 'Western Visayas' in series:\n",
    "        return 'Western Visayas'\n",
    "    elif 'Central Visayas' in series:\n",
    "        return 'Central Visayas'\n",
    "    elif 'Eastern Visayas' in series:\n",
    "        return 'Eastern Visayas'\n",
    "    elif 'Zamboanga Peninsula' in series:\n",
    "        return 'Zamboanga Peninsula'\n",
    "    elif 'Northern Mindanao' in series:\n",
    "        return 'Northern Mindanao'\n",
    "    elif 'Davao' in series:\n",
    "        return 'Davao'\n",
    "    elif 'Soccsksargen' in series:\n",
    "        return 'Soccsksargen'\n",
    "    elif 'Caraga' in series:\n",
    "        return 'Caraga'\n",
    "    else:\n",
    "        return 'Bangsamoro Autonomous Region in Muslim Mindanao'"
   ]
  },
  {
   "cell_type": "code",
   "execution_count": 104,
   "metadata": {},
   "outputs": [
    {
     "data": {
      "text/plain": [
       "'San Lazaro Hospital, Quiricada Street, Barangay 325, Manila, Third District, NCR, First District, Metro Manila, 1003, Philippines'"
      ]
     },
     "execution_count": 104,
     "metadata": {},
     "output_type": "execute_result"
    }
   ],
   "source": [
    "data['address'][0]"
   ]
  },
  {
   "cell_type": "code",
   "execution_count": 103,
   "metadata": {},
   "outputs": [
    {
     "data": {
      "text/plain": [
       "str"
      ]
     },
     "execution_count": 103,
     "metadata": {},
     "output_type": "execute_result"
    }
   ],
   "source": [
    "type(data['address'][0])"
   ]
  },
  {
   "cell_type": "code",
   "execution_count": 123,
   "metadata": {},
   "outputs": [],
   "source": [
    "data['region_inc'] = data['address'].apply(extract_region)"
   ]
  },
  {
   "cell_type": "code",
   "execution_count": 125,
   "metadata": {},
   "outputs": [],
   "source": [
    "#data.head()"
   ]
  },
  {
   "cell_type": "code",
   "execution_count": 129,
   "metadata": {},
   "outputs": [],
   "source": [
    "# create a dataframe for income in different regions\n",
    "# https://psa.gov.ph/content/annual-family-income-estimated-php-313-thousand-average-2018\n",
    "\n",
    "region_income = {'region_inc': ['NCR', 'CAR', 'Illocos', 'Cagayan Valley', 'Central Luzon', 'Calabarzon', 'Bicol', 'Western Visayas',\n",
    "                 'Central Visayas', 'Eastern Visayas', 'Zamboanga Peninsula', 'Northern Mindanao', 'Davao', 'Soccsksargen',\n",
    "                 'Caraga', 'Bangsamoro Autonomous Region in Muslim Mindanao'],\n",
    "       'average income (in thousand pesos)': [460, 354,287,265,334,384,235,266,308,227,228,250,268,242,243,161]}\n",
    "income_data = pd.DataFrame(region_income)"
   ]
  },
  {
   "cell_type": "code",
   "execution_count": 130,
   "metadata": {},
   "outputs": [],
   "source": [
    "data = data.merge(income_data, on='region_inc')"
   ]
  },
  {
   "cell_type": "code",
   "execution_count": 134,
   "metadata": {},
   "outputs": [
    {
     "data": {
      "text/html": [
       "<div>\n",
       "<style scoped>\n",
       "    .dataframe tbody tr th:only-of-type {\n",
       "        vertical-align: middle;\n",
       "    }\n",
       "\n",
       "    .dataframe tbody tr th {\n",
       "        vertical-align: top;\n",
       "    }\n",
       "\n",
       "    .dataframe thead th {\n",
       "        text-align: right;\n",
       "    }\n",
       "</style>\n",
       "<table border=\"1\" class=\"dataframe\">\n",
       "  <thead>\n",
       "    <tr style=\"text-align: right;\">\n",
       "      <th></th>\n",
       "      <th>phcaseno</th>\n",
       "      <th>Sex</th>\n",
       "      <th>Age</th>\n",
       "      <th>Nationality</th>\n",
       "      <th>Residence in the Philippines</th>\n",
       "      <th>History of Travel / Exposure</th>\n",
       "      <th>Travel History</th>\n",
       "      <th>Epi_Link</th>\n",
       "      <th>Date of Onset of Symptoms</th>\n",
       "      <th>Date of Admission</th>\n",
       "      <th>...</th>\n",
       "      <th>dis_status post renal transplant</th>\n",
       "      <th>dis_systemic lupus erythematosus</th>\n",
       "      <th>dis_with comorbid (not specified)</th>\n",
       "      <th>Epi_Link_Exposure</th>\n",
       "      <th>disease_len_days</th>\n",
       "      <th>geo_address</th>\n",
       "      <th>address</th>\n",
       "      <th>Travel History Binary</th>\n",
       "      <th>region_inc</th>\n",
       "      <th>average income (in thousand pesos)</th>\n",
       "    </tr>\n",
       "  </thead>\n",
       "  <tbody>\n",
       "    <tr>\n",
       "      <th>0</th>\n",
       "      <td>PH00001</td>\n",
       "      <td>F</td>\n",
       "      <td>38</td>\n",
       "      <td>chinese</td>\n",
       "      <td>None</td>\n",
       "      <td>Yes (China); Wife of PH02</td>\n",
       "      <td>china</td>\n",
       "      <td>[wife of ph2]</td>\n",
       "      <td>2020-01-21 00:00:00-05:00</td>\n",
       "      <td>Sat Jan 25 00:00:00 EST 2020</td>\n",
       "      <td>...</td>\n",
       "      <td>0.0</td>\n",
       "      <td>0.0</td>\n",
       "      <td>0.0</td>\n",
       "      <td>1</td>\n",
       "      <td>53 days 23:00:00</td>\n",
       "      <td>{'hospital': 'San Lazaro Hospital', 'road': 'Q...</td>\n",
       "      <td>San Lazaro Hospital, Quiricada Street, Baranga...</td>\n",
       "      <td>1</td>\n",
       "      <td>NCR</td>\n",
       "      <td>460</td>\n",
       "    </tr>\n",
       "    <tr>\n",
       "      <th>1</th>\n",
       "      <td>PH00002</td>\n",
       "      <td>M</td>\n",
       "      <td>44</td>\n",
       "      <td>chinese</td>\n",
       "      <td>None</td>\n",
       "      <td>Yes (China); Husband of PH1</td>\n",
       "      <td>china</td>\n",
       "      <td>[husband of ph1]</td>\n",
       "      <td>2020-01-18 00:00:00-05:00</td>\n",
       "      <td>Sat Jan 25 00:00:00 EST 2020</td>\n",
       "      <td>...</td>\n",
       "      <td>0.0</td>\n",
       "      <td>0.0</td>\n",
       "      <td>0.0</td>\n",
       "      <td>1</td>\n",
       "      <td>14 days 00:00:00</td>\n",
       "      <td>{'hospital': 'San Lazaro Hospital', 'road': 'Q...</td>\n",
       "      <td>San Lazaro Hospital, Quiricada Street, Baranga...</td>\n",
       "      <td>1</td>\n",
       "      <td>NCR</td>\n",
       "      <td>460</td>\n",
       "    </tr>\n",
       "    <tr>\n",
       "      <th>2</th>\n",
       "      <td>PH00003</td>\n",
       "      <td>F</td>\n",
       "      <td>60</td>\n",
       "      <td>chinese</td>\n",
       "      <td>None</td>\n",
       "      <td>Yes (China)</td>\n",
       "      <td>china</td>\n",
       "      <td>traveled to cebu and bohol. was already in chi...</td>\n",
       "      <td>2020-01-21 00:00:00-05:00</td>\n",
       "      <td>Wed Jan 22 00:00:00 EST 2020</td>\n",
       "      <td>...</td>\n",
       "      <td>0.0</td>\n",
       "      <td>0.0</td>\n",
       "      <td>0.0</td>\n",
       "      <td>0</td>\n",
       "      <td>53 days 23:00:00</td>\n",
       "      <td>{'public_building': 'Francisco Duque Hall', 'r...</td>\n",
       "      <td>Francisco Duque Hall, Tayuman Street, Santa Cr...</td>\n",
       "      <td>1</td>\n",
       "      <td>NCR</td>\n",
       "      <td>460</td>\n",
       "    </tr>\n",
       "    <tr>\n",
       "      <th>3</th>\n",
       "      <td>PH00004</td>\n",
       "      <td>M</td>\n",
       "      <td>48</td>\n",
       "      <td>filipino</td>\n",
       "      <td>Taguig City</td>\n",
       "      <td>Yes (Japan)</td>\n",
       "      <td>japan</td>\n",
       "      <td>[NaN]</td>\n",
       "      <td>2020-03-03 00:00:00-05:00</td>\n",
       "      <td>Fri Mar 06 00:00:00 EST 2020</td>\n",
       "      <td>...</td>\n",
       "      <td>0.0</td>\n",
       "      <td>0.0</td>\n",
       "      <td>0.0</td>\n",
       "      <td>1</td>\n",
       "      <td>15 days 23:00:00</td>\n",
       "      <td>{'hospital': 'University of the East - Ramon M...</td>\n",
       "      <td>University of the East - Ramon Magsaysay Memor...</td>\n",
       "      <td>1</td>\n",
       "      <td>NCR</td>\n",
       "      <td>460</td>\n",
       "    </tr>\n",
       "    <tr>\n",
       "      <th>4</th>\n",
       "      <td>PH00005</td>\n",
       "      <td>M</td>\n",
       "      <td>62</td>\n",
       "      <td>filipino</td>\n",
       "      <td>Cainta, Rizal</td>\n",
       "      <td>Husband of PH06</td>\n",
       "      <td>none</td>\n",
       "      <td>[husband of ph6]</td>\n",
       "      <td>2020-02-25 00:00:00-05:00</td>\n",
       "      <td>Thu Mar 05 00:00:00 EST 2020</td>\n",
       "      <td>...</td>\n",
       "      <td>0.0</td>\n",
       "      <td>0.0</td>\n",
       "      <td>0.0</td>\n",
       "      <td>1</td>\n",
       "      <td>15 days 23:00:00</td>\n",
       "      <td>{'hospital': 'Research Institute for Tropical ...</td>\n",
       "      <td>Research Institute for Tropical Medicine, Corp...</td>\n",
       "      <td>0</td>\n",
       "      <td>NCR</td>\n",
       "      <td>460</td>\n",
       "    </tr>\n",
       "  </tbody>\n",
       "</table>\n",
       "<p>5 rows × 115 columns</p>\n",
       "</div>"
      ],
      "text/plain": [
       "  phcaseno Sex  Age Nationality Residence in the Philippines  \\\n",
       "0  PH00001   F   38     chinese                         None   \n",
       "1  PH00002   M   44     chinese                         None   \n",
       "2  PH00003   F   60     chinese                         None   \n",
       "3  PH00004   M   48    filipino                  Taguig City   \n",
       "4  PH00005   M   62    filipino                Cainta, Rizal   \n",
       "\n",
       "  History of Travel / Exposure Travel History  \\\n",
       "0    Yes (China); Wife of PH02          china   \n",
       "1  Yes (China); Husband of PH1          china   \n",
       "2                  Yes (China)          china   \n",
       "3                  Yes (Japan)          japan   \n",
       "4              Husband of PH06           none   \n",
       "\n",
       "                                            Epi_Link  \\\n",
       "0                                      [wife of ph2]   \n",
       "1                                   [husband of ph1]   \n",
       "2  traveled to cebu and bohol. was already in chi...   \n",
       "3                                              [NaN]   \n",
       "4                                   [husband of ph6]   \n",
       "\n",
       "  Date of Onset of Symptoms             Date of Admission  ...  \\\n",
       "0 2020-01-21 00:00:00-05:00  Sat Jan 25 00:00:00 EST 2020  ...   \n",
       "1 2020-01-18 00:00:00-05:00  Sat Jan 25 00:00:00 EST 2020  ...   \n",
       "2 2020-01-21 00:00:00-05:00  Wed Jan 22 00:00:00 EST 2020  ...   \n",
       "3 2020-03-03 00:00:00-05:00  Fri Mar 06 00:00:00 EST 2020  ...   \n",
       "4 2020-02-25 00:00:00-05:00  Thu Mar 05 00:00:00 EST 2020  ...   \n",
       "\n",
       "  dis_status post renal transplant dis_systemic lupus erythematosus  \\\n",
       "0                              0.0                              0.0   \n",
       "1                              0.0                              0.0   \n",
       "2                              0.0                              0.0   \n",
       "3                              0.0                              0.0   \n",
       "4                              0.0                              0.0   \n",
       "\n",
       "  dis_with comorbid (not specified) Epi_Link_Exposure disease_len_days  \\\n",
       "0                               0.0                 1 53 days 23:00:00   \n",
       "1                               0.0                 1 14 days 00:00:00   \n",
       "2                               0.0                 0 53 days 23:00:00   \n",
       "3                               0.0                 1 15 days 23:00:00   \n",
       "4                               0.0                 1 15 days 23:00:00   \n",
       "\n",
       "                                         geo_address  \\\n",
       "0  {'hospital': 'San Lazaro Hospital', 'road': 'Q...   \n",
       "1  {'hospital': 'San Lazaro Hospital', 'road': 'Q...   \n",
       "2  {'public_building': 'Francisco Duque Hall', 'r...   \n",
       "3  {'hospital': 'University of the East - Ramon M...   \n",
       "4  {'hospital': 'Research Institute for Tropical ...   \n",
       "\n",
       "                                             address Travel History Binary  \\\n",
       "0  San Lazaro Hospital, Quiricada Street, Baranga...                     1   \n",
       "1  San Lazaro Hospital, Quiricada Street, Baranga...                     1   \n",
       "2  Francisco Duque Hall, Tayuman Street, Santa Cr...                     1   \n",
       "3  University of the East - Ramon Magsaysay Memor...                     1   \n",
       "4  Research Institute for Tropical Medicine, Corp...                     0   \n",
       "\n",
       "  region_inc average income (in thousand pesos)  \n",
       "0        NCR                                460  \n",
       "1        NCR                                460  \n",
       "2        NCR                                460  \n",
       "3        NCR                                460  \n",
       "4        NCR                                460  \n",
       "\n",
       "[5 rows x 115 columns]"
      ]
     },
     "execution_count": 134,
     "metadata": {},
     "output_type": "execute_result"
    }
   ],
   "source": [
    "data.head()"
   ]
  },
  {
   "cell_type": "markdown",
   "metadata": {},
   "source": [
    "## Feature Engineering: Population Density\n",
    "Note: Population density based on city where the patient lives in (If there's no data on the city, we use population density of the region instead)"
   ]
  },
  {
   "cell_type": "code",
   "execution_count": 139,
   "metadata": {},
   "outputs": [],
   "source": [
    "# function to extract city out from json object\n",
    "\n",
    "def get_just_city(series):\n",
    "    \n",
    "    city = series.get('city')\n",
    "    if city == None:\n",
    "        city = series.get('region')\n",
    "    return city\n",
    "    "
   ]
  },
  {
   "cell_type": "code",
   "execution_count": 140,
   "metadata": {},
   "outputs": [],
   "source": [
    "# function to extract region out from json object\n",
    "\n",
    "def get_just_region(series):\n",
    "    region = series.get('region')\n",
    "    return region"
   ]
  },
  {
   "cell_type": "code",
   "execution_count": 141,
   "metadata": {},
   "outputs": [],
   "source": [
    "# create a new column called city\n",
    "\n",
    "data['city'] = data['geo_address'].apply(get_just_city)"
   ]
  },
  {
   "cell_type": "code",
   "execution_count": 142,
   "metadata": {},
   "outputs": [],
   "source": [
    "# create a new column called region\n",
    "\n",
    "data['region'] = data['geo_address'].apply(get_just_region)"
   ]
  },
  {
   "cell_type": "code",
   "execution_count": 143,
   "metadata": {},
   "outputs": [
    {
     "data": {
      "text/html": [
       "<div>\n",
       "<style scoped>\n",
       "    .dataframe tbody tr th:only-of-type {\n",
       "        vertical-align: middle;\n",
       "    }\n",
       "\n",
       "    .dataframe tbody tr th {\n",
       "        vertical-align: top;\n",
       "    }\n",
       "\n",
       "    .dataframe thead th {\n",
       "        text-align: right;\n",
       "    }\n",
       "</style>\n",
       "<table border=\"1\" class=\"dataframe\">\n",
       "  <thead>\n",
       "    <tr style=\"text-align: right;\">\n",
       "      <th></th>\n",
       "      <th>phcaseno</th>\n",
       "      <th>Sex</th>\n",
       "      <th>Age</th>\n",
       "      <th>Nationality</th>\n",
       "      <th>Residence in the Philippines</th>\n",
       "      <th>History of Travel / Exposure</th>\n",
       "      <th>Travel History</th>\n",
       "      <th>Epi_Link</th>\n",
       "      <th>Date of Onset of Symptoms</th>\n",
       "      <th>Date of Admission</th>\n",
       "      <th>...</th>\n",
       "      <th>dis_with comorbid (not specified)</th>\n",
       "      <th>Epi_Link_Exposure</th>\n",
       "      <th>disease_len_days</th>\n",
       "      <th>geo_address</th>\n",
       "      <th>address</th>\n",
       "      <th>Travel History Binary</th>\n",
       "      <th>region_inc</th>\n",
       "      <th>average income (in thousand pesos)</th>\n",
       "      <th>city</th>\n",
       "      <th>region</th>\n",
       "    </tr>\n",
       "  </thead>\n",
       "  <tbody>\n",
       "    <tr>\n",
       "      <th>0</th>\n",
       "      <td>PH00001</td>\n",
       "      <td>F</td>\n",
       "      <td>38</td>\n",
       "      <td>chinese</td>\n",
       "      <td>None</td>\n",
       "      <td>Yes (China); Wife of PH02</td>\n",
       "      <td>china</td>\n",
       "      <td>[wife of ph2]</td>\n",
       "      <td>2020-01-21 00:00:00-05:00</td>\n",
       "      <td>Sat Jan 25 00:00:00 EST 2020</td>\n",
       "      <td>...</td>\n",
       "      <td>0.0</td>\n",
       "      <td>1</td>\n",
       "      <td>53 days 23:00:00</td>\n",
       "      <td>{'hospital': 'San Lazaro Hospital', 'road': 'Q...</td>\n",
       "      <td>San Lazaro Hospital, Quiricada Street, Baranga...</td>\n",
       "      <td>1</td>\n",
       "      <td>NCR</td>\n",
       "      <td>460</td>\n",
       "      <td>Manila</td>\n",
       "      <td>Metro Manila</td>\n",
       "    </tr>\n",
       "    <tr>\n",
       "      <th>1</th>\n",
       "      <td>PH00002</td>\n",
       "      <td>M</td>\n",
       "      <td>44</td>\n",
       "      <td>chinese</td>\n",
       "      <td>None</td>\n",
       "      <td>Yes (China); Husband of PH1</td>\n",
       "      <td>china</td>\n",
       "      <td>[husband of ph1]</td>\n",
       "      <td>2020-01-18 00:00:00-05:00</td>\n",
       "      <td>Sat Jan 25 00:00:00 EST 2020</td>\n",
       "      <td>...</td>\n",
       "      <td>0.0</td>\n",
       "      <td>1</td>\n",
       "      <td>14 days 00:00:00</td>\n",
       "      <td>{'hospital': 'San Lazaro Hospital', 'road': 'Q...</td>\n",
       "      <td>San Lazaro Hospital, Quiricada Street, Baranga...</td>\n",
       "      <td>1</td>\n",
       "      <td>NCR</td>\n",
       "      <td>460</td>\n",
       "      <td>Manila</td>\n",
       "      <td>Metro Manila</td>\n",
       "    </tr>\n",
       "    <tr>\n",
       "      <th>2</th>\n",
       "      <td>PH00003</td>\n",
       "      <td>F</td>\n",
       "      <td>60</td>\n",
       "      <td>chinese</td>\n",
       "      <td>None</td>\n",
       "      <td>Yes (China)</td>\n",
       "      <td>china</td>\n",
       "      <td>traveled to cebu and bohol. was already in chi...</td>\n",
       "      <td>2020-01-21 00:00:00-05:00</td>\n",
       "      <td>Wed Jan 22 00:00:00 EST 2020</td>\n",
       "      <td>...</td>\n",
       "      <td>0.0</td>\n",
       "      <td>0</td>\n",
       "      <td>53 days 23:00:00</td>\n",
       "      <td>{'public_building': 'Francisco Duque Hall', 'r...</td>\n",
       "      <td>Francisco Duque Hall, Tayuman Street, Santa Cr...</td>\n",
       "      <td>1</td>\n",
       "      <td>NCR</td>\n",
       "      <td>460</td>\n",
       "      <td>Manila</td>\n",
       "      <td>Metro Manila</td>\n",
       "    </tr>\n",
       "    <tr>\n",
       "      <th>3</th>\n",
       "      <td>PH00004</td>\n",
       "      <td>M</td>\n",
       "      <td>48</td>\n",
       "      <td>filipino</td>\n",
       "      <td>Taguig City</td>\n",
       "      <td>Yes (Japan)</td>\n",
       "      <td>japan</td>\n",
       "      <td>[NaN]</td>\n",
       "      <td>2020-03-03 00:00:00-05:00</td>\n",
       "      <td>Fri Mar 06 00:00:00 EST 2020</td>\n",
       "      <td>...</td>\n",
       "      <td>0.0</td>\n",
       "      <td>1</td>\n",
       "      <td>15 days 23:00:00</td>\n",
       "      <td>{'hospital': 'University of the East - Ramon M...</td>\n",
       "      <td>University of the East - Ramon Magsaysay Memor...</td>\n",
       "      <td>1</td>\n",
       "      <td>NCR</td>\n",
       "      <td>460</td>\n",
       "      <td>Galas</td>\n",
       "      <td>Metro Manila</td>\n",
       "    </tr>\n",
       "    <tr>\n",
       "      <th>4</th>\n",
       "      <td>PH00005</td>\n",
       "      <td>M</td>\n",
       "      <td>62</td>\n",
       "      <td>filipino</td>\n",
       "      <td>Cainta, Rizal</td>\n",
       "      <td>Husband of PH06</td>\n",
       "      <td>none</td>\n",
       "      <td>[husband of ph6]</td>\n",
       "      <td>2020-02-25 00:00:00-05:00</td>\n",
       "      <td>Thu Mar 05 00:00:00 EST 2020</td>\n",
       "      <td>...</td>\n",
       "      <td>0.0</td>\n",
       "      <td>1</td>\n",
       "      <td>15 days 23:00:00</td>\n",
       "      <td>{'hospital': 'Research Institute for Tropical ...</td>\n",
       "      <td>Research Institute for Tropical Medicine, Corp...</td>\n",
       "      <td>0</td>\n",
       "      <td>NCR</td>\n",
       "      <td>460</td>\n",
       "      <td>Muntinlupa</td>\n",
       "      <td>Metro Manila</td>\n",
       "    </tr>\n",
       "  </tbody>\n",
       "</table>\n",
       "<p>5 rows × 117 columns</p>\n",
       "</div>"
      ],
      "text/plain": [
       "  phcaseno Sex  Age Nationality Residence in the Philippines  \\\n",
       "0  PH00001   F   38     chinese                         None   \n",
       "1  PH00002   M   44     chinese                         None   \n",
       "2  PH00003   F   60     chinese                         None   \n",
       "3  PH00004   M   48    filipino                  Taguig City   \n",
       "4  PH00005   M   62    filipino                Cainta, Rizal   \n",
       "\n",
       "  History of Travel / Exposure Travel History  \\\n",
       "0    Yes (China); Wife of PH02          china   \n",
       "1  Yes (China); Husband of PH1          china   \n",
       "2                  Yes (China)          china   \n",
       "3                  Yes (Japan)          japan   \n",
       "4              Husband of PH06           none   \n",
       "\n",
       "                                            Epi_Link  \\\n",
       "0                                      [wife of ph2]   \n",
       "1                                   [husband of ph1]   \n",
       "2  traveled to cebu and bohol. was already in chi...   \n",
       "3                                              [NaN]   \n",
       "4                                   [husband of ph6]   \n",
       "\n",
       "  Date of Onset of Symptoms             Date of Admission  ...  \\\n",
       "0 2020-01-21 00:00:00-05:00  Sat Jan 25 00:00:00 EST 2020  ...   \n",
       "1 2020-01-18 00:00:00-05:00  Sat Jan 25 00:00:00 EST 2020  ...   \n",
       "2 2020-01-21 00:00:00-05:00  Wed Jan 22 00:00:00 EST 2020  ...   \n",
       "3 2020-03-03 00:00:00-05:00  Fri Mar 06 00:00:00 EST 2020  ...   \n",
       "4 2020-02-25 00:00:00-05:00  Thu Mar 05 00:00:00 EST 2020  ...   \n",
       "\n",
       "  dis_with comorbid (not specified) Epi_Link_Exposure disease_len_days  \\\n",
       "0                               0.0                 1 53 days 23:00:00   \n",
       "1                               0.0                 1 14 days 00:00:00   \n",
       "2                               0.0                 0 53 days 23:00:00   \n",
       "3                               0.0                 1 15 days 23:00:00   \n",
       "4                               0.0                 1 15 days 23:00:00   \n",
       "\n",
       "                                         geo_address  \\\n",
       "0  {'hospital': 'San Lazaro Hospital', 'road': 'Q...   \n",
       "1  {'hospital': 'San Lazaro Hospital', 'road': 'Q...   \n",
       "2  {'public_building': 'Francisco Duque Hall', 'r...   \n",
       "3  {'hospital': 'University of the East - Ramon M...   \n",
       "4  {'hospital': 'Research Institute for Tropical ...   \n",
       "\n",
       "                                             address Travel History Binary  \\\n",
       "0  San Lazaro Hospital, Quiricada Street, Baranga...                     1   \n",
       "1  San Lazaro Hospital, Quiricada Street, Baranga...                     1   \n",
       "2  Francisco Duque Hall, Tayuman Street, Santa Cr...                     1   \n",
       "3  University of the East - Ramon Magsaysay Memor...                     1   \n",
       "4  Research Institute for Tropical Medicine, Corp...                     0   \n",
       "\n",
       "  region_inc average income (in thousand pesos)        city        region  \n",
       "0        NCR                                460      Manila  Metro Manila  \n",
       "1        NCR                                460      Manila  Metro Manila  \n",
       "2        NCR                                460      Manila  Metro Manila  \n",
       "3        NCR                                460       Galas  Metro Manila  \n",
       "4        NCR                                460  Muntinlupa  Metro Manila  \n",
       "\n",
       "[5 rows x 117 columns]"
      ]
     },
     "execution_count": 143,
     "metadata": {},
     "output_type": "execute_result"
    }
   ],
   "source": [
    "data.head()"
   ]
  },
  {
   "cell_type": "code",
   "execution_count": 161,
   "metadata": {},
   "outputs": [],
   "source": [
    "# dataframe storing data about population density for different regions and city\n",
    "\n",
    "pop_density = pd.read_csv('2015 Population Density_web.csv')"
   ]
  },
  {
   "cell_type": "code",
   "execution_count": 162,
   "metadata": {},
   "outputs": [],
   "source": [
    "pop_density = pop_density.drop(columns=['Unnamed: 2'])\n",
    "pop_density.columns = ['city', 'Population', 'Land Area (sq.km.)', 'Population Density']"
   ]
  },
  {
   "cell_type": "code",
   "execution_count": 163,
   "metadata": {},
   "outputs": [
    {
     "data": {
      "text/html": [
       "<div>\n",
       "<style scoped>\n",
       "    .dataframe tbody tr th:only-of-type {\n",
       "        vertical-align: middle;\n",
       "    }\n",
       "\n",
       "    .dataframe tbody tr th {\n",
       "        vertical-align: top;\n",
       "    }\n",
       "\n",
       "    .dataframe thead th {\n",
       "        text-align: right;\n",
       "    }\n",
       "</style>\n",
       "<table border=\"1\" class=\"dataframe\">\n",
       "  <thead>\n",
       "    <tr style=\"text-align: right;\">\n",
       "      <th></th>\n",
       "      <th>city</th>\n",
       "      <th>Population</th>\n",
       "      <th>Land Area (sq.km.)</th>\n",
       "      <th>Population Density</th>\n",
       "    </tr>\n",
       "  </thead>\n",
       "  <tbody>\n",
       "    <tr>\n",
       "      <th>0</th>\n",
       "      <td>Metro Manila</td>\n",
       "      <td>12,877,253</td>\n",
       "      <td>619.54</td>\n",
       "      <td>20,785</td>\n",
       "    </tr>\n",
       "    <tr>\n",
       "      <th>1</th>\n",
       "      <td>Manila</td>\n",
       "      <td>1,780,148</td>\n",
       "      <td>24.98</td>\n",
       "      <td>71,263</td>\n",
       "    </tr>\n",
       "    <tr>\n",
       "      <th>2</th>\n",
       "      <td>Quezon City</td>\n",
       "      <td>2,936,116</td>\n",
       "      <td>171.71</td>\n",
       "      <td>17,099</td>\n",
       "    </tr>\n",
       "    <tr>\n",
       "      <th>3</th>\n",
       "      <td>Caloocan City</td>\n",
       "      <td>1,583,978</td>\n",
       "      <td>55.8</td>\n",
       "      <td>28,387</td>\n",
       "    </tr>\n",
       "    <tr>\n",
       "      <th>4</th>\n",
       "      <td>Pasay</td>\n",
       "      <td>416,522</td>\n",
       "      <td>13.97</td>\n",
       "      <td>29,815</td>\n",
       "    </tr>\n",
       "  </tbody>\n",
       "</table>\n",
       "</div>"
      ],
      "text/plain": [
       "             city  Population Land Area (sq.km.) Population Density\n",
       "0    Metro Manila  12,877,253             619.54             20,785\n",
       "1          Manila   1,780,148              24.98             71,263\n",
       "2     Quezon City   2,936,116             171.71             17,099\n",
       "3  Caloocan City    1,583,978               55.8             28,387\n",
       "4           Pasay     416,522              13.97             29,815"
      ]
     },
     "execution_count": 163,
     "metadata": {},
     "output_type": "execute_result"
    }
   ],
   "source": [
    "pop_density.head()"
   ]
  },
  {
   "cell_type": "code",
   "execution_count": 164,
   "metadata": {},
   "outputs": [],
   "source": [
    "final_data = pd.merge(data, pop_density, how='left')\n",
    "final_data = final_data.drop(columns=['Population', 'Land Area (sq.km.)'])\n",
    "final_data['Population Density'] = final_data['Population Density'].fillna(20785) "
   ]
  },
  {
   "cell_type": "markdown",
   "metadata": {},
   "source": [
    "# Done with Feature Engineering / Data Cleaning\n",
    "#### Writing final_data dataframe to a csv file called 'data_clean.csv' "
   ]
  },
  {
   "cell_type": "code",
   "execution_count": 39,
   "metadata": {},
   "outputs": [],
   "source": [
    "final_data.to_csv('data_clean.csv')"
   ]
  },
  {
   "cell_type": "markdown",
   "metadata": {},
   "source": [
    "------"
   ]
  },
  {
   "cell_type": "markdown",
   "metadata": {},
   "source": [
    "<a id='preprocessing_final_cell'></a>\n",
    "## Final Data Cleaning for Modeling:"
   ]
  },
  {
   "cell_type": "code",
   "execution_count": 1,
   "metadata": {},
   "outputs": [],
   "source": [
    "import pandas as pd\n",
    "import seaborn as sns\n",
    "import numpy as np\n",
    "from sklearn.model_selection import train_test_split\n",
    "import re\n",
    "import warnings\n",
    "warnings.filterwarnings(\"ignore\")\n",
    "import matplotlib.pyplot as plt"
   ]
  },
  {
   "cell_type": "code",
   "execution_count": 2,
   "metadata": {
    "colab": {
     "base_uri": "https://localhost:8080/",
     "height": 176
    },
    "colab_type": "code",
    "executionInfo": {
     "elapsed": 501,
     "status": "ok",
     "timestamp": 1586118999802,
     "user": {
      "displayName": "Elizabeth Anne Combs",
      "photoUrl": "",
      "userId": "09373896408908020212"
     },
     "user_tz": 240
    },
    "id": "sKugu7PTN3p3",
    "outputId": "464ece86-ec72-4d1a-bd3c-f051c68503bf"
   },
   "outputs": [
    {
     "data": {
      "text/plain": [
       "Index(['phcaseno', 'Sex', 'Age', 'Nationality', 'Residence in the Philippines',\n",
       "       'History of Travel / Exposure', 'Travel History', 'Epi_Link',\n",
       "       'Date of Onset of Symptoms', 'Date of Admission',\n",
       "       ...\n",
       "       'Epi_Link_Exposure', 'disease_len_days', 'geo_address', 'address',\n",
       "       'Travel History Binary', 'region_inc',\n",
       "       'average income (in thousand pesos)', 'city', 'region',\n",
       "       'Population Density'],\n",
       "      dtype='object', length=118)"
      ]
     },
     "execution_count": 2,
     "metadata": {},
     "output_type": "execute_result"
    }
   ],
   "source": [
    "data_raw = pd.read_csv('data_clean.csv')\n",
    "data_raw.columns\n",
    "\n",
    "\n",
    "data_raw = data_raw.drop(['Unnamed: 0'], axis=1)\n",
    "\n",
    "# remove for validation\n",
    "data_clean = data_raw[data_raw['Health Status'] != \"for validation\"]\n",
    "data_clean=data_clean.reset_index(drop=True)\n",
    "data_clean.columns"
   ]
  },
  {
   "cell_type": "code",
   "execution_count": 3,
   "metadata": {
    "colab": {
     "base_uri": "https://localhost:8080/",
     "height": 282
    },
    "colab_type": "code",
    "executionInfo": {
     "elapsed": 7721,
     "status": "ok",
     "timestamp": 1586119014593,
     "user": {
      "displayName": "Elizabeth Anne Combs",
      "photoUrl": "",
      "userId": "09373896408908020212"
     },
     "user_tz": 240
    },
    "id": "YRzGOmoGXjPk",
    "outputId": "536f47ae-6a94-4a8f-9689-731181b66221"
   },
   "outputs": [
    {
     "data": {
      "text/plain": [
       "<matplotlib.axes._subplots.AxesSubplot at 0x1a213a7320>"
      ]
     },
     "execution_count": 3,
     "metadata": {},
     "output_type": "execute_result"
    },
    {
     "data": {
      "image/png": "[encoded data removed]",
      "text/plain": [
       "<Figure size 432x288 with 1 Axes>"
      ]
     },
     "metadata": {
      "needs_background": "light"
     },
     "output_type": "display_data"
    }
   ],
   "source": [
    "data_clean['Health Status'].hist()"
   ]
  },
  {
   "cell_type": "code",
   "execution_count": 4,
   "metadata": {
    "colab": {},
    "colab_type": "code",
    "id": "sB7qMVsGUUFR"
   },
   "outputs": [
    {
     "data": {
      "text/plain": [
       "0    179\n",
       "1     83\n",
       "Name: Sex, dtype: int64"
      ]
     },
     "execution_count": 4,
     "metadata": {},
     "output_type": "execute_result"
    }
   ],
   "source": [
    "# Sex -  M/F:\n",
    "data_clean['Sex'] = pd.get_dummies(data_clean['Sex'])\n",
    "data_clean['Sex'].value_counts() "
   ]
  },
  {
   "cell_type": "code",
   "execution_count": 5,
   "metadata": {
    "colab": {
     "base_uri": "https://localhost:8080/",
     "height": 70
    },
    "colab_type": "code",
    "executionInfo": {
     "elapsed": 4918,
     "status": "ok",
     "timestamp": 1586119014594,
     "user": {
      "displayName": "Elizabeth Anne Combs",
      "photoUrl": "",
      "userId": "09373896408908020212"
     },
     "user_tz": 240
    },
    "id": "fQZIKpRtXdFJ",
    "outputId": "81d28026-179a-4b1c-b886-2134b17003ca"
   },
   "outputs": [
    {
     "data": {
      "text/plain": [
       "1    241\n",
       "0     21\n",
       "Name: Nationality, dtype: int64"
      ]
     },
     "execution_count": 5,
     "metadata": {},
     "output_type": "execute_result"
    }
   ],
   "source": [
    "#print(data_clean['Nationality'].value_counts() )\n",
    "\n",
    "def nationality_recode(series):\n",
    "    if series != 'filipino':\n",
    "        return 'other'\n",
    "    else: \n",
    "        return 'filipino'\n",
    "\n",
    "data_clean['Nationality'] = data_clean['Nationality'].apply(nationality_recode)\n",
    "data_clean['Nationality'] = pd.get_dummies(data_clean['Nationality'])\n",
    "data_clean['Nationality'].value_counts() "
   ]
  },
  {
   "cell_type": "code",
   "execution_count": 6,
   "metadata": {},
   "outputs": [],
   "source": [
    "# disease_len_days cleaning - extract # days\n",
    "data_clean['disease_len_days'] = data_clean[\"disease_len_days\"].str.split(\" \", 1, expand=True)[0]"
   ]
  },
  {
   "cell_type": "code",
   "execution_count": 7,
   "metadata": {},
   "outputs": [],
   "source": [
    "data_clean['Population Density'] = data_clean.loc[:,'Population Density'].str.replace(',', '').astype(float)"
   ]
  },
  {
   "cell_type": "code",
   "execution_count": 8,
   "metadata": {},
   "outputs": [],
   "source": [
    "data_clean=data_clean.drop(['phcaseno', 'History of Travel / Exposure', 'Travel History', 'Epi_Link', 'Date of Admission', 'Date of Lab Confirmation', 'Date of Admission', 'Symptoms', 'other_disease', 'Status', 'Date of Final Status (recovered/expired)', 'Final Diagnosis', 'Age Group', 'Location', 'Location 1', 'Location 2', 'Latitude', 'Longitude', 'Residence Lat', 'Residence Long', 'disease_len_days'], axis=1)"
   ]
  },
  {
   "cell_type": "markdown",
   "metadata": {},
   "source": [
    "<a id='analysis&modeling_cell'></a>\n",
    "# ANALYSIS & MODELING:"
   ]
  },
  {
   "cell_type": "markdown",
   "metadata": {
    "colab_type": "text",
    "id": "hcscV-8sMP7g"
   },
   "source": [
    "Libraries needed for analysis and modeling phase:"
   ]
  },
  {
   "cell_type": "code",
   "execution_count": 9,
   "metadata": {
    "colab": {
     "base_uri": "https://localhost:8080/",
     "height": 72
    },
    "colab_type": "code",
    "executionInfo": {
     "elapsed": 985,
     "status": "ok",
     "timestamp": 1586118999351,
     "user": {
      "displayName": "Elizabeth Anne Combs",
      "photoUrl": "",
      "userId": "09373896408908020212"
     },
     "user_tz": 240
    },
    "id": "vP_c5Y6LKm2G",
    "outputId": "a1c6509e-375d-4430-802c-b925d3a6757f"
   },
   "outputs": [],
   "source": [
    "import numpy as np\n",
    "import pandas as pd\n",
    "import seaborn as sns\n",
    "from sklearn.model_selection import train_test_split\n",
    "from sklearn.preprocessing import StandardScaler\n",
    "from sklearn.cluster import KMeans\n",
    "\n",
    "import warnings\n",
    "from math import floor\n",
    "\n",
    "warnings.filterwarnings('ignore')"
   ]
  },
  {
   "cell_type": "markdown",
   "metadata": {},
   "source": [
    "<a id='clustering_cell'></a>\n",
    "## Clustering the target variable: \n",
    "Based on real-world application of results as well as underlying data."
   ]
  },
  {
   "cell_type": "code",
   "execution_count": 10,
   "metadata": {},
   "outputs": [],
   "source": [
    "def status_to_numeric(x):\n",
    "    if x=='died':\n",
    "        return 5\n",
    "    if x=='critical':\n",
    "        return 4\n",
    "    if x=='severe':\n",
    "        return 3\n",
    "    if x=='mild':\n",
    "        return 2\n",
    "    if x=='asymptomatic':\n",
    "        return 1\n",
    "    if x=='recovered':\n",
    "        return 0\n",
    "    \n",
    "\n",
    "data_clean['HealthStatusNUM'] = data_clean['Health Status'].apply(status_to_numeric)"
   ]
  },
  {
   "cell_type": "code",
   "execution_count": 11,
   "metadata": {},
   "outputs": [],
   "source": [
    "# # split data using dates into train, val, test using most recent dates for test:\n",
    "# train_pct, val_pct, test_pct = 0.6, 0.2, 0.2\n",
    "# train_num, val_num, test_num = floor(data_clean.shape[0]*train_pct), floor(data_clean.shape[0]*val_pct), floor(data_clean.shape[0]*test_pct)\n",
    "\n",
    "# train = data_clean.sort_values('Date of Onset of Symptoms', ascending=True).iloc[:train_num,:]\n",
    "# train=train.reset_index(drop=True)\n",
    "\n",
    "# val = data_clean.sort_values('Date of Onset of Symptoms', ascending=True).iloc[train_num:train_num+val_num,:]\n",
    "# val=val.reset_index(drop=True)\n",
    "\n",
    "# test = data_clean.sort_values('Date of Onset of Symptoms', ascending=True).iloc[train_num+val_num:train_num+val_num+test_num+1,:]\n",
    "# test=test.reset_index(drop=True)"
   ]
  },
  {
   "cell_type": "code",
   "execution_count": 12,
   "metadata": {},
   "outputs": [],
   "source": [
    " train, val, test = np.split(data_clean.sample(frac=1), [int(.6*len(data_clean)), int(.8*len(data_clean))])"
   ]
  },
  {
   "cell_type": "code",
   "execution_count": 13,
   "metadata": {},
   "outputs": [],
   "source": [
    "train=train.reset_index(drop=True)\n",
    "val=val.reset_index(drop=True)\n",
    "test=test.reset_index(drop=True)"
   ]
  },
  {
   "cell_type": "code",
   "execution_count": 14,
   "metadata": {},
   "outputs": [],
   "source": [
    "# begin clustering using train data\n",
    "\n",
    "data_numeric = train.select_dtypes(include=['float', 'int'])\n",
    "data_numeric = data_numeric.drop('HealthStatusNUM', axis=1)\n",
    "data_numeric = StandardScaler().fit_transform(data_numeric)"
   ]
  },
  {
   "cell_type": "code",
   "execution_count": 15,
   "metadata": {},
   "outputs": [],
   "source": [
    "wcss = []\n",
    "for i in range(1,20):\n",
    "    kmeans = KMeans(n_clusters=i, init='k-means++', max_iter=100, n_init=6)\n",
    "    kmeans.fit(data_numeric)\n",
    "    wcss.append(kmeans.inertia_)"
   ]
  },
  {
   "cell_type": "code",
   "execution_count": 16,
   "metadata": {},
   "outputs": [
    {
     "data": {
      "text/plain": [
       "Text(0.5, 1.0, 'Elbow Method')"
      ]
     },
     "execution_count": 16,
     "metadata": {},
     "output_type": "execute_result"
    },
    {
     "data": {
      "image/png": "[encoded data removed]",
      "text/plain": [
       "<Figure size 432x288 with 1 Axes>"
      ]
     },
     "metadata": {
      "needs_background": "light"
     },
     "output_type": "display_data"
    }
   ],
   "source": [
    "#Plot the elbow method to see if we found the optimal number of clusters\n",
    "import matplotlib.pyplot as plt \n",
    "\n",
    "#fig, (ax1, ax2) = plt.subplots(nrows=2, sharex=True, figsize=(15,8))\n",
    "plt.plot(range(1,20), wcss)\n",
    "plt.xlabel('Number of Clusters')\n",
    "plt.ylabel('WCSS')\n",
    "plt.title('Elbow Method')"
   ]
  },
  {
   "cell_type": "code",
   "execution_count": 92,
   "metadata": {},
   "outputs": [],
   "source": [
    "# Going to try with 12 clusters to start\n",
    "status_kmeans = KMeans(n_clusters=6, init='k-means++', max_iter=10, n_init=10, random_state=42)\n",
    "status_cluster = status_kmeans.fit_predict(data_numeric)"
   ]
  },
  {
   "cell_type": "code",
   "execution_count": 93,
   "metadata": {},
   "outputs": [],
   "source": [
    "pd.DataFrame(train)['Cluster'] = pd.DataFrame(status_cluster)"
   ]
  },
  {
   "cell_type": "code",
   "execution_count": 111,
   "metadata": {},
   "outputs": [
    {
     "data": {
      "text/plain": [
       "[Text(0, 0, 'None'),\n",
       " Text(0, 0, 'recovered'),\n",
       " Text(0, 0, 'asymptomatic'),\n",
       " Text(0, 0, 'mild'),\n",
       " Text(0, 0, 'severe'),\n",
       " Text(0, 0, 'critical'),\n",
       " Text(0, 0, 'died')]"
      ]
     },
     "execution_count": 111,
     "metadata": {},
     "output_type": "execute_result"
    },
    {
     "data": {
      "image/png": "[encoded data removed]",
      "text/plain": [
       "<Figure size 720x504 with 1 Axes>"
      ]
     },
     "metadata": {
      "needs_background": "light"
     },
     "output_type": "display_data"
    }
   ],
   "source": [
    "plt.rcParams['figure.figsize'] = [10,7]\n",
    "cluster_plot = train.pivot(columns='Cluster').HealthStatusNUM.plot(kind = 'hist', stacked=True, title='Clustering Distribution by Health Status')\n",
    "labels=['None', 'recovered', 'asymptomatic','mild','severe','critical','died']\n",
    "cluster_plot.set_xticklabels(labels, rotation=45)"
   ]
  },
  {
   "cell_type": "code",
   "execution_count": 114,
   "metadata": {
    "colab": {
     "base_uri": "https://localhost:8080/",
     "height": 282
    },
    "colab_type": "code",
    "executionInfo": {
     "elapsed": 7146,
     "status": "ok",
     "timestamp": 1586119014593,
     "user": {
      "displayName": "Elizabeth Anne Combs",
      "photoUrl": "",
      "userId": "09373896408908020212"
     },
     "user_tz": 240
    },
    "id": "BoPoKAmUYx3F",
    "outputId": "b7794e9f-877e-4d6c-e427-34c2c6c61582"
   },
   "outputs": [
    {
     "data": {
      "text/plain": [
       "0    85\n",
       "1    72\n",
       "Name: Health Status Binary, dtype: int64"
      ]
     },
     "execution_count": 114,
     "metadata": {},
     "output_type": "execute_result"
    },
    {
     "data": {
      "image/png": "[encoded data removed]",
      "text/plain": [
       "<Figure size 720x504 with 1 Axes>"
      ]
     },
     "metadata": {
      "needs_background": "light"
     },
     "output_type": "display_data"
    }
   ],
   "source": [
    "# recode to 2 categories based on the graph above as well as \"business understanding\":\n",
    "\n",
    "def health_status_binary(series):\n",
    "    if series > 2:\n",
    "        return 1\n",
    "    else:\n",
    "        return 0\n",
    "    \n",
    "train['Health Status Binary'] = train['HealthStatusNUM'].apply(health_status_binary)\n",
    "val['Health Status Binary'] = val['HealthStatusNUM'].apply(health_status_binary)\n",
    "test['Health Status Binary'] = test['HealthStatusNUM'].apply(health_status_binary)\n",
    "\n",
    "train['Health Status Binary'].hist()\n",
    "train['Health Status Binary'].value_counts()"
   ]
  },
  {
   "cell_type": "markdown",
   "metadata": {},
   "source": [
    "Standardize the feature data for modeling:"
   ]
  },
  {
   "cell_type": "code",
   "execution_count": 248,
   "metadata": {
    "colab": {},
    "colab_type": "code",
    "id": "D0lfcXplRNF9"
   },
   "outputs": [],
   "source": [
    "from sklearn import preprocessing \n",
    "from sklearn.impute import SimpleImputer\n",
    "\n",
    "\n",
    "imp = SimpleImputer(strategy=\"mean\")\n",
    "standardize = preprocessing.StandardScaler()\n",
    "cols_drop = ['Health Status Binary','HealthStatusNUM', 'Health Status', 'Date of Onset of Symptoms']\n",
    "\n",
    "X_train, y_train = train.drop(cols_drop, axis=1), train['Health Status Binary']\n",
    "X_val, y_val = val.drop(cols_drop, axis=1), val['Health Status Binary']\n",
    "X_test, y_test = test.drop(cols_drop, axis=1), test['Health Status Binary']\n",
    "\n",
    "X_train = X_train.select_dtypes(include=['float', 'int64'])\n",
    "X_val = X_val.select_dtypes(include=['float', 'int64'])\n",
    "X_test = X_test.select_dtypes(include=['float', 'int64'])\n",
    "\n",
    "X_train = standardize.fit_transform(imp.fit_transform(X_train))\n",
    "X_val = standardize.fit_transform(imp.fit_transform(X_val))\n",
    "X_test = standardize.fit_transform(imp.fit_transform(X_test))"
   ]
  },
  {
   "cell_type": "markdown",
   "metadata": {
    "colab_type": "text",
    "id": "tmVjUUyTMgOD"
   },
   "source": [
    "<a id='modeling_cell'></a>\n",
    "## Modeling:"
   ]
  },
  {
   "cell_type": "markdown",
   "metadata": {},
   "source": [
    "NAIVE BAYES:"
   ]
  },
  {
   "cell_type": "code",
   "execution_count": 249,
   "metadata": {
    "colab": {},
    "colab_type": "code",
    "id": "VvBbBl1mMO8g"
   },
   "outputs": [],
   "source": [
    "\n",
    "from sklearn.naive_bayes import GaussianNB\n",
    "\n",
    "gnb = GaussianNB()\n",
    "gnb.fit(X_train, y_train)\n",
    "y_pred = gnb.predict(X_val)"
   ]
  },
  {
   "cell_type": "code",
   "execution_count": 250,
   "metadata": {
    "colab": {
     "base_uri": "https://localhost:8080/",
     "height": 34
    },
    "colab_type": "code",
    "executionInfo": {
     "elapsed": 410,
     "status": "ok",
     "timestamp": 1586119032688,
     "user": {
      "displayName": "Elizabeth Anne Combs",
      "photoUrl": "",
      "userId": "09373896408908020212"
     },
     "user_tz": 240
    },
    "id": "B8FPoGK-Sz0h",
    "outputId": "5abf498d-8fa6-48e9-8601-25964a680421"
   },
   "outputs": [
    {
     "name": "stdout",
     "output_type": "stream",
     "text": [
      "Accuracy: 0.5\n"
     ]
    },
    {
     "data": {
      "text/plain": [
       "array([[ 7, 25],\n",
       "       [ 1, 19]])"
      ]
     },
     "execution_count": 250,
     "metadata": {},
     "output_type": "execute_result"
    }
   ],
   "source": [
    "\n",
    "from sklearn import metrics\n",
    "\n",
    "print(\"Accuracy:\", metrics.accuracy_score(y_val, y_pred))\n",
    "\n",
    "cm = metrics.confusion_matrix(y_val, y_pred)\n",
    "cm "
   ]
  },
  {
   "cell_type": "markdown",
   "metadata": {},
   "source": [
    "## Trees:"
   ]
  },
  {
   "cell_type": "markdown",
   "metadata": {},
   "source": [
    "DECISION TREE:"
   ]
  },
  {
   "cell_type": "code",
   "execution_count": 251,
   "metadata": {
    "colab": {},
    "colab_type": "code",
    "id": "owU1mGe28HCx"
   },
   "outputs": [
    {
     "name": "stdout",
     "output_type": "stream",
     "text": [
      "[[30  2]\n",
      " [12  8]]\n",
      "Accuracy: 0.7307692307692307\n"
     ]
    },
    {
     "data": {
      "text/plain": [
       "0.7307692307692307"
      ]
     },
     "execution_count": 251,
     "metadata": {},
     "output_type": "execute_result"
    }
   ],
   "source": [
    "from sklearn.tree import DecisionTreeClassifier \n",
    "from sklearn.metrics import confusion_matrix \n",
    "dtree_model = DecisionTreeClassifier(max_depth = 5).fit(X_train, y_train) \n",
    "dtree_predictions = dtree_model.predict(X_val) \n",
    "  \n",
    "# creating a confusion matrix \n",
    "cm = confusion_matrix(y_val, dtree_predictions)\n",
    "print(cm)\n",
    "\n",
    "print(\"Accuracy:\", metrics.accuracy_score(y_val, dtree_predictions))\n",
    "dtree_model.score(X_val,  y_val)"
   ]
  },
  {
   "cell_type": "code",
   "execution_count": 252,
   "metadata": {},
   "outputs": [
    {
     "name": "stdout",
     "output_type": "stream",
     "text": [
      "8\n"
     ]
    },
    {
     "data": {
      "text/plain": [
       "array([27, 80, 83, 66, 15, 82, 69, 38,  0])"
      ]
     },
     "execution_count": 252,
     "metadata": {},
     "output_type": "execute_result"
    }
   ],
   "source": [
    "feature_importance = dtree_model.feature_importances_\n",
    "print(np.count_nonzero(feature_importance))\n",
    "important_features = np.argsort(feature_importance)\n",
    "important_features = important_features[-9:]\n",
    "important_features"
   ]
  },
  {
   "cell_type": "code",
   "execution_count": 253,
   "metadata": {
    "scrolled": true
   },
   "outputs": [
    {
     "data": {
      "text/plain": [
       "Index(['dis_ asthma', 'dis_hyperthyroidism',\n",
       "       'dis_permanent atrial fibrillation', 'dis_acute renal failure',\n",
       "       'symp_ headache', 'dis_none', 'dis_breast cancer',\n",
       "       'dis_ cerebrovascular disease infarction', 'Sex'],\n",
       "      dtype='object')"
      ]
     },
     "execution_count": 253,
     "metadata": {},
     "output_type": "execute_result"
    }
   ],
   "source": [
    "train.iloc[:,important_features].columns \n",
    "# TO DO: test with just these for more advanced models\n"
   ]
  },
  {
   "cell_type": "markdown",
   "metadata": {},
   "source": [
    "RANDOM FOREST:"
   ]
  },
  {
   "cell_type": "code",
   "execution_count": 254,
   "metadata": {},
   "outputs": [
    {
     "name": "stdout",
     "output_type": "stream",
     "text": [
      "[[32  0]\n",
      " [ 9 11]]\n"
     ]
    },
    {
     "data": {
      "text/plain": [
       "0.8269230769230769"
      ]
     },
     "execution_count": 254,
     "metadata": {},
     "output_type": "execute_result"
    }
   ],
   "source": [
    "from sklearn.ensemble import RandomForestClassifier\n",
    "\n",
    "clf = RandomForestClassifier(max_depth=10, random_state=0) \n",
    "clf.fit(X_train, y_train)\n",
    "rf_preds = clf.predict(X_val)\n",
    "cm = confusion_matrix(y_val, rf_preds)\n",
    "print(cm)\n",
    "clf.score(X_val,  y_val)"
   ]
  },
  {
   "cell_type": "markdown",
   "metadata": {},
   "source": [
    "XGBoost:"
   ]
  },
  {
   "cell_type": "code",
   "execution_count": 255,
   "metadata": {},
   "outputs": [
    {
     "name": "stdout",
     "output_type": "stream",
     "text": [
      "[[31  1]\n",
      " [ 7 13]]\n"
     ]
    },
    {
     "data": {
      "text/plain": [
       "0.8461538461538461"
      ]
     },
     "execution_count": 255,
     "metadata": {},
     "output_type": "execute_result"
    }
   ],
   "source": [
    "from sklearn.ensemble import GradientBoostingClassifier\n",
    "\n",
    "model = GradientBoostingClassifier()\n",
    "model.fit(X_train, y_train)\n",
    "y_preds = model.predict(X_val)\n",
    "cm = confusion_matrix(y_val, y_preds)\n",
    "print(cm)\n",
    "model.score(X_val,  y_val)"
   ]
  },
  {
   "cell_type": "markdown",
   "metadata": {},
   "source": [
    "## Linear models: "
   ]
  },
  {
   "cell_type": "code",
   "execution_count": 256,
   "metadata": {
    "colab": {
     "base_uri": "https://localhost:8080/",
     "height": 70
    },
    "colab_type": "code",
    "executionInfo": {
     "elapsed": 391,
     "status": "ok",
     "timestamp": 1586119049900,
     "user": {
      "displayName": "Elizabeth Anne Combs",
      "photoUrl": "",
      "userId": "09373896408908020212"
     },
     "user_tz": 240
    },
    "id": "1aaR_Rpd-mWf",
    "outputId": "a3546817-5745-499c-c21c-b8524005e012"
   },
   "outputs": [
    {
     "name": "stdout",
     "output_type": "stream",
     "text": [
      "0.8846153846153846\n"
     ]
    }
   ],
   "source": [
    "# SVM: \n",
    "\n",
    "# training a linear SVM classifier \n",
    "from sklearn.svm import SVC \n",
    "svm_model_linear = SVC(kernel = 'linear', C = 1).fit(X_train, y_train) \n",
    "svm_predictions = svm_model_linear.predict(X_val) \n",
    "  \n",
    "# model accuracy for X_test   \n",
    "accuracy = svm_model_linear.score(X_val, y_val) \n",
    "  \n",
    "# creating a confusion matrix \n",
    "cm = confusion_matrix(y_val, svm_predictions) \n",
    "cm\n",
    "\n",
    "print(accuracy)\n",
    "# choose logreg"
   ]
  },
  {
   "cell_type": "markdown",
   "metadata": {},
   "source": [
    "Logistic Regression"
   ]
  },
  {
   "cell_type": "code",
   "execution_count": 257,
   "metadata": {},
   "outputs": [
    {
     "name": "stdout",
     "output_type": "stream",
     "text": [
      "Accuracy of logistic regression classifier on test set: 0.90\n"
     ]
    }
   ],
   "source": [
    "\n",
    "# https://towardsdatascience.com/building-a-logistic-regression-in-python-step-by-step-becd4d56c9c8\n",
    "\n",
    "from sklearn.linear_model import LogisticRegression\n",
    "from sklearn import metrics\n",
    "\n",
    "#X_train, X_test, y_train, y_test = train_test_split(X, y, test_size=0.3, random_state=0)\n",
    "logreg = LogisticRegression()\n",
    "logreg.fit(X_train, y_train)\n",
    "\n",
    "y_pred = logreg.predict(X_val)\n",
    "print('Accuracy of logistic regression classifier on test set: {:.2f}'.format(logreg.score(X_val, y_val)))"
   ]
  },
  {
   "cell_type": "code",
   "execution_count": 258,
   "metadata": {},
   "outputs": [
    {
     "data": {
      "text/plain": [
       "<matplotlib.legend.Legend at 0x1210d58d0>"
      ]
     },
     "execution_count": 258,
     "metadata": {},
     "output_type": "execute_result"
    },
    {
     "data": {
      "image/png": "[encoded data removed]",
      "text/plain": [
       "<Figure size 432x288 with 1 Axes>"
      ]
     },
     "metadata": {
      "needs_background": "light"
     },
     "output_type": "display_data"
    }
   ],
   "source": [
    "from sklearn.metrics import roc_auc_score\n",
    "from sklearn.metrics import roc_curve\n",
    "\n",
    "logit_roc_auc = roc_auc_score(y_val, logreg.predict(X_val))\n",
    "fpr, tpr, thresholds = roc_curve(y_val, logreg.predict_proba(X_val)[:,1])\n",
    "\n",
    "plt.figure()\n",
    "plt.plot(fpr, tpr, label='Logistic Regression (area = %0.2f)' % logit_roc_auc)\n",
    "plt.plot([0, 1], [0, 1],'r--')\n",
    "plt.xlim([0.0, 1.0])\n",
    "plt.ylim([0.0, 1.05])\n",
    "plt.xlabel('False Positive Rate')\n",
    "plt.ylabel('True Positive Rate')\n",
    "plt.title('Receiver operating characteristic')\n",
    "plt.legend(loc=\"lower right\")"
   ]
  },
  {
   "cell_type": "code",
   "execution_count": 259,
   "metadata": {
    "colab": {
     "base_uri": "https://localhost:8080/",
     "height": 34
    },
    "colab_type": "code",
    "executionInfo": {
     "elapsed": 368,
     "status": "ok",
     "timestamp": 1586119053724,
     "user": {
      "displayName": "Elizabeth Anne Combs",
      "photoUrl": "",
      "userId": "09373896408908020212"
     },
     "user_tz": 240
    },
    "id": "A4FgRl7Q_DUl",
    "outputId": "6efb398a-3f57-4fcc-bde3-1aca007c0b9d"
   },
   "outputs": [
    {
     "name": "stdout",
     "output_type": "stream",
     "text": [
      "0.8269230769230769\n"
     ]
    }
   ],
   "source": [
    "# KNN\n",
    "\n",
    "from sklearn.neighbors import KNeighborsClassifier \n",
    "knn = KNeighborsClassifier(n_neighbors = 5).fit(X_train, y_train) \n",
    "  \n",
    "# accuracy on X_test \n",
    "accuracy = knn.score(X_val, y_val) \n",
    "print(accuracy)\n",
    "  \n",
    "# creating a confusion matrix \n",
    "knn_predictions = knn.predict(X_val)  \n",
    "cm = confusion_matrix(y_val, knn_predictions)"
   ]
  },
  {
   "cell_type": "markdown",
   "metadata": {},
   "source": [
    "Neural Network: "
   ]
  },
  {
   "cell_type": "code",
   "execution_count": 114,
   "metadata": {
    "colab": {
     "base_uri": "https://localhost:8080/",
     "height": 392
    },
    "colab_type": "code",
    "executionInfo": {
     "elapsed": 3203,
     "status": "ok",
     "timestamp": 1586119060937,
     "user": {
      "displayName": "Elizabeth Anne Combs",
      "photoUrl": "",
      "userId": "09373896408908020212"
     },
     "user_tz": 240
    },
    "id": "0r72nDUZ_wMV",
    "outputId": "5fb043d2-b643-42dd-bfc4-4c200bbc9858"
   },
   "outputs": [],
   "source": [
    "# Neural Network References:\n",
    "# https://stackabuse.com/creating-a-neural-network-from-scratch-in-python-multi-class-classification/\n",
    "# https://shrikar.com/deep-learning-with-keras-and-python-for-multiclass-classification/\n",
    "# https://machinelearningmastery.com/tutorial-first-neural-network-python-keras/\n",
    "# https://towardsdatascience.com/building-our-first-neural-network-in-keras-bdc8abbc17f5\n",
    "\n",
    "# new binary: https://machinelearningmastery.com/binary-classification-tutorial-with-the-keras-deep-learning-library/"
   ]
  },
  {
   "cell_type": "code",
   "execution_count": 35,
   "metadata": {},
   "outputs": [
    {
     "data": {
      "text/plain": [
       "(157, 86)"
      ]
     },
     "execution_count": 35,
     "metadata": {},
     "output_type": "execute_result"
    }
   ],
   "source": [
    "X_train.shape"
   ]
  },
  {
   "cell_type": "code",
   "execution_count": 116,
   "metadata": {},
   "outputs": [
    {
     "name": "stderr",
     "output_type": "stream",
     "text": [
      "Using TensorFlow backend.\n"
     ]
    },
    {
     "name": "stdout",
     "output_type": "stream",
     "text": [
      "WARNING:tensorflow:From //anaconda3/lib/python3.7/site-packages/tensorflow/python/ops/nn_impl.py:180: add_dispatch_support.<locals>.wrapper (from tensorflow.python.ops.array_ops) is deprecated and will be removed in a future version.\n",
      "Instructions for updating:\n",
      "Use tf.where in 2.0, which has the same broadcast rule as np.where\n",
      "WARNING:tensorflow:From //anaconda3/lib/python3.7/site-packages/keras/backend/tensorflow_backend.py:422: The name tf.global_variables is deprecated. Please use tf.compat.v1.global_variables instead.\n",
      "\n",
      "Epoch 1/150\n",
      "157/157 [==============================] - 0s 1ms/step - loss: 0.7232 - accuracy: 0.5605\n",
      "Epoch 2/150\n",
      "157/157 [==============================] - 0s 153us/step - loss: 0.6779 - accuracy: 0.6369\n",
      "Epoch 3/150\n",
      "157/157 [==============================] - 0s 180us/step - loss: 0.6416 - accuracy: 0.6879\n",
      "Epoch 4/150\n",
      "157/157 [==============================] - 0s 189us/step - loss: 0.6104 - accuracy: 0.7325\n",
      "Epoch 5/150\n",
      "157/157 [==============================] - 0s 149us/step - loss: 0.5804 - accuracy: 0.7707\n",
      "Epoch 6/150\n",
      "157/157 [==============================] - 0s 124us/step - loss: 0.5504 - accuracy: 0.8025\n",
      "Epoch 7/150\n",
      "157/157 [==============================] - 0s 127us/step - loss: 0.5204 - accuracy: 0.8025\n",
      "Epoch 8/150\n",
      "157/157 [==============================] - 0s 122us/step - loss: 0.4918 - accuracy: 0.8217\n",
      "Epoch 9/150\n",
      "157/157 [==============================] - 0s 264us/step - loss: 0.4617 - accuracy: 0.8471\n",
      "Epoch 10/150\n",
      "157/157 [==============================] - 0s 185us/step - loss: 0.4309 - accuracy: 0.8662\n",
      "Epoch 11/150\n",
      "157/157 [==============================] - 0s 126us/step - loss: 0.4025 - accuracy: 0.8790\n",
      "Epoch 12/150\n",
      "157/157 [==============================] - 0s 197us/step - loss: 0.3776 - accuracy: 0.8917\n",
      "Epoch 13/150\n",
      "157/157 [==============================] - 0s 174us/step - loss: 0.3538 - accuracy: 0.8917\n",
      "Epoch 14/150\n",
      "157/157 [==============================] - 0s 146us/step - loss: 0.3331 - accuracy: 0.8981\n",
      "Epoch 15/150\n",
      "157/157 [==============================] - 0s 135us/step - loss: 0.3151 - accuracy: 0.9045\n",
      "Epoch 16/150\n",
      "157/157 [==============================] - 0s 268us/step - loss: 0.3001 - accuracy: 0.9172\n",
      "Epoch 17/150\n",
      "157/157 [==============================] - 0s 116us/step - loss: 0.2883 - accuracy: 0.9172\n",
      "Epoch 18/150\n",
      "157/157 [==============================] - 0s 111us/step - loss: 0.2768 - accuracy: 0.9172\n",
      "Epoch 19/150\n",
      "157/157 [==============================] - 0s 116us/step - loss: 0.2688 - accuracy: 0.9172\n",
      "Epoch 20/150\n",
      "157/157 [==============================] - 0s 124us/step - loss: 0.2604 - accuracy: 0.9172\n",
      "Epoch 21/150\n",
      "157/157 [==============================] - 0s 273us/step - loss: 0.2534 - accuracy: 0.9172\n",
      "Epoch 22/150\n",
      "157/157 [==============================] - 0s 174us/step - loss: 0.2479 - accuracy: 0.9108\n",
      "Epoch 23/150\n",
      "157/157 [==============================] - 0s 238us/step - loss: 0.2423 - accuracy: 0.9108\n",
      "Epoch 24/150\n",
      "157/157 [==============================] - 0s 209us/step - loss: 0.2380 - accuracy: 0.9108\n",
      "Epoch 25/150\n",
      "157/157 [==============================] - 0s 306us/step - loss: 0.2340 - accuracy: 0.9108\n",
      "Epoch 26/150\n",
      "157/157 [==============================] - 0s 272us/step - loss: 0.2306 - accuracy: 0.9108\n",
      "Epoch 27/150\n",
      "157/157 [==============================] - 0s 191us/step - loss: 0.2274 - accuracy: 0.9108\n",
      "Epoch 28/150\n",
      "157/157 [==============================] - 0s 133us/step - loss: 0.2246 - accuracy: 0.9108\n",
      "Epoch 29/150\n",
      "157/157 [==============================] - 0s 127us/step - loss: 0.2232 - accuracy: 0.9108\n",
      "Epoch 30/150\n",
      "157/157 [==============================] - 0s 272us/step - loss: 0.2197 - accuracy: 0.9172\n",
      "Epoch 31/150\n",
      "157/157 [==============================] - 0s 141us/step - loss: 0.2174 - accuracy: 0.9108\n",
      "Epoch 32/150\n",
      "157/157 [==============================] - 0s 128us/step - loss: 0.2150 - accuracy: 0.9172\n",
      "Epoch 33/150\n",
      "157/157 [==============================] - 0s 136us/step - loss: 0.2126 - accuracy: 0.9172\n",
      "Epoch 34/150\n",
      "157/157 [==============================] - 0s 242us/step - loss: 0.2106 - accuracy: 0.9172\n",
      "Epoch 35/150\n",
      "157/157 [==============================] - 0s 143us/step - loss: 0.2093 - accuracy: 0.9172\n",
      "Epoch 36/150\n",
      "157/157 [==============================] - 0s 125us/step - loss: 0.2069 - accuracy: 0.9172\n",
      "Epoch 37/150\n",
      "157/157 [==============================] - 0s 138us/step - loss: 0.2055 - accuracy: 0.9172\n",
      "Epoch 38/150\n",
      "157/157 [==============================] - 0s 235us/step - loss: 0.2050 - accuracy: 0.9172\n",
      "Epoch 39/150\n",
      "157/157 [==============================] - 0s 163us/step - loss: 0.2028 - accuracy: 0.9172\n",
      "Epoch 40/150\n",
      "157/157 [==============================] - 0s 306us/step - loss: 0.2006 - accuracy: 0.9172\n",
      "Epoch 41/150\n",
      "157/157 [==============================] - 0s 415us/step - loss: 0.1995 - accuracy: 0.9172\n",
      "Epoch 42/150\n",
      "157/157 [==============================] - 0s 185us/step - loss: 0.1984 - accuracy: 0.9172\n",
      "Epoch 43/150\n",
      "157/157 [==============================] - 0s 121us/step - loss: 0.1948 - accuracy: 0.9236\n",
      "Epoch 44/150\n",
      "157/157 [==============================] - 0s 128us/step - loss: 0.1929 - accuracy: 0.9236\n",
      "Epoch 45/150\n",
      "157/157 [==============================] - 0s 146us/step - loss: 0.1909 - accuracy: 0.9299\n",
      "Epoch 46/150\n",
      "157/157 [==============================] - 0s 208us/step - loss: 0.1902 - accuracy: 0.9299\n",
      "Epoch 47/150\n",
      "157/157 [==============================] - 0s 155us/step - loss: 0.1889 - accuracy: 0.9299\n",
      "Epoch 48/150\n",
      "157/157 [==============================] - 0s 130us/step - loss: 0.1878 - accuracy: 0.9236\n",
      "Epoch 49/150\n",
      "157/157 [==============================] - 0s 143us/step - loss: 0.1865 - accuracy: 0.9299\n",
      "Epoch 50/150\n",
      "157/157 [==============================] - 0s 269us/step - loss: 0.1860 - accuracy: 0.9299\n",
      "Epoch 51/150\n",
      "157/157 [==============================] - 0s 175us/step - loss: 0.1857 - accuracy: 0.9299\n",
      "Epoch 52/150\n",
      "157/157 [==============================] - 0s 186us/step - loss: 0.1870 - accuracy: 0.9299\n",
      "Epoch 53/150\n",
      "157/157 [==============================] - 0s 190us/step - loss: 0.1840 - accuracy: 0.9236\n",
      "Epoch 54/150\n",
      "157/157 [==============================] - 0s 257us/step - loss: 0.1849 - accuracy: 0.9299\n",
      "Epoch 55/150\n",
      "157/157 [==============================] - 0s 387us/step - loss: 0.1864 - accuracy: 0.9172\n",
      "Epoch 56/150\n",
      "157/157 [==============================] - 0s 248us/step - loss: 0.1820 - accuracy: 0.9299\n",
      "Epoch 57/150\n",
      "157/157 [==============================] - 0s 173us/step - loss: 0.1818 - accuracy: 0.9299\n",
      "Epoch 58/150\n",
      "157/157 [==============================] - 0s 334us/step - loss: 0.1810 - accuracy: 0.9299\n",
      "Epoch 59/150\n",
      "157/157 [==============================] - 0s 396us/step - loss: 0.1805 - accuracy: 0.9299\n",
      "Epoch 60/150\n",
      "157/157 [==============================] - 0s 360us/step - loss: 0.1803 - accuracy: 0.9299\n",
      "Epoch 61/150\n",
      "157/157 [==============================] - 0s 180us/step - loss: 0.1802 - accuracy: 0.9236\n",
      "Epoch 62/150\n",
      "157/157 [==============================] - 0s 160us/step - loss: 0.1792 - accuracy: 0.9299\n",
      "Epoch 63/150\n",
      "157/157 [==============================] - 0s 181us/step - loss: 0.1785 - accuracy: 0.9299\n",
      "Epoch 64/150\n",
      "157/157 [==============================] - 0s 184us/step - loss: 0.1781 - accuracy: 0.9236\n",
      "Epoch 65/150\n",
      "157/157 [==============================] - 0s 194us/step - loss: 0.1781 - accuracy: 0.9236\n",
      "Epoch 66/150\n",
      "157/157 [==============================] - 0s 203us/step - loss: 0.1778 - accuracy: 0.9236\n",
      "Epoch 67/150\n",
      "157/157 [==============================] - 0s 165us/step - loss: 0.1782 - accuracy: 0.9172\n",
      "Epoch 68/150\n",
      "157/157 [==============================] - 0s 213us/step - loss: 0.1768 - accuracy: 0.9299\n",
      "Epoch 69/150\n",
      "157/157 [==============================] - 0s 184us/step - loss: 0.1771 - accuracy: 0.9236\n",
      "Epoch 70/150\n",
      "157/157 [==============================] - 0s 160us/step - loss: 0.1765 - accuracy: 0.9299\n",
      "Epoch 71/150\n",
      "157/157 [==============================] - 0s 172us/step - loss: 0.1757 - accuracy: 0.9299\n",
      "Epoch 72/150\n",
      "157/157 [==============================] - 0s 211us/step - loss: 0.1756 - accuracy: 0.9236\n",
      "Epoch 73/150\n",
      "157/157 [==============================] - 0s 169us/step - loss: 0.1748 - accuracy: 0.9299\n",
      "Epoch 74/150\n",
      "157/157 [==============================] - 0s 177us/step - loss: 0.1746 - accuracy: 0.9236\n",
      "Epoch 75/150\n",
      "157/157 [==============================] - 0s 189us/step - loss: 0.1744 - accuracy: 0.9236\n",
      "Epoch 76/150\n",
      "157/157 [==============================] - 0s 155us/step - loss: 0.1741 - accuracy: 0.9236\n",
      "Epoch 77/150\n",
      "157/157 [==============================] - 0s 195us/step - loss: 0.1734 - accuracy: 0.9236\n",
      "Epoch 78/150\n",
      "157/157 [==============================] - 0s 152us/step - loss: 0.1739 - accuracy: 0.9299\n",
      "Epoch 79/150\n",
      "157/157 [==============================] - 0s 151us/step - loss: 0.1733 - accuracy: 0.9236\n",
      "Epoch 80/150\n",
      "157/157 [==============================] - 0s 191us/step - loss: 0.1752 - accuracy: 0.9299\n",
      "Epoch 81/150\n",
      "157/157 [==============================] - 0s 188us/step - loss: 0.1729 - accuracy: 0.9299\n",
      "Epoch 82/150\n",
      "157/157 [==============================] - 0s 193us/step - loss: 0.1719 - accuracy: 0.9299\n",
      "Epoch 83/150\n",
      "157/157 [==============================] - 0s 159us/step - loss: 0.1722 - accuracy: 0.9299\n",
      "Epoch 84/150\n",
      "157/157 [==============================] - 0s 182us/step - loss: 0.1733 - accuracy: 0.9236\n",
      "Epoch 85/150\n",
      "157/157 [==============================] - 0s 156us/step - loss: 0.1731 - accuracy: 0.9236\n",
      "Epoch 86/150\n",
      "157/157 [==============================] - 0s 184us/step - loss: 0.1714 - accuracy: 0.9236\n",
      "Epoch 87/150\n",
      "157/157 [==============================] - 0s 184us/step - loss: 0.1725 - accuracy: 0.9172\n",
      "Epoch 88/150\n",
      "157/157 [==============================] - 0s 185us/step - loss: 0.1706 - accuracy: 0.9299\n",
      "Epoch 89/150\n",
      "157/157 [==============================] - 0s 166us/step - loss: 0.1709 - accuracy: 0.9236\n",
      "Epoch 90/150\n",
      "157/157 [==============================] - 0s 166us/step - loss: 0.1712 - accuracy: 0.9236\n",
      "Epoch 91/150\n",
      "157/157 [==============================] - 0s 205us/step - loss: 0.1696 - accuracy: 0.9299\n",
      "Epoch 92/150\n",
      "157/157 [==============================] - 0s 155us/step - loss: 0.1705 - accuracy: 0.9236\n",
      "Epoch 93/150\n",
      "157/157 [==============================] - 0s 191us/step - loss: 0.1696 - accuracy: 0.9236\n",
      "Epoch 94/150\n",
      "157/157 [==============================] - 0s 171us/step - loss: 0.1700 - accuracy: 0.9236\n",
      "Epoch 95/150\n",
      "157/157 [==============================] - 0s 201us/step - loss: 0.1690 - accuracy: 0.9236\n",
      "Epoch 96/150\n",
      "157/157 [==============================] - 0s 151us/step - loss: 0.1684 - accuracy: 0.9236\n",
      "Epoch 97/150\n",
      "157/157 [==============================] - 0s 164us/step - loss: 0.1682 - accuracy: 0.9236\n",
      "Epoch 98/150\n",
      "157/157 [==============================] - ETA: 0s - loss: 0.2257 - accuracy: 0.90 - 0s 302us/step - loss: 0.1684 - accuracy: 0.9172\n",
      "Epoch 99/150\n",
      "157/157 [==============================] - 0s 248us/step - loss: 0.1680 - accuracy: 0.9172\n",
      "Epoch 100/150\n",
      "157/157 [==============================] - 0s 210us/step - loss: 0.1680 - accuracy: 0.9172\n",
      "Epoch 101/150\n",
      "157/157 [==============================] - 0s 161us/step - loss: 0.1696 - accuracy: 0.9236\n",
      "Epoch 102/150\n",
      "157/157 [==============================] - 0s 149us/step - loss: 0.1693 - accuracy: 0.9236\n",
      "Epoch 103/150\n",
      "157/157 [==============================] - 0s 210us/step - loss: 0.1674 - accuracy: 0.9236\n",
      "Epoch 104/150\n",
      "157/157 [==============================] - 0s 140us/step - loss: 0.1686 - accuracy: 0.9172\n",
      "Epoch 105/150\n",
      "157/157 [==============================] - 0s 194us/step - loss: 0.1677 - accuracy: 0.9172\n",
      "Epoch 106/150\n",
      "157/157 [==============================] - 0s 225us/step - loss: 0.1673 - accuracy: 0.9236\n",
      "Epoch 107/150\n",
      "157/157 [==============================] - 0s 174us/step - loss: 0.1666 - accuracy: 0.9236\n",
      "Epoch 108/150\n",
      "157/157 [==============================] - 0s 155us/step - loss: 0.1657 - accuracy: 0.9172\n",
      "Epoch 109/150\n",
      "157/157 [==============================] - 0s 185us/step - loss: 0.1681 - accuracy: 0.9172\n",
      "Epoch 110/150\n",
      "157/157 [==============================] - 0s 194us/step - loss: 0.1671 - accuracy: 0.9299\n",
      "Epoch 111/150\n",
      "157/157 [==============================] - 0s 193us/step - loss: 0.1684 - accuracy: 0.9236\n",
      "Epoch 112/150\n",
      "157/157 [==============================] - 0s 192us/step - loss: 0.1663 - accuracy: 0.9299\n",
      "Epoch 113/150\n",
      "157/157 [==============================] - 0s 196us/step - loss: 0.1655 - accuracy: 0.9172\n",
      "Epoch 114/150\n",
      "157/157 [==============================] - 0s 164us/step - loss: 0.1652 - accuracy: 0.9236\n",
      "Epoch 115/150\n",
      "157/157 [==============================] - 0s 181us/step - loss: 0.1658 - accuracy: 0.9172\n",
      "Epoch 116/150\n",
      "157/157 [==============================] - 0s 187us/step - loss: 0.1659 - accuracy: 0.9236\n",
      "Epoch 117/150\n",
      "157/157 [==============================] - 0s 189us/step - loss: 0.1650 - accuracy: 0.9172\n",
      "Epoch 118/150\n",
      "157/157 [==============================] - 0s 189us/step - loss: 0.1645 - accuracy: 0.9236\n",
      "Epoch 119/150\n",
      "157/157 [==============================] - 0s 188us/step - loss: 0.1651 - accuracy: 0.9236\n",
      "Epoch 120/150\n",
      "157/157 [==============================] - 0s 167us/step - loss: 0.1658 - accuracy: 0.9236\n",
      "Epoch 121/150\n",
      "157/157 [==============================] - 0s 178us/step - loss: 0.1635 - accuracy: 0.9172\n",
      "Epoch 122/150\n",
      "157/157 [==============================] - 0s 223us/step - loss: 0.1645 - accuracy: 0.9236\n",
      "Epoch 123/150\n",
      "157/157 [==============================] - 0s 193us/step - loss: 0.1631 - accuracy: 0.9299\n",
      "Epoch 124/150\n",
      "157/157 [==============================] - 0s 183us/step - loss: 0.1637 - accuracy: 0.9299\n",
      "Epoch 125/150\n",
      "157/157 [==============================] - 0s 153us/step - loss: 0.1646 - accuracy: 0.9299\n",
      "Epoch 126/150\n",
      "157/157 [==============================] - 0s 192us/step - loss: 0.1639 - accuracy: 0.9299\n",
      "Epoch 127/150\n",
      "157/157 [==============================] - 0s 185us/step - loss: 0.1635 - accuracy: 0.9236\n",
      "Epoch 128/150\n",
      "157/157 [==============================] - 0s 152us/step - loss: 0.1635 - accuracy: 0.9172\n",
      "Epoch 129/150\n",
      "157/157 [==============================] - 0s 205us/step - loss: 0.1630 - accuracy: 0.9299\n",
      "Epoch 130/150\n",
      "157/157 [==============================] - 0s 168us/step - loss: 0.1628 - accuracy: 0.9299\n",
      "Epoch 131/150\n",
      "157/157 [==============================] - 0s 204us/step - loss: 0.1621 - accuracy: 0.9299\n",
      "Epoch 132/150\n",
      "157/157 [==============================] - 0s 150us/step - loss: 0.1623 - accuracy: 0.9299\n",
      "Epoch 133/150\n",
      "157/157 [==============================] - 0s 163us/step - loss: 0.1624 - accuracy: 0.9236\n",
      "Epoch 134/150\n",
      "157/157 [==============================] - 0s 156us/step - loss: 0.1629 - accuracy: 0.9236\n",
      "Epoch 135/150\n",
      "157/157 [==============================] - 0s 143us/step - loss: 0.1628 - accuracy: 0.9299\n",
      "Epoch 136/150\n",
      "157/157 [==============================] - 0s 164us/step - loss: 0.1638 - accuracy: 0.9236\n",
      "Epoch 137/150\n",
      "157/157 [==============================] - 0s 202us/step - loss: 0.1609 - accuracy: 0.9363\n",
      "Epoch 138/150\n",
      "157/157 [==============================] - 0s 167us/step - loss: 0.1620 - accuracy: 0.9363\n",
      "Epoch 139/150\n",
      "157/157 [==============================] - 0s 187us/step - loss: 0.1618 - accuracy: 0.9299\n",
      "Epoch 140/150\n",
      "157/157 [==============================] - 0s 181us/step - loss: 0.1618 - accuracy: 0.9236\n",
      "Epoch 141/150\n",
      "157/157 [==============================] - 0s 184us/step - loss: 0.1629 - accuracy: 0.9299\n",
      "Epoch 142/150\n",
      "157/157 [==============================] - 0s 206us/step - loss: 0.1620 - accuracy: 0.9299\n",
      "Epoch 143/150\n",
      "157/157 [==============================] - 0s 151us/step - loss: 0.1625 - accuracy: 0.9236\n",
      "Epoch 144/150\n",
      "157/157 [==============================] - 0s 174us/step - loss: 0.1609 - accuracy: 0.9236\n",
      "Epoch 145/150\n",
      "157/157 [==============================] - 0s 189us/step - loss: 0.1614 - accuracy: 0.9299\n",
      "Epoch 146/150\n",
      "157/157 [==============================] - 0s 219us/step - loss: 0.1620 - accuracy: 0.9299\n",
      "Epoch 147/150\n",
      "157/157 [==============================] - 0s 168us/step - loss: 0.1630 - accuracy: 0.9299\n",
      "Epoch 148/150\n",
      "157/157 [==============================] - 0s 216us/step - loss: 0.1602 - accuracy: 0.9363\n",
      "Epoch 149/150\n",
      "157/157 [==============================] - 0s 160us/step - loss: 0.1605 - accuracy: 0.9236\n",
      "Epoch 150/150\n",
      "157/157 [==============================] - 0s 148us/step - loss: 0.1612 - accuracy: 0.9299\n",
      "52/52 [==============================] - 0s 571us/step\n",
      "Accuracy: 78.85\n"
     ]
    }
   ],
   "source": [
    "from keras.models import Sequential\n",
    "from keras.layers import Dense\n",
    "from keras.wrappers.scikit_learn import KerasClassifier\n",
    "from sklearn.model_selection import cross_val_score\n",
    "from sklearn.preprocessing import LabelEncoder\n",
    "from sklearn.model_selection import StratifiedKFold\n",
    "\n",
    "model = Sequential()\n",
    "model.add(Dense(12, input_dim=X_train.shape[1], activation='relu'))\n",
    "model.add(Dense(8, activation='relu'))\n",
    "model.add(Dense(1, activation='sigmoid'))\n",
    "\n",
    "# compile the keras model\n",
    "model.compile(loss='binary_crossentropy', optimizer='adam', metrics=['accuracy'])\n",
    "# fit the keras model on the dataset\n",
    "model.fit(X_train, y_train, epochs=150, batch_size=10)\n",
    "# evaluate the keras model\n",
    "_, accuracy = model.evaluate(X_val, y_val)\n",
    "print('Accuracy: %.2f' % (accuracy*100))"
   ]
  },
  {
   "cell_type": "markdown",
   "metadata": {},
   "source": [
    "Model Performance of XGBoost and Random Forest on Subet of Features:"
   ]
  },
  {
   "cell_type": "code",
   "execution_count": 260,
   "metadata": {},
   "outputs": [],
   "source": [
    "imp = SimpleImputer(strategy=\"mean\")\n",
    "standardize = preprocessing.StandardScaler()\n",
    "cols_drop = ['Health Status Binary']\n",
    "\n",
    "train_f=train.iloc[:,np.append(important_features, 100)]\n",
    "val_f=val.iloc[:,np.append(important_features, 99)]\n",
    "test_f=test.iloc[:,np.append(important_features, 99)]\n",
    "\n",
    "X_train, y_train = train_f.drop(cols_drop, axis=1), train['Health Status Binary']\n",
    "X_val, y_val = val_f.drop(cols_drop, axis=1), val['Health Status Binary']\n",
    "X_test, y_test = test_f.drop(cols_drop, axis=1), test['Health Status Binary']\n",
    "\n",
    "X_train = X_train.select_dtypes(include=['float', 'int64'])\n",
    "X_val = X_val.select_dtypes(include=['float', 'int64'])\n",
    "X_test = X_test.select_dtypes(include=['float', 'int64'])\n",
    "\n",
    "X_train = standardize.fit_transform(imp.fit_transform(X_train))\n",
    "X_val = standardize.fit_transform(imp.fit_transform(X_val))\n",
    "X_test = standardize.fit_transform(imp.fit_transform(X_test))"
   ]
  },
  {
   "cell_type": "code",
   "execution_count": 263,
   "metadata": {},
   "outputs": [
    {
     "name": "stdout",
     "output_type": "stream",
     "text": [
      "[[32  0]\n",
      " [20  0]]\n"
     ]
    },
    {
     "data": {
      "text/plain": [
       "0.6153846153846154"
      ]
     },
     "execution_count": 263,
     "metadata": {},
     "output_type": "execute_result"
    }
   ],
   "source": [
    "#Random Forest\n",
    "clf = RandomForestClassifier(max_depth=10, random_state=0) \n",
    "clf.fit(X_train, y_train)\n",
    "rf_preds = clf.predict(X_val)\n",
    "cm = confusion_matrix(y_val, rf_preds)\n",
    "print(cm)\n",
    "clf.score(X_val,  y_val)"
   ]
  },
  {
   "cell_type": "code",
   "execution_count": 264,
   "metadata": {},
   "outputs": [
    {
     "name": "stdout",
     "output_type": "stream",
     "text": [
      "[[32  0]\n",
      " [20  0]]\n"
     ]
    },
    {
     "data": {
      "text/plain": [
       "0.6153846153846154"
      ]
     },
     "execution_count": 264,
     "metadata": {},
     "output_type": "execute_result"
    }
   ],
   "source": [
    "#XGBoost\n",
    "model = GradientBoostingClassifier()\n",
    "model.fit(X_train, y_train)\n",
    "y_preds = model.predict(X_val)\n",
    "cm = confusion_matrix(y_val, y_preds)\n",
    "print(cm)\n",
    "model.score(X_val,  y_val)"
   ]
  },
  {
   "cell_type": "markdown",
   "metadata": {},
   "source": [
    "Feature selection resulted in worse accuracy"
   ]
  },
  {
   "cell_type": "markdown",
   "metadata": {},
   "source": [
    "Hyperparameter Tuning -- going back to original train \n",
    "Adapted from https://towardsdatascience.com/hyperparameter-tuning-the-random-forest-in-python-using-scikit-learn-28d2aa77dd74"
   ]
  },
  {
   "cell_type": "code",
   "execution_count": 265,
   "metadata": {},
   "outputs": [],
   "source": [
    "imp = SimpleImputer(strategy=\"mean\")\n",
    "standardize = preprocessing.StandardScaler()\n",
    "cols_drop = ['Health Status Binary','HealthStatusNUM', 'Health Status', 'Date of Onset of Symptoms']\n",
    "\n",
    "X_train, y_train = train.drop(cols_drop, axis=1), train['Health Status Binary']\n",
    "X_val, y_val = val.drop(cols_drop, axis=1), val['Health Status Binary']\n",
    "X_test, y_test = test.drop(cols_drop, axis=1), test['Health Status Binary']\n",
    "\n",
    "X_train = X_train.select_dtypes(include=['float', 'int64'])\n",
    "X_val = X_val.select_dtypes(include=['float', 'int64'])\n",
    "X_test = X_test.select_dtypes(include=['float', 'int64'])\n",
    "\n",
    "X_train = standardize.fit_transform(imp.fit_transform(X_train))\n",
    "X_val = standardize.fit_transform(imp.fit_transform(X_val))\n",
    "X_test = standardize.fit_transform(imp.fit_transform(X_test))"
   ]
  },
  {
   "cell_type": "code",
   "execution_count": 267,
   "metadata": {},
   "outputs": [
    {
     "name": "stdout",
     "output_type": "stream",
     "text": [
      "{'n_estimators': [200, 400, 600, 800, 1000, 1200, 1400, 1600, 1800, 2000], 'max_features': ['auto', 'sqrt'], 'max_depth': [10, 20, 30, 40, 50, 60, 70, 80, 90, 100, 110, None], 'min_samples_split': [2, 5, 10], 'min_samples_leaf': [1, 2, 4], 'bootstrap': [True, False]}\n"
     ]
    }
   ],
   "source": [
    "from sklearn.model_selection import RandomizedSearchCV\n",
    "# Number of trees in random forest\n",
    "n_estimators = [int(x) for x in np.linspace(start = 200, stop = 2000, num = 10)]\n",
    "# Number of features to consider at every split\n",
    "max_features = ['auto', 'sqrt']\n",
    "# Maximum number of levels in tree\n",
    "max_depth = [int(x) for x in np.linspace(10, 110, num = 11)]\n",
    "max_depth.append(None)\n",
    "# Minimum number of samples required to split a node\n",
    "min_samples_split = [2, 5, 10]\n",
    "# Minimum number of samples required at each leaf node\n",
    "min_samples_leaf = [1, 2, 4]\n",
    "# Method of selecting samples for training each tree\n",
    "bootstrap = [True, False]\n",
    "# Create the random grid\n",
    "random_grid = {'n_estimators': n_estimators,\n",
    "               'max_features': max_features,\n",
    "               'max_depth': max_depth,\n",
    "               'min_samples_split': min_samples_split,\n",
    "               'min_samples_leaf': min_samples_leaf,\n",
    "               'bootstrap': bootstrap}\n",
    "print(random_grid)"
   ]
  },
  {
   "cell_type": "code",
   "execution_count": 268,
   "metadata": {},
   "outputs": [
    {
     "name": "stdout",
     "output_type": "stream",
     "text": [
      "Fitting 3 folds for each of 100 candidates, totalling 300 fits\n"
     ]
    },
    {
     "name": "stderr",
     "output_type": "stream",
     "text": [
      "[Parallel(n_jobs=-1)]: Using backend LokyBackend with 4 concurrent workers.\n",
      "[Parallel(n_jobs=-1)]: Done  33 tasks      | elapsed:   16.8s\n",
      "[Parallel(n_jobs=-1)]: Done 154 tasks      | elapsed:   55.5s\n",
      "[Parallel(n_jobs=-1)]: Done 300 out of 300 | elapsed:  1.9min finished\n"
     ]
    },
    {
     "data": {
      "text/plain": [
       "RandomizedSearchCV(cv=3, error_score='raise-deprecating',\n",
       "                   estimator=RandomForestClassifier(bootstrap=True,\n",
       "                                                    class_weight=None,\n",
       "                                                    criterion='gini',\n",
       "                                                    max_depth=None,\n",
       "                                                    max_features='auto',\n",
       "                                                    max_leaf_nodes=None,\n",
       "                                                    min_impurity_decrease=0.0,\n",
       "                                                    min_impurity_split=None,\n",
       "                                                    min_samples_leaf=1,\n",
       "                                                    min_samples_split=2,\n",
       "                                                    min_weight_fraction_leaf=0.0,\n",
       "                                                    n_estimators='warn',\n",
       "                                                    n_jobs=None,\n",
       "                                                    oob_sc...\n",
       "                   param_distributions={'bootstrap': [True, False],\n",
       "                                        'max_depth': [10, 20, 30, 40, 50, 60,\n",
       "                                                      70, 80, 90, 100, 110,\n",
       "                                                      None],\n",
       "                                        'max_features': ['auto', 'sqrt'],\n",
       "                                        'min_samples_leaf': [1, 2, 4],\n",
       "                                        'min_samples_split': [2, 5, 10],\n",
       "                                        'n_estimators': [200, 400, 600, 800,\n",
       "                                                         1000, 1200, 1400, 1600,\n",
       "                                                         1800, 2000]},\n",
       "                   pre_dispatch='2*n_jobs', random_state=42, refit=True,\n",
       "                   return_train_score=False, scoring=None, verbose=2)"
      ]
     },
     "execution_count": 268,
     "metadata": {},
     "output_type": "execute_result"
    }
   ],
   "source": [
    "# Use the random grid to search for best hyperparameters\n",
    "# First create the base model to tune\n",
    "rf = RandomForestClassifier()\n",
    "# Random search of parameters, using 3 fold cross validation, \n",
    "# search across 100 different combinations, and use all available cores\n",
    "rf_random = RandomizedSearchCV(estimator = rf, param_distributions = random_grid, n_iter = 100, cv = 3, verbose=2, random_state=42, n_jobs = -1)\n",
    "# Fit the random search model\n",
    "rf_random.fit(X_train, y_train)"
   ]
  },
  {
   "cell_type": "code",
   "execution_count": 269,
   "metadata": {},
   "outputs": [
    {
     "data": {
      "text/plain": [
       "{'n_estimators': 2000,\n",
       " 'min_samples_split': 10,\n",
       " 'min_samples_leaf': 1,\n",
       " 'max_features': 'sqrt',\n",
       " 'max_depth': 10,\n",
       " 'bootstrap': False}"
      ]
     },
     "execution_count": 269,
     "metadata": {},
     "output_type": "execute_result"
    }
   ],
   "source": [
    "rf_random.best_params_"
   ]
  },
  {
   "cell_type": "code",
   "execution_count": 271,
   "metadata": {},
   "outputs": [
    {
     "name": "stdout",
     "output_type": "stream",
     "text": [
      "[[31  1]\n",
      " [ 6 14]]\n"
     ]
    },
    {
     "data": {
      "text/plain": [
       "0.8653846153846154"
      ]
     },
     "execution_count": 271,
     "metadata": {},
     "output_type": "execute_result"
    }
   ],
   "source": [
    "from sklearn.ensemble import RandomForestClassifier\n",
    "\n",
    "clf = RandomForestClassifier(max_depth=10, min_samples_split=10, n_estimators=2000, min_samples_leaf=1) \n",
    "clf.fit(X_train, y_train)\n",
    "rf_preds = clf.predict(X_val)\n",
    "cm = confusion_matrix(y_val, rf_preds)\n",
    "print(cm)\n",
    "clf.score(X_val,  y_val)"
   ]
  },
  {
   "cell_type": "markdown",
   "metadata": {},
   "source": [
    "Improved by 0.04! "
   ]
  },
  {
   "cell_type": "code",
   "execution_count": null,
   "metadata": {},
   "outputs": [],
   "source": []
  }
 ],
 "metadata": {
  "colab": {
   "collapsed_sections": [],
   "include_colab_link": true,
   "name": "Exploration_COVID19.ipynb",
   "provenance": []
  },
  "kernelspec": {
   "display_name": "Python 3",
   "language": "python",
   "name": "python3"
  },
  "language_info": {
   "codemirror_mode": {
    "name": "ipython",
    "version": 3
   },
   "file_extension": ".py",
   "mimetype": "text/x-python",
   "name": "python",
   "nbconvert_exporter": "python",
   "pygments_lexer": "ipython3",
   "version": "3.7.3"
  }
 },
 "nbformat": 4,
 "nbformat_minor": 1
}
