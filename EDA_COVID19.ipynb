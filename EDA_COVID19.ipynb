{
 "cells": [
  {
   "cell_type": "markdown",
   "metadata": {
    "colab_type": "text",
    "id": "view-in-github"
   },
   "source": [
    "<a href=\"https://colab.research.google.com/github/angelaaaateng/ML_COVID_PREDICTION/blob/master/Exploration_COVID19.ipynb\" target=\"_parent\"><img src=\"https://colab.research.google.com/assets/colab-badge.svg\" alt=\"Open In Colab\"/></a>"
   ]
  },
  {
   "cell_type": "markdown",
   "metadata": {
    "colab_type": "text",
    "id": "hcscV-8sMP7g"
   },
   "source": [
    "## Import Libraries + Load Data"
   ]
  },
  {
   "cell_type": "code",
   "execution_count": 2,
   "metadata": {
    "colab": {
     "base_uri": "https://localhost:8080/",
     "height": 72
    },
    "colab_type": "code",
    "id": "vP_c5Y6LKm2G",
    "outputId": "a1c6509e-375d-4430-802c-b925d3a6757f"
   },
   "outputs": [],
   "source": [
    "import pandas as pd\n",
    "import seaborn as sns\n",
    "from sklearn.model_selection import train_test_split"
   ]
  },
  {
   "cell_type": "code",
   "execution_count": 6,
   "metadata": {},
   "outputs": [
    {
     "name": "stdout",
     "output_type": "stream",
     "text": [
      "/Users/angelateng/NYU_GoogleDrive/GitHub/ML_COVID_PREDICTION\r\n"
     ]
    }
   ],
   "source": [
    "# amber additions\n",
    "!pwd"
   ]
  },
  {
   "cell_type": "markdown",
   "metadata": {
    "colab_type": "text",
    "id": "6C1GmBULMS6Q"
   },
   "source": [
    "### DSP Data (Key = PHCaseNo)"
   ]
  },
  {
   "cell_type": "code",
   "execution_count": 21,
   "metadata": {},
   "outputs": [
    {
     "data": {
      "text/html": [
       "<div>\n",
       "<style scoped>\n",
       "    .dataframe tbody tr th:only-of-type {\n",
       "        vertical-align: middle;\n",
       "    }\n",
       "\n",
       "    .dataframe tbody tr th {\n",
       "        vertical-align: top;\n",
       "    }\n",
       "\n",
       "    .dataframe thead th {\n",
       "        text-align: right;\n",
       "    }\n",
       "</style>\n",
       "<table border=\"1\" class=\"dataframe\">\n",
       "  <thead>\n",
       "    <tr style=\"text-align: right;\">\n",
       "      <th></th>\n",
       "      <th>Case No.</th>\n",
       "      <th>Sex</th>\n",
       "      <th>Age</th>\n",
       "      <th>Nationality</th>\n",
       "      <th>Residence in the Philippines</th>\n",
       "      <th>History of Travel / Exposure</th>\n",
       "      <th>Travel History 1</th>\n",
       "      <th>Travel History 2</th>\n",
       "      <th>Travel History 3</th>\n",
       "      <th>Travel History 4</th>\n",
       "      <th>...</th>\n",
       "      <th>Residence Lat</th>\n",
       "      <th>Residence Long</th>\n",
       "      <th>Column</th>\n",
       "      <th>Column2</th>\n",
       "      <th>Column3</th>\n",
       "      <th>Column4</th>\n",
       "      <th>Column5</th>\n",
       "      <th>Column6</th>\n",
       "      <th>Column7</th>\n",
       "      <th>Column8</th>\n",
       "    </tr>\n",
       "  </thead>\n",
       "  <tbody>\n",
       "    <tr>\n",
       "      <td>0</td>\n",
       "      <td>PH00001</td>\n",
       "      <td>F</td>\n",
       "      <td>38</td>\n",
       "      <td>Chinese</td>\n",
       "      <td>None</td>\n",
       "      <td>Yes (China); Wife of PH02</td>\n",
       "      <td>China</td>\n",
       "      <td>NaN</td>\n",
       "      <td>NaN</td>\n",
       "      <td>NaN</td>\n",
       "      <td>...</td>\n",
       "      <td>14.598727</td>\n",
       "      <td>120.9819909</td>\n",
       "      <td>NaN</td>\n",
       "      <td>NaN</td>\n",
       "      <td>NaN</td>\n",
       "      <td>NaN</td>\n",
       "      <td>NaN</td>\n",
       "      <td>NaN</td>\n",
       "      <td>NaN</td>\n",
       "      <td>NaN</td>\n",
       "    </tr>\n",
       "    <tr>\n",
       "      <td>1</td>\n",
       "      <td>PH00002</td>\n",
       "      <td>M</td>\n",
       "      <td>44</td>\n",
       "      <td>Chinese</td>\n",
       "      <td>None</td>\n",
       "      <td>Yes (China); Husband of PH1</td>\n",
       "      <td>China</td>\n",
       "      <td>NaN</td>\n",
       "      <td>NaN</td>\n",
       "      <td>NaN</td>\n",
       "      <td>...</td>\n",
       "      <td>14.598727</td>\n",
       "      <td>120.9819909</td>\n",
       "      <td>NaN</td>\n",
       "      <td>NaN</td>\n",
       "      <td>NaN</td>\n",
       "      <td>NaN</td>\n",
       "      <td>NaN</td>\n",
       "      <td>NaN</td>\n",
       "      <td>NaN</td>\n",
       "      <td>NaN</td>\n",
       "    </tr>\n",
       "    <tr>\n",
       "      <td>2</td>\n",
       "      <td>PH00003</td>\n",
       "      <td>F</td>\n",
       "      <td>60</td>\n",
       "      <td>Chinese</td>\n",
       "      <td>None</td>\n",
       "      <td>Yes (China)</td>\n",
       "      <td>China</td>\n",
       "      <td>NaN</td>\n",
       "      <td>NaN</td>\n",
       "      <td>NaN</td>\n",
       "      <td>...</td>\n",
       "      <td>14.598727</td>\n",
       "      <td>120.9819909</td>\n",
       "      <td>NaN</td>\n",
       "      <td>NaN</td>\n",
       "      <td>NaN</td>\n",
       "      <td>NaN</td>\n",
       "      <td>NaN</td>\n",
       "      <td>NaN</td>\n",
       "      <td>NaN</td>\n",
       "      <td>NaN</td>\n",
       "    </tr>\n",
       "    <tr>\n",
       "      <td>3</td>\n",
       "      <td>PH00004</td>\n",
       "      <td>M</td>\n",
       "      <td>48</td>\n",
       "      <td>Filipino</td>\n",
       "      <td>Taguig City</td>\n",
       "      <td>Yes (Japan)</td>\n",
       "      <td>Japan</td>\n",
       "      <td>NaN</td>\n",
       "      <td>NaN</td>\n",
       "      <td>NaN</td>\n",
       "      <td>...</td>\n",
       "      <td>14.517274</td>\n",
       "      <td>121.0496133</td>\n",
       "      <td>NaN</td>\n",
       "      <td>NaN</td>\n",
       "      <td>NaN</td>\n",
       "      <td>NaN</td>\n",
       "      <td>NaN</td>\n",
       "      <td>NaN</td>\n",
       "      <td>NaN</td>\n",
       "      <td>NaN</td>\n",
       "    </tr>\n",
       "    <tr>\n",
       "      <td>4</td>\n",
       "      <td>PH00005</td>\n",
       "      <td>M</td>\n",
       "      <td>62</td>\n",
       "      <td>Filipino</td>\n",
       "      <td>Cainta, Rizal</td>\n",
       "      <td>Husband of PH06</td>\n",
       "      <td>None</td>\n",
       "      <td>NaN</td>\n",
       "      <td>NaN</td>\n",
       "      <td>NaN</td>\n",
       "      <td>...</td>\n",
       "      <td>14.586506</td>\n",
       "      <td>121.1138255</td>\n",
       "      <td>NaN</td>\n",
       "      <td>NaN</td>\n",
       "      <td>NaN</td>\n",
       "      <td>NaN</td>\n",
       "      <td>NaN</td>\n",
       "      <td>NaN</td>\n",
       "      <td>NaN</td>\n",
       "      <td>NaN</td>\n",
       "    </tr>\n",
       "  </tbody>\n",
       "</table>\n",
       "<p>5 rows × 46 columns</p>\n",
       "</div>"
      ],
      "text/plain": [
       "  Case No. Sex  Age Nationality Residence in the Philippines  \\\n",
       "0  PH00001   F   38     Chinese                         None   \n",
       "1  PH00002   M   44     Chinese                         None   \n",
       "2  PH00003   F   60     Chinese                         None   \n",
       "3  PH00004   M   48    Filipino                  Taguig City   \n",
       "4  PH00005   M   62    Filipino                Cainta, Rizal   \n",
       "\n",
       "  History of Travel / Exposure Travel History 1 Travel History 2  \\\n",
       "0    Yes (China); Wife of PH02            China              NaN   \n",
       "1  Yes (China); Husband of PH1            China              NaN   \n",
       "2                  Yes (China)            China              NaN   \n",
       "3                  Yes (Japan)            Japan              NaN   \n",
       "4              Husband of PH06             None              NaN   \n",
       "\n",
       "  Travel History 3 Travel History 4  ... Residence Lat Residence Long Column  \\\n",
       "0              NaN              NaN  ...     14.598727    120.9819909    NaN   \n",
       "1              NaN              NaN  ...     14.598727    120.9819909    NaN   \n",
       "2              NaN              NaN  ...     14.598727    120.9819909    NaN   \n",
       "3              NaN              NaN  ...     14.517274    121.0496133    NaN   \n",
       "4              NaN              NaN  ...     14.586506    121.1138255    NaN   \n",
       "\n",
       "  Column2 Column3 Column4 Column5 Column6 Column7 Column8  \n",
       "0     NaN     NaN     NaN     NaN     NaN     NaN     NaN  \n",
       "1     NaN     NaN     NaN     NaN     NaN     NaN     NaN  \n",
       "2     NaN     NaN     NaN     NaN     NaN     NaN     NaN  \n",
       "3     NaN     NaN     NaN     NaN     NaN     NaN     NaN  \n",
       "4     NaN     NaN     NaN     NaN     NaN     NaN     NaN  \n",
       "\n",
       "[5 rows x 46 columns]"
      ]
     },
     "execution_count": 21,
     "metadata": {},
     "output_type": "execute_result"
    }
   ],
   "source": [
    "data = pd.read_csv('openrefine_PH_CASES.csv')\n",
    "data.head()"
   ]
  },
  {
   "cell_type": "code",
   "execution_count": 22,
   "metadata": {},
   "outputs": [
    {
     "data": {
      "text/plain": [
       "Index(['Case No.', 'Sex', 'Age', 'Nationality', 'Residence in the Philippines',\n",
       "       'History of Travel / Exposure', 'Travel History 1', 'Travel History 2',\n",
       "       'Travel History 3', 'Travel History 4', 'Epi_Link',\n",
       "       'Date of Onset of Symptoms', 'Date of Admission',\n",
       "       'Date of Lab Confirmation', 'Date of Announcement to the Public',\n",
       "       'Admission / Consultation', 'Symptoms', 'Symptoms 1', 'Symptoms 2',\n",
       "       'Symptoms 3', 'Other disease', 'Other disease 1', 'Other disease 2',\n",
       "       'Other disease 3', 'Other disease 4', 'Other disease 5', 'Status',\n",
       "       'Health Status', 'Date of Final Status (recovered/expired)',\n",
       "       'Final Diagnosis', 'Age Group', 'Location', 'Location 1', 'Location 2',\n",
       "       'Latitude', 'Longitude', 'Residence Lat', 'Residence Long', 'Column',\n",
       "       'Column2', 'Column3', 'Column4', 'Column5', 'Column6', 'Column7',\n",
       "       'Column8'],\n",
       "      dtype='object')"
      ]
     },
     "execution_count": 22,
     "metadata": {},
     "output_type": "execute_result"
    }
   ],
   "source": [
    "data.columns"
   ]
  },
  {
   "cell_type": "code",
   "execution_count": 29,
   "metadata": {},
   "outputs": [],
   "source": [
    "data = data.rename(columns={'Case No.': 'phcaseno'})"
   ]
  },
  {
   "cell_type": "code",
   "execution_count": 47,
   "metadata": {},
   "outputs": [],
   "source": [
    "data = data.rename(columns={'Location 1': 'case_location'})"
   ]
  },
  {
   "cell_type": "code",
   "execution_count": 48,
   "metadata": {},
   "outputs": [
    {
     "data": {
      "text/plain": [
       "phcaseno                                     object\n",
       "Sex                                          object\n",
       "Age                                           int64\n",
       "Nationality                                  object\n",
       "Residence in the Philippines                 object\n",
       "History of Travel / Exposure                 object\n",
       "Travel History 1                             object\n",
       "Travel History 2                             object\n",
       "Travel History 3                             object\n",
       "Travel History 4                             object\n",
       "Epi_Link                                     object\n",
       "Date of Onset of Symptoms                    object\n",
       "Date of Admission                            object\n",
       "Date of Lab Confirmation                     object\n",
       "Date of Announcement to the Public           object\n",
       "Admission / Consultation                     object\n",
       "Symptoms                                     object\n",
       "Symptoms 1                                   object\n",
       "Symptoms 2                                   object\n",
       "Symptoms 3                                   object\n",
       "Other disease                                object\n",
       "Other disease 1                              object\n",
       "Other disease 2                              object\n",
       "Other disease 3                              object\n",
       "Other disease 4                              object\n",
       "Other disease 5                              object\n",
       "Status                                       object\n",
       "Health Status                                object\n",
       "Date of Final Status (recovered/expired)     object\n",
       "Final Diagnosis                              object\n",
       "Age Group                                    object\n",
       "Location                                     object\n",
       "case_location                                object\n",
       "Location 2                                   object\n",
       "Latitude                                    float64\n",
       "Longitude                                   float64\n",
       "Residence Lat                               float64\n",
       "Residence Long                               object\n",
       "Column                                      float64\n",
       "Column2                                     float64\n",
       "Column3                                     float64\n",
       "Column4                                     float64\n",
       "Column5                                     float64\n",
       "Column6                                     float64\n",
       "Column7                                     float64\n",
       "Column8                                     float64\n",
       "dtype: object"
      ]
     },
     "execution_count": 48,
     "metadata": {},
     "output_type": "execute_result"
    }
   ],
   "source": [
    "data.dtypes"
   ]
  },
  {
   "cell_type": "code",
   "execution_count": 31,
   "metadata": {},
   "outputs": [
    {
     "data": {
      "text/plain": [
       "(3246, 46)"
      ]
     },
     "execution_count": 31,
     "metadata": {},
     "output_type": "execute_result"
    }
   ],
   "source": [
    "data.shape"
   ]
  },
  {
   "cell_type": "markdown",
   "metadata": {},
   "source": [
    "### Department of Health Data (Key = CaseCode)"
   ]
  },
  {
   "cell_type": "code",
   "execution_count": 32,
   "metadata": {},
   "outputs": [
    {
     "data": {
      "text/html": [
       "<div>\n",
       "<style scoped>\n",
       "    .dataframe tbody tr th:only-of-type {\n",
       "        vertical-align: middle;\n",
       "    }\n",
       "\n",
       "    .dataframe tbody tr th {\n",
       "        vertical-align: top;\n",
       "    }\n",
       "\n",
       "    .dataframe thead th {\n",
       "        text-align: right;\n",
       "    }\n",
       "</style>\n",
       "<table border=\"1\" class=\"dataframe\">\n",
       "  <thead>\n",
       "    <tr style=\"text-align: right;\">\n",
       "      <th></th>\n",
       "      <th>CaseCode</th>\n",
       "      <th>Age</th>\n",
       "      <th>AgeGroup</th>\n",
       "      <th>Sex</th>\n",
       "      <th>DateRepConf</th>\n",
       "      <th>DateRecover</th>\n",
       "      <th>DateDied</th>\n",
       "      <th>RemovalType</th>\n",
       "      <th>DateRepRem</th>\n",
       "      <th>Admitted</th>\n",
       "      <th>...</th>\n",
       "      <th>Residence Lat</th>\n",
       "      <th>Residence Long</th>\n",
       "      <th>Column</th>\n",
       "      <th>Column2</th>\n",
       "      <th>Column3</th>\n",
       "      <th>Column4</th>\n",
       "      <th>Column5</th>\n",
       "      <th>Column6</th>\n",
       "      <th>Column7</th>\n",
       "      <th>Column8</th>\n",
       "    </tr>\n",
       "  </thead>\n",
       "  <tbody>\n",
       "    <tr>\n",
       "      <td>0</td>\n",
       "      <td>C100119</td>\n",
       "      <td>30</td>\n",
       "      <td>30 to 34</td>\n",
       "      <td>Male</td>\n",
       "      <td>Sun Apr 12 00:00:00 EDT 2020</td>\n",
       "      <td>NaN</td>\n",
       "      <td>NaN</td>\n",
       "      <td>NaN</td>\n",
       "      <td>NaN</td>\n",
       "      <td>Yes</td>\n",
       "      <td>...</td>\n",
       "      <td>NaN</td>\n",
       "      <td>NaN</td>\n",
       "      <td>NaN</td>\n",
       "      <td>NaN</td>\n",
       "      <td>NaN</td>\n",
       "      <td>NaN</td>\n",
       "      <td>NaN</td>\n",
       "      <td>NaN</td>\n",
       "      <td>NaN</td>\n",
       "      <td>NaN</td>\n",
       "    </tr>\n",
       "    <tr>\n",
       "      <td>1</td>\n",
       "      <td>C100264</td>\n",
       "      <td>57</td>\n",
       "      <td>55 to 59</td>\n",
       "      <td>Male</td>\n",
       "      <td>Sun Mar 29 00:00:00 EDT 2020</td>\n",
       "      <td>NaN</td>\n",
       "      <td>NaN</td>\n",
       "      <td>NaN</td>\n",
       "      <td>NaN</td>\n",
       "      <td>Yes</td>\n",
       "      <td>...</td>\n",
       "      <td>NaN</td>\n",
       "      <td>NaN</td>\n",
       "      <td>NaN</td>\n",
       "      <td>NaN</td>\n",
       "      <td>NaN</td>\n",
       "      <td>NaN</td>\n",
       "      <td>NaN</td>\n",
       "      <td>NaN</td>\n",
       "      <td>NaN</td>\n",
       "      <td>NaN</td>\n",
       "    </tr>\n",
       "    <tr>\n",
       "      <td>2</td>\n",
       "      <td>C100660</td>\n",
       "      <td>42</td>\n",
       "      <td>40 to 44</td>\n",
       "      <td>Female</td>\n",
       "      <td>Thu Apr 02 00:00:00 EDT 2020</td>\n",
       "      <td>NaN</td>\n",
       "      <td>NaN</td>\n",
       "      <td>NaN</td>\n",
       "      <td>NaN</td>\n",
       "      <td>Yes</td>\n",
       "      <td>...</td>\n",
       "      <td>NaN</td>\n",
       "      <td>NaN</td>\n",
       "      <td>NaN</td>\n",
       "      <td>NaN</td>\n",
       "      <td>NaN</td>\n",
       "      <td>NaN</td>\n",
       "      <td>NaN</td>\n",
       "      <td>NaN</td>\n",
       "      <td>NaN</td>\n",
       "      <td>NaN</td>\n",
       "    </tr>\n",
       "    <tr>\n",
       "      <td>3</td>\n",
       "      <td>C100776</td>\n",
       "      <td>42</td>\n",
       "      <td>40 to 44</td>\n",
       "      <td>Male</td>\n",
       "      <td>Wed Apr 01 00:00:00 EDT 2020</td>\n",
       "      <td>NaN</td>\n",
       "      <td>NaN</td>\n",
       "      <td>NaN</td>\n",
       "      <td>NaN</td>\n",
       "      <td>Yes</td>\n",
       "      <td>...</td>\n",
       "      <td>NaN</td>\n",
       "      <td>NaN</td>\n",
       "      <td>NaN</td>\n",
       "      <td>NaN</td>\n",
       "      <td>NaN</td>\n",
       "      <td>NaN</td>\n",
       "      <td>NaN</td>\n",
       "      <td>NaN</td>\n",
       "      <td>NaN</td>\n",
       "      <td>NaN</td>\n",
       "    </tr>\n",
       "    <tr>\n",
       "      <td>4</td>\n",
       "      <td>C101015</td>\n",
       "      <td>79</td>\n",
       "      <td>75 to 79</td>\n",
       "      <td>Male</td>\n",
       "      <td>Fri Apr 03 00:00:00 EDT 2020</td>\n",
       "      <td>NaN</td>\n",
       "      <td>NaN</td>\n",
       "      <td>NaN</td>\n",
       "      <td>NaN</td>\n",
       "      <td>NaN</td>\n",
       "      <td>...</td>\n",
       "      <td>NaN</td>\n",
       "      <td>NaN</td>\n",
       "      <td>NaN</td>\n",
       "      <td>NaN</td>\n",
       "      <td>NaN</td>\n",
       "      <td>NaN</td>\n",
       "      <td>NaN</td>\n",
       "      <td>NaN</td>\n",
       "      <td>NaN</td>\n",
       "      <td>NaN</td>\n",
       "    </tr>\n",
       "  </tbody>\n",
       "</table>\n",
       "<p>5 rows × 45 columns</p>\n",
       "</div>"
      ],
      "text/plain": [
       "  CaseCode  Age  AgeGroup     Sex                   DateRepConf DateRecover  \\\n",
       "0  C100119   30  30 to 34    Male  Sun Apr 12 00:00:00 EDT 2020         NaN   \n",
       "1  C100264   57  55 to 59    Male  Sun Mar 29 00:00:00 EDT 2020         NaN   \n",
       "2  C100660   42  40 to 44  Female  Thu Apr 02 00:00:00 EDT 2020         NaN   \n",
       "3  C100776   42  40 to 44    Male  Wed Apr 01 00:00:00 EDT 2020         NaN   \n",
       "4  C101015   79  75 to 79    Male  Fri Apr 03 00:00:00 EDT 2020         NaN   \n",
       "\n",
       "  DateDied RemovalType DateRepRem Admitted  ... Residence Lat Residence Long  \\\n",
       "0      NaN         NaN        NaN      Yes  ...           NaN            NaN   \n",
       "1      NaN         NaN        NaN      Yes  ...           NaN            NaN   \n",
       "2      NaN         NaN        NaN      Yes  ...           NaN            NaN   \n",
       "3      NaN         NaN        NaN      Yes  ...           NaN            NaN   \n",
       "4      NaN         NaN        NaN      NaN  ...           NaN            NaN   \n",
       "\n",
       "  Column Column2 Column3  Column4  Column5 Column6 Column7 Column8  \n",
       "0    NaN     NaN     NaN      NaN      NaN     NaN     NaN     NaN  \n",
       "1    NaN     NaN     NaN      NaN      NaN     NaN     NaN     NaN  \n",
       "2    NaN     NaN     NaN      NaN      NaN     NaN     NaN     NaN  \n",
       "3    NaN     NaN     NaN      NaN      NaN     NaN     NaN     NaN  \n",
       "4    NaN     NaN     NaN      NaN      NaN     NaN     NaN     NaN  \n",
       "\n",
       "[5 rows x 45 columns]"
      ]
     },
     "execution_count": 32,
     "metadata": {},
     "output_type": "execute_result"
    }
   ],
   "source": [
    "doh = pd.read_csv('opnrefine_DOH_data.csv')\n",
    "doh.head()"
   ]
  },
  {
   "cell_type": "code",
   "execution_count": 63,
   "metadata": {},
   "outputs": [
    {
     "data": {
      "text/plain": [
       "Index(['CaseCode', 'Age', 'AgeGroup', 'Sex', 'DateRepConf', 'DateRecover',\n",
       "       'DateDied', 'RemovalType', 'DateRepRem', 'Admitted', 'RegionRes',\n",
       "       'ProvCityRes', 'Location', 'case_location', 'Location 2', 'Latitude',\n",
       "       'Longitude', 'Case No.', 'Nationality', 'Residence in the Philippines',\n",
       "       'History of Travel / Exposure', 'Travel History', 'Epi_Link',\n",
       "       'Date of Onset of Symptoms', 'Date of Admission',\n",
       "       'Date of Lab Confirmation', 'Date of Announcement to the Public',\n",
       "       'Admission / Consultation', 'Symptoms', 'Other disease', 'Status',\n",
       "       'Health Status', 'Date of Final Status (recovered/expired)',\n",
       "       'Final Diagnosis', 'Age Group', 'Residence Lat', 'Residence Long',\n",
       "       'Column', 'Column2', 'Column3', 'Column4', 'Column5', 'Column6',\n",
       "       'Column7', 'Column8'],\n",
       "      dtype='object')"
      ]
     },
     "execution_count": 63,
     "metadata": {},
     "output_type": "execute_result"
    }
   ],
   "source": [
    "doh.columns"
   ]
  },
  {
   "cell_type": "code",
   "execution_count": 61,
   "metadata": {},
   "outputs": [],
   "source": [
    "doh = doh.rename(columns={'Location 1': 'case_location'})"
   ]
  },
  {
   "cell_type": "code",
   "execution_count": 62,
   "metadata": {},
   "outputs": [
    {
     "data": {
      "text/plain": [
       "(8469, 45)"
      ]
     },
     "execution_count": 62,
     "metadata": {},
     "output_type": "execute_result"
    }
   ],
   "source": [
    "doh.shape"
   ]
  },
  {
   "cell_type": "markdown",
   "metadata": {},
   "source": [
    "## Diagnosis Descriptions and Variables "
   ]
  },
  {
   "cell_type": "code",
   "execution_count": 25,
   "metadata": {},
   "outputs": [
    {
     "data": {
      "text/plain": [
       "Health Status\n",
       "Asymptomatic        38\n",
       "Critical             3\n",
       "Died               108\n",
       "For validation    2983\n",
       "Mild                57\n",
       "Recovered           51\n",
       "Severe               6\n",
       "dtype: int64"
      ]
     },
     "execution_count": 25,
     "metadata": {},
     "output_type": "execute_result"
    }
   ],
   "source": [
    "data.groupby('Health Status').size()"
   ]
  },
  {
   "cell_type": "code",
   "execution_count": 39,
   "metadata": {},
   "outputs": [
    {
     "data": {
      "text/plain": [
       "Health Status\n",
       "Asymptomatic        38\n",
       "Critical             3\n",
       "Died               108\n",
       "For validation    2983\n",
       "Mild                57\n",
       "Recovered           51\n",
       "Severe               6\n",
       "dtype: int64"
      ]
     },
     "execution_count": 39,
     "metadata": {},
     "output_type": "execute_result"
    }
   ],
   "source": [
    "doh.groupby('Health Status').size()"
   ]
  },
  {
   "cell_type": "markdown",
   "metadata": {},
   "source": [
    "## Feature Engineering: Location"
   ]
  },
  {
   "cell_type": "code",
   "execution_count": 67,
   "metadata": {},
   "outputs": [],
   "source": [
    "location_df = doh[['case_location', 'RegionRes',\n",
    " 'ProvCityRes',\n",
    " 'Location',\n",
    " 'Location 2',\n",
    " 'Latitude',\n",
    " 'Longitude']]"
   ]
  },
  {
   "cell_type": "code",
   "execution_count": 68,
   "metadata": {},
   "outputs": [
    {
     "data": {
      "text/html": [
       "<div>\n",
       "<style scoped>\n",
       "    .dataframe tbody tr th:only-of-type {\n",
       "        vertical-align: middle;\n",
       "    }\n",
       "\n",
       "    .dataframe tbody tr th {\n",
       "        vertical-align: top;\n",
       "    }\n",
       "\n",
       "    .dataframe thead th {\n",
       "        text-align: right;\n",
       "    }\n",
       "</style>\n",
       "<table border=\"1\" class=\"dataframe\">\n",
       "  <thead>\n",
       "    <tr style=\"text-align: right;\">\n",
       "      <th></th>\n",
       "      <th>case_location</th>\n",
       "      <th>RegionRes</th>\n",
       "      <th>ProvCityRes</th>\n",
       "      <th>Location</th>\n",
       "      <th>Location 2</th>\n",
       "      <th>Latitude</th>\n",
       "      <th>Longitude</th>\n",
       "    </tr>\n",
       "  </thead>\n",
       "  <tbody>\n",
       "    <tr>\n",
       "      <td>0</td>\n",
       "      <td>Parañaque City</td>\n",
       "      <td>Metro Manila</td>\n",
       "      <td>City of Parañaque</td>\n",
       "      <td>Parañaque City, Metro Manila</td>\n",
       "      <td>Metro Manila</td>\n",
       "      <td>14.479310</td>\n",
       "      <td>121.019200</td>\n",
       "    </tr>\n",
       "    <tr>\n",
       "      <td>1</td>\n",
       "      <td>Mandaluyong City</td>\n",
       "      <td>Metro Manila</td>\n",
       "      <td>City of Mandaluyong</td>\n",
       "      <td>Mandaluyong City</td>\n",
       "      <td>NaN</td>\n",
       "      <td>14.579530</td>\n",
       "      <td>121.035000</td>\n",
       "    </tr>\n",
       "    <tr>\n",
       "      <td>2</td>\n",
       "      <td>Pasig City</td>\n",
       "      <td>Metro Manila</td>\n",
       "      <td>City of Pasig</td>\n",
       "      <td>Pasig City, Metro Manila</td>\n",
       "      <td>Metro Manila</td>\n",
       "      <td>14.576160</td>\n",
       "      <td>121.084600</td>\n",
       "    </tr>\n",
       "    <tr>\n",
       "      <td>3</td>\n",
       "      <td>Pila</td>\n",
       "      <td>Laguna</td>\n",
       "      <td>Pila</td>\n",
       "      <td>Pila, Laguna</td>\n",
       "      <td>Laguna</td>\n",
       "      <td>14.234500</td>\n",
       "      <td>121.365000</td>\n",
       "    </tr>\n",
       "    <tr>\n",
       "      <td>4</td>\n",
       "      <td>Unisan</td>\n",
       "      <td>Quezon</td>\n",
       "      <td>Unisan</td>\n",
       "      <td>Unisan, Quezon</td>\n",
       "      <td>Quezon</td>\n",
       "      <td>13.860430</td>\n",
       "      <td>122.014200</td>\n",
       "    </tr>\n",
       "    <tr>\n",
       "      <td>...</td>\n",
       "      <td>...</td>\n",
       "      <td>...</td>\n",
       "      <td>...</td>\n",
       "      <td>...</td>\n",
       "      <td>...</td>\n",
       "      <td>...</td>\n",
       "      <td>...</td>\n",
       "    </tr>\n",
       "    <tr>\n",
       "      <td>8464</td>\n",
       "      <td>For validation</td>\n",
       "      <td>NaN</td>\n",
       "      <td>NaN</td>\n",
       "      <td>For validation</td>\n",
       "      <td>NaN</td>\n",
       "      <td>14.615867</td>\n",
       "      <td>120.980991</td>\n",
       "    </tr>\n",
       "    <tr>\n",
       "      <td>8465</td>\n",
       "      <td>For validation</td>\n",
       "      <td>NaN</td>\n",
       "      <td>NaN</td>\n",
       "      <td>For validation</td>\n",
       "      <td>NaN</td>\n",
       "      <td>14.615867</td>\n",
       "      <td>120.980991</td>\n",
       "    </tr>\n",
       "    <tr>\n",
       "      <td>8466</td>\n",
       "      <td>For validation</td>\n",
       "      <td>NaN</td>\n",
       "      <td>NaN</td>\n",
       "      <td>For validation</td>\n",
       "      <td>NaN</td>\n",
       "      <td>14.615867</td>\n",
       "      <td>120.980991</td>\n",
       "    </tr>\n",
       "    <tr>\n",
       "      <td>8467</td>\n",
       "      <td>For validation</td>\n",
       "      <td>NaN</td>\n",
       "      <td>NaN</td>\n",
       "      <td>For validation</td>\n",
       "      <td>NaN</td>\n",
       "      <td>14.615867</td>\n",
       "      <td>120.980991</td>\n",
       "    </tr>\n",
       "    <tr>\n",
       "      <td>8468</td>\n",
       "      <td>For validation</td>\n",
       "      <td>NaN</td>\n",
       "      <td>NaN</td>\n",
       "      <td>For validation</td>\n",
       "      <td>NaN</td>\n",
       "      <td>14.615867</td>\n",
       "      <td>120.980991</td>\n",
       "    </tr>\n",
       "  </tbody>\n",
       "</table>\n",
       "<p>8469 rows × 7 columns</p>\n",
       "</div>"
      ],
      "text/plain": [
       "         case_location     RegionRes          ProvCityRes  \\\n",
       "0       Parañaque City  Metro Manila    City of Parañaque   \n",
       "1     Mandaluyong City  Metro Manila  City of Mandaluyong   \n",
       "2           Pasig City  Metro Manila        City of Pasig   \n",
       "3                 Pila        Laguna                 Pila   \n",
       "4               Unisan        Quezon               Unisan   \n",
       "...                ...           ...                  ...   \n",
       "8464    For validation           NaN                  NaN   \n",
       "8465    For validation           NaN                  NaN   \n",
       "8466    For validation           NaN                  NaN   \n",
       "8467    For validation           NaN                  NaN   \n",
       "8468    For validation           NaN                  NaN   \n",
       "\n",
       "                          Location     Location 2   Latitude   Longitude  \n",
       "0     Parañaque City, Metro Manila   Metro Manila  14.479310  121.019200  \n",
       "1                 Mandaluyong City            NaN  14.579530  121.035000  \n",
       "2         Pasig City, Metro Manila   Metro Manila  14.576160  121.084600  \n",
       "3                     Pila, Laguna         Laguna  14.234500  121.365000  \n",
       "4                   Unisan, Quezon         Quezon  13.860430  122.014200  \n",
       "...                            ...            ...        ...         ...  \n",
       "8464                For validation            NaN  14.615867  120.980991  \n",
       "8465                For validation            NaN  14.615867  120.980991  \n",
       "8466                For validation            NaN  14.615867  120.980991  \n",
       "8467                For validation            NaN  14.615867  120.980991  \n",
       "8468                For validation            NaN  14.615867  120.980991  \n",
       "\n",
       "[8469 rows x 7 columns]"
      ]
     },
     "execution_count": 68,
     "metadata": {},
     "output_type": "execute_result"
    }
   ],
   "source": [
    "location_df"
   ]
  },
  {
   "cell_type": "code",
   "execution_count": 69,
   "metadata": {},
   "outputs": [],
   "source": [
    "master = pd.merge(data, location_df, how='left', on= 'case_location')"
   ]
  },
  {
   "cell_type": "code",
   "execution_count": 70,
   "metadata": {},
   "outputs": [
    {
     "data": {
      "text/html": [
       "<div>\n",
       "<style scoped>\n",
       "    .dataframe tbody tr th:only-of-type {\n",
       "        vertical-align: middle;\n",
       "    }\n",
       "\n",
       "    .dataframe tbody tr th {\n",
       "        vertical-align: top;\n",
       "    }\n",
       "\n",
       "    .dataframe thead th {\n",
       "        text-align: right;\n",
       "    }\n",
       "</style>\n",
       "<table border=\"1\" class=\"dataframe\">\n",
       "  <thead>\n",
       "    <tr style=\"text-align: right;\">\n",
       "      <th></th>\n",
       "      <th>phcaseno</th>\n",
       "      <th>Sex</th>\n",
       "      <th>Age</th>\n",
       "      <th>Nationality</th>\n",
       "      <th>Residence in the Philippines</th>\n",
       "      <th>History of Travel / Exposure</th>\n",
       "      <th>Travel History 1</th>\n",
       "      <th>Travel History 2</th>\n",
       "      <th>Travel History 3</th>\n",
       "      <th>Travel History 4</th>\n",
       "      <th>...</th>\n",
       "      <th>Column5</th>\n",
       "      <th>Column6</th>\n",
       "      <th>Column7</th>\n",
       "      <th>Column8</th>\n",
       "      <th>RegionRes</th>\n",
       "      <th>ProvCityRes</th>\n",
       "      <th>Location_y</th>\n",
       "      <th>Location 2_y</th>\n",
       "      <th>Latitude_y</th>\n",
       "      <th>Longitude_y</th>\n",
       "    </tr>\n",
       "  </thead>\n",
       "  <tbody>\n",
       "    <tr>\n",
       "      <td>0</td>\n",
       "      <td>PH00001</td>\n",
       "      <td>F</td>\n",
       "      <td>38</td>\n",
       "      <td>Chinese</td>\n",
       "      <td>None</td>\n",
       "      <td>Yes (China); Wife of PH02</td>\n",
       "      <td>China</td>\n",
       "      <td>NaN</td>\n",
       "      <td>NaN</td>\n",
       "      <td>NaN</td>\n",
       "      <td>...</td>\n",
       "      <td>NaN</td>\n",
       "      <td>NaN</td>\n",
       "      <td>NaN</td>\n",
       "      <td>NaN</td>\n",
       "      <td>Metro Manila</td>\n",
       "      <td>City of Manila</td>\n",
       "      <td>Manila City, Metro Manila</td>\n",
       "      <td>Metro Manila</td>\n",
       "      <td>14.59873</td>\n",
       "      <td>120.982</td>\n",
       "    </tr>\n",
       "    <tr>\n",
       "      <td>1</td>\n",
       "      <td>PH00001</td>\n",
       "      <td>F</td>\n",
       "      <td>38</td>\n",
       "      <td>Chinese</td>\n",
       "      <td>None</td>\n",
       "      <td>Yes (China); Wife of PH02</td>\n",
       "      <td>China</td>\n",
       "      <td>NaN</td>\n",
       "      <td>NaN</td>\n",
       "      <td>NaN</td>\n",
       "      <td>...</td>\n",
       "      <td>NaN</td>\n",
       "      <td>NaN</td>\n",
       "      <td>NaN</td>\n",
       "      <td>NaN</td>\n",
       "      <td>Metro Manila</td>\n",
       "      <td>City of Manila</td>\n",
       "      <td>Manila City, Metro Manila</td>\n",
       "      <td>Metro Manila</td>\n",
       "      <td>14.59873</td>\n",
       "      <td>120.982</td>\n",
       "    </tr>\n",
       "    <tr>\n",
       "      <td>2</td>\n",
       "      <td>PH00001</td>\n",
       "      <td>F</td>\n",
       "      <td>38</td>\n",
       "      <td>Chinese</td>\n",
       "      <td>None</td>\n",
       "      <td>Yes (China); Wife of PH02</td>\n",
       "      <td>China</td>\n",
       "      <td>NaN</td>\n",
       "      <td>NaN</td>\n",
       "      <td>NaN</td>\n",
       "      <td>...</td>\n",
       "      <td>NaN</td>\n",
       "      <td>NaN</td>\n",
       "      <td>NaN</td>\n",
       "      <td>NaN</td>\n",
       "      <td>Metro Manila</td>\n",
       "      <td>City of Manila</td>\n",
       "      <td>Manila City, Metro Manila</td>\n",
       "      <td>Metro Manila</td>\n",
       "      <td>14.59873</td>\n",
       "      <td>120.982</td>\n",
       "    </tr>\n",
       "    <tr>\n",
       "      <td>3</td>\n",
       "      <td>PH00001</td>\n",
       "      <td>F</td>\n",
       "      <td>38</td>\n",
       "      <td>Chinese</td>\n",
       "      <td>None</td>\n",
       "      <td>Yes (China); Wife of PH02</td>\n",
       "      <td>China</td>\n",
       "      <td>NaN</td>\n",
       "      <td>NaN</td>\n",
       "      <td>NaN</td>\n",
       "      <td>...</td>\n",
       "      <td>NaN</td>\n",
       "      <td>NaN</td>\n",
       "      <td>NaN</td>\n",
       "      <td>NaN</td>\n",
       "      <td>Metro Manila</td>\n",
       "      <td>City of Manila</td>\n",
       "      <td>Manila City, Metro Manila</td>\n",
       "      <td>Metro Manila</td>\n",
       "      <td>14.59873</td>\n",
       "      <td>120.982</td>\n",
       "    </tr>\n",
       "    <tr>\n",
       "      <td>4</td>\n",
       "      <td>PH00001</td>\n",
       "      <td>F</td>\n",
       "      <td>38</td>\n",
       "      <td>Chinese</td>\n",
       "      <td>None</td>\n",
       "      <td>Yes (China); Wife of PH02</td>\n",
       "      <td>China</td>\n",
       "      <td>NaN</td>\n",
       "      <td>NaN</td>\n",
       "      <td>NaN</td>\n",
       "      <td>...</td>\n",
       "      <td>NaN</td>\n",
       "      <td>NaN</td>\n",
       "      <td>NaN</td>\n",
       "      <td>NaN</td>\n",
       "      <td>Metro Manila</td>\n",
       "      <td>City of Manila</td>\n",
       "      <td>Manila City, Metro Manila</td>\n",
       "      <td>Metro Manila</td>\n",
       "      <td>14.59873</td>\n",
       "      <td>120.982</td>\n",
       "    </tr>\n",
       "  </tbody>\n",
       "</table>\n",
       "<p>5 rows × 52 columns</p>\n",
       "</div>"
      ],
      "text/plain": [
       "  phcaseno Sex  Age Nationality Residence in the Philippines  \\\n",
       "0  PH00001   F   38     Chinese                         None   \n",
       "1  PH00001   F   38     Chinese                         None   \n",
       "2  PH00001   F   38     Chinese                         None   \n",
       "3  PH00001   F   38     Chinese                         None   \n",
       "4  PH00001   F   38     Chinese                         None   \n",
       "\n",
       "  History of Travel / Exposure Travel History 1 Travel History 2  \\\n",
       "0    Yes (China); Wife of PH02            China              NaN   \n",
       "1    Yes (China); Wife of PH02            China              NaN   \n",
       "2    Yes (China); Wife of PH02            China              NaN   \n",
       "3    Yes (China); Wife of PH02            China              NaN   \n",
       "4    Yes (China); Wife of PH02            China              NaN   \n",
       "\n",
       "  Travel History 3 Travel History 4  ... Column5 Column6 Column7 Column8  \\\n",
       "0              NaN              NaN  ...     NaN     NaN     NaN     NaN   \n",
       "1              NaN              NaN  ...     NaN     NaN     NaN     NaN   \n",
       "2              NaN              NaN  ...     NaN     NaN     NaN     NaN   \n",
       "3              NaN              NaN  ...     NaN     NaN     NaN     NaN   \n",
       "4              NaN              NaN  ...     NaN     NaN     NaN     NaN   \n",
       "\n",
       "      RegionRes     ProvCityRes                 Location_y   Location 2_y  \\\n",
       "0  Metro Manila  City of Manila  Manila City, Metro Manila   Metro Manila   \n",
       "1  Metro Manila  City of Manila  Manila City, Metro Manila   Metro Manila   \n",
       "2  Metro Manila  City of Manila  Manila City, Metro Manila   Metro Manila   \n",
       "3  Metro Manila  City of Manila  Manila City, Metro Manila   Metro Manila   \n",
       "4  Metro Manila  City of Manila  Manila City, Metro Manila   Metro Manila   \n",
       "\n",
       "  Latitude_y Longitude_y  \n",
       "0   14.59873     120.982  \n",
       "1   14.59873     120.982  \n",
       "2   14.59873     120.982  \n",
       "3   14.59873     120.982  \n",
       "4   14.59873     120.982  \n",
       "\n",
       "[5 rows x 52 columns]"
      ]
     },
     "execution_count": 70,
     "metadata": {},
     "output_type": "execute_result"
    }
   ],
   "source": [
    "master.head()"
   ]
  },
  {
   "cell_type": "code",
   "execution_count": 71,
   "metadata": {},
   "outputs": [
    {
     "data": {
      "text/plain": [
       "['phcaseno',\n",
       " 'Sex',\n",
       " 'Age',\n",
       " 'Nationality',\n",
       " 'Residence in the Philippines',\n",
       " 'History of Travel / Exposure',\n",
       " 'Travel History 1',\n",
       " 'Travel History 2',\n",
       " 'Travel History 3',\n",
       " 'Travel History 4',\n",
       " 'Epi_Link',\n",
       " 'Date of Onset of Symptoms',\n",
       " 'Date of Admission',\n",
       " 'Date of Lab Confirmation',\n",
       " 'Date of Announcement to the Public',\n",
       " 'Admission / Consultation',\n",
       " 'Symptoms',\n",
       " 'Symptoms 1',\n",
       " 'Symptoms 2',\n",
       " 'Symptoms 3',\n",
       " 'Other disease',\n",
       " 'Other disease 1',\n",
       " 'Other disease 2',\n",
       " 'Other disease 3',\n",
       " 'Other disease 4',\n",
       " 'Other disease 5',\n",
       " 'Status',\n",
       " 'Health Status',\n",
       " 'Date of Final Status (recovered/expired)',\n",
       " 'Final Diagnosis',\n",
       " 'Age Group',\n",
       " 'Location_x',\n",
       " 'case_location',\n",
       " 'Location 2_x',\n",
       " 'Latitude_x',\n",
       " 'Longitude_x',\n",
       " 'Residence Lat',\n",
       " 'Residence Long',\n",
       " 'Column',\n",
       " 'Column2',\n",
       " 'Column3',\n",
       " 'Column4',\n",
       " 'Column5',\n",
       " 'Column6',\n",
       " 'Column7',\n",
       " 'Column8',\n",
       " 'RegionRes',\n",
       " 'ProvCityRes',\n",
       " 'Location_y',\n",
       " 'Location 2_y',\n",
       " 'Latitude_y',\n",
       " 'Longitude_y']"
      ]
     },
     "execution_count": 71,
     "metadata": {},
     "output_type": "execute_result"
    }
   ],
   "source": [
    "master_cols = master.columns.tolist()\n",
    "master_cols "
   ]
  },
  {
   "cell_type": "code",
   "execution_count": 72,
   "metadata": {},
   "outputs": [],
   "source": [
    "col_drop_list = ['Column',\n",
    " 'Column2',\n",
    " 'Column3',\n",
    " 'Column4',\n",
    " 'Column5',\n",
    " 'Column6',\n",
    " 'Column7',\n",
    " 'Column8',]"
   ]
  },
  {
   "cell_type": "code",
   "execution_count": 73,
   "metadata": {},
   "outputs": [
    {
     "data": {
      "text/html": [
       "<div>\n",
       "<style scoped>\n",
       "    .dataframe tbody tr th:only-of-type {\n",
       "        vertical-align: middle;\n",
       "    }\n",
       "\n",
       "    .dataframe tbody tr th {\n",
       "        vertical-align: top;\n",
       "    }\n",
       "\n",
       "    .dataframe thead th {\n",
       "        text-align: right;\n",
       "    }\n",
       "</style>\n",
       "<table border=\"1\" class=\"dataframe\">\n",
       "  <thead>\n",
       "    <tr style=\"text-align: right;\">\n",
       "      <th></th>\n",
       "      <th>phcaseno</th>\n",
       "      <th>Sex</th>\n",
       "      <th>Age</th>\n",
       "      <th>Nationality</th>\n",
       "      <th>Residence in the Philippines</th>\n",
       "      <th>History of Travel / Exposure</th>\n",
       "      <th>Travel History 1</th>\n",
       "      <th>Travel History 2</th>\n",
       "      <th>Travel History 3</th>\n",
       "      <th>Travel History 4</th>\n",
       "      <th>...</th>\n",
       "      <th>Latitude_x</th>\n",
       "      <th>Longitude_x</th>\n",
       "      <th>Residence Lat</th>\n",
       "      <th>Residence Long</th>\n",
       "      <th>RegionRes</th>\n",
       "      <th>ProvCityRes</th>\n",
       "      <th>Location_y</th>\n",
       "      <th>Location 2_y</th>\n",
       "      <th>Latitude_y</th>\n",
       "      <th>Longitude_y</th>\n",
       "    </tr>\n",
       "  </thead>\n",
       "  <tbody>\n",
       "    <tr>\n",
       "      <td>0</td>\n",
       "      <td>PH00001</td>\n",
       "      <td>F</td>\n",
       "      <td>38</td>\n",
       "      <td>Chinese</td>\n",
       "      <td>None</td>\n",
       "      <td>Yes (China); Wife of PH02</td>\n",
       "      <td>China</td>\n",
       "      <td>NaN</td>\n",
       "      <td>NaN</td>\n",
       "      <td>NaN</td>\n",
       "      <td>...</td>\n",
       "      <td>14.61348</td>\n",
       "      <td>120.98095</td>\n",
       "      <td>14.598727</td>\n",
       "      <td>120.9819909</td>\n",
       "      <td>Metro Manila</td>\n",
       "      <td>City of Manila</td>\n",
       "      <td>Manila City, Metro Manila</td>\n",
       "      <td>Metro Manila</td>\n",
       "      <td>14.59873</td>\n",
       "      <td>120.982</td>\n",
       "    </tr>\n",
       "    <tr>\n",
       "      <td>1</td>\n",
       "      <td>PH00001</td>\n",
       "      <td>F</td>\n",
       "      <td>38</td>\n",
       "      <td>Chinese</td>\n",
       "      <td>None</td>\n",
       "      <td>Yes (China); Wife of PH02</td>\n",
       "      <td>China</td>\n",
       "      <td>NaN</td>\n",
       "      <td>NaN</td>\n",
       "      <td>NaN</td>\n",
       "      <td>...</td>\n",
       "      <td>14.61348</td>\n",
       "      <td>120.98095</td>\n",
       "      <td>14.598727</td>\n",
       "      <td>120.9819909</td>\n",
       "      <td>Metro Manila</td>\n",
       "      <td>City of Manila</td>\n",
       "      <td>Manila City, Metro Manila</td>\n",
       "      <td>Metro Manila</td>\n",
       "      <td>14.59873</td>\n",
       "      <td>120.982</td>\n",
       "    </tr>\n",
       "    <tr>\n",
       "      <td>2</td>\n",
       "      <td>PH00001</td>\n",
       "      <td>F</td>\n",
       "      <td>38</td>\n",
       "      <td>Chinese</td>\n",
       "      <td>None</td>\n",
       "      <td>Yes (China); Wife of PH02</td>\n",
       "      <td>China</td>\n",
       "      <td>NaN</td>\n",
       "      <td>NaN</td>\n",
       "      <td>NaN</td>\n",
       "      <td>...</td>\n",
       "      <td>14.61348</td>\n",
       "      <td>120.98095</td>\n",
       "      <td>14.598727</td>\n",
       "      <td>120.9819909</td>\n",
       "      <td>Metro Manila</td>\n",
       "      <td>City of Manila</td>\n",
       "      <td>Manila City, Metro Manila</td>\n",
       "      <td>Metro Manila</td>\n",
       "      <td>14.59873</td>\n",
       "      <td>120.982</td>\n",
       "    </tr>\n",
       "    <tr>\n",
       "      <td>3</td>\n",
       "      <td>PH00001</td>\n",
       "      <td>F</td>\n",
       "      <td>38</td>\n",
       "      <td>Chinese</td>\n",
       "      <td>None</td>\n",
       "      <td>Yes (China); Wife of PH02</td>\n",
       "      <td>China</td>\n",
       "      <td>NaN</td>\n",
       "      <td>NaN</td>\n",
       "      <td>NaN</td>\n",
       "      <td>...</td>\n",
       "      <td>14.61348</td>\n",
       "      <td>120.98095</td>\n",
       "      <td>14.598727</td>\n",
       "      <td>120.9819909</td>\n",
       "      <td>Metro Manila</td>\n",
       "      <td>City of Manila</td>\n",
       "      <td>Manila City, Metro Manila</td>\n",
       "      <td>Metro Manila</td>\n",
       "      <td>14.59873</td>\n",
       "      <td>120.982</td>\n",
       "    </tr>\n",
       "    <tr>\n",
       "      <td>4</td>\n",
       "      <td>PH00001</td>\n",
       "      <td>F</td>\n",
       "      <td>38</td>\n",
       "      <td>Chinese</td>\n",
       "      <td>None</td>\n",
       "      <td>Yes (China); Wife of PH02</td>\n",
       "      <td>China</td>\n",
       "      <td>NaN</td>\n",
       "      <td>NaN</td>\n",
       "      <td>NaN</td>\n",
       "      <td>...</td>\n",
       "      <td>14.61348</td>\n",
       "      <td>120.98095</td>\n",
       "      <td>14.598727</td>\n",
       "      <td>120.9819909</td>\n",
       "      <td>Metro Manila</td>\n",
       "      <td>City of Manila</td>\n",
       "      <td>Manila City, Metro Manila</td>\n",
       "      <td>Metro Manila</td>\n",
       "      <td>14.59873</td>\n",
       "      <td>120.982</td>\n",
       "    </tr>\n",
       "  </tbody>\n",
       "</table>\n",
       "<p>5 rows × 44 columns</p>\n",
       "</div>"
      ],
      "text/plain": [
       "  phcaseno Sex  Age Nationality Residence in the Philippines  \\\n",
       "0  PH00001   F   38     Chinese                         None   \n",
       "1  PH00001   F   38     Chinese                         None   \n",
       "2  PH00001   F   38     Chinese                         None   \n",
       "3  PH00001   F   38     Chinese                         None   \n",
       "4  PH00001   F   38     Chinese                         None   \n",
       "\n",
       "  History of Travel / Exposure Travel History 1 Travel History 2  \\\n",
       "0    Yes (China); Wife of PH02            China              NaN   \n",
       "1    Yes (China); Wife of PH02            China              NaN   \n",
       "2    Yes (China); Wife of PH02            China              NaN   \n",
       "3    Yes (China); Wife of PH02            China              NaN   \n",
       "4    Yes (China); Wife of PH02            China              NaN   \n",
       "\n",
       "  Travel History 3 Travel History 4  ... Latitude_x Longitude_x Residence Lat  \\\n",
       "0              NaN              NaN  ...   14.61348   120.98095     14.598727   \n",
       "1              NaN              NaN  ...   14.61348   120.98095     14.598727   \n",
       "2              NaN              NaN  ...   14.61348   120.98095     14.598727   \n",
       "3              NaN              NaN  ...   14.61348   120.98095     14.598727   \n",
       "4              NaN              NaN  ...   14.61348   120.98095     14.598727   \n",
       "\n",
       "  Residence Long     RegionRes     ProvCityRes                 Location_y  \\\n",
       "0    120.9819909  Metro Manila  City of Manila  Manila City, Metro Manila   \n",
       "1    120.9819909  Metro Manila  City of Manila  Manila City, Metro Manila   \n",
       "2    120.9819909  Metro Manila  City of Manila  Manila City, Metro Manila   \n",
       "3    120.9819909  Metro Manila  City of Manila  Manila City, Metro Manila   \n",
       "4    120.9819909  Metro Manila  City of Manila  Manila City, Metro Manila   \n",
       "\n",
       "    Location 2_y Latitude_y Longitude_y  \n",
       "0   Metro Manila   14.59873     120.982  \n",
       "1   Metro Manila   14.59873     120.982  \n",
       "2   Metro Manila   14.59873     120.982  \n",
       "3   Metro Manila   14.59873     120.982  \n",
       "4   Metro Manila   14.59873     120.982  \n",
       "\n",
       "[5 rows x 44 columns]"
      ]
     },
     "execution_count": 73,
     "metadata": {},
     "output_type": "execute_result"
    }
   ],
   "source": [
    "master = master.drop(col_drop_list, axis = 1) \n",
    "master.head()"
   ]
  },
  {
   "cell_type": "code",
   "execution_count": 75,
   "metadata": {},
   "outputs": [
    {
     "data": {
      "text/plain": [
       "0             Manila City\n",
       "1             Manila City\n",
       "2             Manila City\n",
       "3             Manila City\n",
       "4             Manila City\n",
       "                ...      \n",
       "2112834    For validation\n",
       "2112835    For validation\n",
       "2112836    For validation\n",
       "2112837    For validation\n",
       "2112838    For validation\n",
       "Name: case_location, Length: 2112839, dtype: object"
      ]
     },
     "execution_count": 75,
     "metadata": {},
     "output_type": "execute_result"
    }
   ],
   "source": [
    "master['case_location']"
   ]
  },
  {
   "cell_type": "code",
   "execution_count": 80,
   "metadata": {},
   "outputs": [
    {
     "data": {
      "text/plain": [
       "(2112839, 44)"
      ]
     },
     "execution_count": 80,
     "metadata": {},
     "output_type": "execute_result"
    }
   ],
   "source": [
    "master.shape"
   ]
  },
  {
   "cell_type": "code",
   "execution_count": 79,
   "metadata": {},
   "outputs": [
    {
     "data": {
      "text/plain": [
       "(3246, 46)"
      ]
     },
     "execution_count": 79,
     "metadata": {},
     "output_type": "execute_result"
    }
   ],
   "source": [
    "data.shape"
   ]
  },
  {
   "cell_type": "code",
   "execution_count": 83,
   "metadata": {},
   "outputs": [],
   "source": [
    "master = data.merge(location_df, on='case_location', how='inner', indicator=True)"
   ]
  },
  {
   "cell_type": "code",
   "execution_count": 84,
   "metadata": {},
   "outputs": [
    {
     "data": {
      "text/plain": [
       "(2112833, 53)"
      ]
     },
     "execution_count": 84,
     "metadata": {},
     "output_type": "execute_result"
    }
   ],
   "source": [
    "master.shape"
   ]
  },
  {
   "cell_type": "code",
   "execution_count": null,
   "metadata": {},
   "outputs": [],
   "source": [
    "# not working, so we'll try geo encoding instead"
   ]
  },
  {
   "cell_type": "code",
   "execution_count": 85,
   "metadata": {},
   "outputs": [
    {
     "data": {
      "text/html": [
       "<div>\n",
       "<style scoped>\n",
       "    .dataframe tbody tr th:only-of-type {\n",
       "        vertical-align: middle;\n",
       "    }\n",
       "\n",
       "    .dataframe tbody tr th {\n",
       "        vertical-align: top;\n",
       "    }\n",
       "\n",
       "    .dataframe thead th {\n",
       "        text-align: right;\n",
       "    }\n",
       "</style>\n",
       "<table border=\"1\" class=\"dataframe\">\n",
       "  <thead>\n",
       "    <tr style=\"text-align: right;\">\n",
       "      <th></th>\n",
       "      <th>phcaseno</th>\n",
       "      <th>Sex</th>\n",
       "      <th>Age</th>\n",
       "      <th>Nationality</th>\n",
       "      <th>Residence in the Philippines</th>\n",
       "      <th>History of Travel / Exposure</th>\n",
       "      <th>Travel History 1</th>\n",
       "      <th>Travel History 2</th>\n",
       "      <th>Travel History 3</th>\n",
       "      <th>Travel History 4</th>\n",
       "      <th>...</th>\n",
       "      <th>Residence Lat</th>\n",
       "      <th>Residence Long</th>\n",
       "      <th>Column</th>\n",
       "      <th>Column2</th>\n",
       "      <th>Column3</th>\n",
       "      <th>Column4</th>\n",
       "      <th>Column5</th>\n",
       "      <th>Column6</th>\n",
       "      <th>Column7</th>\n",
       "      <th>Column8</th>\n",
       "    </tr>\n",
       "  </thead>\n",
       "  <tbody>\n",
       "    <tr>\n",
       "      <td>0</td>\n",
       "      <td>PH00001</td>\n",
       "      <td>F</td>\n",
       "      <td>38</td>\n",
       "      <td>Chinese</td>\n",
       "      <td>None</td>\n",
       "      <td>Yes (China); Wife of PH02</td>\n",
       "      <td>China</td>\n",
       "      <td>NaN</td>\n",
       "      <td>NaN</td>\n",
       "      <td>NaN</td>\n",
       "      <td>...</td>\n",
       "      <td>14.598727</td>\n",
       "      <td>120.9819909</td>\n",
       "      <td>NaN</td>\n",
       "      <td>NaN</td>\n",
       "      <td>NaN</td>\n",
       "      <td>NaN</td>\n",
       "      <td>NaN</td>\n",
       "      <td>NaN</td>\n",
       "      <td>NaN</td>\n",
       "      <td>NaN</td>\n",
       "    </tr>\n",
       "    <tr>\n",
       "      <td>1</td>\n",
       "      <td>PH00002</td>\n",
       "      <td>M</td>\n",
       "      <td>44</td>\n",
       "      <td>Chinese</td>\n",
       "      <td>None</td>\n",
       "      <td>Yes (China); Husband of PH1</td>\n",
       "      <td>China</td>\n",
       "      <td>NaN</td>\n",
       "      <td>NaN</td>\n",
       "      <td>NaN</td>\n",
       "      <td>...</td>\n",
       "      <td>14.598727</td>\n",
       "      <td>120.9819909</td>\n",
       "      <td>NaN</td>\n",
       "      <td>NaN</td>\n",
       "      <td>NaN</td>\n",
       "      <td>NaN</td>\n",
       "      <td>NaN</td>\n",
       "      <td>NaN</td>\n",
       "      <td>NaN</td>\n",
       "      <td>NaN</td>\n",
       "    </tr>\n",
       "    <tr>\n",
       "      <td>2</td>\n",
       "      <td>PH00003</td>\n",
       "      <td>F</td>\n",
       "      <td>60</td>\n",
       "      <td>Chinese</td>\n",
       "      <td>None</td>\n",
       "      <td>Yes (China)</td>\n",
       "      <td>China</td>\n",
       "      <td>NaN</td>\n",
       "      <td>NaN</td>\n",
       "      <td>NaN</td>\n",
       "      <td>...</td>\n",
       "      <td>14.598727</td>\n",
       "      <td>120.9819909</td>\n",
       "      <td>NaN</td>\n",
       "      <td>NaN</td>\n",
       "      <td>NaN</td>\n",
       "      <td>NaN</td>\n",
       "      <td>NaN</td>\n",
       "      <td>NaN</td>\n",
       "      <td>NaN</td>\n",
       "      <td>NaN</td>\n",
       "    </tr>\n",
       "    <tr>\n",
       "      <td>3</td>\n",
       "      <td>PH00004</td>\n",
       "      <td>M</td>\n",
       "      <td>48</td>\n",
       "      <td>Filipino</td>\n",
       "      <td>Taguig City</td>\n",
       "      <td>Yes (Japan)</td>\n",
       "      <td>Japan</td>\n",
       "      <td>NaN</td>\n",
       "      <td>NaN</td>\n",
       "      <td>NaN</td>\n",
       "      <td>...</td>\n",
       "      <td>14.517274</td>\n",
       "      <td>121.0496133</td>\n",
       "      <td>NaN</td>\n",
       "      <td>NaN</td>\n",
       "      <td>NaN</td>\n",
       "      <td>NaN</td>\n",
       "      <td>NaN</td>\n",
       "      <td>NaN</td>\n",
       "      <td>NaN</td>\n",
       "      <td>NaN</td>\n",
       "    </tr>\n",
       "    <tr>\n",
       "      <td>4</td>\n",
       "      <td>PH00005</td>\n",
       "      <td>M</td>\n",
       "      <td>62</td>\n",
       "      <td>Filipino</td>\n",
       "      <td>Cainta, Rizal</td>\n",
       "      <td>Husband of PH06</td>\n",
       "      <td>None</td>\n",
       "      <td>NaN</td>\n",
       "      <td>NaN</td>\n",
       "      <td>NaN</td>\n",
       "      <td>...</td>\n",
       "      <td>14.586506</td>\n",
       "      <td>121.1138255</td>\n",
       "      <td>NaN</td>\n",
       "      <td>NaN</td>\n",
       "      <td>NaN</td>\n",
       "      <td>NaN</td>\n",
       "      <td>NaN</td>\n",
       "      <td>NaN</td>\n",
       "      <td>NaN</td>\n",
       "      <td>NaN</td>\n",
       "    </tr>\n",
       "  </tbody>\n",
       "</table>\n",
       "<p>5 rows × 46 columns</p>\n",
       "</div>"
      ],
      "text/plain": [
       "  phcaseno Sex  Age Nationality Residence in the Philippines  \\\n",
       "0  PH00001   F   38     Chinese                         None   \n",
       "1  PH00002   M   44     Chinese                         None   \n",
       "2  PH00003   F   60     Chinese                         None   \n",
       "3  PH00004   M   48    Filipino                  Taguig City   \n",
       "4  PH00005   M   62    Filipino                Cainta, Rizal   \n",
       "\n",
       "  History of Travel / Exposure Travel History 1 Travel History 2  \\\n",
       "0    Yes (China); Wife of PH02            China              NaN   \n",
       "1  Yes (China); Husband of PH1            China              NaN   \n",
       "2                  Yes (China)            China              NaN   \n",
       "3                  Yes (Japan)            Japan              NaN   \n",
       "4              Husband of PH06             None              NaN   \n",
       "\n",
       "  Travel History 3 Travel History 4  ... Residence Lat Residence Long Column  \\\n",
       "0              NaN              NaN  ...     14.598727    120.9819909    NaN   \n",
       "1              NaN              NaN  ...     14.598727    120.9819909    NaN   \n",
       "2              NaN              NaN  ...     14.598727    120.9819909    NaN   \n",
       "3              NaN              NaN  ...     14.517274    121.0496133    NaN   \n",
       "4              NaN              NaN  ...     14.586506    121.1138255    NaN   \n",
       "\n",
       "  Column2 Column3 Column4 Column5 Column6 Column7 Column8  \n",
       "0     NaN     NaN     NaN     NaN     NaN     NaN     NaN  \n",
       "1     NaN     NaN     NaN     NaN     NaN     NaN     NaN  \n",
       "2     NaN     NaN     NaN     NaN     NaN     NaN     NaN  \n",
       "3     NaN     NaN     NaN     NaN     NaN     NaN     NaN  \n",
       "4     NaN     NaN     NaN     NaN     NaN     NaN     NaN  \n",
       "\n",
       "[5 rows x 46 columns]"
      ]
     },
     "execution_count": 85,
     "metadata": {},
     "output_type": "execute_result"
    }
   ],
   "source": [
    "data.head()"
   ]
  },
  {
   "cell_type": "code",
   "execution_count": 86,
   "metadata": {},
   "outputs": [
    {
     "data": {
      "text/html": [
       "<div>\n",
       "<style scoped>\n",
       "    .dataframe tbody tr th:only-of-type {\n",
       "        vertical-align: middle;\n",
       "    }\n",
       "\n",
       "    .dataframe tbody tr th {\n",
       "        vertical-align: top;\n",
       "    }\n",
       "\n",
       "    .dataframe thead th {\n",
       "        text-align: right;\n",
       "    }\n",
       "</style>\n",
       "<table border=\"1\" class=\"dataframe\">\n",
       "  <thead>\n",
       "    <tr style=\"text-align: right;\">\n",
       "      <th></th>\n",
       "      <th>phcaseno</th>\n",
       "      <th>Sex</th>\n",
       "      <th>Age</th>\n",
       "      <th>Nationality</th>\n",
       "      <th>Residence in the Philippines</th>\n",
       "      <th>History of Travel / Exposure</th>\n",
       "      <th>Travel History 1</th>\n",
       "      <th>Travel History 2</th>\n",
       "      <th>Travel History 3</th>\n",
       "      <th>Travel History 4</th>\n",
       "      <th>...</th>\n",
       "      <th>Date of Final Status (recovered/expired)</th>\n",
       "      <th>Final Diagnosis</th>\n",
       "      <th>Age Group</th>\n",
       "      <th>Location</th>\n",
       "      <th>case_location</th>\n",
       "      <th>Location 2</th>\n",
       "      <th>Latitude</th>\n",
       "      <th>Longitude</th>\n",
       "      <th>Residence Lat</th>\n",
       "      <th>Residence Long</th>\n",
       "    </tr>\n",
       "  </thead>\n",
       "  <tbody>\n",
       "    <tr>\n",
       "      <td>0</td>\n",
       "      <td>PH00001</td>\n",
       "      <td>F</td>\n",
       "      <td>38</td>\n",
       "      <td>Chinese</td>\n",
       "      <td>None</td>\n",
       "      <td>Yes (China); Wife of PH02</td>\n",
       "      <td>China</td>\n",
       "      <td>NaN</td>\n",
       "      <td>NaN</td>\n",
       "      <td>NaN</td>\n",
       "      <td>...</td>\n",
       "      <td>Sun Mar 15 00:00:00 EDT 2020</td>\n",
       "      <td>NaN</td>\n",
       "      <td>31 - 40</td>\n",
       "      <td>Manila City</td>\n",
       "      <td>Manila City</td>\n",
       "      <td>NaN</td>\n",
       "      <td>14.613480</td>\n",
       "      <td>120.980950</td>\n",
       "      <td>14.598727</td>\n",
       "      <td>120.9819909</td>\n",
       "    </tr>\n",
       "    <tr>\n",
       "      <td>1</td>\n",
       "      <td>PH00002</td>\n",
       "      <td>M</td>\n",
       "      <td>44</td>\n",
       "      <td>Chinese</td>\n",
       "      <td>None</td>\n",
       "      <td>Yes (China); Husband of PH1</td>\n",
       "      <td>China</td>\n",
       "      <td>NaN</td>\n",
       "      <td>NaN</td>\n",
       "      <td>NaN</td>\n",
       "      <td>...</td>\n",
       "      <td>Sat Feb 01 00:00:00 EST 2020</td>\n",
       "      <td>Severe Pneumonia</td>\n",
       "      <td>41 - 50</td>\n",
       "      <td>Manila City</td>\n",
       "      <td>Manila City</td>\n",
       "      <td>NaN</td>\n",
       "      <td>14.613480</td>\n",
       "      <td>120.980950</td>\n",
       "      <td>14.598727</td>\n",
       "      <td>120.9819909</td>\n",
       "    </tr>\n",
       "    <tr>\n",
       "      <td>2</td>\n",
       "      <td>PH00003</td>\n",
       "      <td>F</td>\n",
       "      <td>60</td>\n",
       "      <td>Chinese</td>\n",
       "      <td>None</td>\n",
       "      <td>Yes (China)</td>\n",
       "      <td>China</td>\n",
       "      <td>NaN</td>\n",
       "      <td>NaN</td>\n",
       "      <td>NaN</td>\n",
       "      <td>...</td>\n",
       "      <td>Sun Mar 15 00:00:00 EDT 2020</td>\n",
       "      <td>NaN</td>\n",
       "      <td>51 - 60</td>\n",
       "      <td>Manila City</td>\n",
       "      <td>Manila City</td>\n",
       "      <td>NaN</td>\n",
       "      <td>14.615867</td>\n",
       "      <td>120.980991</td>\n",
       "      <td>14.598727</td>\n",
       "      <td>120.9819909</td>\n",
       "    </tr>\n",
       "    <tr>\n",
       "      <td>3</td>\n",
       "      <td>PH00004</td>\n",
       "      <td>M</td>\n",
       "      <td>48</td>\n",
       "      <td>Filipino</td>\n",
       "      <td>Taguig City</td>\n",
       "      <td>Yes (Japan)</td>\n",
       "      <td>Japan</td>\n",
       "      <td>NaN</td>\n",
       "      <td>NaN</td>\n",
       "      <td>NaN</td>\n",
       "      <td>...</td>\n",
       "      <td>Thu Mar 19 00:00:00 EDT 2020</td>\n",
       "      <td>Asymptomatic, Negative Test Result</td>\n",
       "      <td>41 - 50</td>\n",
       "      <td>Taguig City</td>\n",
       "      <td>Taguig City</td>\n",
       "      <td>NaN</td>\n",
       "      <td>14.606904</td>\n",
       "      <td>121.020392</td>\n",
       "      <td>14.517274</td>\n",
       "      <td>121.0496133</td>\n",
       "    </tr>\n",
       "    <tr>\n",
       "      <td>4</td>\n",
       "      <td>PH00005</td>\n",
       "      <td>M</td>\n",
       "      <td>62</td>\n",
       "      <td>Filipino</td>\n",
       "      <td>Cainta, Rizal</td>\n",
       "      <td>Husband of PH06</td>\n",
       "      <td>None</td>\n",
       "      <td>NaN</td>\n",
       "      <td>NaN</td>\n",
       "      <td>NaN</td>\n",
       "      <td>...</td>\n",
       "      <td>Thu Mar 12 00:00:00 EDT 2020</td>\n",
       "      <td>Acute Respiratory Distress Syndrome, Severe pn...</td>\n",
       "      <td>61 - 70</td>\n",
       "      <td>Cainta, Rizal</td>\n",
       "      <td>Cainta</td>\n",
       "      <td>Rizal</td>\n",
       "      <td>14.409635</td>\n",
       "      <td>121.037425</td>\n",
       "      <td>14.586506</td>\n",
       "      <td>121.1138255</td>\n",
       "    </tr>\n",
       "  </tbody>\n",
       "</table>\n",
       "<p>5 rows × 38 columns</p>\n",
       "</div>"
      ],
      "text/plain": [
       "  phcaseno Sex  Age Nationality Residence in the Philippines  \\\n",
       "0  PH00001   F   38     Chinese                         None   \n",
       "1  PH00002   M   44     Chinese                         None   \n",
       "2  PH00003   F   60     Chinese                         None   \n",
       "3  PH00004   M   48    Filipino                  Taguig City   \n",
       "4  PH00005   M   62    Filipino                Cainta, Rizal   \n",
       "\n",
       "  History of Travel / Exposure Travel History 1 Travel History 2  \\\n",
       "0    Yes (China); Wife of PH02            China              NaN   \n",
       "1  Yes (China); Husband of PH1            China              NaN   \n",
       "2                  Yes (China)            China              NaN   \n",
       "3                  Yes (Japan)            Japan              NaN   \n",
       "4              Husband of PH06             None              NaN   \n",
       "\n",
       "  Travel History 3 Travel History 4  ...  \\\n",
       "0              NaN              NaN  ...   \n",
       "1              NaN              NaN  ...   \n",
       "2              NaN              NaN  ...   \n",
       "3              NaN              NaN  ...   \n",
       "4              NaN              NaN  ...   \n",
       "\n",
       "  Date of Final Status (recovered/expired)  \\\n",
       "0             Sun Mar 15 00:00:00 EDT 2020   \n",
       "1             Sat Feb 01 00:00:00 EST 2020   \n",
       "2             Sun Mar 15 00:00:00 EDT 2020   \n",
       "3             Thu Mar 19 00:00:00 EDT 2020   \n",
       "4             Thu Mar 12 00:00:00 EDT 2020   \n",
       "\n",
       "                                     Final Diagnosis Age Group       Location  \\\n",
       "0                                                NaN   31 - 40    Manila City   \n",
       "1                                   Severe Pneumonia   41 - 50    Manila City   \n",
       "2                                                NaN   51 - 60    Manila City   \n",
       "3                 Asymptomatic, Negative Test Result   41 - 50    Taguig City   \n",
       "4  Acute Respiratory Distress Syndrome, Severe pn...   61 - 70  Cainta, Rizal   \n",
       "\n",
       "  case_location Location 2   Latitude   Longitude Residence Lat Residence Long  \n",
       "0   Manila City        NaN  14.613480  120.980950     14.598727    120.9819909  \n",
       "1   Manila City        NaN  14.613480  120.980950     14.598727    120.9819909  \n",
       "2   Manila City        NaN  14.615867  120.980991     14.598727    120.9819909  \n",
       "3   Taguig City        NaN  14.606904  121.020392     14.517274    121.0496133  \n",
       "4        Cainta      Rizal  14.409635  121.037425     14.586506    121.1138255  \n",
       "\n",
       "[5 rows x 38 columns]"
      ]
     },
     "execution_count": 86,
     "metadata": {},
     "output_type": "execute_result"
    }
   ],
   "source": [
    "data_clean = data.drop(col_drop_list, axis = 1) \n",
    "data_clean.head()"
   ]
  },
  {
   "cell_type": "code",
   "execution_count": 111,
   "metadata": {},
   "outputs": [
    {
     "name": "stdout",
     "output_type": "stream",
     "text": [
      "Collecting reverse_geocoder\n",
      "  Using cached https://files.pythonhosted.org/packages/0b/0f/b7d5d4b36553731f11983e19e1813a1059ad0732c5162c01b3220c927d31/reverse_geocoder-1.5.1.tar.gz\n",
      "Requirement already satisfied: numpy>=1.11.0 in /Users/angelateng/anaconda3/lib/python3.7/site-packages (from reverse_geocoder) (1.17.2)\n",
      "Requirement already satisfied: scipy>=0.17.1 in /Users/angelateng/anaconda3/lib/python3.7/site-packages (from reverse_geocoder) (1.3.1)\n",
      "Building wheels for collected packages: reverse-geocoder\n",
      "  Building wheel for reverse-geocoder (setup.py) ... \u001b[?25ldone\n",
      "\u001b[?25h  Created wheel for reverse-geocoder: filename=reverse_geocoder-1.5.1-cp37-none-any.whl size=2268090 sha256=54898746e5081c328232821ec7f72356aaf42fc1cf00454097541cb424fc49b9\n",
      "  Stored in directory: /Users/angelateng/Library/Caches/pip/wheels/47/05/50/b1350ff094ef91e082665b4a2f9ca551f8acea4aa55d796b26\n",
      "Successfully built reverse-geocoder\n",
      "Installing collected packages: reverse-geocoder\n",
      "Successfully installed reverse-geocoder-1.5.1\n"
     ]
    }
   ],
   "source": [
    "# ! pip install geopy\n",
    "# conda install -c conda-forge geopy \n",
    "# ! pip install --user ipykernel\n",
    "# ! python -m ipykernel install --user --name=venv\n",
    "\n",
    "# Install a conda package in the current Jupyter kernel\n",
    "# import sys\n",
    "# !conda install --yes --prefix {sys.prefix} reverse_geocoder\n",
    "\n",
    "# Install a pip package in the current Jupyter kernel\n",
    "import sys\n",
    "!{sys.executable} -m pip install reverse_geocoder"
   ]
  },
  {
   "cell_type": "code",
   "execution_count": 112,
   "metadata": {},
   "outputs": [
    {
     "name": "stdout",
     "output_type": "stream",
     "text": [
      "Collecting geopy\n",
      "  Using cached https://files.pythonhosted.org/packages/53/fc/3d1b47e8e82ea12c25203929efb1b964918a77067a874b2c7631e2ec35ec/geopy-1.21.0-py2.py3-none-any.whl\n",
      "Collecting geographiclib<2,>=1.49 (from geopy)\n",
      "  Downloading https://files.pythonhosted.org/packages/8b/62/26ec95a98ba64299163199e95ad1b0e34ad3f4e176e221c40245f211e425/geographiclib-1.50-py3-none-any.whl\n",
      "Installing collected packages: geographiclib, geopy\n",
      "Successfully installed geographiclib-1.50 geopy-1.21.0\n"
     ]
    }
   ],
   "source": [
    "# Install a pip package in the current Jupyter kernel\n",
    "import sys\n",
    "!{sys.executable} -m pip install geopy"
   ]
  },
  {
   "cell_type": "code",
   "execution_count": 113,
   "metadata": {},
   "outputs": [],
   "source": [
    "import geopy\n",
    "\n",
    "from geopy.geocoders import Nominatim"
   ]
  },
  {
   "cell_type": "code",
   "execution_count": 115,
   "metadata": {},
   "outputs": [],
   "source": [
    "geolocator = Nominatim(user_agent=\"covid_19\")"
   ]
  },
  {
   "cell_type": "code",
   "execution_count": 119,
   "metadata": {},
   "outputs": [],
   "source": [
    "location = geolocator.reverse(\"14.59872, 120.9819909\")"
   ]
  },
  {
   "cell_type": "code",
   "execution_count": 120,
   "metadata": {},
   "outputs": [
    {
     "data": {
      "text/plain": [
       "Location(SM Quiapo, Carlos Palanca Sr., Quiapo, Manila, Quiapo, Third District, Metro Manila, 1001, Philippines, (14.59869615, 120.98191084667977, 0.0))"
      ]
     },
     "execution_count": 120,
     "metadata": {},
     "output_type": "execute_result"
    }
   ],
   "source": [
    "location"
   ]
  },
  {
   "cell_type": "code",
   "execution_count": 130,
   "metadata": {},
   "outputs": [
    {
     "name": "stdout",
     "output_type": "stream",
     "text": [
      "Requirement already satisfied: plotly_express in /Users/angelateng/anaconda3/lib/python3.7/site-packages (0.4.1)\n",
      "Requirement already satisfied: pandas>=0.20.0 in /Users/angelateng/anaconda3/lib/python3.7/site-packages (from plotly_express) (0.25.1)\n",
      "Requirement already satisfied: numpy>=1.11 in /Users/angelateng/anaconda3/lib/python3.7/site-packages (from plotly_express) (1.17.2)\n",
      "Requirement already satisfied: statsmodels>=0.9.0 in /Users/angelateng/anaconda3/lib/python3.7/site-packages (from plotly_express) (0.10.1)\n",
      "Requirement already satisfied: patsy>=0.5 in /Users/angelateng/anaconda3/lib/python3.7/site-packages (from plotly_express) (0.5.1)\n",
      "Requirement already satisfied: plotly>=4.1.0 in /Users/angelateng/anaconda3/lib/python3.7/site-packages (from plotly_express) (4.6.0)\n",
      "Requirement already satisfied: scipy>=0.18 in /Users/angelateng/anaconda3/lib/python3.7/site-packages (from plotly_express) (1.3.1)\n",
      "Requirement already satisfied: pytz>=2017.2 in /Users/angelateng/anaconda3/lib/python3.7/site-packages (from pandas>=0.20.0->plotly_express) (2019.3)\n",
      "Requirement already satisfied: python-dateutil>=2.6.1 in /Users/angelateng/anaconda3/lib/python3.7/site-packages (from pandas>=0.20.0->plotly_express) (2.8.0)\n",
      "Requirement already satisfied: six in /Users/angelateng/anaconda3/lib/python3.7/site-packages (from patsy>=0.5->plotly_express) (1.12.0)\n",
      "Requirement already satisfied: retrying>=1.3.3 in /Users/angelateng/anaconda3/lib/python3.7/site-packages (from plotly>=4.1.0->plotly_express) (1.3.3)\n"
     ]
    }
   ],
   "source": [
    "# Install a pip package in the current Jupyter kernel\n",
    "import sys\n",
    "!{sys.executable} -m pip install plotly_express"
   ]
  },
  {
   "cell_type": "code",
   "execution_count": 131,
   "metadata": {},
   "outputs": [],
   "source": [
    "import plotly_express as px"
   ]
  },
  {
   "cell_type": "code",
   "execution_count": 134,
   "metadata": {},
   "outputs": [],
   "source": [
    "\n",
    "# px.scatter_mapbox(data_clean, lat='Latitude', lon='Longitude', zoom=1000)"
   ]
  },
  {
   "cell_type": "code",
   "execution_count": 147,
   "metadata": {},
   "outputs": [
    {
     "name": "stdout",
     "output_type": "stream",
     "text": [
      "Collecting geopandas\n",
      "\u001b[?25l  Downloading https://files.pythonhosted.org/packages/83/c5/3cf9cdc39a6f2552922f79915f36b45a95b71fd343cfc51170a5b6ddb6e8/geopandas-0.7.0-py2.py3-none-any.whl (928kB)\n",
      "\u001b[K     |████████████████████████████████| 931kB 2.2MB/s eta 0:00:01\n",
      "\u001b[?25hCollecting shapely (from geopandas)\n",
      "\u001b[?25l  Downloading https://files.pythonhosted.org/packages/8d/29/1cafd5ec68237611cfabdddc0ca966f3030d7c930db1a61a90cf008456c7/Shapely-1.7.0-cp37-cp37m-macosx_10_9_x86_64.whl (1.6MB)\n",
      "\u001b[K     |████████████████████████████████| 1.6MB 8.2MB/s eta 0:00:01\n",
      "\u001b[?25hCollecting pyproj>=2.2.0 (from geopandas)\n",
      "\u001b[?25l  Downloading https://files.pythonhosted.org/packages/36/61/54b857a002154fa18d1099c9504c67380e5c1796859148891a2019f2ba9b/pyproj-2.6.0-cp37-cp37m-macosx_10_9_x86_64.whl (11.0MB)\n",
      "\u001b[K     |████████████████████████████████| 11.0MB 6.8MB/s eta 0:00:01\n",
      "\u001b[?25hRequirement already satisfied: pandas>=0.23.0 in /Users/angelateng/anaconda3/lib/python3.7/site-packages (from geopandas) (0.25.1)\n",
      "Collecting fiona (from geopandas)\n",
      "\u001b[?25l  Downloading https://files.pythonhosted.org/packages/1c/63/447c1f527aad417c9a54327a3aa4a26be7914865bc78e35e981762552849/Fiona-1.8.13.post1-cp37-cp37m-macosx_10_9_x86_64.whl (13.9MB)\n",
      "\u001b[K     |████████████████████████████████| 13.9MB 7.0MB/s eta 0:00:01\n",
      "\u001b[?25hRequirement already satisfied: pytz>=2017.2 in /Users/angelateng/anaconda3/lib/python3.7/site-packages (from pandas>=0.23.0->geopandas) (2019.3)\n",
      "Requirement already satisfied: python-dateutil>=2.6.1 in /Users/angelateng/anaconda3/lib/python3.7/site-packages (from pandas>=0.23.0->geopandas) (2.8.0)\n",
      "Requirement already satisfied: numpy>=1.13.3 in /Users/angelateng/anaconda3/lib/python3.7/site-packages (from pandas>=0.23.0->geopandas) (1.17.2)\n",
      "Requirement already satisfied: attrs>=17 in /Users/angelateng/anaconda3/lib/python3.7/site-packages (from fiona->geopandas) (19.2.0)\n",
      "Collecting munch (from fiona->geopandas)\n",
      "  Downloading https://files.pythonhosted.org/packages/cc/ab/85d8da5c9a45e072301beb37ad7f833cd344e04c817d97e0cc75681d248f/munch-2.5.0-py2.py3-none-any.whl\n",
      "Requirement already satisfied: six>=1.7 in /Users/angelateng/anaconda3/lib/python3.7/site-packages (from fiona->geopandas) (1.12.0)\n",
      "Requirement already satisfied: click<8,>=4.0 in /Users/angelateng/anaconda3/lib/python3.7/site-packages (from fiona->geopandas) (7.0)\n",
      "Collecting cligj>=0.5 (from fiona->geopandas)\n",
      "  Downloading https://files.pythonhosted.org/packages/e4/be/30a58b4b0733850280d01f8bd132591b4668ed5c7046761098d665ac2174/cligj-0.5.0-py3-none-any.whl\n",
      "Collecting click-plugins>=1.0 (from fiona->geopandas)\n",
      "  Downloading https://files.pythonhosted.org/packages/e9/da/824b92d9942f4e472702488857914bdd50f73021efea15b4cad9aca8ecef/click_plugins-1.1.1-py2.py3-none-any.whl\n",
      "Installing collected packages: shapely, pyproj, munch, cligj, click-plugins, fiona, geopandas\n",
      "Successfully installed click-plugins-1.1.1 cligj-0.5.0 fiona-1.8.13.post1 geopandas-0.7.0 munch-2.5.0 pyproj-2.6.0 shapely-1.7.0\n"
     ]
    }
   ],
   "source": [
    "# Install a pip package in the current Jupyter kernel\n",
    "import sys\n",
    "!{sys.executable} -m pip install geopandas"
   ]
  },
  {
   "cell_type": "code",
   "execution_count": 148,
   "metadata": {},
   "outputs": [],
   "source": [
    "# %load_ext au totime\n",
    "import pandas as pd\n",
    "\n",
    "import geopandas as gpd\n",
    "import geopy\n",
    "from geopy.geocoders import Nominatim\n",
    "from geopy.extra.rate_limiter import RateLimiter\n",
    "\n",
    "import matplotlib.pyplot as plt\n",
    "import plotly_express as px\n",
    "import tqdm\n",
    "from tqdm import tqdm\n",
    "from tqdm._tqdm_notebook import tqdm_notebook"
   ]
  },
  {
   "cell_type": "code",
   "execution_count": 149,
   "metadata": {},
   "outputs": [],
   "source": [
    "data_clean['geom'] = data_clean['Latitude'].map(str) + ',' + data_clean['Longitude'].map(str)"
   ]
  },
  {
   "cell_type": "code",
   "execution_count": 150,
   "metadata": {},
   "outputs": [],
   "source": [
    "# create a service provider locator this time pass timeout to be 10 minutes \n",
    "locator = Nominatim(user_agent='myGeocoder', timeout=10)\n",
    "rgeocode = RateLimiter(locator.reverse, min_delay_seconds=0.001)"
   ]
  },
  {
   "cell_type": "code",
   "execution_count": 151,
   "metadata": {},
   "outputs": [
    {
     "data": {
      "text/plain": [
       "<geopy.extra.rate_limiter.RateLimiter at 0x1a1ad727d0>"
      ]
     },
     "execution_count": 151,
     "metadata": {},
     "output_type": "execute_result"
    }
   ],
   "source": [
    "rgeocode"
   ]
  },
  {
   "cell_type": "code",
   "execution_count": null,
   "metadata": {},
   "outputs": [
    {
     "name": "stderr",
     "output_type": "stream",
     "text": [
      "/Users/angelateng/anaconda3/lib/python3.7/site-packages/tqdm/std.py:648: FutureWarning:\n",
      "\n",
      "The Panel class is removed from pandas. Accessing it from the top-level namespace will also be removed in the next version\n",
      "\n",
      " 15%|█▌        | 489/3246 [03:48<18:30,  2.48it/s]"
     ]
    }
   ],
   "source": [
    "tqdm.pandas()\n",
    "data_clean['patient_address'] = data_clean['geom'].progress_apply(rgeocode)"
   ]
  },
  {
   "cell_type": "code",
   "execution_count": null,
   "metadata": {},
   "outputs": [],
   "source": [
    "data_clean.head()"
   ]
  },
  {
   "cell_type": "code",
   "execution_count": null,
   "metadata": {},
   "outputs": [],
   "source": []
  },
  {
   "cell_type": "code",
   "execution_count": null,
   "metadata": {},
   "outputs": [],
   "source": [
    "df[['V','allele']] = df['V'].str.split('-',expand=True)"
   ]
  },
  {
   "cell_type": "code",
   "execution_count": null,
   "metadata": {},
   "outputs": [],
   "source": []
  },
  {
   "cell_type": "code",
   "execution_count": 0,
   "metadata": {
    "colab": {
     "base_uri": "https://localhost:8080/",
     "height": 944
    },
    "colab_type": "code",
    "id": "O2cwyc_INR4N",
    "outputId": "ecd20b3b-5c73-4ae1-bd08-26027aaf65a8"
   },
   "outputs": [
    {
     "data": {
      "text/plain": [
       "<seaborn.axisgrid.PairGrid at 0x7f4dcca43b00>"
      ]
     },
     "execution_count": 9,
     "metadata": {
      "tags": []
     },
     "output_type": "execute_result"
    },
    {
     "data": {
      "image/png": "[encoded data removed]",
      "text/plain": [
       "<Figure size 1007.75x900 with 30 Axes>"
      ]
     },
     "metadata": {
      "tags": []
     },
     "output_type": "display_data"
    }
   ],
   "source": [
    "# explore data\n",
    "sns.pairplot(data_clean[data_clean['Health Status'] != \"For validation\"], hue=\"Health Status\")\n",
    "\n",
    "# PCA?"
   ]
  },
  {
   "cell_type": "code",
   "execution_count": 0,
   "metadata": {
    "colab": {
     "base_uri": "https://localhost:8080/",
     "height": 282
    },
    "colab_type": "code",
    "id": "BoPoKAmUYx3F",
    "outputId": "b7794e9f-877e-4d6c-e427-34c2c6c61582"
   },
   "outputs": [
    {
     "data": {
      "text/plain": [
       "<matplotlib.axes._subplots.AxesSubplot at 0x7f4dc78dfc50>"
      ]
     },
     "execution_count": 12,
     "metadata": {
      "tags": []
     },
     "output_type": "execute_result"
    },
    {
     "data": {
      "image/png": "[encoded data removed]",
      "text/plain": [
       "<Figure size 432x288 with 1 Axes>"
      ]
     },
     "metadata": {
      "tags": []
     },
     "output_type": "display_data"
    }
   ],
   "source": [
    "# recode to fewer categories \n",
    "\n",
    "# recovered \n",
    "# mild + asymptomatic\n",
    "# severe + critical\n",
    "# died\n",
    "\n",
    "# recovered, asymptomatic, mild, severe, critical, died\n",
    "\n",
    "def health_status(series):\n",
    "    if series == \"Mild\" or series == 'Asymptomatic':\n",
    "        return \"Low\"\n",
    "    elif series == \"Severe\" or series == 'Critical':\n",
    "        return \"High\"\n",
    "    else:\n",
    "        return series\n",
    "\n",
    "def health_status3(series):\n",
    "    if series == \"Mild\" or series == 'Asymptomatic' or series == \"Severe\" or series == 'Critical':\n",
    "        return \"Sick\"\n",
    "    else:\n",
    "        return series\n",
    "\n",
    "data_clean['Health Status 2'] = data_clean['Health Status'].apply(health_status)\n",
    "data_clean['Health Status 3'] = data_clean['Health Status'].apply(health_status3)\n",
    "\n",
    "data_clean['Health Status 2'].hist()\n",
    "\n",
    "# should we remove recovered?\n",
    "# make ordinal classes?\n",
    "# look up ordinal classes"
   ]
  },
  {
   "cell_type": "code",
   "execution_count": 0,
   "metadata": {
    "colab": {
     "base_uri": "https://localhost:8080/",
     "height": 282
    },
    "colab_type": "code",
    "id": "HD7GwJUA86kj",
    "outputId": "88b01d36-7fb8-4cc4-c3c9-8c0d6085f5ab"
   },
   "outputs": [
    {
     "data": {
      "text/plain": [
       "<matplotlib.axes._subplots.AxesSubplot at 0x7f4dc78e4898>"
      ]
     },
     "execution_count": 13,
     "metadata": {
      "tags": []
     },
     "output_type": "execute_result"
    },
    {
     "data": {
      "image/png": "[encoded data removed]",
      "text/plain": [
       "<Figure size 432x288 with 1 Axes>"
      ]
     },
     "metadata": {
      "tags": []
     },
     "output_type": "display_data"
    }
   ],
   "source": [
    "data_clean['Health Status 3'].hist()"
   ]
  },
  {
   "cell_type": "code",
   "execution_count": 0,
   "metadata": {
    "colab": {},
    "colab_type": "code",
    "id": "sB7qMVsGUUFR"
   },
   "outputs": [],
   "source": [
    "# feature transformations\n",
    "\n",
    "# Case No. : for example - PH00001\n",
    "data_clean['Case No.'] = data_clean['Case No.'].str[2:]\n",
    "data_clean['Case No.'] = data_clean['Case No.'].astype(int)\n",
    "# can we use this?\n",
    "\n",
    "# Sex -  M/F:\n",
    "data_clean['Sex'] = pd.get_dummies(data_clean['Sex'])"
   ]
  },
  {
   "cell_type": "code",
   "execution_count": 0,
   "metadata": {
    "colab": {
     "base_uri": "https://localhost:8080/",
     "height": 70
    },
    "colab_type": "code",
    "id": "fQZIKpRtXdFJ",
    "outputId": "81d28026-179a-4b1c-b886-2134b17003ca"
   },
   "outputs": [
    {
     "data": {
      "text/plain": [
       "1    240\n",
       "0     23\n",
       "Name: Nationality 2, dtype: int64"
      ]
     },
     "execution_count": 15,
     "metadata": {
      "tags": []
     },
     "output_type": "execute_result"
    }
   ],
   "source": [
    "# Nationality \n",
    "data_clean['Nationality'].value_counts() \n",
    "# Filipino and Other due to low quantities \n",
    "# how should we treat For validation?\n",
    "\n",
    "def nationality_recode(series):\n",
    "    if series != 'Filipino':\n",
    "        return 'Other'\n",
    "    else: \n",
    "      return 'Filipino'\n",
    "\n",
    "data_clean['Nationality 2'] = data_clean['Nationality'].apply(nationality_recode)\n",
    "data_clean['Nationality 2'] = pd.get_dummies(data_clean['Nationality 2'])\n",
    "data_clean['Nationality 2'].value_counts() "
   ]
  },
  {
   "cell_type": "code",
   "execution_count": 0,
   "metadata": {
    "colab": {
     "base_uri": "https://localhost:8080/",
     "height": 1000
    },
    "colab_type": "code",
    "id": "DhAbRVn1b_6A",
    "outputId": "c0bb5858-7b87-418d-c25f-c4720402da55"
   },
   "outputs": [
    {
     "data": {
      "text/plain": [
       "Quezon City                         59\n",
       "San Juan City                       25\n",
       "Manila City                         20\n",
       "Pasig City                          17\n",
       "Makati City                         17\n",
       "Parañaque City                      13\n",
       "Mandaluyong City                    13\n",
       "Cainta, Rizal                        9\n",
       "Muntinlupa City                      9\n",
       "Taguig City                          7\n",
       "Marikina City                        6\n",
       "Caloocan City                        6\n",
       "Davao City, Davao Del Sur            5\n",
       "For validation                       4\n",
       "Taytay, Rizal                        3\n",
       "None                                 3\n",
       "Antipolo City, Rizal                 3\n",
       "Batangas City, Batangas              2\n",
       "Las Piñas City                       2\n",
       "San Ildefonso, Bulacan               2\n",
       "Caba, La Union                       2\n",
       "San Jose Del Monte City, Bulacan     2\n",
       "Pasay City                           2\n",
       "Pantukan, Compostela Valley          1\n",
       "Cabuyao City, Laguna                 1\n",
       "Porac, Pampanga                      1\n",
       "Floridablanca, Pampanga              1\n",
       "Orani, Bataan                        1\n",
       "Cebu City, Cebu                      1\n",
       "Meycauayan City, Bulacan             1\n",
       "Silang, Cavite                       1\n",
       "Lipa City, Batangas                  1\n",
       "Marawi City, Lanao Del Sur           1\n",
       "Libmanan, Camarines Sur              1\n",
       "Naic, Cavite                         1\n",
       "Bacoor City, Cavite                  1\n",
       "Iloilo City, Iloilo                  1\n",
       "Imus City, Cavite                    1\n",
       "Urbiztondo, Pangasinan               1\n",
       "Bacolor, Pampanga                    1\n",
       "Baliuag, Bulacan                     1\n",
       "Bais City, Negros Oriental           1\n",
       "Santa Rosa City, Laguna              1\n",
       "Lemery, Batangas                     1\n",
       "Tayasan, Negros Oriental             1\n",
       "Calamba City, Laguna                 1\n",
       "Malolos City, Bulacan                1\n",
       "Guiguinto, Bulacan                   1\n",
       "Valenzuela City                      1\n",
       "Lambayong, Sultan Kudarat            1\n",
       "Lucena City, Quezon                  1\n",
       "Tarlac City, Tarlac                  1\n",
       "Dasmariñas City, Cavite              1\n",
       "Manabo, Abra                         1\n",
       "San Fernando City, Pampanga          1\n",
       "Name: Residence in the Philippines, dtype: int64"
      ]
     },
     "execution_count": 16,
     "metadata": {
      "tags": []
     },
     "output_type": "execute_result"
    }
   ],
   "source": [
    "data_clean['Residence in the Philippines'].value_counts()\n",
    "# @Amber - can you help recode this, please?\n",
    "# urban, rural .. regional?"
   ]
  },
  {
   "cell_type": "code",
   "execution_count": 0,
   "metadata": {
    "colab": {
     "base_uri": "https://localhost:8080/",
     "height": 70
    },
    "colab_type": "code",
    "id": "7aOWtEsfcV_A",
    "outputId": "8f3ac7e2-9708-4140-abcb-7b2c1e7a6fbf"
   },
   "outputs": [
    {
     "data": {
      "text/plain": [
       "1    148\n",
       "0    115\n",
       "Name: Travel History 2, dtype: int64"
      ]
     },
     "execution_count": 17,
     "metadata": {
      "tags": []
     },
     "output_type": "execute_result"
    }
   ],
   "source": [
    "data_clean['Travel History'].value_counts()\n",
    "\n",
    "def th_recode(series):\n",
    "    if series != 'None':\n",
    "        return 'Travel'\n",
    "    else: \n",
    "      return 'No Travel'\n",
    "\n",
    "data_clean['Travel History 2'] = data_clean['Travel History'].apply(th_recode)\n",
    "data_clean['Travel History 2'] = pd.get_dummies(data_clean['Travel History 2'])\n",
    "data_clean['Travel History 2'].value_counts() "
   ]
  },
  {
   "cell_type": "code",
   "execution_count": 0,
   "metadata": {
    "colab": {
     "base_uri": "https://localhost:8080/",
     "height": 70
    },
    "colab_type": "code",
    "id": "boinjc-6eiQC",
    "outputId": "d1b35252-1b90-46f4-e2c9-1cc7fb4264ad"
   },
   "outputs": [
    {
     "data": {
      "text/plain": [
       "0    198\n",
       "1     65\n",
       "Name: Epi_Link 2, dtype: int64"
      ]
     },
     "execution_count": 18,
     "metadata": {
      "tags": []
     },
     "output_type": "execute_result"
    }
   ],
   "source": [
    "# can be mined and linked\n",
    "\n",
    "data_clean['Epi_Link 2'] = data_clean['Epi_Link'].isna()\n",
    "data_clean['Epi_Link 2'] = pd.get_dummies(data_clean['Epi_Link 2'])\n",
    "data_clean['Epi_Link 2'].value_counts() "
   ]
  },
  {
   "cell_type": "code",
   "execution_count": 0,
   "metadata": {
    "colab": {
     "base_uri": "https://localhost:8080/",
     "height": 70
    },
    "colab_type": "code",
    "id": "gv-aHLNaf1uV",
    "outputId": "8a92d890-3f8e-4051-8ec5-1c6763f35033"
   },
   "outputs": [
    {
     "data": {
      "text/plain": [
       "0    149\n",
       "1    114\n",
       "Name: Other disease 2, dtype: int64"
      ]
     },
     "execution_count": 19,
     "metadata": {
      "tags": []
     },
     "output_type": "execute_result"
    }
   ],
   "source": [
    "# can be mined and improved\n",
    "\n",
    "data_clean['Other disease 2'] = data_clean['Other disease'].isna()\n",
    "data_clean['Other disease 2'] = pd.get_dummies(data_clean['Other disease 2'])\n",
    "data_clean['Other disease 2'].value_counts() "
   ]
  },
  {
   "cell_type": "code",
   "execution_count": 0,
   "metadata": {
    "colab": {
     "base_uri": "https://localhost:8080/",
     "height": 390
    },
    "colab_type": "code",
    "id": "PxqOQfpygcV4",
    "outputId": "f263174d-07b0-4cd9-84e0-ced16e8d39eb"
   },
   "outputs": [
    {
     "data": {
      "text/plain": [
       "Asymptomatic                         3\n",
       "Cough                                3\n",
       "Fever                                2\n",
       "Fever, cough                         2\n",
       "Fever, Cough                         2\n",
       "Cough, Body malaise                  1\n",
       "Cough, Comorbidity                   1\n",
       "Cough, Sore throat, Headache         1\n",
       "Fever, Sore Throat                   1\n",
       "Fever, Cough, Shortness of breath    1\n",
       "Sore throat                          1\n",
       "Dyspnea                              1\n",
       "Cough, Colds, Dysphagia              1\n",
       "Fever, Headache, Body malaise        1\n",
       "Cough, Sore throat, Colds            1\n",
       "Cough, Colds                         1\n",
       "Cough, Difficulty in breathing       1\n",
       "Fever, Cough, Dizziness              1\n",
       "Difficulty of breathing              1\n",
       "Fever, Cough, Sore throat            1\n",
       "Name: Symptoms, dtype: int64"
      ]
     },
     "execution_count": 20,
     "metadata": {
      "tags": []
     },
     "output_type": "execute_result"
    }
   ],
   "source": [
    "data_clean['Symptoms'].value_counts()"
   ]
  },
  {
   "cell_type": "code",
   "execution_count": 0,
   "metadata": {
    "colab": {
     "base_uri": "https://localhost:8080/",
     "height": 585
    },
    "colab_type": "code",
    "id": "go0bkOpEVkeA",
    "outputId": "efae59ca-914f-4423-e955-55ac8a5186a5"
   },
   "outputs": [
    {
     "data": {
      "text/plain": [
       "Case No.                                      int64\n",
       "Sex                                           uint8\n",
       "Age                                         float64\n",
       "Nationality                                  object\n",
       "Residence in the Philippines                 object\n",
       "History of Travel / Exposure                 object\n",
       "Travel History                               object\n",
       "Epi_Link                                     object\n",
       "Date of Onset of Symptoms                    object\n",
       "Date of Admission                            object\n",
       "Date of Lab Confirmation                     object\n",
       "Date of Announcement to the Public           object\n",
       "Admission / Consultation                     object\n",
       "Symptoms                                     object\n",
       "Other disease                                object\n",
       "Status                                       object\n",
       "Health Status                                object\n",
       "Date of Final Status (recovered/expired)     object\n",
       "Final Diagnosis                              object\n",
       "Age Group                                    object\n",
       "Location                                     object\n",
       "Latitude                                    float64\n",
       "Longitude                                   float64\n",
       "Residence Lat                               float64\n",
       "Residence Long                              float64\n",
       "Health Status 2                              object\n",
       "Health Status 3                              object\n",
       "Nationality 2                                 uint8\n",
       "Travel History 2                              uint8\n",
       "Epi_Link 2                                    uint8\n",
       "Other disease 2                               uint8\n",
       "dtype: object"
      ]
     },
     "execution_count": 21,
     "metadata": {
      "tags": []
     },
     "output_type": "execute_result"
    }
   ],
   "source": [
    "data_clean.dtypes\n",
    "# Residence in Phil - maybe @Amber can code?\n",
    "# History of Travel / Exposure  - needs to be cleaned\n",
    "# Dates - need to figure out what to do with dates \n",
    "# Symptoms - needs to be cleaned"
   ]
  },
  {
   "cell_type": "code",
   "execution_count": 0,
   "metadata": {
    "colab": {},
    "colab_type": "code",
    "id": "Tvt-G7HPQkBv"
   },
   "outputs": [],
   "source": [
    "# come back and do feature transformations\n",
    "#data = data_clean.filter(['Age', 'Longitude', 'Latitude', 'Health Status'])\n",
    "#data = data_clean.filter(['Case No.', 'Age', 'Sex', 'Nationality 2', 'Travel History 2', 'Epi_Link 2', 'Other disease 2', 'Longitude', 'Latitude', 'Health Status 2'])\n",
    "data = data_clean.filter(['Case No.', 'Age', 'Sex', 'Nationality 2', 'Travel History 2', 'Epi_Link 2', 'Longitude', 'Latitude', 'Health Status 3'])"
   ]
  },
  {
   "cell_type": "code",
   "execution_count": 0,
   "metadata": {
    "colab": {},
    "colab_type": "code",
    "id": "8OjklseALetr"
   },
   "outputs": [],
   "source": [
    "#X_train, X_test, y_train, y_test = train_test_split(data.drop('Health Status 2', axis=1), data['Health Status 2'], test_size=0.20, random_state=0)\n",
    "X_train, X_test, y_train, y_test = train_test_split(data.drop('Health Status 3', axis=1), data['Health Status 3'], test_size=0.20, random_state=0)\n",
    "# to do: sampling, split review"
   ]
  },
  {
   "cell_type": "code",
   "execution_count": 0,
   "metadata": {
    "colab": {},
    "colab_type": "code",
    "id": "D0lfcXplRNF9"
   },
   "outputs": [],
   "source": [
    "# standardize the data\n",
    "from sklearn import preprocessing\n",
    "\n",
    "standardize = preprocessing.StandardScaler()\n",
    "X_train = standardize.fit_transform(X_train)\n",
    "X_test = standardize.fit_transform(X_test) "
   ]
  },
  {
   "cell_type": "markdown",
   "metadata": {
    "colab_type": "text",
    "id": "tmVjUUyTMgOD"
   },
   "source": [
    "Modeling:"
   ]
  },
  {
   "cell_type": "code",
   "execution_count": 0,
   "metadata": {
    "colab": {},
    "colab_type": "code",
    "id": "VvBbBl1mMO8g"
   },
   "outputs": [],
   "source": [
    "# NAIVE BAYES:\n",
    "\n",
    "# https://www.datacamp.com/community/tutorials/naive-bayes-scikit-learn\n",
    "\n",
    "from sklearn.naive_bayes import GaussianNB\n",
    "gnb = GaussianNB()\n",
    "gnb.fit(X_train, y_train)\n",
    "y_pred = gnb.predict(X_test)"
   ]
  },
  {
   "cell_type": "code",
   "execution_count": 0,
   "metadata": {
    "colab": {
     "base_uri": "https://localhost:8080/",
     "height": 34
    },
    "colab_type": "code",
    "id": "B8FPoGK-Sz0h",
    "outputId": "5abf498d-8fa6-48e9-8601-25964a680421"
   },
   "outputs": [
    {
     "name": "stdout",
     "output_type": "stream",
     "text": [
      "Accuracy: 0.7169811320754716\n"
     ]
    }
   ],
   "source": [
    "#Import scikit-learn metrics module for accuracy calculation\n",
    "from sklearn import metrics\n",
    "\n",
    "# Model Accuracy, how often is the classifier correct?\n",
    "print(\"Accuracy:\", metrics.accuracy_score(y_test, y_pred))"
   ]
  },
  {
   "cell_type": "code",
   "execution_count": 0,
   "metadata": {
    "colab": {},
    "colab_type": "code",
    "id": "8YWyR3NHS9RX"
   },
   "outputs": [],
   "source": [
    "#Accuracy: 0.24528301886792453 - ['Age', 'Longitude', 'Latitude', 'Health Status']\n",
    "#Accuracy: 0.4528301886792453 - ['Case No.', 'Age', 'Sex', 'Longitude', 'Latitude', 'Health Status']\n",
    "#Accuracy: 0.6415094339622641 - new labels (low, high)\n",
    "#Accuracy: 0.6226415094339622 - adds nationality 2\n",
    "#Accuracy: 0.660377358490566 - adds travel history 2 --> could make this more granular\n",
    "#Accuracy: 0.6415094339622641 - adds epi link --> could make this more granular\n",
    "#Accuracy: 0.39622641509433965 - adds other disease --> what is going on here?\n",
    "#Accuracy: 0.7169811320754716 - without other disease and new labels (sick)\n",
    "\n",
    "# What metric should we use? \n",
    "# Need to create something to see what is happening behind the scenes after we have results - i.e. error checking"
   ]
  },
  {
   "cell_type": "code",
   "execution_count": 0,
   "metadata": {
    "colab": {},
    "colab_type": "code",
    "id": "owU1mGe28HCx"
   },
   "outputs": [],
   "source": [
    "# DECISION TREE:\n",
    "#https://www.geeksforgeeks.org/multiclass-classification-using-scikit-learn/\n",
    "\n",
    "from sklearn.tree import DecisionTreeClassifier \n",
    "from sklearn.metrics import confusion_matrix \n",
    "dtree_model = DecisionTreeClassifier(max_depth = 2).fit(X_train, y_train) \n",
    "dtree_predictions = dtree_model.predict(X_test) \n",
    "  \n",
    "# creating a confusion matrix \n",
    "cm = confusion_matrix(y_test, dtree_predictions)"
   ]
  },
  {
   "cell_type": "code",
   "execution_count": 0,
   "metadata": {
    "colab": {
     "base_uri": "https://localhost:8080/",
     "height": 70
    },
    "colab_type": "code",
    "id": "uZOqJiVd9_FF",
    "outputId": "cd6f8fb8-36fa-4131-bd59-3175fb65a42f"
   },
   "outputs": [
    {
     "data": {
      "text/plain": [
       "array([[16,  2,  2],\n",
       "       [ 3,  3,  2],\n",
       "       [ 3,  3, 19]])"
      ]
     },
     "execution_count": 29,
     "metadata": {
      "tags": []
     },
     "output_type": "execute_result"
    }
   ],
   "source": [
    "cm"
   ]
  },
  {
   "cell_type": "code",
   "execution_count": 0,
   "metadata": {
    "colab": {
     "base_uri": "https://localhost:8080/",
     "height": 52
    },
    "colab_type": "code",
    "id": "y80loJQO-EIY",
    "outputId": "1f148d81-8397-41ef-8a88-3d2082a18d04"
   },
   "outputs": [
    {
     "name": "stdout",
     "output_type": "stream",
     "text": [
      "Accuracy: 0.7169811320754716\n"
     ]
    },
    {
     "data": {
      "text/plain": [
       "0.7169811320754716"
      ]
     },
     "execution_count": 30,
     "metadata": {
      "tags": []
     },
     "output_type": "execute_result"
    }
   ],
   "source": [
    "print(\"Accuracy:\", metrics.accuracy_score(y_test, dtree_predictions))\n",
    "dtree_model.score(X_test,  y_test)"
   ]
  },
  {
   "cell_type": "code",
   "execution_count": 0,
   "metadata": {
    "colab": {
     "base_uri": "https://localhost:8080/",
     "height": 158
    },
    "colab_type": "code",
    "id": "R7ljsWX_-SZb",
    "outputId": "b9621fc1-d897-4b80-d320-850dbacd2564"
   },
   "outputs": [
    {
     "data": {
      "text/plain": [
       "array(['Died', 'Died', 'Died', 'Recovered', 'Sick', 'Recovered', 'Sick',\n",
       "       'Died', 'Sick', 'Sick', 'Died', 'Sick', 'Died', 'Sick', 'Died',\n",
       "       'Recovered', 'Sick', 'Sick', 'Sick', 'Died', 'Died', 'Sick',\n",
       "       'Died', 'Sick', 'Sick', 'Sick', 'Sick', 'Sick', 'Died', 'Sick',\n",
       "       'Died', 'Sick', 'Recovered', 'Sick', 'Sick', 'Died', 'Died',\n",
       "       'Sick', 'Sick', 'Died', 'Sick', 'Sick', 'Sick', 'Sick', 'Died',\n",
       "       'Sick', 'Sick', 'Sick', 'Sick', 'Sick', 'Sick', 'Sick', 'Died'],\n",
       "      dtype='<U9')"
      ]
     },
     "execution_count": 31,
     "metadata": {
      "tags": []
     },
     "output_type": "execute_result"
    }
   ],
   "source": [
    "y_pred"
   ]
  },
  {
   "cell_type": "code",
   "execution_count": 0,
   "metadata": {
    "colab": {
     "base_uri": "https://localhost:8080/",
     "height": 158
    },
    "colab_type": "code",
    "id": "PEChU89W-XTO",
    "outputId": "162f2498-23e7-4636-b039-a50dd01644cf"
   },
   "outputs": [
    {
     "data": {
      "text/plain": [
       "array(['Sick', 'Died', 'Died', 'Recovered', 'Sick', 'Died', 'Sick',\n",
       "       'Died', 'Sick', 'Died', 'Died', 'Died', 'Died', 'Recovered',\n",
       "       'Died', 'Sick', 'Sick', 'Sick', 'Sick', 'Died', 'Died', 'Sick',\n",
       "       'Died', 'Recovered', 'Sick', 'Died', 'Sick', 'Sick', 'Died',\n",
       "       'Sick', 'Died', 'Sick', 'Died', 'Sick', 'Recovered', 'Died',\n",
       "       'Died', 'Sick', 'Recovered', 'Died', 'Sick', 'Sick', 'Recovered',\n",
       "       'Recovered', 'Died', 'Sick', 'Recovered', 'Sick', 'Died', 'Sick',\n",
       "       'Sick', 'Sick', 'Died'], dtype=object)"
      ]
     },
     "execution_count": 32,
     "metadata": {
      "tags": []
     },
     "output_type": "execute_result"
    }
   ],
   "source": [
    "dtree_predictions"
   ]
  },
  {
   "cell_type": "code",
   "execution_count": 0,
   "metadata": {
    "colab": {
     "base_uri": "https://localhost:8080/",
     "height": 158
    },
    "colab_type": "code",
    "id": "YHTSfKdy-gc2",
    "outputId": "5d97c028-cdf4-4b49-b088-95e2b665cd05"
   },
   "outputs": [
    {
     "data": {
      "text/plain": [
       "array(['Recovered', 'Died', 'Died', 'Died', 'Sick', 'Recovered', 'Sick',\n",
       "       'Died', 'Sick', 'Sick', 'Died', 'Recovered', 'Died', 'Sick',\n",
       "       'Died', 'Sick', 'Sick', 'Sick', 'Sick', 'Recovered', 'Died',\n",
       "       'Recovered', 'Died', 'Sick', 'Died', 'Died', 'Sick', 'Sick',\n",
       "       'Died', 'Sick', 'Died', 'Sick', 'Died', 'Sick', 'Recovered',\n",
       "       'Died', 'Died', 'Died', 'Sick', 'Died', 'Sick', 'Sick', 'Died',\n",
       "       'Recovered', 'Died', 'Sick', 'Recovered', 'Sick', 'Sick', 'Sick',\n",
       "       'Sick', 'Sick', 'Sick'], dtype=object)"
      ]
     },
     "execution_count": 33,
     "metadata": {
      "tags": []
     },
     "output_type": "execute_result"
    }
   ],
   "source": [
    "import numpy as np\n",
    "np.array(y_test)"
   ]
  },
  {
   "cell_type": "code",
   "execution_count": 0,
   "metadata": {
    "colab": {
     "base_uri": "https://localhost:8080/",
     "height": 70
    },
    "colab_type": "code",
    "id": "1aaR_Rpd-mWf",
    "outputId": "a3546817-5745-499c-c21c-b8524005e012"
   },
   "outputs": [
    {
     "data": {
      "text/plain": [
       "array([[17,  0,  3],\n",
       "       [ 1,  0,  7],\n",
       "       [ 1,  0, 24]])"
      ]
     },
     "execution_count": 34,
     "metadata": {
      "tags": []
     },
     "output_type": "execute_result"
    }
   ],
   "source": [
    "# SVM: \n",
    "\n",
    "# training a linear SVM classifier \n",
    "from sklearn.svm import SVC \n",
    "svm_model_linear = SVC(kernel = 'linear', C = 1).fit(X_train, y_train) \n",
    "svm_predictions = svm_model_linear.predict(X_test) \n",
    "  \n",
    "# model accuracy for X_test   \n",
    "accuracy = svm_model_linear.score(X_test, y_test) \n",
    "  \n",
    "# creating a confusion matrix \n",
    "cm = confusion_matrix(y_test, svm_predictions) \n",
    "cm"
   ]
  },
  {
   "cell_type": "code",
   "execution_count": 0,
   "metadata": {
    "colab": {
     "base_uri": "https://localhost:8080/",
     "height": 34
    },
    "colab_type": "code",
    "id": "OnU-3kyy--eC",
    "outputId": "e77f5c69-e63e-44ae-9608-14cd23342411"
   },
   "outputs": [
    {
     "name": "stdout",
     "output_type": "stream",
     "text": [
      "0.7735849056603774\n"
     ]
    }
   ],
   "source": [
    "print(accuracy)"
   ]
  },
  {
   "cell_type": "code",
   "execution_count": 0,
   "metadata": {
    "colab": {
     "base_uri": "https://localhost:8080/",
     "height": 34
    },
    "colab_type": "code",
    "id": "A4FgRl7Q_DUl",
    "outputId": "6efb398a-3f57-4fcc-bde3-1aca007c0b9d"
   },
   "outputs": [
    {
     "name": "stdout",
     "output_type": "stream",
     "text": [
      "0.7358490566037735\n"
     ]
    }
   ],
   "source": [
    "# KNN\n",
    "\n",
    "from sklearn.neighbors import KNeighborsClassifier \n",
    "knn = KNeighborsClassifier(n_neighbors = 10).fit(X_train, y_train) # optimize k\n",
    "  \n",
    "# accuracy on X_test \n",
    "accuracy = knn.score(X_test, y_test) \n",
    "print(accuracy)\n",
    "  \n",
    "# creating a confusion matrix \n",
    "knn_predictions = knn.predict(X_test)  \n",
    "cm = confusion_matrix(y_test, knn_predictions)"
   ]
  },
  {
   "cell_type": "code",
   "execution_count": 0,
   "metadata": {
    "colab": {
     "base_uri": "https://localhost:8080/",
     "height": 392
    },
    "colab_type": "code",
    "id": "0r72nDUZ_wMV",
    "outputId": "5fb043d2-b643-42dd-bfc4-4c200bbc9858"
   },
   "outputs": [
    {
     "name": "stdout",
     "output_type": "stream",
     "text": [
      "Requirement already satisfied: tensorflow==1.14 in /usr/local/lib/python3.6/dist-packages (1.14.0)\n",
      "Requirement already satisfied: google-pasta>=0.1.6 in /usr/local/lib/python3.6/dist-packages (from tensorflow==1.14) (0.2.0)\n",
      "Requirement already satisfied: tensorboard<1.15.0,>=1.14.0 in /usr/local/lib/python3.6/dist-packages (from tensorflow==1.14) (1.14.0)\n",
      "Requirement already satisfied: keras-preprocessing>=1.0.5 in /usr/local/lib/python3.6/dist-packages (from tensorflow==1.14) (1.1.0)\n",
      "Requirement already satisfied: astor>=0.6.0 in /usr/local/lib/python3.6/dist-packages (from tensorflow==1.14) (0.8.1)\n",
      "Requirement already satisfied: numpy<2.0,>=1.14.5 in /usr/local/lib/python3.6/dist-packages (from tensorflow==1.14) (1.18.2)\n",
      "Requirement already satisfied: absl-py>=0.7.0 in /usr/local/lib/python3.6/dist-packages (from tensorflow==1.14) (0.9.0)\n",
      "Requirement already satisfied: keras-applications>=1.0.6 in /usr/local/lib/python3.6/dist-packages (from tensorflow==1.14) (1.0.8)\n",
      "Requirement already satisfied: termcolor>=1.1.0 in /usr/local/lib/python3.6/dist-packages (from tensorflow==1.14) (1.1.0)\n",
      "Requirement already satisfied: protobuf>=3.6.1 in /usr/local/lib/python3.6/dist-packages (from tensorflow==1.14) (3.10.0)\n",
      "Requirement already satisfied: wrapt>=1.11.1 in /usr/local/lib/python3.6/dist-packages (from tensorflow==1.14) (1.12.1)\n",
      "Requirement already satisfied: grpcio>=1.8.6 in /usr/local/lib/python3.6/dist-packages (from tensorflow==1.14) (1.27.2)\n",
      "Requirement already satisfied: tensorflow-estimator<1.15.0rc0,>=1.14.0rc0 in /usr/local/lib/python3.6/dist-packages (from tensorflow==1.14) (1.14.0)\n",
      "Requirement already satisfied: gast>=0.2.0 in /usr/local/lib/python3.6/dist-packages (from tensorflow==1.14) (0.3.3)\n",
      "Requirement already satisfied: six>=1.10.0 in /usr/local/lib/python3.6/dist-packages (from tensorflow==1.14) (1.12.0)\n",
      "Requirement already satisfied: wheel>=0.26 in /usr/local/lib/python3.6/dist-packages (from tensorflow==1.14) (0.34.2)\n",
      "Requirement already satisfied: markdown>=2.6.8 in /usr/local/lib/python3.6/dist-packages (from tensorboard<1.15.0,>=1.14.0->tensorflow==1.14) (3.2.1)\n",
      "Requirement already satisfied: setuptools>=41.0.0 in /usr/local/lib/python3.6/dist-packages (from tensorboard<1.15.0,>=1.14.0->tensorflow==1.14) (46.0.0)\n",
      "Requirement already satisfied: werkzeug>=0.11.15 in /usr/local/lib/python3.6/dist-packages (from tensorboard<1.15.0,>=1.14.0->tensorflow==1.14) (1.0.1)\n",
      "Requirement already satisfied: h5py in /usr/local/lib/python3.6/dist-packages (from keras-applications>=1.0.6->tensorflow==1.14) (2.10.0)\n"
     ]
    }
   ],
   "source": [
    "# https://stackabuse.com/creating-a-neural-network-from-scratch-in-python-multi-class-classification/\n",
    "# https://shrikar.com/deep-learning-with-keras-and-python-for-multiclass-classification/\n",
    "# https://machinelearningmastery.com/tutorial-first-neural-network-python-keras/\n",
    "# https://towardsdatascience.com/building-our-first-neural-network-in-keras-bdc8abbc17f5\n",
    "\n",
    "# downgrade TensorFlow 1.14\n",
    "!pip install tensorflow==1.14"
   ]
  },
  {
   "cell_type": "code",
   "execution_count": 0,
   "metadata": {
    "colab": {},
    "colab_type": "code",
    "id": "0yQa6v51AIs_"
   },
   "outputs": [],
   "source": [
    "#Dependencies\n",
    "import keras\n",
    "from keras.models import Sequential\n",
    "from keras.layers import Dense"
   ]
  },
  {
   "cell_type": "code",
   "execution_count": 0,
   "metadata": {
    "colab": {},
    "colab_type": "code",
    "id": "jfgbK8ojAPPA"
   },
   "outputs": [],
   "source": [
    "# Neural network\n",
    "model = Sequential()\n",
    "model.add(Dense(8, input_dim=8, activation='relu'))\n",
    "model.add(Dense(3, activation='softmax'))"
   ]
  },
  {
   "cell_type": "code",
   "execution_count": 0,
   "metadata": {
    "colab": {},
    "colab_type": "code",
    "id": "u7AI8naaDnP_"
   },
   "outputs": [],
   "source": [
    "model.compile(loss='categorical_crossentropy', optimizer='adam', metrics=['accuracy'])"
   ]
  },
  {
   "cell_type": "code",
   "execution_count": 0,
   "metadata": {
    "colab": {
     "base_uri": "https://localhost:8080/",
     "height": 230
    },
    "colab_type": "code",
    "id": "tmTTOxBqDrBP",
    "outputId": "6a8f5cf7-33c4-4347-f10a-8baf03d33481"
   },
   "outputs": [
    {
     "name": "stdout",
     "output_type": "stream",
     "text": [
      "Model: \"sequential_13\"\n",
      "_________________________________________________________________\n",
      "Layer (type)                 Output Shape              Param #   \n",
      "=================================================================\n",
      "dense_34 (Dense)             (None, 8)                 72        \n",
      "_________________________________________________________________\n",
      "dense_35 (Dense)             (None, 3)                 27        \n",
      "=================================================================\n",
      "Total params: 99\n",
      "Trainable params: 99\n",
      "Non-trainable params: 0\n",
      "_________________________________________________________________\n"
     ]
    }
   ],
   "source": [
    "model.summary()"
   ]
  },
  {
   "cell_type": "code",
   "execution_count": 0,
   "metadata": {
    "colab": {},
    "colab_type": "code",
    "id": "fT2wPGReF45I"
   },
   "outputs": [],
   "source": [
    "y_train2 = y_train.astype('category').cat.codes\n",
    "\n",
    "from keras.utils import to_categorical\n",
    "y_train2 = to_categorical(y_train2)\n",
    "\n",
    "y_test = y_test.astype('category').cat.codes\n",
    "y_test = to_categorical(y_test)"
   ]
  },
  {
   "cell_type": "code",
   "execution_count": 0,
   "metadata": {
    "colab": {
     "base_uri": "https://localhost:8080/",
     "height": 1000
    },
    "colab_type": "code",
    "id": "_KIYugyYDyFH",
    "outputId": "617a099c-34ad-4212-9ecc-9d1669401946"
   },
   "outputs": [
    {
     "name": "stdout",
     "output_type": "stream",
     "text": [
      "Epoch 1/100\n",
      "210/210 [==============================] - 0s 1ms/step - loss: 1.2154 - acc: 0.2952\n",
      "Epoch 2/100\n",
      "210/210 [==============================] - 0s 56us/step - loss: 1.1996 - acc: 0.3143\n",
      "Epoch 3/100\n",
      "210/210 [==============================] - 0s 43us/step - loss: 1.1845 - acc: 0.3333\n",
      "Epoch 4/100\n",
      "210/210 [==============================] - 0s 53us/step - loss: 1.1690 - acc: 0.3429\n",
      "Epoch 5/100\n",
      "210/210 [==============================] - 0s 66us/step - loss: 1.1552 - acc: 0.3381\n",
      "Epoch 6/100\n",
      "210/210 [==============================] - 0s 42us/step - loss: 1.1424 - acc: 0.3429\n",
      "Epoch 7/100\n",
      "210/210 [==============================] - 0s 38us/step - loss: 1.1293 - acc: 0.3476\n",
      "Epoch 8/100\n",
      "210/210 [==============================] - 0s 40us/step - loss: 1.1149 - acc: 0.3524\n",
      "Epoch 9/100\n",
      "210/210 [==============================] - 0s 34us/step - loss: 1.1033 - acc: 0.3667\n",
      "Epoch 10/100\n",
      "210/210 [==============================] - 0s 41us/step - loss: 1.0921 - acc: 0.3905\n",
      "Epoch 11/100\n",
      "210/210 [==============================] - 0s 40us/step - loss: 1.0804 - acc: 0.4143\n",
      "Epoch 12/100\n",
      "210/210 [==============================] - 0s 36us/step - loss: 1.0708 - acc: 0.4429\n",
      "Epoch 13/100\n",
      "210/210 [==============================] - 0s 38us/step - loss: 1.0605 - acc: 0.4524\n",
      "Epoch 14/100\n",
      "210/210 [==============================] - 0s 41us/step - loss: 1.0509 - acc: 0.4667\n",
      "Epoch 15/100\n",
      "210/210 [==============================] - 0s 42us/step - loss: 1.0418 - acc: 0.4857\n",
      "Epoch 16/100\n",
      "210/210 [==============================] - 0s 38us/step - loss: 1.0329 - acc: 0.4857\n",
      "Epoch 17/100\n",
      "210/210 [==============================] - 0s 37us/step - loss: 1.0247 - acc: 0.5000\n",
      "Epoch 18/100\n",
      "210/210 [==============================] - 0s 43us/step - loss: 1.0168 - acc: 0.5095\n",
      "Epoch 19/100\n",
      "210/210 [==============================] - 0s 43us/step - loss: 1.0094 - acc: 0.5095\n",
      "Epoch 20/100\n",
      "210/210 [==============================] - 0s 47us/step - loss: 1.0016 - acc: 0.5095\n",
      "Epoch 21/100\n",
      "210/210 [==============================] - 0s 44us/step - loss: 0.9945 - acc: 0.5095\n",
      "Epoch 22/100\n",
      "210/210 [==============================] - 0s 44us/step - loss: 0.9877 - acc: 0.5143\n",
      "Epoch 23/100\n",
      "210/210 [==============================] - 0s 47us/step - loss: 0.9809 - acc: 0.5143\n",
      "Epoch 24/100\n",
      "210/210 [==============================] - 0s 48us/step - loss: 0.9742 - acc: 0.5190\n",
      "Epoch 25/100\n",
      "210/210 [==============================] - 0s 51us/step - loss: 0.9684 - acc: 0.5238\n",
      "Epoch 26/100\n",
      "210/210 [==============================] - 0s 38us/step - loss: 0.9621 - acc: 0.5190\n",
      "Epoch 27/100\n",
      "210/210 [==============================] - 0s 51us/step - loss: 0.9569 - acc: 0.5190\n",
      "Epoch 28/100\n",
      "210/210 [==============================] - 0s 47us/step - loss: 0.9514 - acc: 0.5190\n",
      "Epoch 29/100\n",
      "210/210 [==============================] - 0s 45us/step - loss: 0.9461 - acc: 0.5190\n",
      "Epoch 30/100\n",
      "210/210 [==============================] - 0s 56us/step - loss: 0.9413 - acc: 0.5190\n",
      "Epoch 31/100\n",
      "210/210 [==============================] - 0s 44us/step - loss: 0.9362 - acc: 0.5143\n",
      "Epoch 32/100\n",
      "210/210 [==============================] - 0s 43us/step - loss: 0.9317 - acc: 0.5286\n",
      "Epoch 33/100\n",
      "210/210 [==============================] - 0s 41us/step - loss: 0.9265 - acc: 0.5286\n",
      "Epoch 34/100\n",
      "210/210 [==============================] - 0s 46us/step - loss: 0.9218 - acc: 0.5333\n",
      "Epoch 35/100\n",
      "210/210 [==============================] - 0s 40us/step - loss: 0.9175 - acc: 0.5429\n",
      "Epoch 36/100\n",
      "210/210 [==============================] - 0s 41us/step - loss: 0.9129 - acc: 0.5476\n",
      "Epoch 37/100\n",
      "210/210 [==============================] - 0s 40us/step - loss: 0.9089 - acc: 0.5476\n",
      "Epoch 38/100\n",
      "210/210 [==============================] - 0s 44us/step - loss: 0.9046 - acc: 0.5571\n",
      "Epoch 39/100\n",
      "210/210 [==============================] - 0s 42us/step - loss: 0.9008 - acc: 0.5714\n",
      "Epoch 40/100\n",
      "210/210 [==============================] - 0s 39us/step - loss: 0.8969 - acc: 0.5762\n",
      "Epoch 41/100\n",
      "210/210 [==============================] - 0s 52us/step - loss: 0.8931 - acc: 0.5762\n",
      "Epoch 42/100\n",
      "210/210 [==============================] - 0s 44us/step - loss: 0.8892 - acc: 0.5857\n",
      "Epoch 43/100\n",
      "210/210 [==============================] - 0s 39us/step - loss: 0.8856 - acc: 0.5905\n",
      "Epoch 44/100\n",
      "210/210 [==============================] - 0s 44us/step - loss: 0.8820 - acc: 0.5810\n",
      "Epoch 45/100\n",
      "210/210 [==============================] - 0s 47us/step - loss: 0.8784 - acc: 0.5857\n",
      "Epoch 46/100\n",
      "210/210 [==============================] - 0s 41us/step - loss: 0.8750 - acc: 0.5952\n",
      "Epoch 47/100\n",
      "210/210 [==============================] - 0s 43us/step - loss: 0.8716 - acc: 0.5952\n",
      "Epoch 48/100\n",
      "210/210 [==============================] - 0s 49us/step - loss: 0.8682 - acc: 0.5952\n",
      "Epoch 49/100\n",
      "210/210 [==============================] - 0s 55us/step - loss: 0.8652 - acc: 0.6000\n",
      "Epoch 50/100\n",
      "210/210 [==============================] - 0s 46us/step - loss: 0.8620 - acc: 0.6000\n",
      "Epoch 51/100\n",
      "210/210 [==============================] - 0s 47us/step - loss: 0.8588 - acc: 0.6000\n",
      "Epoch 52/100\n",
      "210/210 [==============================] - 0s 55us/step - loss: 0.8557 - acc: 0.6000\n",
      "Epoch 53/100\n",
      "210/210 [==============================] - 0s 44us/step - loss: 0.8527 - acc: 0.6095\n",
      "Epoch 54/100\n",
      "210/210 [==============================] - 0s 40us/step - loss: 0.8497 - acc: 0.6048\n",
      "Epoch 55/100\n",
      "210/210 [==============================] - 0s 43us/step - loss: 0.8468 - acc: 0.6048\n",
      "Epoch 56/100\n",
      "210/210 [==============================] - 0s 42us/step - loss: 0.8439 - acc: 0.6048\n",
      "Epoch 57/100\n",
      "210/210 [==============================] - 0s 52us/step - loss: 0.8408 - acc: 0.6143\n",
      "Epoch 58/100\n",
      "210/210 [==============================] - 0s 42us/step - loss: 0.8382 - acc: 0.6143\n",
      "Epoch 59/100\n",
      "210/210 [==============================] - 0s 56us/step - loss: 0.8356 - acc: 0.6143\n",
      "Epoch 60/100\n",
      "210/210 [==============================] - 0s 42us/step - loss: 0.8328 - acc: 0.6238\n",
      "Epoch 61/100\n",
      "210/210 [==============================] - 0s 39us/step - loss: 0.8302 - acc: 0.6238\n",
      "Epoch 62/100\n",
      "210/210 [==============================] - 0s 44us/step - loss: 0.8277 - acc: 0.6238\n",
      "Epoch 63/100\n",
      "210/210 [==============================] - 0s 72us/step - loss: 0.8253 - acc: 0.6238\n",
      "Epoch 64/100\n",
      "210/210 [==============================] - 0s 40us/step - loss: 0.8229 - acc: 0.6190\n",
      "Epoch 65/100\n",
      "210/210 [==============================] - 0s 48us/step - loss: 0.8206 - acc: 0.6238\n",
      "Epoch 66/100\n",
      "210/210 [==============================] - 0s 46us/step - loss: 0.8182 - acc: 0.6238\n",
      "Epoch 67/100\n",
      "210/210 [==============================] - 0s 49us/step - loss: 0.8159 - acc: 0.6238\n",
      "Epoch 68/100\n",
      "210/210 [==============================] - 0s 65us/step - loss: 0.8137 - acc: 0.6286\n",
      "Epoch 69/100\n",
      "210/210 [==============================] - 0s 59us/step - loss: 0.8116 - acc: 0.6286\n",
      "Epoch 70/100\n",
      "210/210 [==============================] - 0s 46us/step - loss: 0.8096 - acc: 0.6333\n",
      "Epoch 71/100\n",
      "210/210 [==============================] - 0s 40us/step - loss: 0.8073 - acc: 0.6333\n",
      "Epoch 72/100\n",
      "210/210 [==============================] - 0s 52us/step - loss: 0.8052 - acc: 0.6381\n",
      "Epoch 73/100\n",
      "210/210 [==============================] - 0s 45us/step - loss: 0.8033 - acc: 0.6381\n",
      "Epoch 74/100\n",
      "210/210 [==============================] - 0s 43us/step - loss: 0.8014 - acc: 0.6381\n",
      "Epoch 75/100\n",
      "210/210 [==============================] - 0s 48us/step - loss: 0.7994 - acc: 0.6381\n",
      "Epoch 76/100\n",
      "210/210 [==============================] - 0s 55us/step - loss: 0.7975 - acc: 0.6381\n",
      "Epoch 77/100\n",
      "210/210 [==============================] - 0s 42us/step - loss: 0.7957 - acc: 0.6381\n",
      "Epoch 78/100\n",
      "210/210 [==============================] - 0s 37us/step - loss: 0.7940 - acc: 0.6429\n",
      "Epoch 79/100\n",
      "210/210 [==============================] - 0s 37us/step - loss: 0.7923 - acc: 0.6476\n",
      "Epoch 80/100\n",
      "210/210 [==============================] - 0s 45us/step - loss: 0.7905 - acc: 0.6476\n",
      "Epoch 81/100\n",
      "210/210 [==============================] - 0s 49us/step - loss: 0.7888 - acc: 0.6476\n",
      "Epoch 82/100\n",
      "210/210 [==============================] - 0s 54us/step - loss: 0.7870 - acc: 0.6429\n",
      "Epoch 83/100\n",
      "210/210 [==============================] - 0s 67us/step - loss: 0.7853 - acc: 0.6429\n",
      "Epoch 84/100\n",
      "210/210 [==============================] - 0s 48us/step - loss: 0.7836 - acc: 0.6476\n",
      "Epoch 85/100\n",
      "210/210 [==============================] - 0s 42us/step - loss: 0.7821 - acc: 0.6476\n",
      "Epoch 86/100\n",
      "210/210 [==============================] - 0s 44us/step - loss: 0.7805 - acc: 0.6429\n",
      "Epoch 87/100\n",
      "210/210 [==============================] - 0s 54us/step - loss: 0.7789 - acc: 0.6429\n",
      "Epoch 88/100\n",
      "210/210 [==============================] - 0s 38us/step - loss: 0.7775 - acc: 0.6429\n",
      "Epoch 89/100\n",
      "210/210 [==============================] - 0s 56us/step - loss: 0.7760 - acc: 0.6429\n",
      "Epoch 90/100\n",
      "210/210 [==============================] - 0s 66us/step - loss: 0.7745 - acc: 0.6429\n",
      "Epoch 91/100\n",
      "210/210 [==============================] - 0s 41us/step - loss: 0.7731 - acc: 0.6429\n",
      "Epoch 92/100\n",
      "210/210 [==============================] - 0s 54us/step - loss: 0.7718 - acc: 0.6476\n",
      "Epoch 93/100\n",
      "210/210 [==============================] - 0s 41us/step - loss: 0.7704 - acc: 0.6476\n",
      "Epoch 94/100\n",
      "210/210 [==============================] - 0s 43us/step - loss: 0.7691 - acc: 0.6476\n",
      "Epoch 95/100\n",
      "210/210 [==============================] - 0s 43us/step - loss: 0.7677 - acc: 0.6429\n",
      "Epoch 96/100\n",
      "210/210 [==============================] - 0s 45us/step - loss: 0.7665 - acc: 0.6429\n",
      "Epoch 97/100\n",
      "210/210 [==============================] - 0s 45us/step - loss: 0.7653 - acc: 0.6476\n",
      "Epoch 98/100\n",
      "210/210 [==============================] - 0s 44us/step - loss: 0.7639 - acc: 0.6429\n",
      "Epoch 99/100\n",
      "210/210 [==============================] - 0s 41us/step - loss: 0.7627 - acc: 0.6476\n",
      "Epoch 100/100\n",
      "210/210 [==============================] - 0s 37us/step - loss: 0.7615 - acc: 0.6524\n"
     ]
    }
   ],
   "source": [
    "history = model.fit(X_train, y_train2, epochs=100, batch_size=64)"
   ]
  },
  {
   "cell_type": "code",
   "execution_count": 0,
   "metadata": {
    "colab": {},
    "colab_type": "code",
    "id": "4nRmm1pVEheZ"
   },
   "outputs": [],
   "source": [
    "y_pred = model.predict(X_test)"
   ]
  },
  {
   "cell_type": "code",
   "execution_count": 0,
   "metadata": {
    "colab": {},
    "colab_type": "code",
    "id": "6q5Zl3GYHVG4"
   },
   "outputs": [],
   "source": [
    "#Converting predictions to label\n",
    "pred = list()\n",
    "for i in range(len(y_pred)):\n",
    "    pred.append(np.argmax(y_pred[i]))\n",
    "#Converting one hot encoded test label to label\n",
    "test = list()\n",
    "for i in range(len(y_test)):\n",
    "    test.append(np.argmax(y_test[i]))"
   ]
  },
  {
   "cell_type": "code",
   "execution_count": 0,
   "metadata": {
    "colab": {
     "base_uri": "https://localhost:8080/",
     "height": 34
    },
    "colab_type": "code",
    "id": "B_qoWPLEHpNy",
    "outputId": "4c4d2f30-6be8-4579-8af5-ea8971ab545a"
   },
   "outputs": [
    {
     "data": {
      "text/plain": [
       "0.7169811320754716"
      ]
     },
     "execution_count": 115,
     "metadata": {
      "tags": []
     },
     "output_type": "execute_result"
    }
   ],
   "source": [
    "metrics.accuracy_score(pred,test)"
   ]
  },
  {
   "cell_type": "code",
   "execution_count": 1,
   "metadata": {
    "colab": {},
    "colab_type": "code",
    "id": "FzctljCKIO9g"
   },
   "outputs": [],
   "source": [
    "# amber github tester"
   ]
  },
  {
   "cell_type": "code",
   "execution_count": null,
   "metadata": {},
   "outputs": [],
   "source": []
  }
 ],
 "metadata": {
  "colab": {
   "collapsed_sections": [],
   "include_colab_link": true,
   "name": "Exploration_COVID19.ipynb",
   "provenance": []
  },
  "kernelspec": {
   "display_name": "Python 3",
   "language": "python",
   "name": "python3"
  },
  "language_info": {
   "codemirror_mode": {
    "name": "ipython",
    "version": 3
   },
   "file_extension": ".py",
   "mimetype": "text/x-python",
   "name": "python",
   "nbconvert_exporter": "python",
   "pygments_lexer": "ipython3",
   "version": "3.7.4"
  }
 },
 "nbformat": 4,
 "nbformat_minor": 1
}
