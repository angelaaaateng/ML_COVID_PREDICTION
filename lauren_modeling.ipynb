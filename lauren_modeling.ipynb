{
 "cells": [
  {
   "cell_type": "code",
   "execution_count": 213,
   "metadata": {},
   "outputs": [],
   "source": [
    "import pandas as pd\n",
    "import seaborn as sns\n",
    "import numpy as np\n",
    "from sklearn.model_selection import train_test_split\n",
    "import re\n",
    "import warnings\n",
    "warnings.filterwarnings(\"ignore\")\n",
    "import matplotlib.pyplot as plt"
   ]
  },
  {
   "cell_type": "code",
   "execution_count": 214,
   "metadata": {},
   "outputs": [
    {
     "data": {
      "text/plain": [
       "Index(['phcaseno', 'Sex', 'Age', 'Nationality', 'Residence in the Philippines',\n",
       "       'History of Travel / Exposure', 'Travel History', 'Epi_Link',\n",
       "       'Date of Onset of Symptoms', 'Date of Admission',\n",
       "       ...\n",
       "       'Epi_Link_Exposure', 'disease_len_days', 'geo_address', 'address',\n",
       "       'Travel History Binary', 'region_inc',\n",
       "       'average income (in thousand pesos)', 'city', 'region',\n",
       "       'Population Density'],\n",
       "      dtype='object', length=118)"
      ]
     },
     "execution_count": 214,
     "metadata": {},
     "output_type": "execute_result"
    }
   ],
   "source": [
    "data_raw = pd.read_csv('data_clean.csv')\n",
    "data_raw.columns\n",
    "\n",
    "\n",
    "data_raw = data_raw.drop(['Unnamed: 0'], axis=1)\n",
    "\n",
    "# remove for validation\n",
    "data_clean = data_raw[data_raw['Health Status'] != \"for validation\"]\n",
    "data_clean=data_clean.reset_index(drop=True)\n",
    "data_clean.columns"
   ]
  },
  {
   "cell_type": "code",
   "execution_count": 215,
   "metadata": {},
   "outputs": [
    {
     "data": {
      "text/plain": [
       "<matplotlib.axes._subplots.AxesSubplot at 0x119bbaf10>"
      ]
     },
     "execution_count": 215,
     "metadata": {},
     "output_type": "execute_result"
    },
    {
     "data": {
      "image/png": "[encoded data removed]",
      "text/plain": [
       "<Figure size 432x288 with 1 Axes>"
      ]
     },
     "metadata": {
      "needs_background": "light"
     },
     "output_type": "display_data"
    }
   ],
   "source": [
    "data_clean['Health Status'].hist()"
   ]
  },
  {
   "cell_type": "code",
   "execution_count": 216,
   "metadata": {},
   "outputs": [
    {
     "data": {
      "text/plain": [
       "0    179\n",
       "1     83\n",
       "Name: Sex, dtype: int64"
      ]
     },
     "execution_count": 216,
     "metadata": {},
     "output_type": "execute_result"
    }
   ],
   "source": [
    "# Sex -  M/F:\n",
    "data_clean['Sex'] = pd.get_dummies(data_clean['Sex'])\n",
    "data_clean['Sex'].value_counts() "
   ]
  },
  {
   "cell_type": "code",
   "execution_count": 217,
   "metadata": {},
   "outputs": [
    {
     "data": {
      "text/plain": [
       "1    241\n",
       "0     21\n",
       "Name: Nationality, dtype: int64"
      ]
     },
     "execution_count": 217,
     "metadata": {},
     "output_type": "execute_result"
    }
   ],
   "source": [
    "def nationality_recode(series):\n",
    "    if series != 'filipino':\n",
    "        return 'other'\n",
    "    else: \n",
    "        return 'filipino'\n",
    "\n",
    "data_clean['Nationality'] = data_clean['Nationality'].apply(nationality_recode)\n",
    "data_clean['Nationality'] = pd.get_dummies(data_clean['Nationality'])\n",
    "data_clean['Nationality'].value_counts() "
   ]
  },
  {
   "cell_type": "code",
   "execution_count": 218,
   "metadata": {},
   "outputs": [],
   "source": [
    "data_clean['Population Density'] = data_clean.loc[:,'Population Density'].str.replace(',', '').astype(float)"
   ]
  },
  {
   "cell_type": "code",
   "execution_count": 219,
   "metadata": {},
   "outputs": [
    {
     "data": {
      "text/plain": [
       "['phcaseno',\n",
       " 'Sex',\n",
       " 'Age',\n",
       " 'Nationality',\n",
       " 'Residence in the Philippines',\n",
       " 'History of Travel / Exposure',\n",
       " 'Travel History',\n",
       " 'Epi_Link',\n",
       " 'Date of Onset of Symptoms',\n",
       " 'Date of Admission',\n",
       " 'Date of Lab Confirmation',\n",
       " 'Date of Announcement to the Public',\n",
       " 'Admission / Consultation',\n",
       " 'Symptoms',\n",
       " 'other_disease',\n",
       " 'Status',\n",
       " 'Health Status',\n",
       " 'Date of Final Status (recovered/expired)',\n",
       " 'Final Diagnosis',\n",
       " 'Age Group',\n",
       " 'Location',\n",
       " 'Location 1',\n",
       " 'Location 2',\n",
       " 'Latitude',\n",
       " 'Longitude',\n",
       " 'Residence Lat',\n",
       " 'Residence Long',\n",
       " 'symp_ body malaise',\n",
       " 'symp_ colds',\n",
       " 'symp_ comorbidity',\n",
       " 'symp_ cough',\n",
       " 'symp_ difficulty in breathing',\n",
       " 'symp_ dizziness',\n",
       " 'symp_ dysphagia',\n",
       " 'symp_ headache',\n",
       " 'symp_ shortness of breath',\n",
       " 'symp_ sore throat',\n",
       " 'symp_asymptomatic',\n",
       " 'symp_cough',\n",
       " 'symp_difficulty of breathing',\n",
       " 'symp_dyspnea',\n",
       " 'symp_fever',\n",
       " 'symp_sore throat',\n",
       " 'dis_  diabetes',\n",
       " 'dis_  renal disease',\n",
       " 'dis_ acute kidney injury',\n",
       " 'dis_ asthma',\n",
       " 'dis_ atherosclerosis',\n",
       " 'dis_ atherosclerotic cardiovascular disease',\n",
       " 'dis_ benign prostatic hyperplasia',\n",
       " 'dis_ benign prostatic hypertrophy',\n",
       " 'dis_ bronchial asthma',\n",
       " 'dis_ cardiac disease',\n",
       " 'dis_ cardiac dysrhythmia',\n",
       " 'dis_ cardiomyopathy',\n",
       " 'dis_ cardiovascular disease',\n",
       " 'dis_ cerebrovascular accident infarc',\n",
       " 'dis_ cerebrovascular disease infarction',\n",
       " 'dis_ chronic kidney disease',\n",
       " 'dis_ chronic obstructive pulmonary disease',\n",
       " 'dis_ colon cancer',\n",
       " 'dis_ coronary artery disease',\n",
       " 'dis_ coronary heart disease',\n",
       " 'dis_ dengue',\n",
       " 'dis_ diabetes',\n",
       " 'dis_ diabetes mellitus',\n",
       " 'dis_ diabetic ketoacidosis',\n",
       " 'dis_ diabetic nephropathy',\n",
       " 'dis_ diabetis mellitus',\n",
       " 'dis_ dyslipidemia',\n",
       " 'dis_ endocrine condition',\n",
       " 'dis_ hypertension',\n",
       " 'dis_ hypertensive cardiovascular disease',\n",
       " 'dis_ hypertensive nephrosclerosis',\n",
       " 'dis_ hyperthyroidism',\n",
       " 'dis_ hypothyroidism',\n",
       " 'dis_ impaired fasting glucose',\n",
       " 'dis_ ischemic heart disease',\n",
       " 'dis_ kidney disease',\n",
       " 'dis_ peripheral arterial occlusive disease',\n",
       " 'dis_ renal disease',\n",
       " 'dis_ tongue cancer',\n",
       " 'dis_ valvular heart disease',\n",
       " 'dis_acute kidney injury',\n",
       " 'dis_acute kidney injury secondary to pre-renal azotemia',\n",
       " 'dis_acute renal failure',\n",
       " 'dis_asthma',\n",
       " 'dis_asymptomatic',\n",
       " 'dis_breast cancer',\n",
       " 'dis_bronchial asthma',\n",
       " 'dis_cardiac disease',\n",
       " 'dis_chronic kidney disease',\n",
       " 'dis_chronic kidney disease secondary to hypertension nephrosclerosis',\n",
       " 'dis_chronic obstructive pulmonary disease',\n",
       " 'dis_community-acquired pneumonia',\n",
       " 'dis_diabetes',\n",
       " 'dis_hypertension',\n",
       " 'dis_hypertensive',\n",
       " 'dis_hypertensive cardiovascular disease',\n",
       " 'dis_hyperthyroidism',\n",
       " 'dis_myocarditis',\n",
       " 'dis_none',\n",
       " 'dis_permanent atrial fibrillation',\n",
       " 'dis_prostatic cancer',\n",
       " 'dis_remnal disease',\n",
       " 'dis_status post renal transplant',\n",
       " 'dis_systemic lupus erythematosus',\n",
       " 'dis_with comorbid (not specified)',\n",
       " 'Epi_Link_Exposure',\n",
       " 'disease_len_days',\n",
       " 'geo_address',\n",
       " 'address',\n",
       " 'Travel History Binary',\n",
       " 'region_inc',\n",
       " 'average income (in thousand pesos)',\n",
       " 'city',\n",
       " 'region',\n",
       " 'Population Density']"
      ]
     },
     "execution_count": 219,
     "metadata": {},
     "output_type": "execute_result"
    }
   ],
   "source": [
    "data_clean.columns.tolist()"
   ]
  },
  {
   "cell_type": "code",
   "execution_count": 220,
   "metadata": {},
   "outputs": [],
   "source": [
    "data_clean=data_clean.drop(['phcaseno', 'History of Travel / Exposure', 'Travel History', 'Epi_Link', 'Date of Admission', 'Date of Lab Confirmation', 'Date of Admission', 'Symptoms', 'other_disease', 'Status', 'Date of Final Status (recovered/expired)', 'Final Diagnosis', 'Age Group', 'Location', 'Location 1', 'Location 2', 'Latitude', 'Longitude', 'Residence Lat', 'Residence Long', 'disease_len_days'], axis=1)"
   ]
  },
  {
   "cell_type": "code",
   "execution_count": 221,
   "metadata": {},
   "outputs": [
    {
     "data": {
      "text/plain": [
       "['Sex',\n",
       " 'Age',\n",
       " 'Nationality',\n",
       " 'Residence in the Philippines',\n",
       " 'Date of Onset of Symptoms',\n",
       " 'Date of Announcement to the Public',\n",
       " 'Admission / Consultation',\n",
       " 'Health Status',\n",
       " 'symp_ body malaise',\n",
       " 'symp_ colds',\n",
       " 'symp_ comorbidity',\n",
       " 'symp_ cough',\n",
       " 'symp_ difficulty in breathing',\n",
       " 'symp_ dizziness',\n",
       " 'symp_ dysphagia',\n",
       " 'symp_ headache',\n",
       " 'symp_ shortness of breath',\n",
       " 'symp_ sore throat',\n",
       " 'symp_asymptomatic',\n",
       " 'symp_cough',\n",
       " 'symp_difficulty of breathing',\n",
       " 'symp_dyspnea',\n",
       " 'symp_fever',\n",
       " 'symp_sore throat',\n",
       " 'dis_  diabetes',\n",
       " 'dis_  renal disease',\n",
       " 'dis_ acute kidney injury',\n",
       " 'dis_ asthma',\n",
       " 'dis_ atherosclerosis',\n",
       " 'dis_ atherosclerotic cardiovascular disease',\n",
       " 'dis_ benign prostatic hyperplasia',\n",
       " 'dis_ benign prostatic hypertrophy',\n",
       " 'dis_ bronchial asthma',\n",
       " 'dis_ cardiac disease',\n",
       " 'dis_ cardiac dysrhythmia',\n",
       " 'dis_ cardiomyopathy',\n",
       " 'dis_ cardiovascular disease',\n",
       " 'dis_ cerebrovascular accident infarc',\n",
       " 'dis_ cerebrovascular disease infarction',\n",
       " 'dis_ chronic kidney disease',\n",
       " 'dis_ chronic obstructive pulmonary disease',\n",
       " 'dis_ colon cancer',\n",
       " 'dis_ coronary artery disease',\n",
       " 'dis_ coronary heart disease',\n",
       " 'dis_ dengue',\n",
       " 'dis_ diabetes',\n",
       " 'dis_ diabetes mellitus',\n",
       " 'dis_ diabetic ketoacidosis',\n",
       " 'dis_ diabetic nephropathy',\n",
       " 'dis_ diabetis mellitus',\n",
       " 'dis_ dyslipidemia',\n",
       " 'dis_ endocrine condition',\n",
       " 'dis_ hypertension',\n",
       " 'dis_ hypertensive cardiovascular disease',\n",
       " 'dis_ hypertensive nephrosclerosis',\n",
       " 'dis_ hyperthyroidism',\n",
       " 'dis_ hypothyroidism',\n",
       " 'dis_ impaired fasting glucose',\n",
       " 'dis_ ischemic heart disease',\n",
       " 'dis_ kidney disease',\n",
       " 'dis_ peripheral arterial occlusive disease',\n",
       " 'dis_ renal disease',\n",
       " 'dis_ tongue cancer',\n",
       " 'dis_ valvular heart disease',\n",
       " 'dis_acute kidney injury',\n",
       " 'dis_acute kidney injury secondary to pre-renal azotemia',\n",
       " 'dis_acute renal failure',\n",
       " 'dis_asthma',\n",
       " 'dis_asymptomatic',\n",
       " 'dis_breast cancer',\n",
       " 'dis_bronchial asthma',\n",
       " 'dis_cardiac disease',\n",
       " 'dis_chronic kidney disease',\n",
       " 'dis_chronic kidney disease secondary to hypertension nephrosclerosis',\n",
       " 'dis_chronic obstructive pulmonary disease',\n",
       " 'dis_community-acquired pneumonia',\n",
       " 'dis_diabetes',\n",
       " 'dis_hypertension',\n",
       " 'dis_hypertensive',\n",
       " 'dis_hypertensive cardiovascular disease',\n",
       " 'dis_hyperthyroidism',\n",
       " 'dis_myocarditis',\n",
       " 'dis_none',\n",
       " 'dis_permanent atrial fibrillation',\n",
       " 'dis_prostatic cancer',\n",
       " 'dis_remnal disease',\n",
       " 'dis_status post renal transplant',\n",
       " 'dis_systemic lupus erythematosus',\n",
       " 'dis_with comorbid (not specified)',\n",
       " 'Epi_Link_Exposure',\n",
       " 'geo_address',\n",
       " 'address',\n",
       " 'Travel History Binary',\n",
       " 'region_inc',\n",
       " 'average income (in thousand pesos)',\n",
       " 'city',\n",
       " 'region',\n",
       " 'Population Density']"
      ]
     },
     "execution_count": 221,
     "metadata": {},
     "output_type": "execute_result"
    }
   ],
   "source": [
    "data_clean.columns.tolist()"
   ]
  },
  {
   "cell_type": "code",
   "execution_count": 222,
   "metadata": {},
   "outputs": [
    {
     "data": {
      "text/html": [
       "<div>\n",
       "<style scoped>\n",
       "    .dataframe tbody tr th:only-of-type {\n",
       "        vertical-align: middle;\n",
       "    }\n",
       "\n",
       "    .dataframe tbody tr th {\n",
       "        vertical-align: top;\n",
       "    }\n",
       "\n",
       "    .dataframe thead th {\n",
       "        text-align: right;\n",
       "    }\n",
       "</style>\n",
       "<table border=\"1\" class=\"dataframe\">\n",
       "  <thead>\n",
       "    <tr style=\"text-align: right;\">\n",
       "      <th></th>\n",
       "      <th>Sex</th>\n",
       "      <th>Age</th>\n",
       "      <th>Nationality</th>\n",
       "      <th>Residence in the Philippines</th>\n",
       "      <th>Date of Onset of Symptoms</th>\n",
       "      <th>Date of Announcement to the Public</th>\n",
       "      <th>Admission / Consultation</th>\n",
       "      <th>Health Status</th>\n",
       "      <th>symp_ body malaise</th>\n",
       "      <th>symp_ colds</th>\n",
       "      <th>...</th>\n",
       "      <th>dis_with comorbid (not specified)</th>\n",
       "      <th>Epi_Link_Exposure</th>\n",
       "      <th>geo_address</th>\n",
       "      <th>address</th>\n",
       "      <th>Travel History Binary</th>\n",
       "      <th>region_inc</th>\n",
       "      <th>average income (in thousand pesos)</th>\n",
       "      <th>city</th>\n",
       "      <th>region</th>\n",
       "      <th>Population Density</th>\n",
       "    </tr>\n",
       "  </thead>\n",
       "  <tbody>\n",
       "    <tr>\n",
       "      <td>0</td>\n",
       "      <td>1</td>\n",
       "      <td>38</td>\n",
       "      <td>0</td>\n",
       "      <td>None</td>\n",
       "      <td>2020-01-21 00:00:00-05:00</td>\n",
       "      <td>2020-01-30 00:00:00-05:00</td>\n",
       "      <td>san lazaro hospital</td>\n",
       "      <td>recovered</td>\n",
       "      <td>0.0</td>\n",
       "      <td>0.0</td>\n",
       "      <td>...</td>\n",
       "      <td>0.0</td>\n",
       "      <td>1</td>\n",
       "      <td>{'hospital': 'San Lazaro Hospital', 'road': 'Q...</td>\n",
       "      <td>San Lazaro Hospital, Quiricada Street, Baranga...</td>\n",
       "      <td>1</td>\n",
       "      <td>NCR</td>\n",
       "      <td>460</td>\n",
       "      <td>Manila</td>\n",
       "      <td>Metro Manila</td>\n",
       "      <td>71263.0</td>\n",
       "    </tr>\n",
       "    <tr>\n",
       "      <td>1</td>\n",
       "      <td>0</td>\n",
       "      <td>44</td>\n",
       "      <td>0</td>\n",
       "      <td>None</td>\n",
       "      <td>2020-01-18 00:00:00-05:00</td>\n",
       "      <td>2020-02-02 00:00:00-05:00</td>\n",
       "      <td>san lazaro hospital</td>\n",
       "      <td>died</td>\n",
       "      <td>0.0</td>\n",
       "      <td>0.0</td>\n",
       "      <td>...</td>\n",
       "      <td>0.0</td>\n",
       "      <td>1</td>\n",
       "      <td>{'hospital': 'San Lazaro Hospital', 'road': 'Q...</td>\n",
       "      <td>San Lazaro Hospital, Quiricada Street, Baranga...</td>\n",
       "      <td>1</td>\n",
       "      <td>NCR</td>\n",
       "      <td>460</td>\n",
       "      <td>Manila</td>\n",
       "      <td>Metro Manila</td>\n",
       "      <td>71263.0</td>\n",
       "    </tr>\n",
       "    <tr>\n",
       "      <td>2</td>\n",
       "      <td>1</td>\n",
       "      <td>60</td>\n",
       "      <td>0</td>\n",
       "      <td>None</td>\n",
       "      <td>2020-01-21 00:00:00-05:00</td>\n",
       "      <td>2020-02-05 00:00:00-05:00</td>\n",
       "      <td>ace medical center</td>\n",
       "      <td>recovered</td>\n",
       "      <td>0.0</td>\n",
       "      <td>0.0</td>\n",
       "      <td>...</td>\n",
       "      <td>0.0</td>\n",
       "      <td>0</td>\n",
       "      <td>{'public_building': 'Francisco Duque Hall', 'r...</td>\n",
       "      <td>Francisco Duque Hall, Tayuman Street, Santa Cr...</td>\n",
       "      <td>1</td>\n",
       "      <td>NCR</td>\n",
       "      <td>460</td>\n",
       "      <td>Manila</td>\n",
       "      <td>Metro Manila</td>\n",
       "      <td>71263.0</td>\n",
       "    </tr>\n",
       "    <tr>\n",
       "      <td>3</td>\n",
       "      <td>0</td>\n",
       "      <td>48</td>\n",
       "      <td>1</td>\n",
       "      <td>Taguig City</td>\n",
       "      <td>2020-03-03 00:00:00-05:00</td>\n",
       "      <td>2020-03-06 00:00:00-05:00</td>\n",
       "      <td>university of the east ramon magsaysay memoria...</td>\n",
       "      <td>recovered</td>\n",
       "      <td>0.0</td>\n",
       "      <td>0.0</td>\n",
       "      <td>...</td>\n",
       "      <td>0.0</td>\n",
       "      <td>1</td>\n",
       "      <td>{'hospital': 'University of the East - Ramon M...</td>\n",
       "      <td>University of the East - Ramon Magsaysay Memor...</td>\n",
       "      <td>1</td>\n",
       "      <td>NCR</td>\n",
       "      <td>460</td>\n",
       "      <td>Galas</td>\n",
       "      <td>Metro Manila</td>\n",
       "      <td>20785.0</td>\n",
       "    </tr>\n",
       "    <tr>\n",
       "      <td>4</td>\n",
       "      <td>0</td>\n",
       "      <td>62</td>\n",
       "      <td>1</td>\n",
       "      <td>Cainta, Rizal</td>\n",
       "      <td>2020-02-25 00:00:00-05:00</td>\n",
       "      <td>2020-03-06 00:00:00-05:00</td>\n",
       "      <td>research institute for tropical medicine</td>\n",
       "      <td>died</td>\n",
       "      <td>0.0</td>\n",
       "      <td>0.0</td>\n",
       "      <td>...</td>\n",
       "      <td>0.0</td>\n",
       "      <td>1</td>\n",
       "      <td>{'hospital': 'Research Institute for Tropical ...</td>\n",
       "      <td>Research Institute for Tropical Medicine, Corp...</td>\n",
       "      <td>0</td>\n",
       "      <td>NCR</td>\n",
       "      <td>460</td>\n",
       "      <td>Muntinlupa</td>\n",
       "      <td>Metro Manila</td>\n",
       "      <td>12692.0</td>\n",
       "    </tr>\n",
       "  </tbody>\n",
       "</table>\n",
       "<p>5 rows × 98 columns</p>\n",
       "</div>"
      ],
      "text/plain": [
       "   Sex  Age  Nationality Residence in the Philippines  \\\n",
       "0    1   38            0                         None   \n",
       "1    0   44            0                         None   \n",
       "2    1   60            0                         None   \n",
       "3    0   48            1                  Taguig City   \n",
       "4    0   62            1                Cainta, Rizal   \n",
       "\n",
       "   Date of Onset of Symptoms Date of Announcement to the Public  \\\n",
       "0  2020-01-21 00:00:00-05:00          2020-01-30 00:00:00-05:00   \n",
       "1  2020-01-18 00:00:00-05:00          2020-02-02 00:00:00-05:00   \n",
       "2  2020-01-21 00:00:00-05:00          2020-02-05 00:00:00-05:00   \n",
       "3  2020-03-03 00:00:00-05:00          2020-03-06 00:00:00-05:00   \n",
       "4  2020-02-25 00:00:00-05:00          2020-03-06 00:00:00-05:00   \n",
       "\n",
       "                            Admission / Consultation Health Status  \\\n",
       "0                                san lazaro hospital     recovered   \n",
       "1                                san lazaro hospital          died   \n",
       "2                                 ace medical center     recovered   \n",
       "3  university of the east ramon magsaysay memoria...     recovered   \n",
       "4           research institute for tropical medicine          died   \n",
       "\n",
       "   symp_ body malaise  symp_ colds  ...  dis_with comorbid (not specified)  \\\n",
       "0                 0.0          0.0  ...                                0.0   \n",
       "1                 0.0          0.0  ...                                0.0   \n",
       "2                 0.0          0.0  ...                                0.0   \n",
       "3                 0.0          0.0  ...                                0.0   \n",
       "4                 0.0          0.0  ...                                0.0   \n",
       "\n",
       "   Epi_Link_Exposure                                        geo_address  \\\n",
       "0                  1  {'hospital': 'San Lazaro Hospital', 'road': 'Q...   \n",
       "1                  1  {'hospital': 'San Lazaro Hospital', 'road': 'Q...   \n",
       "2                  0  {'public_building': 'Francisco Duque Hall', 'r...   \n",
       "3                  1  {'hospital': 'University of the East - Ramon M...   \n",
       "4                  1  {'hospital': 'Research Institute for Tropical ...   \n",
       "\n",
       "                                             address  Travel History Binary  \\\n",
       "0  San Lazaro Hospital, Quiricada Street, Baranga...                      1   \n",
       "1  San Lazaro Hospital, Quiricada Street, Baranga...                      1   \n",
       "2  Francisco Duque Hall, Tayuman Street, Santa Cr...                      1   \n",
       "3  University of the East - Ramon Magsaysay Memor...                      1   \n",
       "4  Research Institute for Tropical Medicine, Corp...                      0   \n",
       "\n",
       "   region_inc  average income (in thousand pesos)        city        region  \\\n",
       "0         NCR                                 460      Manila  Metro Manila   \n",
       "1         NCR                                 460      Manila  Metro Manila   \n",
       "2         NCR                                 460      Manila  Metro Manila   \n",
       "3         NCR                                 460       Galas  Metro Manila   \n",
       "4         NCR                                 460  Muntinlupa  Metro Manila   \n",
       "\n",
       "   Population Density  \n",
       "0             71263.0  \n",
       "1             71263.0  \n",
       "2             71263.0  \n",
       "3             20785.0  \n",
       "4             12692.0  \n",
       "\n",
       "[5 rows x 98 columns]"
      ]
     },
     "execution_count": 222,
     "metadata": {},
     "output_type": "execute_result"
    }
   ],
   "source": [
    "data_clean.head()"
   ]
  },
  {
   "cell_type": "code",
   "execution_count": 223,
   "metadata": {},
   "outputs": [
    {
     "name": "stdout",
     "output_type": "stream",
     "text": [
      "Residence in the Philippines :  55\n",
      "Date of Onset of Symptoms :  41\n",
      "Date of Announcement to the Public :  30\n",
      "Admission / Consultation :  54\n",
      "Health Status :  6\n",
      "geo_address :  47\n",
      "address :  46\n",
      "region_inc :  8\n",
      "city :  25\n",
      "region :  8\n"
     ]
    }
   ],
   "source": [
    "for i in data_clean.select_dtypes(exclude='number').columns:\n",
    "    unique_vals=data_clean[i].nunique()\n",
    "    print(i,  \": \", unique_vals)"
   ]
  },
  {
   "cell_type": "code",
   "execution_count": 224,
   "metadata": {},
   "outputs": [
    {
     "data": {
      "text/plain": [
       "array(['recovered', 'died', 'asymptomatic', 'severe', 'mild', 'critical'],\n",
       "      dtype=object)"
      ]
     },
     "execution_count": 224,
     "metadata": {},
     "output_type": "execute_result"
    }
   ],
   "source": [
    "data_clean['Health Status'].unique()"
   ]
  },
  {
   "cell_type": "code",
   "execution_count": 225,
   "metadata": {},
   "outputs": [],
   "source": [
    "import numpy as np\n",
    "import pandas as pd\n",
    "import seaborn as sns\n",
    "from sklearn.model_selection import train_test_split\n",
    "from sklearn.preprocessing import StandardScaler\n",
    "from sklearn.cluster import KMeans\n",
    "\n",
    "import warnings\n",
    "from math import floor\n",
    "\n",
    "warnings.filterwarnings('ignore')"
   ]
  },
  {
   "cell_type": "code",
   "execution_count": 226,
   "metadata": {},
   "outputs": [],
   "source": [
    "def status_to_numeric(x):\n",
    "    if x=='died':\n",
    "        return 5\n",
    "    if x=='critical':\n",
    "        return 4\n",
    "    if x=='severe':\n",
    "        return 3\n",
    "    if x=='mild':\n",
    "        return 2\n",
    "    if x=='asymptomatic':\n",
    "        return 1\n",
    "    if x=='recovered':\n",
    "        return 0\n",
    "    \n",
    "\n",
    "data_clean['HealthStatusNUM'] = data_clean['Health Status'].apply(status_to_numeric)"
   ]
  },
  {
   "cell_type": "code",
   "execution_count": 227,
   "metadata": {},
   "outputs": [],
   "source": [
    "# split data using dates into train, val, test using most recent dates for test:\n",
    "train_pct, val_pct, test_pct = 0.6, 0.2, 0.2\n",
    "train_num, val_num, test_num = floor(data_clean.shape[0]*train_pct), floor(data_clean.shape[0]*val_pct), floor(data_clean.shape[0]*test_pct)\n",
    "\n",
    "train = data_clean.sort_values('Date of Onset of Symptoms', ascending=True).iloc[:train_num,:]\n",
    "train=train.reset_index(drop=True)\n",
    "\n",
    "val = data_clean.sort_values('Date of Onset of Symptoms', ascending=True).iloc[train_num:train_num+val_num,:]\n",
    "val=val.reset_index(drop=True)\n",
    "\n",
    "test = data_clean.sort_values('Date of Onset of Symptoms', ascending=True).iloc[train_num+val_num:train_num+val_num+test_num+1,:]\n",
    "test=test.reset_index(drop=True)"
   ]
  },
  {
   "cell_type": "code",
   "execution_count": 228,
   "metadata": {},
   "outputs": [
    {
     "data": {
      "text/plain": [
       "array([[<matplotlib.axes._subplots.AxesSubplot object at 0x11bb5ff90>]],\n",
       "      dtype=object)"
      ]
     },
     "execution_count": 228,
     "metadata": {},
     "output_type": "execute_result"
    },
    {
     "data": {
      "image/png": "[encoded data removed]",
      "text/plain": [
       "<Figure size 432x288 with 1 Axes>"
      ]
     },
     "metadata": {
      "needs_background": "light"
     },
     "output_type": "display_data"
    }
   ],
   "source": [
    "train.hist(column='HealthStatusNUM')"
   ]
  },
  {
   "cell_type": "code",
   "execution_count": 229,
   "metadata": {},
   "outputs": [
    {
     "data": {
      "text/plain": [
       "array([[<matplotlib.axes._subplots.AxesSubplot object at 0x119b79150>]],\n",
       "      dtype=object)"
      ]
     },
     "execution_count": 229,
     "metadata": {},
     "output_type": "execute_result"
    },
    {
     "data": {
      "image/png": "[encoded data removed]",
      "text/plain": [
       "<Figure size 432x288 with 1 Axes>"
      ]
     },
     "metadata": {
      "needs_background": "light"
     },
     "output_type": "display_data"
    }
   ],
   "source": [
    "val.hist(column='HealthStatusNUM')"
   ]
  },
  {
   "cell_type": "code",
   "execution_count": 230,
   "metadata": {},
   "outputs": [
    {
     "data": {
      "text/plain": [
       "array([[<matplotlib.axes._subplots.AxesSubplot object at 0x11bd14950>]],\n",
       "      dtype=object)"
      ]
     },
     "execution_count": 230,
     "metadata": {},
     "output_type": "execute_result"
    },
    {
     "data": {
      "image/png": "[encoded data removed]",
      "text/plain": [
       "<Figure size 432x288 with 1 Axes>"
      ]
     },
     "metadata": {
      "needs_background": "light"
     },
     "output_type": "display_data"
    }
   ],
   "source": [
    "test.hist(column='HealthStatusNUM')"
   ]
  },
  {
   "cell_type": "code",
   "execution_count": 231,
   "metadata": {},
   "outputs": [],
   "source": [
    " train, val, test = np.split(data_clean.sample(frac=1), [int(.6*len(data_clean)), int(.8*len(data_clean))])"
   ]
  },
  {
   "cell_type": "code",
   "execution_count": 232,
   "metadata": {},
   "outputs": [],
   "source": [
    "train=train.reset_index(drop=True)\n",
    "val=val.reset_index(drop=True)\n",
    "test=test.reset_index(drop=True)"
   ]
  },
  {
   "cell_type": "code",
   "execution_count": 233,
   "metadata": {},
   "outputs": [
    {
     "data": {
      "text/plain": [
       "<matplotlib.axes._subplots.AxesSubplot at 0x11bf42d50>"
      ]
     },
     "execution_count": 233,
     "metadata": {},
     "output_type": "execute_result"
    },
    {
     "data": {
      "image/png": "[encoded data removed]",
      "text/plain": [
       "<Figure size 432x288 with 1 Axes>"
      ]
     },
     "metadata": {
      "needs_background": "light"
     },
     "output_type": "display_data"
    }
   ],
   "source": [
    "\n",
    "def health_status_binary(series):\n",
    "    if series > 2:\n",
    "        return 1\n",
    "    else:\n",
    "        return 0\n",
    "    \n",
    "train['Health Status Binary'] = train['HealthStatusNUM'].apply(health_status_binary)\n",
    "val['Health Status Binary'] = val['HealthStatusNUM'].apply(health_status_binary)\n",
    "test['Health Status Binary'] = test['HealthStatusNUM'].apply(health_status_binary)\n",
    "\n",
    "train['Health Status Binary'].hist()"
   ]
  },
  {
   "cell_type": "code",
   "execution_count": 234,
   "metadata": {},
   "outputs": [],
   "source": [
    "from sklearn import metrics"
   ]
  },
  {
   "cell_type": "code",
   "execution_count": 235,
   "metadata": {},
   "outputs": [],
   "source": [
    "from sklearn import preprocessing \n",
    "from sklearn.impute import SimpleImputer\n",
    "\n",
    "\n",
    "imp = SimpleImputer(strategy=\"mean\")\n",
    "standardize = preprocessing.StandardScaler()\n",
    "cols_drop = ['Health Status Binary','HealthStatusNUM', 'Health Status', 'Date of Onset of Symptoms']\n",
    "\n",
    "X_train, y_train = train.drop(cols_drop, axis=1), train['Health Status Binary']\n",
    "X_val, y_val = val.drop(cols_drop, axis=1), val['Health Status Binary']\n",
    "X_test, y_test = test.drop(cols_drop, axis=1), test['Health Status Binary']\n",
    "\n",
    "X_train = X_train.select_dtypes(include=['float', 'int64'])\n",
    "X_val = X_val.select_dtypes(include=['float', 'int64'])\n",
    "X_test = X_test.select_dtypes(include=['float', 'int64'])\n",
    "\n",
    "X_train = standardize.fit_transform(imp.fit_transform(X_train))\n",
    "X_val = standardize.fit_transform(imp.fit_transform(X_val))\n",
    "X_test = standardize.fit_transform(imp.fit_transform(X_test))"
   ]
  },
  {
   "cell_type": "markdown",
   "metadata": {},
   "source": [
    "Decision Tree"
   ]
  },
  {
   "cell_type": "code",
   "execution_count": 236,
   "metadata": {},
   "outputs": [
    {
     "name": "stdout",
     "output_type": "stream",
     "text": [
      "[[24  5]\n",
      " [ 7 16]]\n",
      "Accuracy: 0.7692307692307693\n"
     ]
    },
    {
     "data": {
      "text/plain": [
       "0.7692307692307693"
      ]
     },
     "execution_count": 236,
     "metadata": {},
     "output_type": "execute_result"
    }
   ],
   "source": [
    "from sklearn.tree import DecisionTreeClassifier \n",
    "from sklearn.metrics import confusion_matrix \n",
    "dtree_model = DecisionTreeClassifier(max_depth = 5).fit(X_train, y_train) \n",
    "dtree_predictions = dtree_model.predict(X_val) \n",
    "  \n",
    "# creating a confusion matrix \n",
    "cm = confusion_matrix(y_val, dtree_predictions)\n",
    "print(cm)\n",
    "\n",
    "print(\"Accuracy:\", metrics.accuracy_score(y_val, dtree_predictions))\n",
    "dtree_model.score(X_val,  y_val)"
   ]
  },
  {
   "cell_type": "code",
   "execution_count": 238,
   "metadata": {},
   "outputs": [
    {
     "name": "stdout",
     "output_type": "stream",
     "text": [
      "6\n"
     ]
    }
   ],
   "source": [
    "feature_importance = dtree_model.feature_importances_\n",
    "print(np.count_nonzero(feature_importance))"
   ]
  },
  {
   "cell_type": "code",
   "execution_count": 240,
   "metadata": {},
   "outputs": [
    {
     "data": {
      "text/plain": [
       "array([82, 19, 69, 72, 85,  0, 70])"
      ]
     },
     "execution_count": 240,
     "metadata": {},
     "output_type": "execute_result"
    }
   ],
   "source": [
    "important_features = np.argsort(feature_importance)\n",
    "important_features = important_features[-(np.count_nonzero(feature_importance)+1):]\n",
    "important_features"
   ]
  },
  {
   "cell_type": "code",
   "execution_count": null,
   "metadata": {},
   "outputs": [],
   "source": []
  },
  {
   "cell_type": "markdown",
   "metadata": {},
   "source": [
    "Subsetting after only using important_features"
   ]
  },
  {
   "cell_type": "code",
   "execution_count": 242,
   "metadata": {},
   "outputs": [],
   "source": [
    "imp = SimpleImputer(strategy=\"mean\")\n",
    "standardize = preprocessing.StandardScaler()\n",
    "cols_drop = ['Health Status Binary']\n",
    "\n",
    "train=train.iloc[:,np.append(important_features, 99)]\n",
    "val=val.iloc[:,np.append(important_features, 99)]\n",
    "test=test.iloc[:,np.append(important_features, 99)]\n",
    "\n",
    "X_train, y_train = train.drop(cols_drop, axis=1), train['Health Status Binary']\n",
    "X_val, y_val = val.drop(cols_drop, axis=1), val['Health Status Binary']\n",
    "X_test, y_test = test.drop(cols_drop, axis=1), test['Health Status Binary']\n",
    "\n",
    "X_train = X_train.select_dtypes(include=['float', 'int64'])\n",
    "X_val = X_val.select_dtypes(include=['float', 'int64'])\n",
    "X_test = X_test.select_dtypes(include=['float', 'int64'])\n",
    "\n",
    "X_train = standardize.fit_transform(imp.fit_transform(X_train))\n",
    "X_val = standardize.fit_transform(imp.fit_transform(X_val))\n",
    "X_test = standardize.fit_transform(imp.fit_transform(X_test))"
   ]
  },
  {
   "cell_type": "markdown",
   "metadata": {},
   "source": [
    "Naive Bayes"
   ]
  },
  {
   "cell_type": "code",
   "execution_count": 244,
   "metadata": {},
   "outputs": [],
   "source": [
    "from sklearn.naive_bayes import GaussianNB\n",
    "\n",
    "gnb = GaussianNB()\n",
    "gnb.fit(X_train, y_train)\n",
    "y_pred = gnb.predict(X_val)"
   ]
  },
  {
   "cell_type": "code",
   "execution_count": 245,
   "metadata": {},
   "outputs": [
    {
     "name": "stdout",
     "output_type": "stream",
     "text": [
      "Accuracy: 0.4230769230769231\n"
     ]
    },
    {
     "data": {
      "text/plain": [
       "array([[ 0, 29],\n",
       "       [ 1, 22]])"
      ]
     },
     "execution_count": 245,
     "metadata": {},
     "output_type": "execute_result"
    }
   ],
   "source": [
    "from sklearn import metrics\n",
    "\n",
    "print(\"Accuracy:\", metrics.accuracy_score(y_val, y_pred))\n",
    "\n",
    "cm = metrics.confusion_matrix(y_val, y_pred)\n",
    "cm"
   ]
  },
  {
   "cell_type": "markdown",
   "metadata": {},
   "source": [
    "Random Forest"
   ]
  },
  {
   "cell_type": "code",
   "execution_count": 246,
   "metadata": {},
   "outputs": [
    {
     "name": "stdout",
     "output_type": "stream",
     "text": [
      "[[29  0]\n",
      " [23  0]]\n"
     ]
    },
    {
     "data": {
      "text/plain": [
       "0.5576923076923077"
      ]
     },
     "execution_count": 246,
     "metadata": {},
     "output_type": "execute_result"
    }
   ],
   "source": [
    "from sklearn.ensemble import RandomForestClassifier\n",
    "\n",
    "clf = RandomForestClassifier(max_depth=10, random_state=0) \n",
    "clf.fit(X_train, y_train)\n",
    "rf_preds = clf.predict(X_val)\n",
    "cm = confusion_matrix(y_val, rf_preds)\n",
    "print(cm)\n",
    "clf.score(X_val,  y_val)"
   ]
  },
  {
   "cell_type": "markdown",
   "metadata": {},
   "source": [
    "XGBoost"
   ]
  },
  {
   "cell_type": "code",
   "execution_count": 247,
   "metadata": {},
   "outputs": [
    {
     "name": "stdout",
     "output_type": "stream",
     "text": [
      "[[29  0]\n",
      " [23  0]]\n"
     ]
    },
    {
     "data": {
      "text/plain": [
       "0.5576923076923077"
      ]
     },
     "execution_count": 247,
     "metadata": {},
     "output_type": "execute_result"
    }
   ],
   "source": [
    "from sklearn.ensemble import GradientBoostingClassifier\n",
    "\n",
    "model = GradientBoostingClassifier()\n",
    "model.fit(X_train, y_train)\n",
    "y_preds = model.predict(X_val)\n",
    "cm = confusion_matrix(y_val, y_preds)\n",
    "print(cm)\n",
    "model.score(X_val,  y_val)"
   ]
  },
  {
   "cell_type": "markdown",
   "metadata": {},
   "source": [
    "SVM"
   ]
  },
  {
   "cell_type": "code",
   "execution_count": 179,
   "metadata": {},
   "outputs": [
    {
     "name": "stdout",
     "output_type": "stream",
     "text": [
      "0.5192307692307693\n"
     ]
    }
   ],
   "source": [
    "# SVM: \n",
    "\n",
    "# training a linear SVM classifier \n",
    "from sklearn.svm import SVC \n",
    "svm_model_linear = SVC(kernel = 'linear', C = 1).fit(X_train, y_train) \n",
    "svm_predictions = svm_model_linear.predict(X_val) \n",
    "  \n",
    "# model accuracy for X_test   \n",
    "accuracy = svm_model_linear.score(X_val, y_val) \n",
    "  \n",
    "# creating a confusion matrix \n",
    "cm = confusion_matrix(y_val, svm_predictions) \n",
    "cm\n",
    "\n",
    "print(accuracy)\n",
    "# choose logreg"
   ]
  },
  {
   "cell_type": "markdown",
   "metadata": {},
   "source": [
    "LogReg"
   ]
  },
  {
   "cell_type": "code",
   "execution_count": 180,
   "metadata": {},
   "outputs": [
    {
     "name": "stdout",
     "output_type": "stream",
     "text": [
      "Accuracy of logistic regression classifier on test set: 0.52\n"
     ]
    }
   ],
   "source": [
    "\n",
    "# https://towardsdatascience.com/building-a-logistic-regression-in-python-step-by-step-becd4d56c9c8\n",
    "\n",
    "from sklearn.linear_model import LogisticRegression\n",
    "from sklearn import metrics\n",
    "\n",
    "#X_train, X_test, y_train, y_test = train_test_split(X, y, test_size=0.3, random_state=0)\n",
    "logreg = LogisticRegression()\n",
    "logreg.fit(X_train, y_train)\n",
    "\n",
    "y_pred = logreg.predict(X_val)\n",
    "print('Accuracy of logistic regression classifier on test set: {:.2f}'.format(logreg.score(X_val, y_val)))"
   ]
  },
  {
   "cell_type": "code",
   "execution_count": 181,
   "metadata": {},
   "outputs": [
    {
     "data": {
      "text/plain": [
       "<matplotlib.legend.Legend at 0x11b050f50>"
      ]
     },
     "execution_count": 181,
     "metadata": {},
     "output_type": "execute_result"
    },
    {
     "data": {
      "image/png": "[encoded data removed]",
      "text/plain": [
       "<Figure size 432x288 with 1 Axes>"
      ]
     },
     "metadata": {
      "needs_background": "light"
     },
     "output_type": "display_data"
    }
   ],
   "source": [
    "from sklearn.metrics import roc_auc_score\n",
    "from sklearn.metrics import roc_curve\n",
    "\n",
    "logit_roc_auc = roc_auc_score(y_val, logreg.predict(X_val))\n",
    "fpr, tpr, thresholds = roc_curve(y_val, logreg.predict_proba(X_val)[:,1])\n",
    "\n",
    "plt.figure()\n",
    "plt.plot(fpr, tpr, label='Logistic Regression (area = %0.2f)' % logit_roc_auc)\n",
    "plt.plot([0, 1], [0, 1],'r--')\n",
    "plt.xlim([0.0, 1.0])\n",
    "plt.ylim([0.0, 1.05])\n",
    "plt.xlabel('False Positive Rate')\n",
    "plt.ylabel('True Positive Rate')\n",
    "plt.title('Receiver operating characteristic')\n",
    "plt.legend(loc=\"lower right\")"
   ]
  }
 ],
 "metadata": {
  "kernelspec": {
   "display_name": "Python 3",
   "language": "python",
   "name": "python3"
  },
  "language_info": {
   "codemirror_mode": {
    "name": "ipython",
    "version": 3
   },
   "file_extension": ".py",
   "mimetype": "text/x-python",
   "name": "python",
   "nbconvert_exporter": "python",
   "pygments_lexer": "ipython3",
   "version": "3.7.4"
  }
 },
 "nbformat": 4,
 "nbformat_minor": 2
}
