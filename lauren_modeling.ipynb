{
 "cells": [
  {
   "cell_type": "code",
   "execution_count": 2,
   "metadata": {},
   "outputs": [],
   "source": [
    "import pandas as pd\n",
    "import seaborn as sns\n",
    "import numpy as np\n",
    "from sklearn.model_selection import train_test_split\n",
    "import re\n",
    "import warnings\n",
    "warnings.filterwarnings(\"ignore\")\n",
    "import matplotlib.pyplot as plt"
   ]
  },
  {
   "cell_type": "code",
   "execution_count": 3,
   "metadata": {},
   "outputs": [
    {
     "data": {
      "text/plain": [
       "Index(['phcaseno', 'Sex', 'Age', 'Nationality', 'Residence in the Philippines',\n",
       "       'History of Travel / Exposure', 'Travel History', 'Epi_Link',\n",
       "       'Date of Onset of Symptoms', 'Date of Admission',\n",
       "       ...\n",
       "       'Epi_Link_Exposure', 'disease_len_days', 'geo_address', 'address',\n",
       "       'Travel History Binary', 'region_inc',\n",
       "       'average income (in thousand pesos)', 'city', 'region',\n",
       "       'Population Density'],\n",
       "      dtype='object', length=118)"
      ]
     },
     "execution_count": 3,
     "metadata": {},
     "output_type": "execute_result"
    }
   ],
   "source": [
    "data_raw = pd.read_csv('data_clean.csv')\n",
    "data_raw.columns\n",
    "\n",
    "\n",
    "data_raw = data_raw.drop(['Unnamed: 0'], axis=1)\n",
    "\n",
    "# remove for validation\n",
    "data_clean = data_raw[data_raw['Health Status'] != \"for validation\"]\n",
    "data_clean=data_clean.reset_index(drop=True)\n",
    "data_clean.columns"
   ]
  },
  {
   "cell_type": "code",
   "execution_count": 5,
   "metadata": {},
   "outputs": [
    {
     "data": {
      "text/plain": [
       "<matplotlib.axes._subplots.AxesSubplot at 0x122d92990>"
      ]
     },
     "execution_count": 5,
     "metadata": {},
     "output_type": "execute_result"
    },
    {
     "data": {
      "image/png": "[encoded data removed]",
      "text/plain": [
       "<Figure size 432x288 with 1 Axes>"
      ]
     },
     "metadata": {
      "needs_background": "light"
     },
     "output_type": "display_data"
    }
   ],
   "source": [
    "data_clean['Health Status'].hist()"
   ]
  },
  {
   "cell_type": "code",
   "execution_count": 6,
   "metadata": {},
   "outputs": [
    {
     "data": {
      "text/plain": [
       "0    179\n",
       "1     83\n",
       "Name: Sex, dtype: int64"
      ]
     },
     "execution_count": 6,
     "metadata": {},
     "output_type": "execute_result"
    }
   ],
   "source": [
    "# Sex -  M/F:\n",
    "data_clean['Sex'] = pd.get_dummies(data_clean['Sex'])\n",
    "data_clean['Sex'].value_counts() "
   ]
  },
  {
   "cell_type": "code",
   "execution_count": 7,
   "metadata": {},
   "outputs": [
    {
     "data": {
      "text/plain": [
       "1    241\n",
       "0     21\n",
       "Name: Nationality, dtype: int64"
      ]
     },
     "execution_count": 7,
     "metadata": {},
     "output_type": "execute_result"
    }
   ],
   "source": [
    "def nationality_recode(series):\n",
    "    if series != 'filipino':\n",
    "        return 'other'\n",
    "    else: \n",
    "        return 'filipino'\n",
    "\n",
    "data_clean['Nationality'] = data_clean['Nationality'].apply(nationality_recode)\n",
    "data_clean['Nationality'] = pd.get_dummies(data_clean['Nationality'])\n",
    "data_clean['Nationality'].value_counts() "
   ]
  },
  {
   "cell_type": "code",
   "execution_count": 8,
   "metadata": {},
   "outputs": [],
   "source": [
    "data_clean['Population Density'] = data_clean.loc[:,'Population Density'].str.replace(',', '').astype(float)"
   ]
  },
  {
   "cell_type": "code",
   "execution_count": 9,
   "metadata": {},
   "outputs": [
    {
     "data": {
      "text/plain": [
       "['phcaseno',\n",
       " 'Sex',\n",
       " 'Age',\n",
       " 'Nationality',\n",
       " 'Residence in the Philippines',\n",
       " 'History of Travel / Exposure',\n",
       " 'Travel History',\n",
       " 'Epi_Link',\n",
       " 'Date of Onset of Symptoms',\n",
       " 'Date of Admission',\n",
       " 'Date of Lab Confirmation',\n",
       " 'Date of Announcement to the Public',\n",
       " 'Admission / Consultation',\n",
       " 'Symptoms',\n",
       " 'other_disease',\n",
       " 'Status',\n",
       " 'Health Status',\n",
       " 'Date of Final Status (recovered/expired)',\n",
       " 'Final Diagnosis',\n",
       " 'Age Group',\n",
       " 'Location',\n",
       " 'Location 1',\n",
       " 'Location 2',\n",
       " 'Latitude',\n",
       " 'Longitude',\n",
       " 'Residence Lat',\n",
       " 'Residence Long',\n",
       " 'symp_ body malaise',\n",
       " 'symp_ colds',\n",
       " 'symp_ comorbidity',\n",
       " 'symp_ cough',\n",
       " 'symp_ difficulty in breathing',\n",
       " 'symp_ dizziness',\n",
       " 'symp_ dysphagia',\n",
       " 'symp_ headache',\n",
       " 'symp_ shortness of breath',\n",
       " 'symp_ sore throat',\n",
       " 'symp_asymptomatic',\n",
       " 'symp_cough',\n",
       " 'symp_difficulty of breathing',\n",
       " 'symp_dyspnea',\n",
       " 'symp_fever',\n",
       " 'symp_sore throat',\n",
       " 'dis_  diabetes',\n",
       " 'dis_  renal disease',\n",
       " 'dis_ acute kidney injury',\n",
       " 'dis_ asthma',\n",
       " 'dis_ atherosclerosis',\n",
       " 'dis_ atherosclerotic cardiovascular disease',\n",
       " 'dis_ benign prostatic hyperplasia',\n",
       " 'dis_ benign prostatic hypertrophy',\n",
       " 'dis_ bronchial asthma',\n",
       " 'dis_ cardiac disease',\n",
       " 'dis_ cardiac dysrhythmia',\n",
       " 'dis_ cardiomyopathy',\n",
       " 'dis_ cardiovascular disease',\n",
       " 'dis_ cerebrovascular accident infarc',\n",
       " 'dis_ cerebrovascular disease infarction',\n",
       " 'dis_ chronic kidney disease',\n",
       " 'dis_ chronic obstructive pulmonary disease',\n",
       " 'dis_ colon cancer',\n",
       " 'dis_ coronary artery disease',\n",
       " 'dis_ coronary heart disease',\n",
       " 'dis_ dengue',\n",
       " 'dis_ diabetes',\n",
       " 'dis_ diabetes mellitus',\n",
       " 'dis_ diabetic ketoacidosis',\n",
       " 'dis_ diabetic nephropathy',\n",
       " 'dis_ diabetis mellitus',\n",
       " 'dis_ dyslipidemia',\n",
       " 'dis_ endocrine condition',\n",
       " 'dis_ hypertension',\n",
       " 'dis_ hypertensive cardiovascular disease',\n",
       " 'dis_ hypertensive nephrosclerosis',\n",
       " 'dis_ hyperthyroidism',\n",
       " 'dis_ hypothyroidism',\n",
       " 'dis_ impaired fasting glucose',\n",
       " 'dis_ ischemic heart disease',\n",
       " 'dis_ kidney disease',\n",
       " 'dis_ peripheral arterial occlusive disease',\n",
       " 'dis_ renal disease',\n",
       " 'dis_ tongue cancer',\n",
       " 'dis_ valvular heart disease',\n",
       " 'dis_acute kidney injury',\n",
       " 'dis_acute kidney injury secondary to pre-renal azotemia',\n",
       " 'dis_acute renal failure',\n",
       " 'dis_asthma',\n",
       " 'dis_asymptomatic',\n",
       " 'dis_breast cancer',\n",
       " 'dis_bronchial asthma',\n",
       " 'dis_cardiac disease',\n",
       " 'dis_chronic kidney disease',\n",
       " 'dis_chronic kidney disease secondary to hypertension nephrosclerosis',\n",
       " 'dis_chronic obstructive pulmonary disease',\n",
       " 'dis_community-acquired pneumonia',\n",
       " 'dis_diabetes',\n",
       " 'dis_hypertension',\n",
       " 'dis_hypertensive',\n",
       " 'dis_hypertensive cardiovascular disease',\n",
       " 'dis_hyperthyroidism',\n",
       " 'dis_myocarditis',\n",
       " 'dis_none',\n",
       " 'dis_permanent atrial fibrillation',\n",
       " 'dis_prostatic cancer',\n",
       " 'dis_remnal disease',\n",
       " 'dis_status post renal transplant',\n",
       " 'dis_systemic lupus erythematosus',\n",
       " 'dis_with comorbid (not specified)',\n",
       " 'Epi_Link_Exposure',\n",
       " 'disease_len_days',\n",
       " 'geo_address',\n",
       " 'address',\n",
       " 'Travel History Binary',\n",
       " 'region_inc',\n",
       " 'average income (in thousand pesos)',\n",
       " 'city',\n",
       " 'region',\n",
       " 'Population Density']"
      ]
     },
     "execution_count": 9,
     "metadata": {},
     "output_type": "execute_result"
    }
   ],
   "source": [
    "data_clean.columns.tolist()"
   ]
  },
  {
   "cell_type": "code",
   "execution_count": 10,
   "metadata": {},
   "outputs": [],
   "source": [
    "data_clean=data_clean.drop(['phcaseno', 'History of Travel / Exposure', 'Travel History', 'Epi_Link', 'Date of Admission', 'Date of Lab Confirmation', 'Date of Admission', 'Symptoms', 'other_disease', 'Status', 'Date of Final Status (recovered/expired)', 'Final Diagnosis', 'Age Group', 'Location', 'Location 1', 'Location 2', 'Latitude', 'Longitude', 'Residence Lat', 'Residence Long', 'disease_len_days'], axis=1)"
   ]
  },
  {
   "cell_type": "code",
   "execution_count": 11,
   "metadata": {},
   "outputs": [
    {
     "data": {
      "text/plain": [
       "['Sex',\n",
       " 'Age',\n",
       " 'Nationality',\n",
       " 'Residence in the Philippines',\n",
       " 'Date of Onset of Symptoms',\n",
       " 'Date of Announcement to the Public',\n",
       " 'Admission / Consultation',\n",
       " 'Health Status',\n",
       " 'symp_ body malaise',\n",
       " 'symp_ colds',\n",
       " 'symp_ comorbidity',\n",
       " 'symp_ cough',\n",
       " 'symp_ difficulty in breathing',\n",
       " 'symp_ dizziness',\n",
       " 'symp_ dysphagia',\n",
       " 'symp_ headache',\n",
       " 'symp_ shortness of breath',\n",
       " 'symp_ sore throat',\n",
       " 'symp_asymptomatic',\n",
       " 'symp_cough',\n",
       " 'symp_difficulty of breathing',\n",
       " 'symp_dyspnea',\n",
       " 'symp_fever',\n",
       " 'symp_sore throat',\n",
       " 'dis_  diabetes',\n",
       " 'dis_  renal disease',\n",
       " 'dis_ acute kidney injury',\n",
       " 'dis_ asthma',\n",
       " 'dis_ atherosclerosis',\n",
       " 'dis_ atherosclerotic cardiovascular disease',\n",
       " 'dis_ benign prostatic hyperplasia',\n",
       " 'dis_ benign prostatic hypertrophy',\n",
       " 'dis_ bronchial asthma',\n",
       " 'dis_ cardiac disease',\n",
       " 'dis_ cardiac dysrhythmia',\n",
       " 'dis_ cardiomyopathy',\n",
       " 'dis_ cardiovascular disease',\n",
       " 'dis_ cerebrovascular accident infarc',\n",
       " 'dis_ cerebrovascular disease infarction',\n",
       " 'dis_ chronic kidney disease',\n",
       " 'dis_ chronic obstructive pulmonary disease',\n",
       " 'dis_ colon cancer',\n",
       " 'dis_ coronary artery disease',\n",
       " 'dis_ coronary heart disease',\n",
       " 'dis_ dengue',\n",
       " 'dis_ diabetes',\n",
       " 'dis_ diabetes mellitus',\n",
       " 'dis_ diabetic ketoacidosis',\n",
       " 'dis_ diabetic nephropathy',\n",
       " 'dis_ diabetis mellitus',\n",
       " 'dis_ dyslipidemia',\n",
       " 'dis_ endocrine condition',\n",
       " 'dis_ hypertension',\n",
       " 'dis_ hypertensive cardiovascular disease',\n",
       " 'dis_ hypertensive nephrosclerosis',\n",
       " 'dis_ hyperthyroidism',\n",
       " 'dis_ hypothyroidism',\n",
       " 'dis_ impaired fasting glucose',\n",
       " 'dis_ ischemic heart disease',\n",
       " 'dis_ kidney disease',\n",
       " 'dis_ peripheral arterial occlusive disease',\n",
       " 'dis_ renal disease',\n",
       " 'dis_ tongue cancer',\n",
       " 'dis_ valvular heart disease',\n",
       " 'dis_acute kidney injury',\n",
       " 'dis_acute kidney injury secondary to pre-renal azotemia',\n",
       " 'dis_acute renal failure',\n",
       " 'dis_asthma',\n",
       " 'dis_asymptomatic',\n",
       " 'dis_breast cancer',\n",
       " 'dis_bronchial asthma',\n",
       " 'dis_cardiac disease',\n",
       " 'dis_chronic kidney disease',\n",
       " 'dis_chronic kidney disease secondary to hypertension nephrosclerosis',\n",
       " 'dis_chronic obstructive pulmonary disease',\n",
       " 'dis_community-acquired pneumonia',\n",
       " 'dis_diabetes',\n",
       " 'dis_hypertension',\n",
       " 'dis_hypertensive',\n",
       " 'dis_hypertensive cardiovascular disease',\n",
       " 'dis_hyperthyroidism',\n",
       " 'dis_myocarditis',\n",
       " 'dis_none',\n",
       " 'dis_permanent atrial fibrillation',\n",
       " 'dis_prostatic cancer',\n",
       " 'dis_remnal disease',\n",
       " 'dis_status post renal transplant',\n",
       " 'dis_systemic lupus erythematosus',\n",
       " 'dis_with comorbid (not specified)',\n",
       " 'Epi_Link_Exposure',\n",
       " 'geo_address',\n",
       " 'address',\n",
       " 'Travel History Binary',\n",
       " 'region_inc',\n",
       " 'average income (in thousand pesos)',\n",
       " 'city',\n",
       " 'region',\n",
       " 'Population Density']"
      ]
     },
     "execution_count": 11,
     "metadata": {},
     "output_type": "execute_result"
    }
   ],
   "source": [
    "data_clean.columns.tolist()"
   ]
  },
  {
   "cell_type": "code",
   "execution_count": 12,
   "metadata": {},
   "outputs": [
    {
     "data": {
      "text/html": [
       "<div>\n",
       "<style scoped>\n",
       "    .dataframe tbody tr th:only-of-type {\n",
       "        vertical-align: middle;\n",
       "    }\n",
       "\n",
       "    .dataframe tbody tr th {\n",
       "        vertical-align: top;\n",
       "    }\n",
       "\n",
       "    .dataframe thead th {\n",
       "        text-align: right;\n",
       "    }\n",
       "</style>\n",
       "<table border=\"1\" class=\"dataframe\">\n",
       "  <thead>\n",
       "    <tr style=\"text-align: right;\">\n",
       "      <th></th>\n",
       "      <th>Sex</th>\n",
       "      <th>Age</th>\n",
       "      <th>Nationality</th>\n",
       "      <th>Residence in the Philippines</th>\n",
       "      <th>Date of Onset of Symptoms</th>\n",
       "      <th>Date of Announcement to the Public</th>\n",
       "      <th>Admission / Consultation</th>\n",
       "      <th>Health Status</th>\n",
       "      <th>symp_ body malaise</th>\n",
       "      <th>symp_ colds</th>\n",
       "      <th>...</th>\n",
       "      <th>dis_with comorbid (not specified)</th>\n",
       "      <th>Epi_Link_Exposure</th>\n",
       "      <th>geo_address</th>\n",
       "      <th>address</th>\n",
       "      <th>Travel History Binary</th>\n",
       "      <th>region_inc</th>\n",
       "      <th>average income (in thousand pesos)</th>\n",
       "      <th>city</th>\n",
       "      <th>region</th>\n",
       "      <th>Population Density</th>\n",
       "    </tr>\n",
       "  </thead>\n",
       "  <tbody>\n",
       "    <tr>\n",
       "      <td>0</td>\n",
       "      <td>1</td>\n",
       "      <td>38</td>\n",
       "      <td>0</td>\n",
       "      <td>None</td>\n",
       "      <td>2020-01-21 00:00:00-05:00</td>\n",
       "      <td>2020-01-30 00:00:00-05:00</td>\n",
       "      <td>san lazaro hospital</td>\n",
       "      <td>recovered</td>\n",
       "      <td>0.0</td>\n",
       "      <td>0.0</td>\n",
       "      <td>...</td>\n",
       "      <td>0.0</td>\n",
       "      <td>1</td>\n",
       "      <td>{'hospital': 'San Lazaro Hospital', 'road': 'Q...</td>\n",
       "      <td>San Lazaro Hospital, Quiricada Street, Baranga...</td>\n",
       "      <td>1</td>\n",
       "      <td>NCR</td>\n",
       "      <td>460</td>\n",
       "      <td>Manila</td>\n",
       "      <td>Metro Manila</td>\n",
       "      <td>71263.0</td>\n",
       "    </tr>\n",
       "    <tr>\n",
       "      <td>1</td>\n",
       "      <td>0</td>\n",
       "      <td>44</td>\n",
       "      <td>0</td>\n",
       "      <td>None</td>\n",
       "      <td>2020-01-18 00:00:00-05:00</td>\n",
       "      <td>2020-02-02 00:00:00-05:00</td>\n",
       "      <td>san lazaro hospital</td>\n",
       "      <td>died</td>\n",
       "      <td>0.0</td>\n",
       "      <td>0.0</td>\n",
       "      <td>...</td>\n",
       "      <td>0.0</td>\n",
       "      <td>1</td>\n",
       "      <td>{'hospital': 'San Lazaro Hospital', 'road': 'Q...</td>\n",
       "      <td>San Lazaro Hospital, Quiricada Street, Baranga...</td>\n",
       "      <td>1</td>\n",
       "      <td>NCR</td>\n",
       "      <td>460</td>\n",
       "      <td>Manila</td>\n",
       "      <td>Metro Manila</td>\n",
       "      <td>71263.0</td>\n",
       "    </tr>\n",
       "    <tr>\n",
       "      <td>2</td>\n",
       "      <td>1</td>\n",
       "      <td>60</td>\n",
       "      <td>0</td>\n",
       "      <td>None</td>\n",
       "      <td>2020-01-21 00:00:00-05:00</td>\n",
       "      <td>2020-02-05 00:00:00-05:00</td>\n",
       "      <td>ace medical center</td>\n",
       "      <td>recovered</td>\n",
       "      <td>0.0</td>\n",
       "      <td>0.0</td>\n",
       "      <td>...</td>\n",
       "      <td>0.0</td>\n",
       "      <td>0</td>\n",
       "      <td>{'public_building': 'Francisco Duque Hall', 'r...</td>\n",
       "      <td>Francisco Duque Hall, Tayuman Street, Santa Cr...</td>\n",
       "      <td>1</td>\n",
       "      <td>NCR</td>\n",
       "      <td>460</td>\n",
       "      <td>Manila</td>\n",
       "      <td>Metro Manila</td>\n",
       "      <td>71263.0</td>\n",
       "    </tr>\n",
       "    <tr>\n",
       "      <td>3</td>\n",
       "      <td>0</td>\n",
       "      <td>48</td>\n",
       "      <td>1</td>\n",
       "      <td>Taguig City</td>\n",
       "      <td>2020-03-03 00:00:00-05:00</td>\n",
       "      <td>2020-03-06 00:00:00-05:00</td>\n",
       "      <td>university of the east ramon magsaysay memoria...</td>\n",
       "      <td>recovered</td>\n",
       "      <td>0.0</td>\n",
       "      <td>0.0</td>\n",
       "      <td>...</td>\n",
       "      <td>0.0</td>\n",
       "      <td>1</td>\n",
       "      <td>{'hospital': 'University of the East - Ramon M...</td>\n",
       "      <td>University of the East - Ramon Magsaysay Memor...</td>\n",
       "      <td>1</td>\n",
       "      <td>NCR</td>\n",
       "      <td>460</td>\n",
       "      <td>Galas</td>\n",
       "      <td>Metro Manila</td>\n",
       "      <td>20785.0</td>\n",
       "    </tr>\n",
       "    <tr>\n",
       "      <td>4</td>\n",
       "      <td>0</td>\n",
       "      <td>62</td>\n",
       "      <td>1</td>\n",
       "      <td>Cainta, Rizal</td>\n",
       "      <td>2020-02-25 00:00:00-05:00</td>\n",
       "      <td>2020-03-06 00:00:00-05:00</td>\n",
       "      <td>research institute for tropical medicine</td>\n",
       "      <td>died</td>\n",
       "      <td>0.0</td>\n",
       "      <td>0.0</td>\n",
       "      <td>...</td>\n",
       "      <td>0.0</td>\n",
       "      <td>1</td>\n",
       "      <td>{'hospital': 'Research Institute for Tropical ...</td>\n",
       "      <td>Research Institute for Tropical Medicine, Corp...</td>\n",
       "      <td>0</td>\n",
       "      <td>NCR</td>\n",
       "      <td>460</td>\n",
       "      <td>Muntinlupa</td>\n",
       "      <td>Metro Manila</td>\n",
       "      <td>12692.0</td>\n",
       "    </tr>\n",
       "  </tbody>\n",
       "</table>\n",
       "<p>5 rows × 98 columns</p>\n",
       "</div>"
      ],
      "text/plain": [
       "   Sex  Age  Nationality Residence in the Philippines  \\\n",
       "0    1   38            0                         None   \n",
       "1    0   44            0                         None   \n",
       "2    1   60            0                         None   \n",
       "3    0   48            1                  Taguig City   \n",
       "4    0   62            1                Cainta, Rizal   \n",
       "\n",
       "   Date of Onset of Symptoms Date of Announcement to the Public  \\\n",
       "0  2020-01-21 00:00:00-05:00          2020-01-30 00:00:00-05:00   \n",
       "1  2020-01-18 00:00:00-05:00          2020-02-02 00:00:00-05:00   \n",
       "2  2020-01-21 00:00:00-05:00          2020-02-05 00:00:00-05:00   \n",
       "3  2020-03-03 00:00:00-05:00          2020-03-06 00:00:00-05:00   \n",
       "4  2020-02-25 00:00:00-05:00          2020-03-06 00:00:00-05:00   \n",
       "\n",
       "                            Admission / Consultation Health Status  \\\n",
       "0                                san lazaro hospital     recovered   \n",
       "1                                san lazaro hospital          died   \n",
       "2                                 ace medical center     recovered   \n",
       "3  university of the east ramon magsaysay memoria...     recovered   \n",
       "4           research institute for tropical medicine          died   \n",
       "\n",
       "   symp_ body malaise  symp_ colds  ...  dis_with comorbid (not specified)  \\\n",
       "0                 0.0          0.0  ...                                0.0   \n",
       "1                 0.0          0.0  ...                                0.0   \n",
       "2                 0.0          0.0  ...                                0.0   \n",
       "3                 0.0          0.0  ...                                0.0   \n",
       "4                 0.0          0.0  ...                                0.0   \n",
       "\n",
       "   Epi_Link_Exposure                                        geo_address  \\\n",
       "0                  1  {'hospital': 'San Lazaro Hospital', 'road': 'Q...   \n",
       "1                  1  {'hospital': 'San Lazaro Hospital', 'road': 'Q...   \n",
       "2                  0  {'public_building': 'Francisco Duque Hall', 'r...   \n",
       "3                  1  {'hospital': 'University of the East - Ramon M...   \n",
       "4                  1  {'hospital': 'Research Institute for Tropical ...   \n",
       "\n",
       "                                             address  Travel History Binary  \\\n",
       "0  San Lazaro Hospital, Quiricada Street, Baranga...                      1   \n",
       "1  San Lazaro Hospital, Quiricada Street, Baranga...                      1   \n",
       "2  Francisco Duque Hall, Tayuman Street, Santa Cr...                      1   \n",
       "3  University of the East - Ramon Magsaysay Memor...                      1   \n",
       "4  Research Institute for Tropical Medicine, Corp...                      0   \n",
       "\n",
       "   region_inc  average income (in thousand pesos)        city        region  \\\n",
       "0         NCR                                 460      Manila  Metro Manila   \n",
       "1         NCR                                 460      Manila  Metro Manila   \n",
       "2         NCR                                 460      Manila  Metro Manila   \n",
       "3         NCR                                 460       Galas  Metro Manila   \n",
       "4         NCR                                 460  Muntinlupa  Metro Manila   \n",
       "\n",
       "   Population Density  \n",
       "0             71263.0  \n",
       "1             71263.0  \n",
       "2             71263.0  \n",
       "3             20785.0  \n",
       "4             12692.0  \n",
       "\n",
       "[5 rows x 98 columns]"
      ]
     },
     "execution_count": 12,
     "metadata": {},
     "output_type": "execute_result"
    }
   ],
   "source": [
    "data_clean.head()"
   ]
  },
  {
   "cell_type": "code",
   "execution_count": 23,
   "metadata": {},
   "outputs": [
    {
     "name": "stdout",
     "output_type": "stream",
     "text": [
      "Residence in the Philippines :  55\n",
      "Date of Onset of Symptoms :  41\n",
      "Date of Announcement to the Public :  30\n",
      "Admission / Consultation :  54\n",
      "Health Status :  6\n",
      "geo_address :  47\n",
      "address :  46\n",
      "region_inc :  8\n",
      "city :  25\n",
      "region :  8\n"
     ]
    }
   ],
   "source": [
    "for i in data_clean.select_dtypes(exclude='number').columns:\n",
    "    unique_vals=data_clean[i].nunique()\n",
    "    print(i,  \": \", unique_vals)"
   ]
  },
  {
   "cell_type": "code",
   "execution_count": 27,
   "metadata": {},
   "outputs": [
    {
     "data": {
      "text/plain": [
       "array(['recovered', 'died', 'asymptomatic', 'severe', 'mild', 'critical'],\n",
       "      dtype=object)"
      ]
     },
     "execution_count": 27,
     "metadata": {},
     "output_type": "execute_result"
    }
   ],
   "source": [
    "data_clean['Health Status'].unique()"
   ]
  },
  {
   "cell_type": "code",
   "execution_count": 30,
   "metadata": {},
   "outputs": [],
   "source": [
    "import numpy as np\n",
    "import pandas as pd\n",
    "import seaborn as sns\n",
    "from sklearn.model_selection import train_test_split\n",
    "from sklearn.preprocessing import StandardScaler\n",
    "from sklearn.cluster import KMeans\n",
    "\n",
    "import warnings\n",
    "from math import floor\n",
    "\n",
    "warnings.filterwarnings('ignore')"
   ]
  },
  {
   "cell_type": "code",
   "execution_count": 31,
   "metadata": {},
   "outputs": [],
   "source": [
    "def status_to_numeric(x):\n",
    "    if x=='died':\n",
    "        return 5\n",
    "    if x=='critical':\n",
    "        return 4\n",
    "    if x=='severe':\n",
    "        return 3\n",
    "    if x=='mild':\n",
    "        return 2\n",
    "    if x=='asymptomatic':\n",
    "        return 1\n",
    "    if x=='recovered':\n",
    "        return 0\n",
    "    \n",
    "\n",
    "data_clean['HealthStatusNUM'] = data_clean['Health Status'].apply(status_to_numeric)"
   ]
  },
  {
   "cell_type": "code",
   "execution_count": 32,
   "metadata": {},
   "outputs": [],
   "source": [
    "# split data using dates into train, val, test using most recent dates for test:\n",
    "train_pct, val_pct, test_pct = 0.6, 0.2, 0.2\n",
    "train_num, val_num, test_num = floor(data_clean.shape[0]*train_pct), floor(data_clean.shape[0]*val_pct), floor(data_clean.shape[0]*test_pct)\n",
    "\n",
    "train = data_clean.sort_values('Date of Onset of Symptoms', ascending=True).iloc[:train_num,:]\n",
    "train=train.reset_index(drop=True)\n",
    "\n",
    "val = data_clean.sort_values('Date of Onset of Symptoms', ascending=True).iloc[train_num:train_num+val_num,:]\n",
    "val=val.reset_index(drop=True)\n",
    "\n",
    "test = data_clean.sort_values('Date of Onset of Symptoms', ascending=True).iloc[train_num+val_num:train_num+val_num+test_num+1,:]\n",
    "test=test.reset_index(drop=True)"
   ]
  },
  {
   "cell_type": "code",
   "execution_count": 36,
   "metadata": {},
   "outputs": [
    {
     "data": {
      "text/plain": [
       "array([[<matplotlib.axes._subplots.AxesSubplot object at 0x124a46b50>]],\n",
       "      dtype=object)"
      ]
     },
     "execution_count": 36,
     "metadata": {},
     "output_type": "execute_result"
    },
    {
     "data": {
      "image/png": "[encoded data removed]",
      "text/plain": [
       "<Figure size 432x288 with 1 Axes>"
      ]
     },
     "metadata": {
      "needs_background": "light"
     },
     "output_type": "display_data"
    }
   ],
   "source": [
    "train.hist(column='HealthStatusNUM')"
   ]
  },
  {
   "cell_type": "code",
   "execution_count": 37,
   "metadata": {},
   "outputs": [
    {
     "data": {
      "text/plain": [
       "array([[<matplotlib.axes._subplots.AxesSubplot object at 0x124a52290>]],\n",
       "      dtype=object)"
      ]
     },
     "execution_count": 37,
     "metadata": {},
     "output_type": "execute_result"
    },
    {
     "data": {
      "image/png": "[encoded data removed]",
      "text/plain": [
       "<Figure size 432x288 with 1 Axes>"
      ]
     },
     "metadata": {
      "needs_background": "light"
     },
     "output_type": "display_data"
    }
   ],
   "source": [
    "val.hist(column='HealthStatusNUM')"
   ]
  },
  {
   "cell_type": "code",
   "execution_count": 38,
   "metadata": {},
   "outputs": [
    {
     "data": {
      "text/plain": [
       "array([[<matplotlib.axes._subplots.AxesSubplot object at 0x124af0690>]],\n",
       "      dtype=object)"
      ]
     },
     "execution_count": 38,
     "metadata": {},
     "output_type": "execute_result"
    },
    {
     "data": {
      "image/png": "[encoded data removed]",
      "text/plain": [
       "<Figure size 432x288 with 1 Axes>"
      ]
     },
     "metadata": {
      "needs_background": "light"
     },
     "output_type": "display_data"
    }
   ],
   "source": [
    "test.hist(column='HealthStatusNUM')"
   ]
  },
  {
   "cell_type": "code",
   "execution_count": null,
   "metadata": {},
   "outputs": [],
   "source": []
  }
 ],
 "metadata": {
  "kernelspec": {
   "display_name": "Python 3",
   "language": "python",
   "name": "python3"
  },
  "language_info": {
   "codemirror_mode": {
    "name": "ipython",
    "version": 3
   },
   "file_extension": ".py",
   "mimetype": "text/x-python",
   "name": "python",
   "nbconvert_exporter": "python",
   "pygments_lexer": "ipython3",
   "version": "3.7.4"
  }
 },
 "nbformat": 4,
 "nbformat_minor": 2
}
